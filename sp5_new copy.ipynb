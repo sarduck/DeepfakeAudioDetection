{
 "cells": [
  {
   "cell_type": "code",
   "execution_count": 1,
   "metadata": {},
   "outputs": [
    {
     "name": "stderr",
     "output_type": "stream",
     "text": [
      "2025-04-08 00:13:20.627452: I tensorflow/core/util/port.cc:153] oneDNN custom operations are on. You may see slightly different numerical results due to floating-point round-off errors from different computation orders. To turn them off, set the environment variable `TF_ENABLE_ONEDNN_OPTS=0`.\n",
      "2025-04-08 00:13:20.638948: E external/local_xla/xla/stream_executor/cuda/cuda_fft.cc:467] Unable to register cuFFT factory: Attempting to register factory for plugin cuFFT when one has already been registered\n",
      "WARNING: All log messages before absl::InitializeLog() is called are written to STDERR\n",
      "E0000 00:00:1744051400.652243  304437 cuda_dnn.cc:8579] Unable to register cuDNN factory: Attempting to register factory for plugin cuDNN when one has already been registered\n",
      "E0000 00:00:1744051400.656119  304437 cuda_blas.cc:1407] Unable to register cuBLAS factory: Attempting to register factory for plugin cuBLAS when one has already been registered\n",
      "W0000 00:00:1744051400.666675  304437 computation_placer.cc:177] computation placer already registered. Please check linkage and avoid linking the same target more than once.\n",
      "W0000 00:00:1744051400.666695  304437 computation_placer.cc:177] computation placer already registered. Please check linkage and avoid linking the same target more than once.\n",
      "W0000 00:00:1744051400.666696  304437 computation_placer.cc:177] computation placer already registered. Please check linkage and avoid linking the same target more than once.\n",
      "W0000 00:00:1744051400.666697  304437 computation_placer.cc:177] computation placer already registered. Please check linkage and avoid linking the same target more than once.\n",
      "2025-04-08 00:13:20.669847: I tensorflow/core/platform/cpu_feature_guard.cc:210] This TensorFlow binary is optimized to use available CPU instructions in performance-critical operations.\n",
      "To enable the following instructions: AVX2 AVX512F AVX512_VNNI FMA, in other operations, rebuild TensorFlow with the appropriate compiler flags.\n"
     ]
    },
    {
     "name": "stdout",
     "output_type": "stream",
     "text": [
      "XLA JIT compilation disabled.\n",
      "TensorFlow version: 2.19.0\n"
     ]
    }
   ],
   "source": [
    "# Cell 1: Imports\n",
    "import os\n",
    "import numpy as np\n",
    "import tensorflow as tf\n",
    "from tensorflow.keras.layers import Input, Conv1D, MaxPooling1D, GRU, Dense, Dropout, BatchNormalization, LayerNormalization, Reshape, Permute, Bidirectional, Add, Attention, Flatten, TimeDistributed, Conv2DTranspose, Conv2D, Layer, Concatenate, Multiply, AdditiveAttention # Added Multiply, AdditiveAttention for potential SelfAttention implementation\n",
    "from tensorflow.keras.models import Model, Sequential\n",
    "from tensorflow.keras.optimizers import Adam, RMSprop # Added RMSprop as an option for WGAN\n",
    "from tensorflow.keras.callbacks import ReduceLROnPlateau, EarlyStopping, ModelCheckpoint, Callback\n",
    "from tensorflow.keras import backend as K\n",
    "from sklearn.metrics import confusion_matrix, f1_score, roc_curve # Moved confusion_matrix here\n",
    "import librosa\n",
    "import soundfile as sf\n",
    "# import noisereduce as nr # Consider if still needed/effective\n",
    "import matplotlib.pyplot as plt\n",
    "from scipy.signal import butter, sosfilt\n",
    "import logging\n",
    "from tqdm.notebook import tqdm # Use tqdm.notebook for better Jupyter integration\n",
    "import random\n",
    "import seaborn as sns # Added for confusion matrix plotting\n",
    "tf.config.optimizer.set_jit(False)\n",
    "print(\"XLA JIT compilation disabled.\")\n",
    "\n",
    "# WGAN-GP specific\n",
    "from tensorflow import GradientTape\n",
    "\n",
    "# Create directory for saving figures\n",
    "FIGURES_DIR = 'training_figures_wgan_sa' # Changed dir name\n",
    "os.makedirs(FIGURES_DIR, exist_ok=True)\n",
    "\n",
    "# Configure logging\n",
    "logging.basicConfig(filename='audio_errors_wgan_sa.log', level=logging.ERROR,\n",
    "                    format='%(asctime)s - %(levelname)s - %(message)s')\n",
    "\n",
    "print(f\"TensorFlow version: {tf.__version__}\")"
   ]
  },
  {
   "cell_type": "code",
   "execution_count": 2,
   "metadata": {},
   "outputs": [
    {
     "name": "stdout",
     "output_type": "stream",
     "text": [
      "GPU is available and configured.\n"
     ]
    }
   ],
   "source": [
    "# Cell 2: Force GPU usage\n",
    "physical_devices = tf.config.list_physical_devices('GPU')\n",
    "if physical_devices:\n",
    "    try:\n",
    "        tf.config.set_visible_devices(physical_devices[0], 'GPU')\n",
    "        tf.config.experimental.set_memory_growth(physical_devices[0], True)\n",
    "        print(\"GPU is available and configured.\")\n",
    "    except RuntimeError as e:\n",
    "        # Memory growth must be set before GPUs have been initialized\n",
    "        print(f\"Error configuring GPU: {e}\")\n",
    "else:\n",
    "    print(\"No GPU devices found. Falling back to CPU.\")\n",
    "\n",
    "# Set mixed precision policy if desired (can speed up training on compatible GPUs)\n",
    "#from tensorflow.keras import mixed_precision\n",
    "#policy = mixed_precision.Policy('mixed_float16')\n",
    "#mixed_precision.set_global_policy(policy)\n",
    "#print('Mixed precision enabled')"
   ]
  },
  {
   "cell_type": "code",
   "execution_count": 3,
   "metadata": {},
   "outputs": [],
   "source": [
    "# Cell 3: Audio Loading and Preprocessing Function\n",
    "def load_and_preprocess_audio(file_path, sr=16000, duration=4):\n",
    "    try:\n",
    "        # Load audio, potentially reducing noise first if beneficial\n",
    "        audio, current_sr = librosa.load(file_path, sr=None, duration=duration) # Load native SR first\n",
    "\n",
    "        # Optional: Noise Reduction (experiment if needed)\n",
    "        # audio = nr.reduce_noise(y=audio, sr=current_sr)\n",
    "\n",
    "        # Resample if necessary\n",
    "        if current_sr != sr:\n",
    "            audio = librosa.resample(audio, orig_sr=current_sr, target_sr=sr)\n",
    "\n",
    "        # Pad or truncate to fixed duration *before* augmentation/normalization\n",
    "        target_len = sr * duration\n",
    "        if len(audio) < target_len:\n",
    "            audio = np.pad(audio, (0, target_len - len(audio)), mode='constant')\n",
    "        else:\n",
    "            audio = audio[:target_len]\n",
    "\n",
    "        # Data Augmentation (applied *before* normalization)\n",
    "        if np.random.random() < 0.5: # 50% chance\n",
    "            augmentation_type = np.random.choice(['noise', 'pitch', 'speed'])\n",
    "            if augmentation_type == 'noise':\n",
    "                noise_amp = 0.005 * np.random.uniform(0.1, 1.0) * np.max(np.abs(audio)) # Scale noise relative to audio\n",
    "                noise = np.random.randn(len(audio)) * noise_amp\n",
    "                audio = audio + noise\n",
    "            elif augmentation_type == 'pitch':\n",
    "                pitch_shift_steps = np.random.uniform(-2.5, 2.5)\n",
    "                audio = librosa.effects.pitch_shift(audio, sr=sr, n_steps=pitch_shift_steps)\n",
    "            else: # speed (time stretch)\n",
    "                speed_rate = np.random.uniform(0.85, 1.15)\n",
    "                audio = librosa.effects.time_stretch(audio, rate=speed_rate)\n",
    "                 # Time stretching changes length, re-pad/truncate\n",
    "                if len(audio) < target_len:\n",
    "                    audio = np.pad(audio, (0, target_len - len(audio)), mode='constant')\n",
    "                else:\n",
    "                    audio = audio[:target_len]\n",
    "\n",
    "        # Normalize audio (peak normalization) - crucial for consistency\n",
    "        max_amp = np.max(np.abs(audio))\n",
    "        if max_amp > 1e-6: # Avoid division by zero\n",
    "             audio = audio / max_amp\n",
    "        # Optional: RMS normalization instead\n",
    "        # rms = np.sqrt(np.mean(audio**2))\n",
    "        # if rms > 1e-6:\n",
    "        #    audio = audio / rms * 0.5 # Scale to a target RMS\n",
    "\n",
    "        return audio\n",
    "    except Exception as e:\n",
    "        logging.error(f\"Error loading/preprocessing {file_path}: {e}\")\n",
    "        print(f\"Error loading/preprocessing {file_path}: {e}\")\n",
    "        return None"
   ]
  },
  {
   "cell_type": "code",
   "execution_count": 4,
   "metadata": {},
   "outputs": [],
   "source": [
    "# Cell 4: Feature Extraction Function\n",
    "def extract_features(audio, sr=16000, n_mels=80, n_fft=2048, hop_length=512):\n",
    "    if audio is None:\n",
    "        return None\n",
    "    try:\n",
    "        # Extract mel spectrogram\n",
    "        mel_spec = librosa.feature.melspectrogram(\n",
    "            y=audio,\n",
    "            sr=sr,\n",
    "            n_mels=n_mels,\n",
    "            n_fft=n_fft,\n",
    "            hop_length=hop_length\n",
    "        )\n",
    "        # Convert to log scale (dB)\n",
    "        log_mel_spec = librosa.power_to_db(mel_spec, ref=np.max)\n",
    "\n",
    "        # Normalize features (per spectrogram) - Standard Scaling\n",
    "        mean = np.mean(log_mel_spec)\n",
    "        std = np.std(log_mel_spec)\n",
    "        if std > 1e-6: # Avoid division by zero\n",
    "            log_mel_spec = (log_mel_spec - mean) / std\n",
    "        else:\n",
    "            log_mel_spec = log_mel_spec - mean # Just center if std is near zero\n",
    "\n",
    "        # Ensure the shape is consistent (should be handled by fixed duration loading)\n",
    "        # Expected frames: int(np.ceil(target_len / hop_length)) -> int(ceil(16000*4/512)) = 125? Check calculation\n",
    "        # target_len = 16000 * 4 = 64000\n",
    "        # expected_frames = 64000 // hop_length + 1 if 64000 % hop_length != 0 else 64000 // hop_length\n",
    "        # expected_frames = 64000 / 512 = 125. Check librosa padding. It often adds a frame. Let's stick to TARGET_FRAMES=126 based on previous findings.\n",
    "\n",
    "        return log_mel_spec # Shape (n_mels, n_frames) e.g. (80, 126)\n",
    "\n",
    "    except Exception as e:\n",
    "        logging.error(f\"Error extracting features: {e}\")\n",
    "        print(f\"Error extracting features: {e}\")\n",
    "        return None"
   ]
  },
  {
   "cell_type": "code",
   "execution_count": 5,
   "metadata": {},
   "outputs": [],
   "source": [
    "# Cell 5: Class Distribution Analysis Function\n",
    "def analyze_class_distribution(data_path):\n",
    "    try:\n",
    "        real_dir = os.path.join(data_path, 'real')\n",
    "        fake_dir = os.path.join(data_path, 'fake')\n",
    "        real_count = len([f for f in os.listdir(real_dir) if f.endswith('.wav')]) if os.path.exists(real_dir) else 0\n",
    "        fake_count = len([f for f in os.listdir(fake_dir) if f.endswith('.wav')]) if os.path.exists(fake_dir) else 0\n",
    "        total = real_count + fake_count\n",
    "        if total == 0:\n",
    "            print(f\"\\nNo .wav files found in {data_path}\")\n",
    "            return {'real': 0, 'fake': 0}\n",
    "        print(f\"\\nClass Distribution for {data_path}:\")\n",
    "        print(f\"Real: {real_count} ({real_count/total*100:.2f}%)\")\n",
    "        print(f\"Fake: {fake_count} ({fake_count/total*100:.2f}%)\")\n",
    "        return {'real': real_count, 'fake': fake_count}\n",
    "    except FileNotFoundError:\n",
    "        print(f\"\\nError: Data path not found - {data_path}\")\n",
    "        return {'real': 0, 'fake': 0}\n",
    "    except Exception as e:\n",
    "        logging.error(f\"Error analyzing distribution for {data_path}: {e}\")\n",
    "        print(f\"Error analyzing distribution for {data_path}: {e}\")\n",
    "        return {'real': 0, 'fake': 0}"
   ]
  },
  {
   "cell_type": "code",
   "execution_count": 6,
   "metadata": {},
   "outputs": [],
   "source": [
    "# Cell 6: Data Generators\n",
    "\n",
    "# Define the fixed number of frames for GAN/Classifier consistency\n",
    "TARGET_FRAMES = 126 # Recalculate based on sr=16000, duration=4, hop_length=512 if needed\n",
    "\n",
    "# Data generator for STANDALONE CLASSIFIER training (Yields X, y, sample_weights)\n",
    "# --- (data_generator_classifier function remains the same as corrected before) ---\n",
    "def data_generator_classifier(data_path, batch_size=32, shuffle=True, target_frames=TARGET_FRAMES, sr=16000, duration=4, n_mels=80, n_fft=2048, hop_length=512):\n",
    "    real_files = []\n",
    "    fake_files = []\n",
    "    try:\n",
    "        real_dir = os.path.join(data_path, 'real')\n",
    "        fake_dir = os.path.join(data_path, 'fake')\n",
    "        if os.path.exists(real_dir):\n",
    "             real_files = [os.path.join(real_dir, f) for f in os.listdir(real_dir) if f.endswith('.wav')]\n",
    "        if os.path.exists(fake_dir):\n",
    "             fake_files = [os.path.join(fake_dir, f) for f in os.listdir(fake_dir) if f.endswith('.wav')]\n",
    "    except FileNotFoundError as e:\n",
    "        print(f\"Error finding directories in {data_path}: {e}\")\n",
    "        return\n",
    "\n",
    "    all_files = real_files + fake_files\n",
    "    labels = [1] * len(real_files) + [0] * len(fake_files) # Real=1, Fake=0\n",
    "\n",
    "    if not all_files:\n",
    "        print(f\"No WAV files found in {data_path}. Classifier generator stopping.\")\n",
    "        return\n",
    "\n",
    "    total_samples = len(all_files)\n",
    "    class_weights = {\n",
    "        1: total_samples / (2 * len(real_files)) if len(real_files) > 0 else 1.0,\n",
    "        0: total_samples / (2 * len(fake_files)) if len(fake_files) > 0 else 1.0,\n",
    "    }\n",
    "    print(f\"Using class weights: {class_weights} for path {data_path}\")\n",
    "\n",
    "\n",
    "    indices = np.arange(total_samples)\n",
    "    while True:\n",
    "        if shuffle:\n",
    "            np.random.shuffle(indices)\n",
    "\n",
    "        for i in range(0, total_samples, batch_size):\n",
    "            batch_indices = indices[i:i+batch_size]\n",
    "            batch_files = [all_files[k] for k in batch_indices]\n",
    "            batch_labels = [labels[k] for k in batch_indices]\n",
    "\n",
    "            batch_x = []\n",
    "            batch_y = []\n",
    "            batch_sample_weights = []\n",
    "\n",
    "            for file_path, label in zip(batch_files, batch_labels):\n",
    "                audio = load_and_preprocess_audio(file_path, sr=sr, duration=duration)\n",
    "                if audio is None: continue\n",
    "\n",
    "                features = extract_features(audio, sr=sr, n_mels=n_mels, n_fft=n_fft, hop_length=hop_length)\n",
    "                if features is None: continue\n",
    "\n",
    "                current_frames = features.shape[1]\n",
    "                if current_frames != target_frames:\n",
    "                     if current_frames < target_frames:\n",
    "                        pad_width = target_frames - current_frames\n",
    "                        padded_features = np.pad(features, ((0, 0), (0, pad_width)), mode='constant')\n",
    "                     else:\n",
    "                        padded_features = features[:, :target_frames]\n",
    "                else:\n",
    "                    padded_features = features\n",
    "\n",
    "                batch_x.append(padded_features)\n",
    "                batch_y.append(label)\n",
    "                batch_sample_weights.append(class_weights[label])\n",
    "\n",
    "            # --- Check for classifier generator ---\n",
    "            if not batch_x:\n",
    "                print(f\"Warning: Skipping empty batch yield in data_generator_classifier for path {data_path}\")\n",
    "                continue\n",
    "\n",
    "            batch_x_4d = np.expand_dims(np.array(batch_x), axis=-1).astype(np.float32)\n",
    "            batch_y_arr = np.array(batch_y).astype(np.float32)\n",
    "            batch_weights_arr = np.array(batch_sample_weights).astype(np.float32)\n",
    "            yield batch_x_4d, batch_y_arr, batch_weights_arr\n",
    "\n",
    "\n",
    "# Data generator for WGAN training (Yields real fake samples X only)\n",
    "# --- (MODIFIED data_generator_gan function) ---\n",
    "def data_generator_gan(data_path, batch_size=32, shuffle=True, target_frames=TARGET_FRAMES, sr=16000, duration=4, n_mels=80, n_fft=2048, hop_length=512):\n",
    "    fake_files = []\n",
    "    try:\n",
    "        fake_dir = os.path.join(data_path, 'fake')\n",
    "        if os.path.exists(fake_dir):\n",
    "             fake_files = [os.path.join(fake_dir, f) for f in os.listdir(fake_dir) if f.endswith('.wav')]\n",
    "    except FileNotFoundError as e:\n",
    "        print(f\"Error finding fake directory in {data_path}: {e}\")\n",
    "        return\n",
    "\n",
    "    if not fake_files:\n",
    "        print(f\"No fake WAV files found in {data_path}. GAN generator stopping.\")\n",
    "        return\n",
    "\n",
    "    total_samples = len(fake_files)\n",
    "    indices = np.arange(total_samples)\n",
    "\n",
    "    while True:\n",
    "        if shuffle:\n",
    "            np.random.shuffle(indices)\n",
    "\n",
    "        for i in range(0, total_samples, batch_size):\n",
    "            batch_indices = indices[i:i+batch_size]\n",
    "            batch_files = [fake_files[k] for k in batch_indices]\n",
    "\n",
    "            batch_x = []\n",
    "\n",
    "            for file_path in batch_files:\n",
    "                audio = load_and_preprocess_audio(file_path, sr=sr, duration=duration)\n",
    "                if audio is None: continue\n",
    "\n",
    "                features = extract_features(audio, sr=sr, n_mels=n_mels, n_fft=n_fft, hop_length=hop_length)\n",
    "                if features is None: continue\n",
    "\n",
    "                current_frames = features.shape[1]\n",
    "                if current_frames != target_frames:\n",
    "                    if current_frames < target_frames:\n",
    "                        pad_width = target_frames - current_frames\n",
    "                        padded_features = np.pad(features, ((0, 0), (0, pad_width)), mode='constant')\n",
    "                    else:\n",
    "                        padded_features = features[:, :target_frames]\n",
    "                else:\n",
    "                     padded_features = features\n",
    "\n",
    "                batch_x.append(padded_features)\n",
    "\n",
    "            # ---> ADD THIS CHECK for GAN generator <---\n",
    "            if not batch_x:\n",
    "                print(f\"Warning: Skipping empty batch yield in data_generator_gan for path {data_path}\")\n",
    "                continue # Skip yield if batch ended up empty\n",
    "\n",
    "            # If batch is not empty, yield the data\n",
    "            batch_x_4d = np.expand_dims(np.array(batch_x), axis=-1).astype(np.float32)\n",
    "            yield batch_x_4d # Yield only the features (4D array)"
   ]
  },
  {
   "cell_type": "code",
   "execution_count": 7,
   "metadata": {},
   "outputs": [],
   "source": [
    "# Cell 7: Self-Attention Layer (SAGAN style)\n",
    "\n",
    "class SelfAttention(Layer):\n",
    "    \"\"\"\n",
    "    Self-attention layer based on SAGAN.\n",
    "    Input shape: (batch, height, width, channels)\n",
    "    Output shape: (batch, height, width, channels_out) where channels_out is typically channels\n",
    "    \"\"\"\n",
    "    def __init__(self, channels_out=None, **kwargs):\n",
    "        super(SelfAttention, self).__init__(**kwargs)\n",
    "        self.channels_out = channels_out\n",
    "\n",
    "    def build(self, input_shape):\n",
    "        self.input_channels = input_shape[-1]\n",
    "        if self.channels_out is None:\n",
    "            self.channels_out = self.input_channels\n",
    "\n",
    "        # Convolution layers for query, key, value\n",
    "        # Use 1x1 convolutions to reduce/transform channels\n",
    "        self.f = Conv2D(self.input_channels // 8, kernel_size=1, strides=1, padding='same', name='conv_f') # Query\n",
    "        self.g = Conv2D(self.input_channels // 8, kernel_size=1, strides=1, padding='same', name='conv_g') # Key\n",
    "        self.h = Conv2D(self.channels_out, kernel_size=1, strides=1, padding='same', name='conv_h')        # Value\n",
    "\n",
    "        # Final 1x1 convolution\n",
    "        self.out_conv = Conv2D(self.channels_out, kernel_size=1, strides=1, padding='same', name='conv_out')\n",
    "\n",
    "        # Learnable scale parameter\n",
    "        self.gamma = self.add_weight(name='gamma', shape=(1,), initializer='zeros', trainable=True)\n",
    "\n",
    "        super(SelfAttention, self).build(input_shape)\n",
    "\n",
    "    def call(self, x):\n",
    "        batch_size, height, width, num_channels = tf.shape(x)[0], tf.shape(x)[1], tf.shape(x)[2], tf.shape(x)[3]\n",
    "        location_num = height * width\n",
    "        downsampled_num = location_num\n",
    "\n",
    "        # Query (f), Key (g), Value (h) projections\n",
    "        f_proj = self.f(x) # Shape: (batch, h, w, c/8)\n",
    "        g_proj = self.g(x) # Shape: (batch, h, w, c/8)\n",
    "        h_proj = self.h(x) # Shape: (batch, h, w, c_out)\n",
    "\n",
    "        # Reshape for matrix multiplication\n",
    "        f_flat = tf.reshape(f_proj, shape=(batch_size, location_num, self.input_channels // 8)) # (batch, h*w, c/8)\n",
    "        g_flat = tf.reshape(g_proj, shape=(batch_size, location_num, self.input_channels // 8)) # (batch, h*w, c/8)\n",
    "        h_flat = tf.reshape(h_proj, shape=(batch_size, location_num, self.channels_out))       # (batch, h*w, c_out)\n",
    "\n",
    "        # Attention map calculation\n",
    "        # Transpose g for matmul: (batch, c/8, h*w)\n",
    "        g_flat_t = tf.transpose(g_flat, perm=[0, 2, 1])\n",
    "        # Attention score: (batch, h*w, c/8) x (batch, c/8, h*w) -> (batch, h*w, h*w)\n",
    "        attention_score = tf.matmul(f_flat, g_flat_t)\n",
    "        attention_prob = tf.nn.softmax(attention_score, axis=-1) # Apply softmax across locations\n",
    "\n",
    "        # Apply attention map to value projection\n",
    "        # (batch, h*w, h*w) x (batch, h*w, c_out) -> (batch, h*w, c_out)\n",
    "        attention_output = tf.matmul(attention_prob, h_flat)\n",
    "\n",
    "        # Reshape back to image format\n",
    "        attention_output_reshaped = tf.reshape(attention_output, shape=(batch_size, height, width, self.channels_out))\n",
    "\n",
    "        # Apply final 1x1 convolution and scale by gamma\n",
    "        o = self.out_conv(attention_output_reshaped)\n",
    "        y = self.gamma * o + x # Additive skip connection\n",
    "\n",
    "        return y\n",
    "\n",
    "    def compute_output_shape(self, input_shape):\n",
    "        return input_shape[:-1] + (self.channels_out,)"
   ]
  },
  {
   "cell_type": "code",
   "execution_count": 8,
   "metadata": {},
   "outputs": [],
   "source": [
    "# Cell 8: Generator Model (with Self-Attention)\n",
    "\n",
    "def create_generator(latent_dim, output_shape): # output_shape (n_mels, n_frames) e.g., (80, 126)\n",
    "    \"\"\"Creates the generator model with Self-Attention.\"\"\"\n",
    "    n_mels, n_frames = output_shape\n",
    "    init_h, init_w = n_mels // 8, n_frames // 8 # Calculate initial dimensions based on 3 upsamples (2*2*2=8)\n",
    "    init_c = 128 # Initial channels\n",
    "\n",
    "    if init_h * 8 != n_mels or init_w * 8 != n_frames:\n",
    "         print(f\"Warning: Output shape {output_shape} might not be perfectly reached with 3 strides of 2. Adjusting initial size or layers.\")\n",
    "         # Adjust init_w slightly if needed, e.g. target 128 -> 16, target 126 -> 16 (trim later)\n",
    "         init_w = (n_frames + 7) // 8 # Ceiling division equivalent for width\n",
    "\n",
    "    nodes = init_h * init_w * init_c\n",
    "\n",
    "    model = Sequential(name='generator')\n",
    "    model.add(Input(shape=(latent_dim,)))\n",
    "\n",
    "    # Dense layer and reshape\n",
    "    model.add(Dense(nodes))\n",
    "    model.add(tf.keras.layers.LeakyReLU(negative_slope=0.2)) # Use negative_slope\n",
    "    model.add(Reshape((init_h, init_w, init_c))) # e.g., (10, 16, 128)\n",
    "\n",
    "    # Upsample 1: (10, 16, 128) -> (20, 32, 64)\n",
    "    model.add(Conv2DTranspose(init_c // 2, kernel_size=(4, 4), strides=(2, 2), padding='same', use_bias=False)) # Typically use_bias=False with Norm\n",
    "    model.add(LayerNormalization()) # Using LayerNorm instead of BatchNorm\n",
    "    model.add(tf.keras.layers.LeakyReLU(negative_slope=0.2))\n",
    "\n",
    "    # Upsample 2: (20, 32, 64) -> (40, 64, 32)\n",
    "    model.add(Conv2DTranspose(init_c // 4, kernel_size=(4, 4), strides=(2, 2), padding='same', use_bias=False))\n",
    "    model.add(LayerNormalization())\n",
    "    model.add(tf.keras.layers.LeakyReLU(negative_slope=0.2))\n",
    "\n",
    "    # Add Self-Attention Layer Here (applied to 40x64 feature map)\n",
    "    # Note: Attention can be computationally expensive. Apply strategically.\n",
    "    model.add(SelfAttention(channels_out=init_c // 4)) # Keep channels the same\n",
    "    # model.add(LayerNormalization()) # Optional normalization after attention\n",
    "    # model.add(tf.keras.layers.LeakyReLU(negative_slope=0.2)) # Optional activation after attention\n",
    "\n",
    "    # Upsample 3: (40, 64, 32) -> (80, 128, 1)\n",
    "    model.add(Conv2DTranspose(1, kernel_size=(4, 4), strides=(2, 2), padding='same', activation='tanh'))\n",
    "\n",
    "    # Final adjustment layer if needed (e.g., width 128 -> 126)\n",
    "    current_width = init_w * 8\n",
    "    if current_width != n_frames:\n",
    "        print(f\"Generator adding final Conv2D to adjust width from {current_width} to {n_frames}\")\n",
    "        # Calculate kernel size needed for 'valid' padding: K = W_in - W_out + 1\n",
    "        kernel_w = current_width - n_frames + 1\n",
    "        if kernel_w > 0:\n",
    "             model.add(Conv2D(1, kernel_size=(1, kernel_w), padding='valid', activation='tanh'))\n",
    "        else:\n",
    "            # This case shouldn't happen with the init_w calculation but handle just in case\n",
    "             print(f\"Warning: Could not adjust width with Conv2D. Current {current_width}, Target {n_frames}\")\n",
    "             # May need padding='same' and cropping layer if kernel_w is not positive\n",
    "\n",
    "    # Ensure final output shape is correct\n",
    "    # model.add(Reshape((n_mels, n_frames, 1))) # Add reshape just to be certain, though last Conv should handle it\n",
    "\n",
    "    return model"
   ]
  },
  {
   "cell_type": "code",
   "execution_count": 9,
   "metadata": {},
   "outputs": [],
   "source": [
    "# Cell 9: Critic (Discriminator) Model (with Self-Attention) - NO DROPOUT\n",
    "\n",
    "def create_critic(input_shape): # input_shape (n_mels, n_frames) e.g., (80, 126)\n",
    "    \"\"\"Creates the Critic model for WGAN-GP with Self-Attention. NO DROPOUT.\"\"\"\n",
    "    n_mels, n_frames = input_shape\n",
    "    model_input_shape = (n_mels, n_frames, 1) # Expects (80, 126, 1)\n",
    "\n",
    "    model = Sequential(name='critic')\n",
    "    model.add(Input(shape=model_input_shape))\n",
    "\n",
    "    # Layer 1\n",
    "    model.add(Conv2D(64, kernel_size=(4, 4), strides=(2, 2), padding='same'))\n",
    "    model.add(tf.keras.layers.LeakyReLU(negative_slope=0.2))\n",
    "    # model.add(Dropout(0.25)) # REMOVED\n",
    "\n",
    "    # Layer 2\n",
    "    model.add(Conv2D(128, kernel_size=(4, 4), strides=(2, 2), padding='same', use_bias=False))\n",
    "    model.add(LayerNormalization())\n",
    "    model.add(tf.keras.layers.LeakyReLU(negative_slope=0.2))\n",
    "    # model.add(Dropout(0.25)) # REMOVED\n",
    "\n",
    "    # Add Self-Attention Layer Here\n",
    "    model.add(SelfAttention(channels_out=128))\n",
    "\n",
    "    # Layer 3\n",
    "    model.add(Conv2D(256, kernel_size=(4, 4), strides=(2, 2), padding='same', use_bias=False))\n",
    "    model.add(LayerNormalization())\n",
    "    model.add(tf.keras.layers.LeakyReLU(negative_slope=0.2))\n",
    "    # model.add(Dropout(0.25)) # REMOVED (If you had one here)\n",
    "\n",
    "    # Flatten and Output Score\n",
    "    model.add(Flatten())\n",
    "    model.add(Dense(1))\n",
    "\n",
    "    return model"
   ]
  },
  {
   "cell_type": "code",
   "execution_count": 10,
   "metadata": {},
   "outputs": [],
   "source": [
    "# Cell 10: Define the GAN Model (Not used for WGAN-GP training loop)\n",
    "# def create_gan(generator, discriminator, latent_dim):\n",
    "#     \"\"\"Creates the combined GAN model.\"\"\"\n",
    "#     # Make discriminator non-trainable\n",
    "#     discriminator.trainable = False\n",
    "#\n",
    "#     # Stack generator and discriminator\n",
    "#     gan_input = Input(shape=(latent_dim,))\n",
    "#     gan_output = discriminator(generator(gan_input))\n",
    "#     gan = Model(gan_input, gan_output)\n",
    "#\n",
    "#     return gan"
   ]
  },
  {
   "cell_type": "code",
   "execution_count": 11,
   "metadata": {},
   "outputs": [
    {
     "name": "stderr",
     "output_type": "stream",
     "text": [
      "I0000 00:00:1744051403.036388  304437 gpu_device.cc:2019] Created device /job:localhost/replica:0/task:0/device:GPU:0 with 1209 MB memory:  -> device: 0, name: NVIDIA GeForce RTX 3050 Ti Laptop GPU, pci bus id: 0000:01:00.0, compute capability: 8.6\n"
     ]
    },
    {
     "name": "stdout",
     "output_type": "stream",
     "text": [
      "Warning: Output shape (80, 126) might not be perfectly reached with 3 strides of 2. Adjusting initial size or layers.\n",
      "Generator adding final Conv2D to adjust width from 128 to 126\n"
     ]
    },
    {
     "name": "stderr",
     "output_type": "stream",
     "text": [
      "I0000 00:00:1744051403.715607  304437 cuda_dnn.cc:529] Loaded cuDNN version 90300\n"
     ]
    },
    {
     "name": "stdout",
     "output_type": "stream",
     "text": [
      "Shape of generated image (Generator Output): (1, 80, 126, 1)\n",
      "Shape of critic output: (1, 1)\n",
      "Expected shape for Critic Input: (80, 126, 1)\n",
      "\n",
      "--- Generator Summary ---\n"
     ]
    },
    {
     "data": {
      "text/html": [
       "<pre style=\"white-space:pre;overflow-x:auto;line-height:normal;font-family:Menlo,'DejaVu Sans Mono',consolas,'Courier New',monospace\"><span style=\"font-weight: bold\">Model: \"generator\"</span>\n",
       "</pre>\n"
      ],
      "text/plain": [
       "\u001b[1mModel: \"generator\"\u001b[0m\n"
      ]
     },
     "metadata": {},
     "output_type": "display_data"
    },
    {
     "data": {
      "text/html": [
       "<pre style=\"white-space:pre;overflow-x:auto;line-height:normal;font-family:Menlo,'DejaVu Sans Mono',consolas,'Courier New',monospace\">┏━━━━━━━━━━━━━━━━━━━━━━━━━━━━━━━━━┳━━━━━━━━━━━━━━━━━━━━━━━━┳━━━━━━━━━━━━━━━┓\n",
       "┃<span style=\"font-weight: bold\"> Layer (type)                    </span>┃<span style=\"font-weight: bold\"> Output Shape           </span>┃<span style=\"font-weight: bold\">       Param # </span>┃\n",
       "┡━━━━━━━━━━━━━━━━━━━━━━━━━━━━━━━━━╇━━━━━━━━━━━━━━━━━━━━━━━━╇━━━━━━━━━━━━━━━┩\n",
       "│ dense (<span style=\"color: #0087ff; text-decoration-color: #0087ff\">Dense</span>)                   │ (<span style=\"color: #00d7ff; text-decoration-color: #00d7ff\">None</span>, <span style=\"color: #00af00; text-decoration-color: #00af00\">20480</span>)          │     <span style=\"color: #00af00; text-decoration-color: #00af00\">2,068,480</span> │\n",
       "├─────────────────────────────────┼────────────────────────┼───────────────┤\n",
       "│ leaky_re_lu (<span style=\"color: #0087ff; text-decoration-color: #0087ff\">LeakyReLU</span>)         │ (<span style=\"color: #00d7ff; text-decoration-color: #00d7ff\">None</span>, <span style=\"color: #00af00; text-decoration-color: #00af00\">20480</span>)          │             <span style=\"color: #00af00; text-decoration-color: #00af00\">0</span> │\n",
       "├─────────────────────────────────┼────────────────────────┼───────────────┤\n",
       "│ reshape (<span style=\"color: #0087ff; text-decoration-color: #0087ff\">Reshape</span>)               │ (<span style=\"color: #00d7ff; text-decoration-color: #00d7ff\">None</span>, <span style=\"color: #00af00; text-decoration-color: #00af00\">10</span>, <span style=\"color: #00af00; text-decoration-color: #00af00\">16</span>, <span style=\"color: #00af00; text-decoration-color: #00af00\">128</span>)    │             <span style=\"color: #00af00; text-decoration-color: #00af00\">0</span> │\n",
       "├─────────────────────────────────┼────────────────────────┼───────────────┤\n",
       "│ conv2d_transpose                │ (<span style=\"color: #00d7ff; text-decoration-color: #00d7ff\">None</span>, <span style=\"color: #00af00; text-decoration-color: #00af00\">20</span>, <span style=\"color: #00af00; text-decoration-color: #00af00\">32</span>, <span style=\"color: #00af00; text-decoration-color: #00af00\">64</span>)     │       <span style=\"color: #00af00; text-decoration-color: #00af00\">131,072</span> │\n",
       "│ (<span style=\"color: #0087ff; text-decoration-color: #0087ff\">Conv2DTranspose</span>)               │                        │               │\n",
       "├─────────────────────────────────┼────────────────────────┼───────────────┤\n",
       "│ layer_normalization             │ (<span style=\"color: #00d7ff; text-decoration-color: #00d7ff\">None</span>, <span style=\"color: #00af00; text-decoration-color: #00af00\">20</span>, <span style=\"color: #00af00; text-decoration-color: #00af00\">32</span>, <span style=\"color: #00af00; text-decoration-color: #00af00\">64</span>)     │           <span style=\"color: #00af00; text-decoration-color: #00af00\">128</span> │\n",
       "│ (<span style=\"color: #0087ff; text-decoration-color: #0087ff\">LayerNormalization</span>)            │                        │               │\n",
       "├─────────────────────────────────┼────────────────────────┼───────────────┤\n",
       "│ leaky_re_lu_1 (<span style=\"color: #0087ff; text-decoration-color: #0087ff\">LeakyReLU</span>)       │ (<span style=\"color: #00d7ff; text-decoration-color: #00d7ff\">None</span>, <span style=\"color: #00af00; text-decoration-color: #00af00\">20</span>, <span style=\"color: #00af00; text-decoration-color: #00af00\">32</span>, <span style=\"color: #00af00; text-decoration-color: #00af00\">64</span>)     │             <span style=\"color: #00af00; text-decoration-color: #00af00\">0</span> │\n",
       "├─────────────────────────────────┼────────────────────────┼───────────────┤\n",
       "│ conv2d_transpose_1              │ (<span style=\"color: #00d7ff; text-decoration-color: #00d7ff\">None</span>, <span style=\"color: #00af00; text-decoration-color: #00af00\">40</span>, <span style=\"color: #00af00; text-decoration-color: #00af00\">64</span>, <span style=\"color: #00af00; text-decoration-color: #00af00\">32</span>)     │        <span style=\"color: #00af00; text-decoration-color: #00af00\">32,768</span> │\n",
       "│ (<span style=\"color: #0087ff; text-decoration-color: #0087ff\">Conv2DTranspose</span>)               │                        │               │\n",
       "├─────────────────────────────────┼────────────────────────┼───────────────┤\n",
       "│ layer_normalization_1           │ (<span style=\"color: #00d7ff; text-decoration-color: #00d7ff\">None</span>, <span style=\"color: #00af00; text-decoration-color: #00af00\">40</span>, <span style=\"color: #00af00; text-decoration-color: #00af00\">64</span>, <span style=\"color: #00af00; text-decoration-color: #00af00\">32</span>)     │            <span style=\"color: #00af00; text-decoration-color: #00af00\">64</span> │\n",
       "│ (<span style=\"color: #0087ff; text-decoration-color: #0087ff\">LayerNormalization</span>)            │                        │               │\n",
       "├─────────────────────────────────┼────────────────────────┼───────────────┤\n",
       "│ leaky_re_lu_2 (<span style=\"color: #0087ff; text-decoration-color: #0087ff\">LeakyReLU</span>)       │ (<span style=\"color: #00d7ff; text-decoration-color: #00d7ff\">None</span>, <span style=\"color: #00af00; text-decoration-color: #00af00\">40</span>, <span style=\"color: #00af00; text-decoration-color: #00af00\">64</span>, <span style=\"color: #00af00; text-decoration-color: #00af00\">32</span>)     │             <span style=\"color: #00af00; text-decoration-color: #00af00\">0</span> │\n",
       "├─────────────────────────────────┼────────────────────────┼───────────────┤\n",
       "│ self_attention (<span style=\"color: #0087ff; text-decoration-color: #0087ff\">SelfAttention</span>)  │ (<span style=\"color: #00d7ff; text-decoration-color: #00d7ff\">None</span>, <span style=\"color: #00af00; text-decoration-color: #00af00\">40</span>, <span style=\"color: #00af00; text-decoration-color: #00af00\">64</span>, <span style=\"color: #00af00; text-decoration-color: #00af00\">32</span>)     │         <span style=\"color: #00af00; text-decoration-color: #00af00\">2,377</span> │\n",
       "├─────────────────────────────────┼────────────────────────┼───────────────┤\n",
       "│ conv2d_transpose_2              │ (<span style=\"color: #00d7ff; text-decoration-color: #00d7ff\">None</span>, <span style=\"color: #00af00; text-decoration-color: #00af00\">80</span>, <span style=\"color: #00af00; text-decoration-color: #00af00\">128</span>, <span style=\"color: #00af00; text-decoration-color: #00af00\">1</span>)     │           <span style=\"color: #00af00; text-decoration-color: #00af00\">513</span> │\n",
       "│ (<span style=\"color: #0087ff; text-decoration-color: #0087ff\">Conv2DTranspose</span>)               │                        │               │\n",
       "├─────────────────────────────────┼────────────────────────┼───────────────┤\n",
       "│ conv2d (<span style=\"color: #0087ff; text-decoration-color: #0087ff\">Conv2D</span>)                 │ (<span style=\"color: #00d7ff; text-decoration-color: #00d7ff\">None</span>, <span style=\"color: #00af00; text-decoration-color: #00af00\">80</span>, <span style=\"color: #00af00; text-decoration-color: #00af00\">126</span>, <span style=\"color: #00af00; text-decoration-color: #00af00\">1</span>)     │             <span style=\"color: #00af00; text-decoration-color: #00af00\">4</span> │\n",
       "└─────────────────────────────────┴────────────────────────┴───────────────┘\n",
       "</pre>\n"
      ],
      "text/plain": [
       "┏━━━━━━━━━━━━━━━━━━━━━━━━━━━━━━━━━┳━━━━━━━━━━━━━━━━━━━━━━━━┳━━━━━━━━━━━━━━━┓\n",
       "┃\u001b[1m \u001b[0m\u001b[1mLayer (type)                   \u001b[0m\u001b[1m \u001b[0m┃\u001b[1m \u001b[0m\u001b[1mOutput Shape          \u001b[0m\u001b[1m \u001b[0m┃\u001b[1m \u001b[0m\u001b[1m      Param #\u001b[0m\u001b[1m \u001b[0m┃\n",
       "┡━━━━━━━━━━━━━━━━━━━━━━━━━━━━━━━━━╇━━━━━━━━━━━━━━━━━━━━━━━━╇━━━━━━━━━━━━━━━┩\n",
       "│ dense (\u001b[38;5;33mDense\u001b[0m)                   │ (\u001b[38;5;45mNone\u001b[0m, \u001b[38;5;34m20480\u001b[0m)          │     \u001b[38;5;34m2,068,480\u001b[0m │\n",
       "├─────────────────────────────────┼────────────────────────┼───────────────┤\n",
       "│ leaky_re_lu (\u001b[38;5;33mLeakyReLU\u001b[0m)         │ (\u001b[38;5;45mNone\u001b[0m, \u001b[38;5;34m20480\u001b[0m)          │             \u001b[38;5;34m0\u001b[0m │\n",
       "├─────────────────────────────────┼────────────────────────┼───────────────┤\n",
       "│ reshape (\u001b[38;5;33mReshape\u001b[0m)               │ (\u001b[38;5;45mNone\u001b[0m, \u001b[38;5;34m10\u001b[0m, \u001b[38;5;34m16\u001b[0m, \u001b[38;5;34m128\u001b[0m)    │             \u001b[38;5;34m0\u001b[0m │\n",
       "├─────────────────────────────────┼────────────────────────┼───────────────┤\n",
       "│ conv2d_transpose                │ (\u001b[38;5;45mNone\u001b[0m, \u001b[38;5;34m20\u001b[0m, \u001b[38;5;34m32\u001b[0m, \u001b[38;5;34m64\u001b[0m)     │       \u001b[38;5;34m131,072\u001b[0m │\n",
       "│ (\u001b[38;5;33mConv2DTranspose\u001b[0m)               │                        │               │\n",
       "├─────────────────────────────────┼────────────────────────┼───────────────┤\n",
       "│ layer_normalization             │ (\u001b[38;5;45mNone\u001b[0m, \u001b[38;5;34m20\u001b[0m, \u001b[38;5;34m32\u001b[0m, \u001b[38;5;34m64\u001b[0m)     │           \u001b[38;5;34m128\u001b[0m │\n",
       "│ (\u001b[38;5;33mLayerNormalization\u001b[0m)            │                        │               │\n",
       "├─────────────────────────────────┼────────────────────────┼───────────────┤\n",
       "│ leaky_re_lu_1 (\u001b[38;5;33mLeakyReLU\u001b[0m)       │ (\u001b[38;5;45mNone\u001b[0m, \u001b[38;5;34m20\u001b[0m, \u001b[38;5;34m32\u001b[0m, \u001b[38;5;34m64\u001b[0m)     │             \u001b[38;5;34m0\u001b[0m │\n",
       "├─────────────────────────────────┼────────────────────────┼───────────────┤\n",
       "│ conv2d_transpose_1              │ (\u001b[38;5;45mNone\u001b[0m, \u001b[38;5;34m40\u001b[0m, \u001b[38;5;34m64\u001b[0m, \u001b[38;5;34m32\u001b[0m)     │        \u001b[38;5;34m32,768\u001b[0m │\n",
       "│ (\u001b[38;5;33mConv2DTranspose\u001b[0m)               │                        │               │\n",
       "├─────────────────────────────────┼────────────────────────┼───────────────┤\n",
       "│ layer_normalization_1           │ (\u001b[38;5;45mNone\u001b[0m, \u001b[38;5;34m40\u001b[0m, \u001b[38;5;34m64\u001b[0m, \u001b[38;5;34m32\u001b[0m)     │            \u001b[38;5;34m64\u001b[0m │\n",
       "│ (\u001b[38;5;33mLayerNormalization\u001b[0m)            │                        │               │\n",
       "├─────────────────────────────────┼────────────────────────┼───────────────┤\n",
       "│ leaky_re_lu_2 (\u001b[38;5;33mLeakyReLU\u001b[0m)       │ (\u001b[38;5;45mNone\u001b[0m, \u001b[38;5;34m40\u001b[0m, \u001b[38;5;34m64\u001b[0m, \u001b[38;5;34m32\u001b[0m)     │             \u001b[38;5;34m0\u001b[0m │\n",
       "├─────────────────────────────────┼────────────────────────┼───────────────┤\n",
       "│ self_attention (\u001b[38;5;33mSelfAttention\u001b[0m)  │ (\u001b[38;5;45mNone\u001b[0m, \u001b[38;5;34m40\u001b[0m, \u001b[38;5;34m64\u001b[0m, \u001b[38;5;34m32\u001b[0m)     │         \u001b[38;5;34m2,377\u001b[0m │\n",
       "├─────────────────────────────────┼────────────────────────┼───────────────┤\n",
       "│ conv2d_transpose_2              │ (\u001b[38;5;45mNone\u001b[0m, \u001b[38;5;34m80\u001b[0m, \u001b[38;5;34m128\u001b[0m, \u001b[38;5;34m1\u001b[0m)     │           \u001b[38;5;34m513\u001b[0m │\n",
       "│ (\u001b[38;5;33mConv2DTranspose\u001b[0m)               │                        │               │\n",
       "├─────────────────────────────────┼────────────────────────┼───────────────┤\n",
       "│ conv2d (\u001b[38;5;33mConv2D\u001b[0m)                 │ (\u001b[38;5;45mNone\u001b[0m, \u001b[38;5;34m80\u001b[0m, \u001b[38;5;34m126\u001b[0m, \u001b[38;5;34m1\u001b[0m)     │             \u001b[38;5;34m4\u001b[0m │\n",
       "└─────────────────────────────────┴────────────────────────┴───────────────┘\n"
      ]
     },
     "metadata": {},
     "output_type": "display_data"
    },
    {
     "data": {
      "text/html": [
       "<pre style=\"white-space:pre;overflow-x:auto;line-height:normal;font-family:Menlo,'DejaVu Sans Mono',consolas,'Courier New',monospace\"><span style=\"font-weight: bold\"> Total params: </span><span style=\"color: #00af00; text-decoration-color: #00af00\">2,235,406</span> (8.53 MB)\n",
       "</pre>\n"
      ],
      "text/plain": [
       "\u001b[1m Total params: \u001b[0m\u001b[38;5;34m2,235,406\u001b[0m (8.53 MB)\n"
      ]
     },
     "metadata": {},
     "output_type": "display_data"
    },
    {
     "data": {
      "text/html": [
       "<pre style=\"white-space:pre;overflow-x:auto;line-height:normal;font-family:Menlo,'DejaVu Sans Mono',consolas,'Courier New',monospace\"><span style=\"font-weight: bold\"> Trainable params: </span><span style=\"color: #00af00; text-decoration-color: #00af00\">2,235,406</span> (8.53 MB)\n",
       "</pre>\n"
      ],
      "text/plain": [
       "\u001b[1m Trainable params: \u001b[0m\u001b[38;5;34m2,235,406\u001b[0m (8.53 MB)\n"
      ]
     },
     "metadata": {},
     "output_type": "display_data"
    },
    {
     "data": {
      "text/html": [
       "<pre style=\"white-space:pre;overflow-x:auto;line-height:normal;font-family:Menlo,'DejaVu Sans Mono',consolas,'Courier New',monospace\"><span style=\"font-weight: bold\"> Non-trainable params: </span><span style=\"color: #00af00; text-decoration-color: #00af00\">0</span> (0.00 B)\n",
       "</pre>\n"
      ],
      "text/plain": [
       "\u001b[1m Non-trainable params: \u001b[0m\u001b[38;5;34m0\u001b[0m (0.00 B)\n"
      ]
     },
     "metadata": {},
     "output_type": "display_data"
    },
    {
     "name": "stdout",
     "output_type": "stream",
     "text": [
      "\n",
      "--- Critic Summary ---\n"
     ]
    },
    {
     "data": {
      "text/html": [
       "<pre style=\"white-space:pre;overflow-x:auto;line-height:normal;font-family:Menlo,'DejaVu Sans Mono',consolas,'Courier New',monospace\"><span style=\"font-weight: bold\">Model: \"critic\"</span>\n",
       "</pre>\n"
      ],
      "text/plain": [
       "\u001b[1mModel: \"critic\"\u001b[0m\n"
      ]
     },
     "metadata": {},
     "output_type": "display_data"
    },
    {
     "data": {
      "text/html": [
       "<pre style=\"white-space:pre;overflow-x:auto;line-height:normal;font-family:Menlo,'DejaVu Sans Mono',consolas,'Courier New',monospace\">┏━━━━━━━━━━━━━━━━━━━━━━━━━━━━━━━━━┳━━━━━━━━━━━━━━━━━━━━━━━━┳━━━━━━━━━━━━━━━┓\n",
       "┃<span style=\"font-weight: bold\"> Layer (type)                    </span>┃<span style=\"font-weight: bold\"> Output Shape           </span>┃<span style=\"font-weight: bold\">       Param # </span>┃\n",
       "┡━━━━━━━━━━━━━━━━━━━━━━━━━━━━━━━━━╇━━━━━━━━━━━━━━━━━━━━━━━━╇━━━━━━━━━━━━━━━┩\n",
       "│ conv2d_1 (<span style=\"color: #0087ff; text-decoration-color: #0087ff\">Conv2D</span>)               │ (<span style=\"color: #00d7ff; text-decoration-color: #00d7ff\">None</span>, <span style=\"color: #00af00; text-decoration-color: #00af00\">40</span>, <span style=\"color: #00af00; text-decoration-color: #00af00\">63</span>, <span style=\"color: #00af00; text-decoration-color: #00af00\">64</span>)     │         <span style=\"color: #00af00; text-decoration-color: #00af00\">1,088</span> │\n",
       "├─────────────────────────────────┼────────────────────────┼───────────────┤\n",
       "│ leaky_re_lu_3 (<span style=\"color: #0087ff; text-decoration-color: #0087ff\">LeakyReLU</span>)       │ (<span style=\"color: #00d7ff; text-decoration-color: #00d7ff\">None</span>, <span style=\"color: #00af00; text-decoration-color: #00af00\">40</span>, <span style=\"color: #00af00; text-decoration-color: #00af00\">63</span>, <span style=\"color: #00af00; text-decoration-color: #00af00\">64</span>)     │             <span style=\"color: #00af00; text-decoration-color: #00af00\">0</span> │\n",
       "├─────────────────────────────────┼────────────────────────┼───────────────┤\n",
       "│ conv2d_2 (<span style=\"color: #0087ff; text-decoration-color: #0087ff\">Conv2D</span>)               │ (<span style=\"color: #00d7ff; text-decoration-color: #00d7ff\">None</span>, <span style=\"color: #00af00; text-decoration-color: #00af00\">20</span>, <span style=\"color: #00af00; text-decoration-color: #00af00\">32</span>, <span style=\"color: #00af00; text-decoration-color: #00af00\">128</span>)    │       <span style=\"color: #00af00; text-decoration-color: #00af00\">131,072</span> │\n",
       "├─────────────────────────────────┼────────────────────────┼───────────────┤\n",
       "│ layer_normalization_2           │ (<span style=\"color: #00d7ff; text-decoration-color: #00d7ff\">None</span>, <span style=\"color: #00af00; text-decoration-color: #00af00\">20</span>, <span style=\"color: #00af00; text-decoration-color: #00af00\">32</span>, <span style=\"color: #00af00; text-decoration-color: #00af00\">128</span>)    │           <span style=\"color: #00af00; text-decoration-color: #00af00\">256</span> │\n",
       "│ (<span style=\"color: #0087ff; text-decoration-color: #0087ff\">LayerNormalization</span>)            │                        │               │\n",
       "├─────────────────────────────────┼────────────────────────┼───────────────┤\n",
       "│ leaky_re_lu_4 (<span style=\"color: #0087ff; text-decoration-color: #0087ff\">LeakyReLU</span>)       │ (<span style=\"color: #00d7ff; text-decoration-color: #00d7ff\">None</span>, <span style=\"color: #00af00; text-decoration-color: #00af00\">20</span>, <span style=\"color: #00af00; text-decoration-color: #00af00\">32</span>, <span style=\"color: #00af00; text-decoration-color: #00af00\">128</span>)    │             <span style=\"color: #00af00; text-decoration-color: #00af00\">0</span> │\n",
       "├─────────────────────────────────┼────────────────────────┼───────────────┤\n",
       "│ self_attention_1                │ (<span style=\"color: #00d7ff; text-decoration-color: #00d7ff\">None</span>, <span style=\"color: #00af00; text-decoration-color: #00af00\">20</span>, <span style=\"color: #00af00; text-decoration-color: #00af00\">32</span>, <span style=\"color: #00af00; text-decoration-color: #00af00\">128</span>)    │        <span style=\"color: #00af00; text-decoration-color: #00af00\">37,153</span> │\n",
       "│ (<span style=\"color: #0087ff; text-decoration-color: #0087ff\">SelfAttention</span>)                 │                        │               │\n",
       "├─────────────────────────────────┼────────────────────────┼───────────────┤\n",
       "│ conv2d_3 (<span style=\"color: #0087ff; text-decoration-color: #0087ff\">Conv2D</span>)               │ (<span style=\"color: #00d7ff; text-decoration-color: #00d7ff\">None</span>, <span style=\"color: #00af00; text-decoration-color: #00af00\">10</span>, <span style=\"color: #00af00; text-decoration-color: #00af00\">16</span>, <span style=\"color: #00af00; text-decoration-color: #00af00\">256</span>)    │       <span style=\"color: #00af00; text-decoration-color: #00af00\">524,288</span> │\n",
       "├─────────────────────────────────┼────────────────────────┼───────────────┤\n",
       "│ layer_normalization_3           │ (<span style=\"color: #00d7ff; text-decoration-color: #00d7ff\">None</span>, <span style=\"color: #00af00; text-decoration-color: #00af00\">10</span>, <span style=\"color: #00af00; text-decoration-color: #00af00\">16</span>, <span style=\"color: #00af00; text-decoration-color: #00af00\">256</span>)    │           <span style=\"color: #00af00; text-decoration-color: #00af00\">512</span> │\n",
       "│ (<span style=\"color: #0087ff; text-decoration-color: #0087ff\">LayerNormalization</span>)            │                        │               │\n",
       "├─────────────────────────────────┼────────────────────────┼───────────────┤\n",
       "│ leaky_re_lu_5 (<span style=\"color: #0087ff; text-decoration-color: #0087ff\">LeakyReLU</span>)       │ (<span style=\"color: #00d7ff; text-decoration-color: #00d7ff\">None</span>, <span style=\"color: #00af00; text-decoration-color: #00af00\">10</span>, <span style=\"color: #00af00; text-decoration-color: #00af00\">16</span>, <span style=\"color: #00af00; text-decoration-color: #00af00\">256</span>)    │             <span style=\"color: #00af00; text-decoration-color: #00af00\">0</span> │\n",
       "├─────────────────────────────────┼────────────────────────┼───────────────┤\n",
       "│ flatten (<span style=\"color: #0087ff; text-decoration-color: #0087ff\">Flatten</span>)               │ (<span style=\"color: #00d7ff; text-decoration-color: #00d7ff\">None</span>, <span style=\"color: #00af00; text-decoration-color: #00af00\">40960</span>)          │             <span style=\"color: #00af00; text-decoration-color: #00af00\">0</span> │\n",
       "├─────────────────────────────────┼────────────────────────┼───────────────┤\n",
       "│ dense_1 (<span style=\"color: #0087ff; text-decoration-color: #0087ff\">Dense</span>)                 │ (<span style=\"color: #00d7ff; text-decoration-color: #00d7ff\">None</span>, <span style=\"color: #00af00; text-decoration-color: #00af00\">1</span>)              │        <span style=\"color: #00af00; text-decoration-color: #00af00\">40,961</span> │\n",
       "└─────────────────────────────────┴────────────────────────┴───────────────┘\n",
       "</pre>\n"
      ],
      "text/plain": [
       "┏━━━━━━━━━━━━━━━━━━━━━━━━━━━━━━━━━┳━━━━━━━━━━━━━━━━━━━━━━━━┳━━━━━━━━━━━━━━━┓\n",
       "┃\u001b[1m \u001b[0m\u001b[1mLayer (type)                   \u001b[0m\u001b[1m \u001b[0m┃\u001b[1m \u001b[0m\u001b[1mOutput Shape          \u001b[0m\u001b[1m \u001b[0m┃\u001b[1m \u001b[0m\u001b[1m      Param #\u001b[0m\u001b[1m \u001b[0m┃\n",
       "┡━━━━━━━━━━━━━━━━━━━━━━━━━━━━━━━━━╇━━━━━━━━━━━━━━━━━━━━━━━━╇━━━━━━━━━━━━━━━┩\n",
       "│ conv2d_1 (\u001b[38;5;33mConv2D\u001b[0m)               │ (\u001b[38;5;45mNone\u001b[0m, \u001b[38;5;34m40\u001b[0m, \u001b[38;5;34m63\u001b[0m, \u001b[38;5;34m64\u001b[0m)     │         \u001b[38;5;34m1,088\u001b[0m │\n",
       "├─────────────────────────────────┼────────────────────────┼───────────────┤\n",
       "│ leaky_re_lu_3 (\u001b[38;5;33mLeakyReLU\u001b[0m)       │ (\u001b[38;5;45mNone\u001b[0m, \u001b[38;5;34m40\u001b[0m, \u001b[38;5;34m63\u001b[0m, \u001b[38;5;34m64\u001b[0m)     │             \u001b[38;5;34m0\u001b[0m │\n",
       "├─────────────────────────────────┼────────────────────────┼───────────────┤\n",
       "│ conv2d_2 (\u001b[38;5;33mConv2D\u001b[0m)               │ (\u001b[38;5;45mNone\u001b[0m, \u001b[38;5;34m20\u001b[0m, \u001b[38;5;34m32\u001b[0m, \u001b[38;5;34m128\u001b[0m)    │       \u001b[38;5;34m131,072\u001b[0m │\n",
       "├─────────────────────────────────┼────────────────────────┼───────────────┤\n",
       "│ layer_normalization_2           │ (\u001b[38;5;45mNone\u001b[0m, \u001b[38;5;34m20\u001b[0m, \u001b[38;5;34m32\u001b[0m, \u001b[38;5;34m128\u001b[0m)    │           \u001b[38;5;34m256\u001b[0m │\n",
       "│ (\u001b[38;5;33mLayerNormalization\u001b[0m)            │                        │               │\n",
       "├─────────────────────────────────┼────────────────────────┼───────────────┤\n",
       "│ leaky_re_lu_4 (\u001b[38;5;33mLeakyReLU\u001b[0m)       │ (\u001b[38;5;45mNone\u001b[0m, \u001b[38;5;34m20\u001b[0m, \u001b[38;5;34m32\u001b[0m, \u001b[38;5;34m128\u001b[0m)    │             \u001b[38;5;34m0\u001b[0m │\n",
       "├─────────────────────────────────┼────────────────────────┼───────────────┤\n",
       "│ self_attention_1                │ (\u001b[38;5;45mNone\u001b[0m, \u001b[38;5;34m20\u001b[0m, \u001b[38;5;34m32\u001b[0m, \u001b[38;5;34m128\u001b[0m)    │        \u001b[38;5;34m37,153\u001b[0m │\n",
       "│ (\u001b[38;5;33mSelfAttention\u001b[0m)                 │                        │               │\n",
       "├─────────────────────────────────┼────────────────────────┼───────────────┤\n",
       "│ conv2d_3 (\u001b[38;5;33mConv2D\u001b[0m)               │ (\u001b[38;5;45mNone\u001b[0m, \u001b[38;5;34m10\u001b[0m, \u001b[38;5;34m16\u001b[0m, \u001b[38;5;34m256\u001b[0m)    │       \u001b[38;5;34m524,288\u001b[0m │\n",
       "├─────────────────────────────────┼────────────────────────┼───────────────┤\n",
       "│ layer_normalization_3           │ (\u001b[38;5;45mNone\u001b[0m, \u001b[38;5;34m10\u001b[0m, \u001b[38;5;34m16\u001b[0m, \u001b[38;5;34m256\u001b[0m)    │           \u001b[38;5;34m512\u001b[0m │\n",
       "│ (\u001b[38;5;33mLayerNormalization\u001b[0m)            │                        │               │\n",
       "├─────────────────────────────────┼────────────────────────┼───────────────┤\n",
       "│ leaky_re_lu_5 (\u001b[38;5;33mLeakyReLU\u001b[0m)       │ (\u001b[38;5;45mNone\u001b[0m, \u001b[38;5;34m10\u001b[0m, \u001b[38;5;34m16\u001b[0m, \u001b[38;5;34m256\u001b[0m)    │             \u001b[38;5;34m0\u001b[0m │\n",
       "├─────────────────────────────────┼────────────────────────┼───────────────┤\n",
       "│ flatten (\u001b[38;5;33mFlatten\u001b[0m)               │ (\u001b[38;5;45mNone\u001b[0m, \u001b[38;5;34m40960\u001b[0m)          │             \u001b[38;5;34m0\u001b[0m │\n",
       "├─────────────────────────────────┼────────────────────────┼───────────────┤\n",
       "│ dense_1 (\u001b[38;5;33mDense\u001b[0m)                 │ (\u001b[38;5;45mNone\u001b[0m, \u001b[38;5;34m1\u001b[0m)              │        \u001b[38;5;34m40,961\u001b[0m │\n",
       "└─────────────────────────────────┴────────────────────────┴───────────────┘\n"
      ]
     },
     "metadata": {},
     "output_type": "display_data"
    },
    {
     "data": {
      "text/html": [
       "<pre style=\"white-space:pre;overflow-x:auto;line-height:normal;font-family:Menlo,'DejaVu Sans Mono',consolas,'Courier New',monospace\"><span style=\"font-weight: bold\"> Total params: </span><span style=\"color: #00af00; text-decoration-color: #00af00\">735,330</span> (2.81 MB)\n",
       "</pre>\n"
      ],
      "text/plain": [
       "\u001b[1m Total params: \u001b[0m\u001b[38;5;34m735,330\u001b[0m (2.81 MB)\n"
      ]
     },
     "metadata": {},
     "output_type": "display_data"
    },
    {
     "data": {
      "text/html": [
       "<pre style=\"white-space:pre;overflow-x:auto;line-height:normal;font-family:Menlo,'DejaVu Sans Mono',consolas,'Courier New',monospace\"><span style=\"font-weight: bold\"> Trainable params: </span><span style=\"color: #00af00; text-decoration-color: #00af00\">735,330</span> (2.81 MB)\n",
       "</pre>\n"
      ],
      "text/plain": [
       "\u001b[1m Trainable params: \u001b[0m\u001b[38;5;34m735,330\u001b[0m (2.81 MB)\n"
      ]
     },
     "metadata": {},
     "output_type": "display_data"
    },
    {
     "data": {
      "text/html": [
       "<pre style=\"white-space:pre;overflow-x:auto;line-height:normal;font-family:Menlo,'DejaVu Sans Mono',consolas,'Courier New',monospace\"><span style=\"font-weight: bold\"> Non-trainable params: </span><span style=\"color: #00af00; text-decoration-color: #00af00\">0</span> (0.00 B)\n",
       "</pre>\n"
      ],
      "text/plain": [
       "\u001b[1m Non-trainable params: \u001b[0m\u001b[38;5;34m0\u001b[0m (0.00 B)\n"
      ]
     },
     "metadata": {},
     "output_type": "display_data"
    }
   ],
   "source": [
    "# Cell 11: Data Path and Parameters\n",
    "\n",
    "# Data Paths\n",
    "train_data_path = 'datasetNEW/train'\n",
    "dev_data_path = 'datasetNEW/dev'\n",
    "eval_data_path = 'datasetNEW/eval'\n",
    "\n",
    "# Define the fixed number of frames\n",
    "TARGET_FRAMES = 126\n",
    "N_MELS = 80\n",
    "mel_spectrogram_shape = (N_MELS, TARGET_FRAMES)\n",
    "\n",
    "# WGAN-GP specific parameters\n",
    "latent_dim = 100\n",
    "n_critic = 5         # Train critic 5 times per generator update\n",
    "gp_weight = 1.0     # Gradient penalty weight\n",
    "gan_epochs = 75      # WGAN often needs more epochs, adjust as needed\n",
    "gan_batch_size = 8  # Adjust based on GPU memory (WGAN-GP can be memory intensive)\n",
    "\n",
    "# Optimizers (Typical WGAN settings: lower LR, betas=(0.5, 0.9))\n",
    "critic_optimizer = Adam(learning_rate=1e-5, beta_1=0.5, beta_2=0.9) # TRY LOWER LR\n",
    "generator_optimizer = Adam(learning_rate=1e-5, beta_1=0.5, beta_2=0.9)\n",
    "# critic_optimizer = RMSprop(learning_rate=0.00005) # Alternative optimizer\n",
    "# generator_optimizer = RMSprop(learning_rate=0.00005)\n",
    "\n",
    "# Create instances\n",
    "generator = create_generator(latent_dim, mel_spectrogram_shape)\n",
    "critic = create_critic(mel_spectrogram_shape)\n",
    "\n",
    "# Diagnostic Code: Verify Output Shape\n",
    "test_noise = tf.random.normal((1, latent_dim))\n",
    "generated_image = generator(test_noise, training=False) # Use tf.random and call model directly\n",
    "critic_output = critic(generated_image, training=False)\n",
    "print(\"Shape of generated image (Generator Output):\", generated_image.shape)\n",
    "print(\"Shape of critic output:\", critic_output.shape)\n",
    "\n",
    "critic_input_shape_expected = (mel_spectrogram_shape[0], mel_spectrogram_shape[1], 1)\n",
    "print(\"Expected shape for Critic Input:\", critic_input_shape_expected)\n",
    "assert generated_image.shape[1:] == critic_input_shape_expected, \"Generator output shape mismatch!\"\n",
    "assert len(critic_output.shape) == 2 and critic_output.shape[1] == 1, \"Critic output shape mismatch!\"\n",
    "\n",
    "\n",
    "# Report the models\n",
    "print(\"\\n--- Generator Summary ---\")\n",
    "generator.summary()\n",
    "print(\"\\n--- Critic Summary ---\")\n",
    "critic.summary()\n",
    "\n",
    "# Parameters for standalone classifier training (can be different)\n",
    "classifier_batch_size = 8 # Keep smaller for classifier fine-tuning?\n",
    "classifier_epochs = 60"
   ]
  },
  {
   "cell_type": "code",
   "execution_count": 12,
   "metadata": {},
   "outputs": [
    {
     "name": "stdout",
     "output_type": "stream",
     "text": [
      "Calculated 2850 GAN steps per epoch.\n",
      "\n",
      "Begin WGAN-GP training!\n",
      "\n",
      "Epoch 1/75\n"
     ]
    },
    {
     "data": {
      "application/vnd.jupyter.widget-view+json": {
       "model_id": "72d5d82091c64f0c88cb489a7f7d67ff",
       "version_major": 2,
       "version_minor": 0
      },
      "text/plain": [
       "Epoch 1:   0%|          | 0/2850 [00:00<?, ?it/s]"
      ]
     },
     "metadata": {},
     "output_type": "display_data"
    },
    {
     "name": "stderr",
     "output_type": "stream",
     "text": [
      "2025-04-08 00:13:31.468933: W external/local_xla/xla/tsl/framework/bfc_allocator.cc:382] Garbage collection: deallocate free memory regions (i.e., allocations) so that we can re-allocate a larger region to avoid OOM due to memory fragmentation. If you see this message frequently, you are running near the threshold of the available device memory and re-allocation may incur great performance overhead. You may try smaller batch sizes to observe the performance impact. Set TF_ENABLE_GPU_GARBAGE_COLLECTION=false if you'd like to disable this feature.\n"
     ]
    },
    {
     "ename": "KeyboardInterrupt",
     "evalue": "",
     "output_type": "error",
     "traceback": [
      "\u001b[31m---------------------------------------------------------------------------\u001b[39m",
      "\u001b[31mKeyboardInterrupt\u001b[39m                         Traceback (most recent call last)",
      "\u001b[36mCell\u001b[39m\u001b[36m \u001b[39m\u001b[32mIn[12]\u001b[39m\u001b[32m, line 152\u001b[39m\n\u001b[32m    148\u001b[39m \u001b[38;5;28;01mif\u001b[39;00m tf.shape(real_spoof_samples)[\u001b[32m0\u001b[39m] == \u001b[32m0\u001b[39m:\n\u001b[32m    149\u001b[39m     \u001b[38;5;66;03m# print(f\"Warning: Skipped empty batch at step {batch_idx}\") # Optional print\u001b[39;00m\n\u001b[32m    150\u001b[39m     \u001b[38;5;28;01mcontinue\u001b[39;00m\n\u001b[32m--> \u001b[39m\u001b[32m152\u001b[39m c_loss, g_loss = \u001b[43mtrain_step\u001b[49m\u001b[43m(\u001b[49m\u001b[43mreal_spoof_samples\u001b[49m\u001b[43m)\u001b[49m\n\u001b[32m    154\u001b[39m \u001b[38;5;66;03m# Check for NaN or Inf losses (important for stability)\u001b[39;00m\n\u001b[32m    155\u001b[39m \u001b[38;5;28;01mif\u001b[39;00m np.isnan(c_loss.numpy()) \u001b[38;5;129;01mor\u001b[39;00m np.isinf(c_loss.numpy()) \u001b[38;5;129;01mor\u001b[39;00m \\\n\u001b[32m    156\u001b[39m    np.isnan(g_loss.numpy()) \u001b[38;5;129;01mor\u001b[39;00m np.isinf(g_loss.numpy()):\n",
      "\u001b[36mFile \u001b[39m\u001b[32m~/VIT/Capstone/Proj/.venvn/lib64/python3.12/site-packages/tensorflow/python/util/traceback_utils.py:150\u001b[39m, in \u001b[36mfilter_traceback.<locals>.error_handler\u001b[39m\u001b[34m(*args, **kwargs)\u001b[39m\n\u001b[32m    148\u001b[39m filtered_tb = \u001b[38;5;28;01mNone\u001b[39;00m\n\u001b[32m    149\u001b[39m \u001b[38;5;28;01mtry\u001b[39;00m:\n\u001b[32m--> \u001b[39m\u001b[32m150\u001b[39m   \u001b[38;5;28;01mreturn\u001b[39;00m \u001b[43mfn\u001b[49m\u001b[43m(\u001b[49m\u001b[43m*\u001b[49m\u001b[43margs\u001b[49m\u001b[43m,\u001b[49m\u001b[43m \u001b[49m\u001b[43m*\u001b[49m\u001b[43m*\u001b[49m\u001b[43mkwargs\u001b[49m\u001b[43m)\u001b[49m\n\u001b[32m    151\u001b[39m \u001b[38;5;28;01mexcept\u001b[39;00m \u001b[38;5;167;01mException\u001b[39;00m \u001b[38;5;28;01mas\u001b[39;00m e:\n\u001b[32m    152\u001b[39m   filtered_tb = _process_traceback_frames(e.__traceback__)\n",
      "\u001b[36mFile \u001b[39m\u001b[32m~/VIT/Capstone/Proj/.venvn/lib64/python3.12/site-packages/tensorflow/python/eager/polymorphic_function/polymorphic_function.py:833\u001b[39m, in \u001b[36mFunction.__call__\u001b[39m\u001b[34m(self, *args, **kwds)\u001b[39m\n\u001b[32m    830\u001b[39m compiler = \u001b[33m\"\u001b[39m\u001b[33mxla\u001b[39m\u001b[33m\"\u001b[39m \u001b[38;5;28;01mif\u001b[39;00m \u001b[38;5;28mself\u001b[39m._jit_compile \u001b[38;5;28;01melse\u001b[39;00m \u001b[33m\"\u001b[39m\u001b[33mnonXla\u001b[39m\u001b[33m\"\u001b[39m\n\u001b[32m    832\u001b[39m \u001b[38;5;28;01mwith\u001b[39;00m OptionalXlaContext(\u001b[38;5;28mself\u001b[39m._jit_compile):\n\u001b[32m--> \u001b[39m\u001b[32m833\u001b[39m   result = \u001b[38;5;28;43mself\u001b[39;49m\u001b[43m.\u001b[49m\u001b[43m_call\u001b[49m\u001b[43m(\u001b[49m\u001b[43m*\u001b[49m\u001b[43margs\u001b[49m\u001b[43m,\u001b[49m\u001b[43m \u001b[49m\u001b[43m*\u001b[49m\u001b[43m*\u001b[49m\u001b[43mkwds\u001b[49m\u001b[43m)\u001b[49m\n\u001b[32m    835\u001b[39m new_tracing_count = \u001b[38;5;28mself\u001b[39m.experimental_get_tracing_count()\n\u001b[32m    836\u001b[39m without_tracing = (tracing_count == new_tracing_count)\n",
      "\u001b[36mFile \u001b[39m\u001b[32m~/VIT/Capstone/Proj/.venvn/lib64/python3.12/site-packages/tensorflow/python/eager/polymorphic_function/polymorphic_function.py:906\u001b[39m, in \u001b[36mFunction._call\u001b[39m\u001b[34m(self, *args, **kwds)\u001b[39m\n\u001b[32m    902\u001b[39m     \u001b[38;5;28;01mpass\u001b[39;00m  \u001b[38;5;66;03m# Fall through to cond-based initialization.\u001b[39;00m\n\u001b[32m    903\u001b[39m   \u001b[38;5;28;01melse\u001b[39;00m:\n\u001b[32m    904\u001b[39m     \u001b[38;5;66;03m# Lifting succeeded, so variables are initialized and we can run the\u001b[39;00m\n\u001b[32m    905\u001b[39m     \u001b[38;5;66;03m# no_variable_creation function.\u001b[39;00m\n\u001b[32m--> \u001b[39m\u001b[32m906\u001b[39m     \u001b[38;5;28;01mreturn\u001b[39;00m \u001b[43mtracing_compilation\u001b[49m\u001b[43m.\u001b[49m\u001b[43mcall_function\u001b[49m\u001b[43m(\u001b[49m\n\u001b[32m    907\u001b[39m \u001b[43m        \u001b[49m\u001b[43margs\u001b[49m\u001b[43m,\u001b[49m\u001b[43m \u001b[49m\u001b[43mkwds\u001b[49m\u001b[43m,\u001b[49m\u001b[43m \u001b[49m\u001b[38;5;28;43mself\u001b[39;49m\u001b[43m.\u001b[49m\u001b[43m_no_variable_creation_config\u001b[49m\n\u001b[32m    908\u001b[39m \u001b[43m    \u001b[49m\u001b[43m)\u001b[49m\n\u001b[32m    909\u001b[39m \u001b[38;5;28;01melse\u001b[39;00m:\n\u001b[32m    910\u001b[39m   bound_args = \u001b[38;5;28mself\u001b[39m._concrete_variable_creation_fn.function_type.bind(\n\u001b[32m    911\u001b[39m       *args, **kwds\n\u001b[32m    912\u001b[39m   )\n",
      "\u001b[36mFile \u001b[39m\u001b[32m~/VIT/Capstone/Proj/.venvn/lib64/python3.12/site-packages/tensorflow/python/eager/polymorphic_function/tracing_compilation.py:139\u001b[39m, in \u001b[36mcall_function\u001b[39m\u001b[34m(args, kwargs, tracing_options)\u001b[39m\n\u001b[32m    137\u001b[39m bound_args = function.function_type.bind(*args, **kwargs)\n\u001b[32m    138\u001b[39m flat_inputs = function.function_type.unpack_inputs(bound_args)\n\u001b[32m--> \u001b[39m\u001b[32m139\u001b[39m \u001b[38;5;28;01mreturn\u001b[39;00m \u001b[43mfunction\u001b[49m\u001b[43m.\u001b[49m\u001b[43m_call_flat\u001b[49m\u001b[43m(\u001b[49m\u001b[43m  \u001b[49m\u001b[38;5;66;43;03m# pylint: disable=protected-access\u001b[39;49;00m\n\u001b[32m    140\u001b[39m \u001b[43m    \u001b[49m\u001b[43mflat_inputs\u001b[49m\u001b[43m,\u001b[49m\u001b[43m \u001b[49m\u001b[43mcaptured_inputs\u001b[49m\u001b[43m=\u001b[49m\u001b[43mfunction\u001b[49m\u001b[43m.\u001b[49m\u001b[43mcaptured_inputs\u001b[49m\n\u001b[32m    141\u001b[39m \u001b[43m\u001b[49m\u001b[43m)\u001b[49m\n",
      "\u001b[36mFile \u001b[39m\u001b[32m~/VIT/Capstone/Proj/.venvn/lib64/python3.12/site-packages/tensorflow/python/eager/polymorphic_function/concrete_function.py:1322\u001b[39m, in \u001b[36mConcreteFunction._call_flat\u001b[39m\u001b[34m(self, tensor_inputs, captured_inputs)\u001b[39m\n\u001b[32m   1318\u001b[39m possible_gradient_type = gradients_util.PossibleTapeGradientTypes(args)\n\u001b[32m   1319\u001b[39m \u001b[38;5;28;01mif\u001b[39;00m (possible_gradient_type == gradients_util.POSSIBLE_GRADIENT_TYPES_NONE\n\u001b[32m   1320\u001b[39m     \u001b[38;5;129;01mand\u001b[39;00m executing_eagerly):\n\u001b[32m   1321\u001b[39m   \u001b[38;5;66;03m# No tape is watching; skip to running the function.\u001b[39;00m\n\u001b[32m-> \u001b[39m\u001b[32m1322\u001b[39m   \u001b[38;5;28;01mreturn\u001b[39;00m \u001b[38;5;28;43mself\u001b[39;49m\u001b[43m.\u001b[49m\u001b[43m_inference_function\u001b[49m\u001b[43m.\u001b[49m\u001b[43mcall_preflattened\u001b[49m\u001b[43m(\u001b[49m\u001b[43margs\u001b[49m\u001b[43m)\u001b[49m\n\u001b[32m   1323\u001b[39m forward_backward = \u001b[38;5;28mself\u001b[39m._select_forward_and_backward_functions(\n\u001b[32m   1324\u001b[39m     args,\n\u001b[32m   1325\u001b[39m     possible_gradient_type,\n\u001b[32m   1326\u001b[39m     executing_eagerly)\n\u001b[32m   1327\u001b[39m forward_function, args_with_tangents = forward_backward.forward()\n",
      "\u001b[36mFile \u001b[39m\u001b[32m~/VIT/Capstone/Proj/.venvn/lib64/python3.12/site-packages/tensorflow/python/eager/polymorphic_function/atomic_function.py:216\u001b[39m, in \u001b[36mAtomicFunction.call_preflattened\u001b[39m\u001b[34m(self, args)\u001b[39m\n\u001b[32m    214\u001b[39m \u001b[38;5;28;01mdef\u001b[39;00m\u001b[38;5;250m \u001b[39m\u001b[34mcall_preflattened\u001b[39m(\u001b[38;5;28mself\u001b[39m, args: Sequence[core.Tensor]) -> Any:\n\u001b[32m    215\u001b[39m \u001b[38;5;250m  \u001b[39m\u001b[33;03m\"\"\"Calls with flattened tensor inputs and returns the structured output.\"\"\"\u001b[39;00m\n\u001b[32m--> \u001b[39m\u001b[32m216\u001b[39m   flat_outputs = \u001b[38;5;28;43mself\u001b[39;49m\u001b[43m.\u001b[49m\u001b[43mcall_flat\u001b[49m\u001b[43m(\u001b[49m\u001b[43m*\u001b[49m\u001b[43margs\u001b[49m\u001b[43m)\u001b[49m\n\u001b[32m    217\u001b[39m   \u001b[38;5;28;01mreturn\u001b[39;00m \u001b[38;5;28mself\u001b[39m.function_type.pack_output(flat_outputs)\n",
      "\u001b[36mFile \u001b[39m\u001b[32m~/VIT/Capstone/Proj/.venvn/lib64/python3.12/site-packages/tensorflow/python/eager/polymorphic_function/atomic_function.py:251\u001b[39m, in \u001b[36mAtomicFunction.call_flat\u001b[39m\u001b[34m(self, *args)\u001b[39m\n\u001b[32m    249\u001b[39m \u001b[38;5;28;01mwith\u001b[39;00m record.stop_recording():\n\u001b[32m    250\u001b[39m   \u001b[38;5;28;01mif\u001b[39;00m \u001b[38;5;28mself\u001b[39m._bound_context.executing_eagerly():\n\u001b[32m--> \u001b[39m\u001b[32m251\u001b[39m     outputs = \u001b[38;5;28;43mself\u001b[39;49m\u001b[43m.\u001b[49m\u001b[43m_bound_context\u001b[49m\u001b[43m.\u001b[49m\u001b[43mcall_function\u001b[49m\u001b[43m(\u001b[49m\n\u001b[32m    252\u001b[39m \u001b[43m        \u001b[49m\u001b[38;5;28;43mself\u001b[39;49m\u001b[43m.\u001b[49m\u001b[43mname\u001b[49m\u001b[43m,\u001b[49m\n\u001b[32m    253\u001b[39m \u001b[43m        \u001b[49m\u001b[38;5;28;43mlist\u001b[39;49m\u001b[43m(\u001b[49m\u001b[43margs\u001b[49m\u001b[43m)\u001b[49m\u001b[43m,\u001b[49m\n\u001b[32m    254\u001b[39m \u001b[43m        \u001b[49m\u001b[38;5;28;43mlen\u001b[39;49m\u001b[43m(\u001b[49m\u001b[38;5;28;43mself\u001b[39;49m\u001b[43m.\u001b[49m\u001b[43mfunction_type\u001b[49m\u001b[43m.\u001b[49m\u001b[43mflat_outputs\u001b[49m\u001b[43m)\u001b[49m\u001b[43m,\u001b[49m\n\u001b[32m    255\u001b[39m \u001b[43m    \u001b[49m\u001b[43m)\u001b[49m\n\u001b[32m    256\u001b[39m   \u001b[38;5;28;01melse\u001b[39;00m:\n\u001b[32m    257\u001b[39m     outputs = make_call_op_in_graph(\n\u001b[32m    258\u001b[39m         \u001b[38;5;28mself\u001b[39m,\n\u001b[32m    259\u001b[39m         \u001b[38;5;28mlist\u001b[39m(args),\n\u001b[32m    260\u001b[39m         \u001b[38;5;28mself\u001b[39m._bound_context.function_call_options.as_attrs(),\n\u001b[32m    261\u001b[39m     )\n",
      "\u001b[36mFile \u001b[39m\u001b[32m~/VIT/Capstone/Proj/.venvn/lib64/python3.12/site-packages/tensorflow/python/eager/context.py:1688\u001b[39m, in \u001b[36mContext.call_function\u001b[39m\u001b[34m(self, name, tensor_inputs, num_outputs)\u001b[39m\n\u001b[32m   1686\u001b[39m cancellation_context = cancellation.context()\n\u001b[32m   1687\u001b[39m \u001b[38;5;28;01mif\u001b[39;00m cancellation_context \u001b[38;5;129;01mis\u001b[39;00m \u001b[38;5;28;01mNone\u001b[39;00m:\n\u001b[32m-> \u001b[39m\u001b[32m1688\u001b[39m   outputs = \u001b[43mexecute\u001b[49m\u001b[43m.\u001b[49m\u001b[43mexecute\u001b[49m\u001b[43m(\u001b[49m\n\u001b[32m   1689\u001b[39m \u001b[43m      \u001b[49m\u001b[43mname\u001b[49m\u001b[43m.\u001b[49m\u001b[43mdecode\u001b[49m\u001b[43m(\u001b[49m\u001b[33;43m\"\u001b[39;49m\u001b[33;43mutf-8\u001b[39;49m\u001b[33;43m\"\u001b[39;49m\u001b[43m)\u001b[49m\u001b[43m,\u001b[49m\n\u001b[32m   1690\u001b[39m \u001b[43m      \u001b[49m\u001b[43mnum_outputs\u001b[49m\u001b[43m=\u001b[49m\u001b[43mnum_outputs\u001b[49m\u001b[43m,\u001b[49m\n\u001b[32m   1691\u001b[39m \u001b[43m      \u001b[49m\u001b[43minputs\u001b[49m\u001b[43m=\u001b[49m\u001b[43mtensor_inputs\u001b[49m\u001b[43m,\u001b[49m\n\u001b[32m   1692\u001b[39m \u001b[43m      \u001b[49m\u001b[43mattrs\u001b[49m\u001b[43m=\u001b[49m\u001b[43mattrs\u001b[49m\u001b[43m,\u001b[49m\n\u001b[32m   1693\u001b[39m \u001b[43m      \u001b[49m\u001b[43mctx\u001b[49m\u001b[43m=\u001b[49m\u001b[38;5;28;43mself\u001b[39;49m\u001b[43m,\u001b[49m\n\u001b[32m   1694\u001b[39m \u001b[43m  \u001b[49m\u001b[43m)\u001b[49m\n\u001b[32m   1695\u001b[39m \u001b[38;5;28;01melse\u001b[39;00m:\n\u001b[32m   1696\u001b[39m   outputs = execute.execute_with_cancellation(\n\u001b[32m   1697\u001b[39m       name.decode(\u001b[33m\"\u001b[39m\u001b[33mutf-8\u001b[39m\u001b[33m\"\u001b[39m),\n\u001b[32m   1698\u001b[39m       num_outputs=num_outputs,\n\u001b[32m   (...)\u001b[39m\u001b[32m   1702\u001b[39m       cancellation_manager=cancellation_context,\n\u001b[32m   1703\u001b[39m   )\n",
      "\u001b[36mFile \u001b[39m\u001b[32m~/VIT/Capstone/Proj/.venvn/lib64/python3.12/site-packages/tensorflow/python/eager/execute.py:53\u001b[39m, in \u001b[36mquick_execute\u001b[39m\u001b[34m(op_name, num_outputs, inputs, attrs, ctx, name)\u001b[39m\n\u001b[32m     51\u001b[39m \u001b[38;5;28;01mtry\u001b[39;00m:\n\u001b[32m     52\u001b[39m   ctx.ensure_initialized()\n\u001b[32m---> \u001b[39m\u001b[32m53\u001b[39m   tensors = \u001b[43mpywrap_tfe\u001b[49m\u001b[43m.\u001b[49m\u001b[43mTFE_Py_Execute\u001b[49m\u001b[43m(\u001b[49m\u001b[43mctx\u001b[49m\u001b[43m.\u001b[49m\u001b[43m_handle\u001b[49m\u001b[43m,\u001b[49m\u001b[43m \u001b[49m\u001b[43mdevice_name\u001b[49m\u001b[43m,\u001b[49m\u001b[43m \u001b[49m\u001b[43mop_name\u001b[49m\u001b[43m,\u001b[49m\n\u001b[32m     54\u001b[39m \u001b[43m                                      \u001b[49m\u001b[43minputs\u001b[49m\u001b[43m,\u001b[49m\u001b[43m \u001b[49m\u001b[43mattrs\u001b[49m\u001b[43m,\u001b[49m\u001b[43m \u001b[49m\u001b[43mnum_outputs\u001b[49m\u001b[43m)\u001b[49m\n\u001b[32m     55\u001b[39m \u001b[38;5;28;01mexcept\u001b[39;00m core._NotOkStatusException \u001b[38;5;28;01mas\u001b[39;00m e:\n\u001b[32m     56\u001b[39m   \u001b[38;5;28;01mif\u001b[39;00m name \u001b[38;5;129;01mis\u001b[39;00m \u001b[38;5;129;01mnot\u001b[39;00m \u001b[38;5;28;01mNone\u001b[39;00m:\n",
      "\u001b[31mKeyboardInterrupt\u001b[39m: "
     ]
    }
   ],
   "source": [
    "# Cell 12: WGAN-GP Training Loop (Saving Critic Weights Only)\n",
    "\n",
    "# --- Imports ---\n",
    "import os\n",
    "import numpy as np\n",
    "import tensorflow as tf\n",
    "from tqdm.notebook import tqdm # Use tqdm.notebook for better Jupyter integration\n",
    "import matplotlib.pyplot as plt\n",
    "import logging\n",
    "\n",
    "# Assuming necessary variables (train_data_path, gan_batch_size, latent_dim, n_critic,\n",
    "# gp_weight, gan_epochs, critic_optimizer, generator_optimizer, generator, critic,\n",
    "# FIGURES_DIR) and functions (data_generator_gan) are defined and accessible\n",
    "# from previous cells.\n",
    "\n",
    "# --- Loss Functions ---\n",
    "def critic_loss(real_output, fake_output):\n",
    "    \"\"\"Wasserstein loss for the critic.\"\"\"\n",
    "    # Ensure outputs are float32 for stable loss calculation\n",
    "    real_output = tf.cast(real_output, tf.float32)\n",
    "    fake_output = tf.cast(fake_output, tf.float32)\n",
    "    return tf.reduce_mean(fake_output) - tf.reduce_mean(real_output)\n",
    "\n",
    "def generator_loss(fake_output):\n",
    "    \"\"\"Wasserstein loss for the generator.\"\"\"\n",
    "    # Ensure output is float32\n",
    "    fake_output = tf.cast(fake_output, tf.float32)\n",
    "    return -tf.reduce_mean(fake_output)\n",
    "\n",
    "# --- Gradient Penalty Function (Corrected) ---\n",
    "def gradient_penalty(batch_size, real_images, fake_images):\n",
    "    \"\"\" Calculates the gradient penalty loss for WGAN GP, handling mixed precision. \"\"\"\n",
    "    # Ensure both images have the same dtype before interpolation\n",
    "    if real_images.dtype != fake_images.dtype:\n",
    "        real_images = tf.cast(real_images, fake_images.dtype)\n",
    "\n",
    "    # Generate interpolation alpha with the correct dtype\n",
    "    alpha_shape = [tf.shape(real_images)[0]] + [1] * (len(real_images.shape) - 1)\n",
    "    alpha = tf.random.uniform(shape=alpha_shape, minval=0., maxval=1., dtype=real_images.dtype)\n",
    "\n",
    "    # Interpolate images\n",
    "    interpolated = real_images + alpha * (fake_images - real_images)\n",
    "\n",
    "    with tf.GradientTape() as gp_tape:\n",
    "        gp_tape.watch(interpolated)\n",
    "        pred = critic(interpolated, training=True)\n",
    "        pred = tf.cast(pred, tf.float32) # Cast prediction to float32 for stable GP calculation\n",
    "\n",
    "    grads = gp_tape.gradient(pred, [interpolated])\n",
    "    if grads is None or grads[0] is None:\n",
    "        logging.warning(\"Gradients are None in gradient_penalty. Returning 0 penalty.\")\n",
    "        # print(\"Warning: Gradients are None in gradient_penalty. Returning 0 penalty.\") # Optional print\n",
    "        return tf.constant(0.0, dtype=tf.float32)\n",
    "    grads = grads[0]\n",
    "    grads = tf.cast(grads, tf.float32) # Cast gradients to float32 before norm\n",
    "\n",
    "    norm = tf.sqrt(tf.reduce_sum(tf.square(grads), axis=tf.range(1, tf.rank(grads))))\n",
    "    gp = tf.reduce_mean((norm - 1.0) ** 2)\n",
    "\n",
    "    return gp * gp_weight # gp_weight should be float\n",
    "\n",
    "\n",
    "# --- Data Generator and Steps Calculation ---\n",
    "train_gen_gan = data_generator_gan(train_data_path, batch_size=gan_batch_size)\n",
    "\n",
    "fake_files_count = 0\n",
    "try:\n",
    "    fake_dir = os.path.join(train_data_path, 'fake')\n",
    "    if os.path.exists(fake_dir):\n",
    "        fake_files_count = len([f for f in os.listdir(fake_dir) if f.endswith('.wav')])\n",
    "except FileNotFoundError:\n",
    "    fake_files_count = 0\n",
    "\n",
    "if gan_batch_size <= 0:\n",
    "    raise ValueError(\"GAN Batch size must be positive.\")\n",
    "if fake_files_count == 0:\n",
    "    print(\"Warning: No fake training files found for GAN. Setting GAN steps to 0.\")\n",
    "    gan_steps_per_epoch = 0\n",
    "else:\n",
    "    gan_steps_per_epoch = int(np.ceil(fake_files_count / float(gan_batch_size)))\n",
    "    print(f\"Calculated {gan_steps_per_epoch} GAN steps per epoch.\")\n",
    "\n",
    "\n",
    "# --- Training Step Function (Decorated with tf.function) ---\n",
    "@tf.function\n",
    "def train_step(real_images):\n",
    "    current_batch_size = tf.shape(real_images)[0]\n",
    "    # Use float32 for noise if mixed precision is enabled, otherwise default might be okay\n",
    "    noise = tf.random.normal([current_batch_size, latent_dim], dtype=tf.float32)\n",
    "\n",
    "    # Train Critic (n_critic times)\n",
    "    total_crit_loss = tf.constant(0.0, dtype=tf.float32)\n",
    "    for _ in tf.range(n_critic):\n",
    "        with tf.GradientTape() as crit_tape:\n",
    "            fake_images = generator(noise, training=True)\n",
    "            real_output = critic(real_images, training=True)\n",
    "            fake_output = critic(fake_images, training=True)\n",
    "            crit_loss = critic_loss(real_output, fake_output)\n",
    "            gp = gradient_penalty(current_batch_size, real_images, fake_images)\n",
    "            total_crit_loss = crit_loss + gp\n",
    "\n",
    "        crit_gradients = crit_tape.gradient(total_crit_loss, critic.trainable_variables)\n",
    "        valid_grads_and_vars = [(g, v) for g, v in zip(crit_gradients, critic.trainable_variables) if g is not None]\n",
    "        if len(valid_grads_and_vars) < len(critic.trainable_variables):\n",
    "             tf.print(\"Warning: Some critic gradients are None.\")\n",
    "        if len(valid_grads_and_vars) > 0:\n",
    "            critic_optimizer.apply_gradients(valid_grads_and_vars)\n",
    "\n",
    "    # Train Generator\n",
    "    with tf.GradientTape() as gen_tape:\n",
    "        fake_images_gen = generator(noise, training=True)\n",
    "        fake_output_gen = critic(fake_images_gen, training=True)\n",
    "        gen_loss = generator_loss(fake_output_gen)\n",
    "\n",
    "    gen_gradients = gen_tape.gradient(gen_loss, generator.trainable_variables)\n",
    "    valid_grads_and_vars_gen = [(g, v) for g, v in zip(gen_gradients, generator.trainable_variables) if g is not None]\n",
    "    if len(valid_grads_and_vars_gen) < len(generator.trainable_variables):\n",
    "         tf.print(\"Warning: Some generator gradients are None.\")\n",
    "    if len(valid_grads_and_vars_gen) > 0:\n",
    "        generator_optimizer.apply_gradients(valid_grads_and_vars_gen)\n",
    "\n",
    "    return total_crit_loss, gen_loss\n",
    "\n",
    "\n",
    "# --- WGAN-GP Training Loop ---\n",
    "print(\"\\nBegin WGAN-GP training!\")\n",
    "\n",
    "if train_gen_gan is None or gan_steps_per_epoch == 0:\n",
    "    print(\"Skipping WGAN-GP training: Generator not initialized or no steps per epoch.\")\n",
    "else:\n",
    "    c_loss_history = []\n",
    "    g_loss_history = []\n",
    "\n",
    "    for epoch in range(gan_epochs): # Use gan_epochs defined in Cell 11\n",
    "        print(f\"\\nEpoch {epoch+1}/{gan_epochs}\")\n",
    "        epoch_pbar = tqdm(range(gan_steps_per_epoch), desc=f\"Epoch {epoch+1}\")\n",
    "\n",
    "        epoch_c_loss = 0.0\n",
    "        epoch_g_loss = 0.0\n",
    "        batches_processed = 0\n",
    "\n",
    "        for batch_idx in epoch_pbar:\n",
    "            try:\n",
    "                real_spoof_samples_np = next(train_gen_gan)\n",
    "                # Ensure input to train_step is float32\n",
    "                real_spoof_samples = tf.convert_to_tensor(real_spoof_samples_np, dtype=tf.float32)\n",
    "\n",
    "                if tf.shape(real_spoof_samples)[0] == 0:\n",
    "                    # print(f\"Warning: Skipped empty batch at step {batch_idx}\") # Optional print\n",
    "                    continue\n",
    "\n",
    "                c_loss, g_loss = train_step(real_spoof_samples)\n",
    "\n",
    "                # Check for NaN or Inf losses (important for stability)\n",
    "                if np.isnan(c_loss.numpy()) or np.isinf(c_loss.numpy()) or \\\n",
    "                   np.isnan(g_loss.numpy()) or np.isinf(g_loss.numpy()):\n",
    "                    print(f\"\\nError: NaN or Inf loss detected at epoch {epoch+1}, batch {batch_idx}. Stopping training.\")\n",
    "                    logging.error(f\"NaN/Inf loss detected: C Loss={c_loss.numpy()}, G Loss={g_loss.numpy()}. Epoch {epoch+1}, Batch {batch_idx}\")\n",
    "                    # Optional: Save current state before breaking if needed\n",
    "                    # generator.save_weights('generator_nan_inf.weights.h5')\n",
    "                    # critic.save_weights('critic_nan_inf.weights.h5')\n",
    "                    raise ValueError(\"NaN or Inf loss detected, stopping training.\") # Stop execution\n",
    "\n",
    "                epoch_c_loss += c_loss.numpy()\n",
    "                epoch_g_loss += g_loss.numpy()\n",
    "                batches_processed += 1\n",
    "\n",
    "                epoch_pbar.set_postfix({\"C Loss\": f\"{c_loss.numpy():.4f}\", \"G Loss\": f\"{g_loss.numpy():.4f}\"})\n",
    "\n",
    "            except StopIteration:\n",
    "                print(f\"\\nGAN Generator exhausted prematurely at batch {batch_idx}. Moving to next epoch.\")\n",
    "                train_gen_gan = data_generator_gan(train_data_path, batch_size=gan_batch_size)\n",
    "                break\n",
    "\n",
    "            except Exception as e:\n",
    "                # Catch NaN/Inf error from the check above or other errors\n",
    "                logging.error(f\"Error during WGAN training epoch {epoch+1}, batch {batch_idx}: {e}\", exc_info=True)\n",
    "                print(f\"\\nError during WGAN training epoch {epoch+1}, batch {batch_idx}: {e}\")\n",
    "                # Decide whether to continue or break based on the error type\n",
    "                if isinstance(e, ValueError) and \"NaN or Inf loss\" in str(e):\n",
    "                     break # Stop the outer loop for NaN/Inf\n",
    "                continue # Skip other problematic batches\n",
    "\n",
    "\n",
    "        # Check if loop was broken due to NaN/Inf\n",
    "        if np.isnan(epoch_c_loss) or np.isinf(epoch_c_loss) or np.isnan(epoch_g_loss) or np.isinf(epoch_g_loss):\n",
    "             print(\"Training stopped due to NaN/Inf loss.\")\n",
    "             break # Exit the epoch loop\n",
    "\n",
    "        # --- End-of-epoch actions ---\n",
    "        if batches_processed > 0:\n",
    "             avg_c_loss = epoch_c_loss / batches_processed\n",
    "             avg_g_loss = epoch_g_loss / batches_processed\n",
    "             c_loss_history.append(avg_c_loss)\n",
    "             g_loss_history.append(avg_g_loss)\n",
    "             print(f\"Epoch {epoch+1} finished. Avg C Loss: {avg_c_loss:.4f}, Avg G Loss: {avg_g_loss:.4f}\")\n",
    "        else:\n",
    "             print(f\"Epoch {epoch+1} finished. No batches processed.\")\n",
    "             c_loss_history.append(np.nan)\n",
    "             g_loss_history.append(np.nan)\n",
    "\n",
    "\n",
    "        # --- Save Models/Weights Periodically ---\n",
    "        # Save every 5 epochs and at the very last epoch\n",
    "        if (epoch + 1) % 5 == 0 or (epoch + 1) == gan_epochs:\n",
    "             try:\n",
    "                 # Save generator as full model (assuming it doesn't have loading issues)\n",
    "                 generator.save(f'generator_wgan_sa_epoch_{epoch+1}.keras')\n",
    "\n",
    "                 # Save critic weights ONLY\n",
    "                 critic_weights_filename = f'critic_wgan_sa_epoch_{epoch+1}.weights.h5' # Define filename\n",
    "                 critic.save_weights(critic_weights_filename) # Use save_weights\n",
    "\n",
    "                 print(f\"Saved generator model and critic weights ({critic_weights_filename}) for epoch {epoch+1}\")\n",
    "             except Exception as e:\n",
    "                 logging.error(f\"Error saving models/weights at epoch {epoch+1}: {e}\", exc_info=True)\n",
    "                 print(f\"Error saving models/weights at epoch {epoch+1}: {e}\")\n",
    "\n",
    "\n",
    "    print(\"\\nWGAN-GP training finished (or stopped early).\")\n",
    "\n",
    "    # Final loss plot\n",
    "    if c_loss_history and g_loss_history: # Plot only if history exists\n",
    "         plt.figure(figsize=(10, 5))\n",
    "         # Filter out NaN values for plotting if training stopped early\n",
    "         epochs_ran = range(1, len([loss for loss in c_loss_history if not np.isnan(loss)]) + 1)\n",
    "         plt.plot(epochs_ran, [loss for loss in c_loss_history if not np.isnan(loss)], label='Avg Critic Loss per Epoch')\n",
    "         plt.plot(epochs_ran, [loss for loss in g_loss_history if not np.isnan(loss)], label='Avg Generator Loss per Epoch')\n",
    "         plt.title('WGAN-GP Training Losses')\n",
    "         plt.xlabel('Epoch')\n",
    "         plt.ylabel('Average Loss')\n",
    "         plt.legend()\n",
    "         plt.grid(True)\n",
    "         plot_filename = os.path.join(FIGURES_DIR, 'gan_loss_final.png')\n",
    "         try:\n",
    "              plt.savefig(plot_filename)\n",
    "              print(f\"Saved final loss plot to {plot_filename}\")\n",
    "         except Exception as e:\n",
    "              logging.error(f\"Failed to save final loss plot: {e}\", exc_info=True)\n",
    "              print(f\"Failed to save final loss plot: {e}\")\n",
    "         plt.show()\n",
    "    else:\n",
    "         print(\"No loss history recorded, skipping final plot.\")"
   ]
  },
  {
   "cell_type": "code",
   "execution_count": 13,
   "metadata": {},
   "outputs": [
    {
     "name": "stdout",
     "output_type": "stream",
     "text": [
      "\n",
      "--- Continuing WGAN-GP Training (Loading Weights) ---\n",
      "Recreating model structures...\n",
      "Warning: Output shape (80, 126) might not be perfectly reached with 3 strides of 2. Adjusting initial size or layers.\n",
      "Generator adding final Conv2D to adjust width from 128 to 126\n",
      "Model structures recreated.\n",
      "Building models via dummy forward pass...\n",
      "Models built successfully via dummy pass.\n",
      "Loading generator weights from: generator_wgan_sa_epoch_130.weights.h5\n",
      "Generator weights loaded successfully.\n",
      "Loading critic weights from: critic_wgan_sa_epoch_130.weights.h5\n",
      "Critic weights loaded successfully.\n",
      "Optimizers redefined.\n",
      "Initializing data generator for continued training...\n",
      "Using 2850 GAN steps per epoch for continued training.\n",
      "\n",
      "Continuing WGAN-GP training from epoch 131 to 162...\n",
      "\n",
      "Epoch 131/162\n"
     ]
    },
    {
     "data": {
      "application/vnd.jupyter.widget-view+json": {
       "model_id": "c6ce60efd859419581271247bec5a372",
       "version_major": 2,
       "version_minor": 0
      },
      "text/plain": [
       "Epoch 131:   0%|          | 0/2850 [00:00<?, ?it/s]"
      ]
     },
     "metadata": {},
     "output_type": "display_data"
    },
    {
     "name": "stdout",
     "output_type": "stream",
     "text": [
      "Epoch 131 finished. Avg C Loss: 3.8080, Avg G Loss: -32.3450\n",
      "\n",
      "Epoch 132/162\n"
     ]
    },
    {
     "data": {
      "application/vnd.jupyter.widget-view+json": {
       "model_id": "61e3ed2c89fe4e89be40f1e3e1bd9e77",
       "version_major": 2,
       "version_minor": 0
      },
      "text/plain": [
       "Epoch 132:   0%|          | 0/2850 [00:00<?, ?it/s]"
      ]
     },
     "metadata": {},
     "output_type": "display_data"
    },
    {
     "name": "stdout",
     "output_type": "stream",
     "text": [
      "Epoch 132 finished. Avg C Loss: 2.6031, Avg G Loss: -29.7928\n",
      "\n",
      "Epoch 133/162\n"
     ]
    },
    {
     "data": {
      "application/vnd.jupyter.widget-view+json": {
       "model_id": "6055881a6bdb44c2acc7dac2a669a335",
       "version_major": 2,
       "version_minor": 0
      },
      "text/plain": [
       "Epoch 133:   0%|          | 0/2850 [00:00<?, ?it/s]"
      ]
     },
     "metadata": {},
     "output_type": "display_data"
    },
    {
     "name": "stdout",
     "output_type": "stream",
     "text": [
      "Epoch 133 finished. Avg C Loss: 0.6684, Avg G Loss: -28.4447\n",
      "\n",
      "Epoch 134/162\n"
     ]
    },
    {
     "data": {
      "application/vnd.jupyter.widget-view+json": {
       "model_id": "a66d574e3771440bb4e39fc74c831209",
       "version_major": 2,
       "version_minor": 0
      },
      "text/plain": [
       "Epoch 134:   0%|          | 0/2850 [00:00<?, ?it/s]"
      ]
     },
     "metadata": {},
     "output_type": "display_data"
    },
    {
     "name": "stdout",
     "output_type": "stream",
     "text": [
      "Epoch 134 finished. Avg C Loss: 0.1816, Avg G Loss: -28.4226\n",
      "\n",
      "Epoch 135/162\n"
     ]
    },
    {
     "data": {
      "application/vnd.jupyter.widget-view+json": {
       "model_id": "83c2ce1d852c4b9b85780ba3558ae8fb",
       "version_major": 2,
       "version_minor": 0
      },
      "text/plain": [
       "Epoch 135:   0%|          | 0/2850 [00:00<?, ?it/s]"
      ]
     },
     "metadata": {},
     "output_type": "display_data"
    },
    {
     "name": "stdout",
     "output_type": "stream",
     "text": [
      "Epoch 135 finished. Avg C Loss: 0.3729, Avg G Loss: -27.6137\n",
      "Saved generator and critic weights for epoch 135\n",
      "\n",
      "Epoch 136/162\n"
     ]
    },
    {
     "data": {
      "application/vnd.jupyter.widget-view+json": {
       "model_id": "3505bb04e1c74d67b2371dbab6a5f40b",
       "version_major": 2,
       "version_minor": 0
      },
      "text/plain": [
       "Epoch 136:   0%|          | 0/2850 [00:00<?, ?it/s]"
      ]
     },
     "metadata": {},
     "output_type": "display_data"
    },
    {
     "name": "stdout",
     "output_type": "stream",
     "text": [
      "Epoch 136 finished. Avg C Loss: 1.5645, Avg G Loss: -26.3546\n",
      "\n",
      "Epoch 137/162\n"
     ]
    },
    {
     "data": {
      "application/vnd.jupyter.widget-view+json": {
       "model_id": "06885f16306442f78ed92d6a95bf3a44",
       "version_major": 2,
       "version_minor": 0
      },
      "text/plain": [
       "Epoch 137:   0%|          | 0/2850 [00:00<?, ?it/s]"
      ]
     },
     "metadata": {},
     "output_type": "display_data"
    },
    {
     "name": "stdout",
     "output_type": "stream",
     "text": [
      "Epoch 137 finished. Avg C Loss: 1.8883, Avg G Loss: -25.4868\n",
      "\n",
      "Epoch 138/162\n"
     ]
    },
    {
     "data": {
      "application/vnd.jupyter.widget-view+json": {
       "model_id": "c5a903dff08b440fbbcedba4803a021b",
       "version_major": 2,
       "version_minor": 0
      },
      "text/plain": [
       "Epoch 138:   0%|          | 0/2850 [00:00<?, ?it/s]"
      ]
     },
     "metadata": {},
     "output_type": "display_data"
    },
    {
     "name": "stdout",
     "output_type": "stream",
     "text": [
      "Epoch 138 finished. Avg C Loss: 0.7136, Avg G Loss: -24.4701\n",
      "\n",
      "Epoch 139/162\n"
     ]
    },
    {
     "data": {
      "application/vnd.jupyter.widget-view+json": {
       "model_id": "e0e7a42eafdb4a938264d56476d74159",
       "version_major": 2,
       "version_minor": 0
      },
      "text/plain": [
       "Epoch 139:   0%|          | 0/2850 [00:00<?, ?it/s]"
      ]
     },
     "metadata": {},
     "output_type": "display_data"
    },
    {
     "name": "stdout",
     "output_type": "stream",
     "text": [
      "Epoch 139 finished. Avg C Loss: 1.4830, Avg G Loss: -22.9045\n",
      "\n",
      "Epoch 140/162\n"
     ]
    },
    {
     "data": {
      "application/vnd.jupyter.widget-view+json": {
       "model_id": "d1abe69b5c484b3292dbc09e979559cf",
       "version_major": 2,
       "version_minor": 0
      },
      "text/plain": [
       "Epoch 140:   0%|          | 0/2850 [00:00<?, ?it/s]"
      ]
     },
     "metadata": {},
     "output_type": "display_data"
    },
    {
     "name": "stdout",
     "output_type": "stream",
     "text": [
      "Epoch 140 finished. Avg C Loss: 2.8927, Avg G Loss: -21.2939\n",
      "Saved generator and critic weights for epoch 140\n",
      "\n",
      "Epoch 141/162\n"
     ]
    },
    {
     "data": {
      "application/vnd.jupyter.widget-view+json": {
       "model_id": "8bdf2afb69464c409b8ec62ccf1c4274",
       "version_major": 2,
       "version_minor": 0
      },
      "text/plain": [
       "Epoch 141:   0%|          | 0/2850 [00:00<?, ?it/s]"
      ]
     },
     "metadata": {},
     "output_type": "display_data"
    },
    {
     "name": "stdout",
     "output_type": "stream",
     "text": [
      "Epoch 141 finished. Avg C Loss: 6.4315, Avg G Loss: -20.6013\n",
      "\n",
      "Epoch 142/162\n"
     ]
    },
    {
     "data": {
      "application/vnd.jupyter.widget-view+json": {
       "model_id": "4781151f53af44edbaf0f9dc5d601a84",
       "version_major": 2,
       "version_minor": 0
      },
      "text/plain": [
       "Epoch 142:   0%|          | 0/2850 [00:00<?, ?it/s]"
      ]
     },
     "metadata": {},
     "output_type": "display_data"
    },
    {
     "name": "stdout",
     "output_type": "stream",
     "text": [
      "Epoch 142 finished. Avg C Loss: 1.9716, Avg G Loss: -20.5275\n",
      "\n",
      "Epoch 143/162\n"
     ]
    },
    {
     "data": {
      "application/vnd.jupyter.widget-view+json": {
       "model_id": "8303f91917164ae9976d3d3856b7ef82",
       "version_major": 2,
       "version_minor": 0
      },
      "text/plain": [
       "Epoch 143:   0%|          | 0/2850 [00:00<?, ?it/s]"
      ]
     },
     "metadata": {},
     "output_type": "display_data"
    },
    {
     "name": "stdout",
     "output_type": "stream",
     "text": [
      "Epoch 143 finished. Avg C Loss: 1.8305, Avg G Loss: -20.0202\n",
      "\n",
      "Epoch 144/162\n"
     ]
    },
    {
     "data": {
      "application/vnd.jupyter.widget-view+json": {
       "model_id": "98ddf90b07bd4a4d985df14d89794810",
       "version_major": 2,
       "version_minor": 0
      },
      "text/plain": [
       "Epoch 144:   0%|          | 0/2850 [00:00<?, ?it/s]"
      ]
     },
     "metadata": {},
     "output_type": "display_data"
    },
    {
     "name": "stdout",
     "output_type": "stream",
     "text": [
      "Epoch 144 finished. Avg C Loss: 1.5911, Avg G Loss: -20.2594\n",
      "\n",
      "Epoch 145/162\n"
     ]
    },
    {
     "data": {
      "application/vnd.jupyter.widget-view+json": {
       "model_id": "df276e010fc848b099583618fd0b2568",
       "version_major": 2,
       "version_minor": 0
      },
      "text/plain": [
       "Epoch 145:   0%|          | 0/2850 [00:00<?, ?it/s]"
      ]
     },
     "metadata": {},
     "output_type": "display_data"
    },
    {
     "name": "stdout",
     "output_type": "stream",
     "text": [
      "Epoch 145 finished. Avg C Loss: 1.1008, Avg G Loss: -20.5467\n",
      "Saved generator and critic weights for epoch 145\n",
      "\n",
      "Epoch 146/162\n"
     ]
    },
    {
     "data": {
      "application/vnd.jupyter.widget-view+json": {
       "model_id": "8686fcfc506c49e1bccef4d39087866a",
       "version_major": 2,
       "version_minor": 0
      },
      "text/plain": [
       "Epoch 146:   0%|          | 0/2850 [00:00<?, ?it/s]"
      ]
     },
     "metadata": {},
     "output_type": "display_data"
    },
    {
     "name": "stdout",
     "output_type": "stream",
     "text": [
      "Epoch 146 finished. Avg C Loss: 2.7798, Avg G Loss: -20.7019\n",
      "\n",
      "Epoch 147/162\n"
     ]
    },
    {
     "data": {
      "application/vnd.jupyter.widget-view+json": {
       "model_id": "7ff4bb832bd94babbbe1ab8954b8eca4",
       "version_major": 2,
       "version_minor": 0
      },
      "text/plain": [
       "Epoch 147:   0%|          | 0/2850 [00:00<?, ?it/s]"
      ]
     },
     "metadata": {},
     "output_type": "display_data"
    },
    {
     "name": "stdout",
     "output_type": "stream",
     "text": [
      "Epoch 147 finished. Avg C Loss: 3.7597, Avg G Loss: -20.6270\n",
      "\n",
      "Epoch 148/162\n"
     ]
    },
    {
     "data": {
      "application/vnd.jupyter.widget-view+json": {
       "model_id": "1d9ee5d5b862493a96bde1f9dc9c498b",
       "version_major": 2,
       "version_minor": 0
      },
      "text/plain": [
       "Epoch 148:   0%|          | 0/2850 [00:00<?, ?it/s]"
      ]
     },
     "metadata": {},
     "output_type": "display_data"
    },
    {
     "name": "stdout",
     "output_type": "stream",
     "text": [
      "Epoch 148 finished. Avg C Loss: 2.0790, Avg G Loss: -20.3373\n",
      "\n",
      "Epoch 149/162\n"
     ]
    },
    {
     "data": {
      "application/vnd.jupyter.widget-view+json": {
       "model_id": "10d32d9d8733469b92cf0cbfcf4aaac9",
       "version_major": 2,
       "version_minor": 0
      },
      "text/plain": [
       "Epoch 149:   0%|          | 0/2850 [00:00<?, ?it/s]"
      ]
     },
     "metadata": {},
     "output_type": "display_data"
    },
    {
     "name": "stdout",
     "output_type": "stream",
     "text": [
      "Epoch 149 finished. Avg C Loss: 1.2112, Avg G Loss: -20.6078\n",
      "\n",
      "Epoch 150/162\n"
     ]
    },
    {
     "data": {
      "application/vnd.jupyter.widget-view+json": {
       "model_id": "bb40e44357e04e6d9cecc478652b0fd4",
       "version_major": 2,
       "version_minor": 0
      },
      "text/plain": [
       "Epoch 150:   0%|          | 0/2850 [00:00<?, ?it/s]"
      ]
     },
     "metadata": {},
     "output_type": "display_data"
    },
    {
     "name": "stdout",
     "output_type": "stream",
     "text": [
      "Epoch 150 finished. Avg C Loss: 0.0397, Avg G Loss: -22.4196\n",
      "Saved generator and critic weights for epoch 150\n",
      "\n",
      "Epoch 151/162\n"
     ]
    },
    {
     "data": {
      "application/vnd.jupyter.widget-view+json": {
       "model_id": "ad89a92e2fc64cdabaef5a09ee837247",
       "version_major": 2,
       "version_minor": 0
      },
      "text/plain": [
       "Epoch 151:   0%|          | 0/2850 [00:00<?, ?it/s]"
      ]
     },
     "metadata": {},
     "output_type": "display_data"
    },
    {
     "name": "stdout",
     "output_type": "stream",
     "text": [
      "Epoch 151 finished. Avg C Loss: 0.8391, Avg G Loss: -23.4398\n",
      "\n",
      "Epoch 152/162\n"
     ]
    },
    {
     "data": {
      "application/vnd.jupyter.widget-view+json": {
       "model_id": "355a37f8dbdc4fcfa888f40f9de45de9",
       "version_major": 2,
       "version_minor": 0
      },
      "text/plain": [
       "Epoch 152:   0%|          | 0/2850 [00:00<?, ?it/s]"
      ]
     },
     "metadata": {},
     "output_type": "display_data"
    },
    {
     "name": "stdout",
     "output_type": "stream",
     "text": [
      "Epoch 152 finished. Avg C Loss: 1.2737, Avg G Loss: -23.2013\n",
      "\n",
      "Epoch 153/162\n"
     ]
    },
    {
     "data": {
      "application/vnd.jupyter.widget-view+json": {
       "model_id": "1ee4720e872749bd9896be6e5105a28f",
       "version_major": 2,
       "version_minor": 0
      },
      "text/plain": [
       "Epoch 153:   0%|          | 0/2850 [00:00<?, ?it/s]"
      ]
     },
     "metadata": {},
     "output_type": "display_data"
    },
    {
     "name": "stdout",
     "output_type": "stream",
     "text": [
      "Epoch 153 finished. Avg C Loss: 39.3812, Avg G Loss: -22.2380\n",
      "\n",
      "Epoch 154/162\n"
     ]
    },
    {
     "data": {
      "application/vnd.jupyter.widget-view+json": {
       "model_id": "27ff51b4fc274fb6bd63db628f16587c",
       "version_major": 2,
       "version_minor": 0
      },
      "text/plain": [
       "Epoch 154:   0%|          | 0/2850 [00:00<?, ?it/s]"
      ]
     },
     "metadata": {},
     "output_type": "display_data"
    },
    {
     "name": "stdout",
     "output_type": "stream",
     "text": [
      "Epoch 154 finished. Avg C Loss: 1.4537, Avg G Loss: -21.6654\n",
      "\n",
      "Epoch 155/162\n"
     ]
    },
    {
     "data": {
      "application/vnd.jupyter.widget-view+json": {
       "model_id": "d57066e6d3674e94996bc4ec3471c591",
       "version_major": 2,
       "version_minor": 0
      },
      "text/plain": [
       "Epoch 155:   0%|          | 0/2850 [00:00<?, ?it/s]"
      ]
     },
     "metadata": {},
     "output_type": "display_data"
    },
    {
     "name": "stdout",
     "output_type": "stream",
     "text": [
      "Epoch 155 finished. Avg C Loss: 2.4605, Avg G Loss: -20.5354\n",
      "Saved generator and critic weights for epoch 155\n",
      "\n",
      "Epoch 156/162\n"
     ]
    },
    {
     "data": {
      "application/vnd.jupyter.widget-view+json": {
       "model_id": "7d1bf68e7fdd4b7dbb2e2627f081a9c4",
       "version_major": 2,
       "version_minor": 0
      },
      "text/plain": [
       "Epoch 156:   0%|          | 0/2850 [00:00<?, ?it/s]"
      ]
     },
     "metadata": {},
     "output_type": "display_data"
    },
    {
     "name": "stdout",
     "output_type": "stream",
     "text": [
      "Epoch 156 finished. Avg C Loss: 2.5509, Avg G Loss: -18.9176\n",
      "\n",
      "Epoch 157/162\n"
     ]
    },
    {
     "data": {
      "application/vnd.jupyter.widget-view+json": {
       "model_id": "b6889d2a54ca415993f6f762f28f345e",
       "version_major": 2,
       "version_minor": 0
      },
      "text/plain": [
       "Epoch 157:   0%|          | 0/2850 [00:00<?, ?it/s]"
      ]
     },
     "metadata": {},
     "output_type": "display_data"
    },
    {
     "name": "stdout",
     "output_type": "stream",
     "text": [
      "Epoch 157 finished. Avg C Loss: 0.2602, Avg G Loss: -19.3536\n",
      "\n",
      "Epoch 158/162\n"
     ]
    },
    {
     "data": {
      "application/vnd.jupyter.widget-view+json": {
       "model_id": "ab03d6316ffc473b98beffb304bbf95e",
       "version_major": 2,
       "version_minor": 0
      },
      "text/plain": [
       "Epoch 158:   0%|          | 0/2850 [00:00<?, ?it/s]"
      ]
     },
     "metadata": {},
     "output_type": "display_data"
    },
    {
     "name": "stdout",
     "output_type": "stream",
     "text": [
      "Epoch 158 finished. Avg C Loss: 0.6959, Avg G Loss: -19.8647\n",
      "\n",
      "Epoch 159/162\n"
     ]
    },
    {
     "data": {
      "application/vnd.jupyter.widget-view+json": {
       "model_id": "060c2480d96f4dfd88bdd7a17eb5ffb9",
       "version_major": 2,
       "version_minor": 0
      },
      "text/plain": [
       "Epoch 159:   0%|          | 0/2850 [00:00<?, ?it/s]"
      ]
     },
     "metadata": {},
     "output_type": "display_data"
    },
    {
     "name": "stdout",
     "output_type": "stream",
     "text": [
      "Epoch 159 finished. Avg C Loss: 2.8680, Avg G Loss: -20.3511\n",
      "\n",
      "Epoch 160/162\n"
     ]
    },
    {
     "data": {
      "application/vnd.jupyter.widget-view+json": {
       "model_id": "6f0e9859f98e400a98c013c51d1d51e3",
       "version_major": 2,
       "version_minor": 0
      },
      "text/plain": [
       "Epoch 160:   0%|          | 0/2850 [00:00<?, ?it/s]"
      ]
     },
     "metadata": {},
     "output_type": "display_data"
    },
    {
     "name": "stdout",
     "output_type": "stream",
     "text": [
      "Epoch 160 finished. Avg C Loss: 7.3169, Avg G Loss: -19.4842\n",
      "Saved generator and critic weights for epoch 160\n",
      "\n",
      "Epoch 161/162\n"
     ]
    },
    {
     "data": {
      "application/vnd.jupyter.widget-view+json": {
       "model_id": "2d502eb83a074915986b3208b8b569d8",
       "version_major": 2,
       "version_minor": 0
      },
      "text/plain": [
       "Epoch 161:   0%|          | 0/2850 [00:00<?, ?it/s]"
      ]
     },
     "metadata": {},
     "output_type": "display_data"
    },
    {
     "name": "stdout",
     "output_type": "stream",
     "text": [
      "Epoch 161 finished. Avg C Loss: 0.0420, Avg G Loss: -18.1402\n",
      "\n",
      "Epoch 162/162\n"
     ]
    },
    {
     "data": {
      "application/vnd.jupyter.widget-view+json": {
       "model_id": "dfcfd4904c3748e7bae116915d789bbd",
       "version_major": 2,
       "version_minor": 0
      },
      "text/plain": [
       "Epoch 162:   0%|          | 0/2850 [00:00<?, ?it/s]"
      ]
     },
     "metadata": {},
     "output_type": "display_data"
    },
    {
     "name": "stdout",
     "output_type": "stream",
     "text": [
      "Epoch 162 finished. Avg C Loss: 0.3145, Avg G Loss: -19.0865\n",
      "Saved generator and critic weights for epoch 162\n",
      "\n",
      "Continued WGAN-GP training finished at epoch 162.\n"
     ]
    },
    {
     "data": {
      "image/png": "[encoded data removed]",
      "text/plain": [
       "<Figure size 1000x500 with 1 Axes>"
      ]
     },
     "metadata": {},
     "output_type": "display_data"
    },
    {
     "name": "stdout",
     "output_type": "stream",
     "text": [
      "Updated 'critic' and 'generator' variables with weights from continued training.\n"
     ]
    }
   ],
   "source": [
    "# Cell 12.5: Continue WGAN-GP Training from Epoch 70 to 85 (loading weights - Build Fix Attempt 2)\n",
    "\n",
    "import tensorflow as tf\n",
    "import numpy as np\n",
    "import os\n",
    "from tqdm.notebook import tqdm\n",
    "import matplotlib.pyplot as plt\n",
    "import logging # Use logging setup from Cell 1\n",
    "# import fnmatch # Ensure fnmatch is imported if used later\n",
    "\n",
    "print(\"\\n--- Continuing WGAN-GP Training (Loading Weights) ---\")\n",
    "\n",
    "# --- Configuration ---\n",
    "load_epoch = 130\n",
    "start_epoch = load_epoch + 1\n",
    "end_epoch = 162\n",
    "continue_epochs = end_epoch - load_epoch\n",
    "\n",
    "# Parameters (should match Cell 11/12 setup)\n",
    "# Ensure these are correctly defined from previous cells:\n",
    "# latent_dim, train_data_path, gan_batch_size, gp_weight, n_critic\n",
    "# mel_spectrogram_shape (needed to recreate models)\n",
    "# Learning rates from Cell 11 (use the ones you found most stable)\n",
    "cont_critic_lr = 1e-5  # Example: Use the potentially lowered LR\n",
    "cont_gen_lr = 1e-5     # Example: Use the potentially lowered LR\n",
    "\n",
    "# --- Corrected File Paths for .weights.h5 ---\n",
    "generator_weights_load_path = f'generator_wgan_sa_epoch_{load_epoch}.weights.h5'\n",
    "critic_weights_load_path = f'critic_wgan_sa_epoch_{load_epoch}.weights.h5'\n",
    "\n",
    "# --- Ensure Model Creation Functions and SelfAttention Class are Defined ---\n",
    "# Make sure Cell 7 (SelfAttention), Cell 8 (create_generator), Cell 9 (create_critic)\n",
    "# definitions were executed earlier in the notebook.\n",
    "if 'SelfAttention' not in locals(): raise NameError(\"SelfAttention class definition not found. Ensure Cell 7 was executed.\")\n",
    "if 'create_generator' not in locals(): raise NameError(\"create_generator function definition not found. Ensure Cell 8 was executed.\")\n",
    "if 'create_critic' not in locals(): raise NameError(\"create_critic function definition not found. Ensure Cell 9 was executed.\")\n",
    "if 'mel_spectrogram_shape' not in locals(): raise NameError(\"mel_spectrogram_shape variable not found. Ensure Cell 11 was executed.\")\n",
    "if 'N_MELS' not in locals() or 'TARGET_FRAMES' not in locals(): raise NameError(\"N_MELS or TARGET_FRAMES not defined. Ensure Cell 11 was executed.\")\n",
    "if 'latent_dim' not in locals(): raise NameError(\"latent_dim not defined. Ensure Cell 11 was executed.\")\n",
    "\n",
    "\n",
    "# --- Recreate Model Structures ---\n",
    "print(\"Recreating model structures...\")\n",
    "generator_cont = create_generator(latent_dim, mel_spectrogram_shape)\n",
    "critic_cont = create_critic(mel_spectrogram_shape)\n",
    "print(\"Model structures recreated.\")\n",
    "\n",
    "# ---> BUILD MODELS VIA DUMMY FORWARD PASS <---\n",
    "print(\"Building models via dummy forward pass...\")\n",
    "# Create dummy input tensors with batch size 1\n",
    "dummy_critic_input = tf.zeros((1, N_MELS, TARGET_FRAMES, 1), dtype=tf.float32)\n",
    "dummy_generator_input = tf.zeros((1, latent_dim), dtype=tf.float32)\n",
    "\n",
    "try:\n",
    "    # Call the models with the dummy inputs\n",
    "    _ = critic_cont(dummy_critic_input, training=False) # training=False might be safer here\n",
    "    _ = generator_cont(dummy_generator_input, training=False)\n",
    "    print(\"Models built successfully via dummy pass.\")\n",
    "    # You can optionally print summary again to confirm layers are built\n",
    "    # print(\"Critic Summary after build:\")\n",
    "    # critic_cont.summary()\n",
    "except Exception as e:\n",
    "    raise RuntimeError(f\"Error building models via dummy pass: {e}\")\n",
    "\n",
    "\n",
    "# --- Load Weights ---\n",
    "# Load generator weights (optional, if file exists)\n",
    "# ... (loading logic remains the same as before) ...\n",
    "if os.path.exists(generator_weights_load_path):\n",
    "    print(f\"Loading generator weights from: {generator_weights_load_path}\")\n",
    "    try:\n",
    "        generator_cont.load_weights(generator_weights_load_path)\n",
    "        print(\"Generator weights loaded successfully.\")\n",
    "    except Exception as e:\n",
    "        print(f\"Warning: Error loading generator weights: {e}. Generator starts with initial weights.\")\n",
    "else:\n",
    "    print(f\"Generator weights file not found: {generator_weights_load_path}. Generator starts with initial weights.\")\n",
    "\n",
    "# Load critic weights (Mandatory)\n",
    "if not os.path.exists(critic_weights_load_path):\n",
    "    raise FileNotFoundError(f\"Critic weights file not found: {critic_weights_load_path}\")\n",
    "\n",
    "print(f\"Loading critic weights from: {critic_weights_load_path}\")\n",
    "try:\n",
    "    critic_cont.load_weights(critic_weights_load_path) # Now this *really* should work\n",
    "    print(\"Critic weights loaded successfully.\")\n",
    "except Exception as e:\n",
    "    raise RuntimeError(f\"Error loading critic weights after build: {e}\")\n",
    "\n",
    "\n",
    "# --- Define Optimizers (Redefine for clarity/safety) ---\n",
    "# ... (optimizer definitions remain the same) ...\n",
    "critic_optimizer_cont = tf.keras.optimizers.Adam(learning_rate=cont_critic_lr, beta_1=0.5, beta_2=0.9)\n",
    "generator_optimizer_cont = tf.keras.optimizers.Adam(learning_rate=cont_gen_lr, beta_1=0.5, beta_2=0.9)\n",
    "print(\"Optimizers redefined.\")\n",
    "\n",
    "# --- Redefine Training Functions (to use loaded models/optimizers) ---\n",
    "# ... (training function definitions remain the same) ...\n",
    "def critic_loss_cont(real_output, fake_output):\n",
    "    real_output = tf.cast(real_output, tf.float32); fake_output = tf.cast(fake_output, tf.float32)\n",
    "    return tf.reduce_mean(fake_output) - tf.reduce_mean(real_output)\n",
    "def generator_loss_cont(fake_output):\n",
    "    fake_output = tf.cast(fake_output, tf.float32)\n",
    "    return -tf.reduce_mean(fake_output)\n",
    "def gradient_penalty_cont(batch_size, real_images, fake_images):\n",
    "    if real_images.dtype != fake_images.dtype: real_images = tf.cast(real_images, fake_images.dtype)\n",
    "    alpha_shape = [tf.shape(real_images)[0]] + [1] * (len(real_images.shape) - 1)\n",
    "    alpha = tf.random.uniform(shape=alpha_shape, minval=0., maxval=1., dtype=real_images.dtype)\n",
    "    interpolated = real_images + alpha * (fake_images - real_images)\n",
    "    with tf.GradientTape() as gp_tape:\n",
    "        gp_tape.watch(interpolated); pred = critic_cont(interpolated, training=True); pred = tf.cast(pred, tf.float32)\n",
    "    grads = gp_tape.gradient(pred, [interpolated])\n",
    "    if grads is None or grads[0] is None: logging.warning(\"Gradients are None in gradient_penalty_cont.\"); return tf.constant(0.0, dtype=tf.float32)\n",
    "    grads = grads[0]; grads = tf.cast(grads, tf.float32)\n",
    "    norm = tf.sqrt(tf.reduce_sum(tf.square(grads), axis=tf.range(1, tf.rank(grads)))); gp = tf.reduce_mean((norm - 1.0) ** 2)\n",
    "    return gp * gp_weight\n",
    "@tf.function\n",
    "def train_step_cont(real_images):\n",
    "    current_batch_size = tf.shape(real_images)[0]; noise = tf.random.normal([current_batch_size, latent_dim]); total_crit_loss = tf.constant(0.0, dtype=tf.float32)\n",
    "    for _ in tf.range(n_critic):\n",
    "        with tf.GradientTape() as crit_tape:\n",
    "            fake_images = generator_cont(noise, training=True); real_output = critic_cont(real_images, training=True); fake_output = critic_cont(fake_images, training=True)\n",
    "            crit_loss = critic_loss_cont(real_output, fake_output); gp = gradient_penalty_cont(current_batch_size, real_images, fake_images); total_crit_loss = crit_loss + gp\n",
    "        crit_gradients = crit_tape.gradient(total_crit_loss, critic_cont.trainable_variables); valid_grads_and_vars = [(g, v) for g, v in zip(crit_gradients, critic_cont.trainable_variables) if g is not None]\n",
    "        if len(valid_grads_and_vars) < len(critic_cont.trainable_variables): tf.print(\"Warning: Some critic gradients are None in cont step.\")\n",
    "        if len(valid_grads_and_vars) > 0: critic_optimizer_cont.apply_gradients(valid_grads_and_vars)\n",
    "    with tf.GradientTape() as gen_tape:\n",
    "        fake_images_gen = generator_cont(noise, training=True); fake_output_gen = critic_cont(fake_images_gen, training=True); gen_loss = generator_loss_cont(fake_output_gen)\n",
    "    gen_gradients = gen_tape.gradient(gen_loss, generator_cont.trainable_variables); valid_grads_and_vars_gen = [(g, v) for g, v in zip(gen_gradients, generator_cont.trainable_variables) if g is not None]\n",
    "    if len(valid_grads_and_vars_gen) < len(generator_cont.trainable_variables): tf.print(\"Warning: Some generator gradients are None in cont step.\")\n",
    "    if len(valid_grads_and_vars_gen) > 0: generator_optimizer_cont.apply_gradients(valid_grads_and_vars_gen)\n",
    "    return total_crit_loss, gen_loss\n",
    "\n",
    "\n",
    "# --- Data Generator ---\n",
    "# ... (generator initialization and step calculation remain the same) ...\n",
    "print(\"Initializing data generator for continued training...\")\n",
    "train_gen_gan_cont = data_generator_gan(train_data_path, batch_size=gan_batch_size)\n",
    "if train_gen_gan_cont is None: raise RuntimeError(\"Failed to initialize GAN data generator.\")\n",
    "# Use function from Cell 13 or define count_total_files here if needed\n",
    "# This counts both real and fake, data_generator_gan only uses fake\n",
    "# We need the count of fake files only for the GAN generator steps\n",
    "fake_files_count_cont = 0\n",
    "try:\n",
    "    fake_dir_cont = os.path.join(train_data_path, 'fake')\n",
    "    if os.path.exists(fake_dir_cont):\n",
    "        fake_files_count_cont = len([f for f in os.listdir(fake_dir_cont) if f.endswith('.wav')])\n",
    "except Exception as e:\n",
    "     print(f\"Error counting fake files for continued training: {e}\")\n",
    "\n",
    "if gan_batch_size <= 0: raise ValueError(\"GAN Batch size must be positive.\")\n",
    "if fake_files_count_cont == 0: raise ValueError(\"No fake training files found for GAN.\")\n",
    "gan_steps_per_epoch_cont = int(np.ceil(fake_files_count_cont / float(gan_batch_size))) # Corrected count source\n",
    "print(f\"Using {gan_steps_per_epoch_cont} GAN steps per epoch for continued training.\") # Corrected count source\n",
    "\n",
    "\n",
    "# --- Continue Training Loop ---\n",
    "# ... (training loop remains the same) ...\n",
    "print(f\"\\nContinuing WGAN-GP training from epoch {start_epoch} to {end_epoch}...\")\n",
    "cont_c_loss_history = []; cont_g_loss_history = []\n",
    "if train_gen_gan_cont is None or gan_steps_per_epoch_cont == 0:\n",
    "    print(\"Skipping continued WGAN-GP training: Generator not initialized or no steps per epoch.\")\n",
    "else:\n",
    "    for epoch in range(start_epoch, end_epoch + 1): # Loop from 71 to 85\n",
    "        print(f\"\\nEpoch {epoch}/{end_epoch}\")\n",
    "        epoch_pbar_cont = tqdm(range(gan_steps_per_epoch_cont), desc=f\"Epoch {epoch}\")\n",
    "        epoch_c_loss = 0.0; epoch_g_loss = 0.0; batches_processed = 0\n",
    "        for batch_idx in epoch_pbar_cont:\n",
    "            try:\n",
    "                real_spoof_samples_np = next(train_gen_gan_cont); real_spoof_samples = tf.convert_to_tensor(real_spoof_samples_np, dtype=tf.float32)\n",
    "                if tf.shape(real_spoof_samples)[0] == 0: print(f\"Warning: Skipped empty batch at step {batch_idx} (cont)\"); continue\n",
    "                c_loss, g_loss = train_step_cont(real_spoof_samples)\n",
    "                epoch_c_loss += c_loss.numpy(); epoch_g_loss += g_loss.numpy(); batches_processed += 1\n",
    "                epoch_pbar_cont.set_postfix({\"C Loss\": f\"{c_loss.numpy():.4f}\", \"G Loss\": f\"{g_loss.numpy():.4f}\"})\n",
    "            except StopIteration: print(f\"\\nGAN Generator exhausted prematurely at batch {batch_idx} (cont). Re-initializing.\"); train_gen_gan_cont = data_generator_gan(train_data_path, batch_size=gan_batch_size); break\n",
    "            except Exception as e: logging.error(f\"Error during continued WGAN training epoch {epoch}, batch {batch_idx}: {e}\", exc_info=True); print(f\"\\nError during continued WGAN training epoch {epoch}, batch {batch_idx}: {e}\"); continue\n",
    "        if batches_processed > 0: avg_c_loss = epoch_c_loss / batches_processed; avg_g_loss = epoch_g_loss / batches_processed; cont_c_loss_history.append(avg_c_loss); cont_g_loss_history.append(avg_g_loss); print(f\"Epoch {epoch} finished. Avg C Loss: {avg_c_loss:.4f}, Avg G Loss: {avg_g_loss:.4f}\")\n",
    "        else: print(f\"Epoch {epoch} finished. No batches processed.\"); cont_c_loss_history.append(np.nan); cont_g_loss_history.append(np.nan)\n",
    "        if (epoch % 5 == 0) or (epoch == end_epoch):\n",
    "             try: generator_cont.save_weights(f'generator_wgan_sa_epoch_{epoch}.weights.h5'); critic_cont.save_weights(f'critic_wgan_sa_epoch_{epoch}.weights.h5'); print(f\"Saved generator and critic weights for epoch {epoch}\")\n",
    "             except Exception as e: print(f\"Error saving weights at epoch {epoch} (cont): {e}\")\n",
    "    print(f\"\\nContinued WGAN-GP training finished at epoch {end_epoch}.\")\n",
    "    plt.figure(figsize=(10, 5)); epoch_range = range(start_epoch, start_epoch + len(cont_c_loss_history)); plt.plot(epoch_range, cont_c_loss_history, label='Avg Critic Loss (Continuation)'); plt.plot(epoch_range, cont_g_loss_history, label='Avg Generator Loss (Continuation)'); plt.title(f'WGAN-GP Continued Training Losses (Epochs {start_epoch}-{end_epoch})'); plt.xlabel('Epoch'); plt.ylabel('Average Loss'); plt.xticks(list(epoch_range)); plt.legend(); plt.grid(True); plt.savefig(os.path.join(FIGURES_DIR, f'gan_loss_cont_{start_epoch}_to_{end_epoch}.png')); plt.show()\n",
    "    critic = critic_cont; generator = generator_cont\n",
    "    print(\"Updated 'critic' and 'generator' variables with weights from continued training.\")"
   ]
  },
  {
   "cell_type": "code",
   "execution_count": null,
   "metadata": {},
   "outputs": [
    {
     "ename": "NameError",
     "evalue": "count_total_files function is not defined. Ensure Cell 6 (or equivalent) was executed.",
     "output_type": "error",
     "traceback": [
      "\u001b[31m---------------------------------------------------------------------------\u001b[39m",
      "\u001b[31mNameError\u001b[39m                                 Traceback (most recent call last)",
      "\u001b[36mCell\u001b[39m\u001b[36m \u001b[39m\u001b[32mIn[13]\u001b[39m\u001b[32m, line 70\u001b[39m\n\u001b[32m     65\u001b[39m \u001b[38;5;66;03m# --- END OF PlotTrainingHistory CLASS DEFINITION ---\u001b[39;00m\n\u001b[32m     66\u001b[39m \n\u001b[32m     67\u001b[39m \n\u001b[32m     68\u001b[39m \u001b[38;5;66;03m# --- Ensure count_total_files function is defined (must run Cell 6 first) ---\u001b[39;00m\n\u001b[32m     69\u001b[39m \u001b[38;5;28;01mif\u001b[39;00m \u001b[33m'\u001b[39m\u001b[33mcount_total_files\u001b[39m\u001b[33m'\u001b[39m \u001b[38;5;129;01mnot\u001b[39;00m \u001b[38;5;129;01min\u001b[39;00m \u001b[38;5;28mlocals\u001b[39m():\n\u001b[32m---> \u001b[39m\u001b[32m70\u001b[39m     \u001b[38;5;28;01mraise\u001b[39;00m \u001b[38;5;167;01mNameError\u001b[39;00m(\u001b[33m\"\u001b[39m\u001b[33mcount_total_files function is not defined. Ensure Cell 6 (or equivalent) was executed.\u001b[39m\u001b[33m\"\u001b[39m)\n\u001b[32m     71\u001b[39m \u001b[38;5;28;01mif\u001b[39;00m \u001b[33m'\u001b[39m\u001b[33mdata_generator_classifier\u001b[39m\u001b[33m'\u001b[39m \u001b[38;5;129;01mnot\u001b[39;00m \u001b[38;5;129;01min\u001b[39;00m \u001b[38;5;28mlocals\u001b[39m():\n\u001b[32m     72\u001b[39m      \u001b[38;5;28;01mraise\u001b[39;00m \u001b[38;5;167;01mNameError\u001b[39;00m(\u001b[33m\"\u001b[39m\u001b[33mdata_generator_classifier function is not defined. Ensure Cell 6 (or equivalent) was executed.\u001b[39m\u001b[33m\"\u001b[39m)\n",
      "\u001b[31mNameError\u001b[39m: count_total_files function is not defined. Ensure Cell 6 (or equivalent) was executed."
     ]
    }
   ],
   "source": [
    "# Cell 13: Train Standalone Classifier (using saved Critic Checkpoint)\n",
    "\n",
    "# Required Imports (ensure they are loaded from Cell 1 or here)\n",
    "import tensorflow as tf\n",
    "import numpy as np\n",
    "import os\n",
    "import fnmatch # Needed for finding checkpoint\n",
    "import matplotlib.pyplot as plt # Needed for PlotTrainingHistory\n",
    "from tensorflow.keras.callbacks import Callback, ReduceLROnPlateau, EarlyStopping, ModelCheckpoint # Needed Callbacks\n",
    "from tensorflow.keras.models import Sequential # Needed for building detector\n",
    "from tensorflow.keras.layers import Dense # Needed for building detector\n",
    "from tensorflow.keras.optimizers import Adam # Needed for compiling\n",
    "\n",
    "# --- ADD PlotTrainingHistory CLASS DEFINITION HERE ---\n",
    "# Create a custom callback to save training history plots after each epoch\n",
    "class PlotTrainingHistory(Callback):\n",
    "    def __init__(self, model_name='model'):\n",
    "        super().__init__()\n",
    "        self.model_name = model_name\n",
    "        self.acc = []\n",
    "        self.val_acc = []\n",
    "        self.loss = []\n",
    "        self.val_loss = []\n",
    "        self.auc = [] # Added to track AUC\n",
    "        self.val_auc = [] # Added to track validation AUC\n",
    "\n",
    "    def on_epoch_end(self, epoch, logs=None):\n",
    "        logs = logs or {}\n",
    "        self.loss.append(logs.get('loss'))\n",
    "        self.val_loss.append(logs.get('val_loss'))\n",
    "        self.acc.append(logs.get('accuracy'))\n",
    "        self.val_acc.append(logs.get('val_accuracy'))\n",
    "        self.auc.append(logs.get('auc')) # Get AUC\n",
    "        self.val_auc.append(logs.get('val_auc')) # Get val_AUC\n",
    "\n",
    "        # Plot training history\n",
    "        plt.figure(figsize=(18, 5))\n",
    "\n",
    "        # Accuracy Plot\n",
    "        plt.subplot(1, 3, 1)\n",
    "        if any(v is not None for v in self.acc): plt.plot(self.acc, label='Training Accuracy')\n",
    "        if any(v is not None for v in self.val_acc): plt.plot(self.val_acc, label='Validation Accuracy')\n",
    "        plt.title('Model Accuracy'); plt.xlabel('Epoch'); plt.ylabel('Accuracy')\n",
    "        if any(v is not None for v in self.acc) or any(v is not None for v in self.val_acc): plt.legend()\n",
    "\n",
    "        # Loss Plot\n",
    "        plt.subplot(1, 3, 2)\n",
    "        if any(v is not None for v in self.loss): plt.plot(self.loss, label='Training Loss')\n",
    "        if any(v is not None for v in self.val_loss): plt.plot(self.val_loss, label='Validation Loss')\n",
    "        plt.title('Model Loss'); plt.xlabel('Epoch'); plt.ylabel('Loss')\n",
    "        if any(v is not None for v in self.loss) or any(v is not None for v in self.val_loss): plt.legend()\n",
    "\n",
    "        # AUC Plot\n",
    "        plt.subplot(1, 3, 3)\n",
    "        if any(v is not None for v in self.auc): plt.plot(self.auc, label='Training AUC')\n",
    "        if any(v is not None for v in self.val_auc): plt.plot(self.val_auc, label='Validation AUC')\n",
    "        plt.title('Model AUC'); plt.xlabel('Epoch'); plt.ylabel('AUC')\n",
    "        if any(v is not None for v in self.auc) or any(v is not None for v in self.val_auc): plt.legend()\n",
    "\n",
    "        plt.tight_layout()\n",
    "        filepath = os.path.join(FIGURES_DIR, f'{self.model_name}_epoch_{epoch+1}.png')\n",
    "        try: plt.savefig(filepath); plt.close()\n",
    "             #print(f'\\nTraining history plot saved to {filepath}') # Less verbose output\n",
    "        except Exception as e: print(f\"\\nError saving plot to {filepath}: {e}\"); plt.close()\n",
    "# --- END OF PlotTrainingHistory CLASS DEFINITION ---\n",
    "\n",
    "\n",
    "# --- Ensure count_total_files function is defined (must run Cell 6 first) ---\n",
    "if 'count_total_files' not in locals():\n",
    "    raise NameError(\"count_total_files function is not defined. Ensure Cell 6 (or equivalent) was executed.\")\n",
    "if 'data_generator_classifier' not in locals():\n",
    "     raise NameError(\"data_generator_classifier function is not defined. Ensure Cell 6 (or equivalent) was executed.\")\n",
    "\n",
    "\n",
    "print(\"\\nSetting up Standalone Classifier training...\")\n",
    "\n",
    "# --- Get Parameters (ensure Cell 11 was run or define them here) ---\n",
    "# Required: classifier_batch_size, train_data_path, dev_data_path,\n",
    "#           mel_spectrogram_shape, N_MELS, TARGET_FRAMES, FIGURES_DIR\n",
    "# Example defaults if not run from Cell 11:\n",
    "if 'classifier_batch_size' not in locals(): classifier_batch_size = 8\n",
    "if 'train_data_path' not in locals(): train_data_path = 'datasetNEW/train'\n",
    "if 'dev_data_path' not in locals(): dev_data_path = 'datasetNEW/dev'\n",
    "if 'N_MELS' not in locals(): N_MELS = 80\n",
    "if 'TARGET_FRAMES' not in locals(): TARGET_FRAMES = 126\n",
    "if 'mel_spectrogram_shape' not in locals(): mel_spectrogram_shape = (N_MELS, TARGET_FRAMES)\n",
    "if 'FIGURES_DIR' not in locals(): FIGURES_DIR = 'training_figures_wgan_sa'; os.makedirs(FIGURES_DIR, exist_ok=True)\n",
    "if 'classifier_epochs' not in locals(): classifier_epochs = 50 # Define epochs for this training\n",
    "\n",
    "# --- Create Data Generators for Classifier ---\n",
    "train_gen_clf = data_generator_classifier(train_data_path, batch_size=classifier_batch_size)\n",
    "dev_gen_clf = data_generator_classifier(dev_data_path, batch_size=classifier_batch_size, shuffle=False)\n",
    "\n",
    "# --- Calculate steps for Classifier Training ---\n",
    "train_samples_count = count_total_files(train_data_path)\n",
    "dev_samples_count = count_total_files(dev_data_path)\n",
    "if classifier_batch_size <= 0: raise ValueError(\"Classifier batch size must be positive.\")\n",
    "clf_steps_per_epoch = int(np.ceil(train_samples_count / float(classifier_batch_size))) if train_samples_count > 0 else 0\n",
    "clf_validation_steps = int(np.ceil(dev_samples_count / float(classifier_batch_size))) if dev_samples_count > 0 else 0\n",
    "print(f\"Classifier Train Steps/Epoch: {clf_steps_per_epoch}, Validation Steps: {clf_validation_steps}\")\n",
    "\n",
    "\n",
    "# --- Build the Spoof Detector Model FROM SAVED CRITIC WEIGHTS ---\n",
    "# Ensure create_critic and SelfAttention are defined (must run Cell 9 and Cell 7)\n",
    "if 'create_critic' not in locals(): raise NameError(\"create_critic function not found.\")\n",
    "if 'SelfAttention' not in locals(): raise NameError(\"SelfAttention class definition not found.\")\n",
    "\n",
    "# Find latest *trained* critic weights\n",
    "critic_model_pattern = 'critic_wgan_sa_epoch_*.weights.h5'\n",
    "list_of_critic_files = [f for f in os.listdir('.') if fnmatch.fnmatch(f, critic_model_pattern)]\n",
    "latest_critic_weights_file = None\n",
    "latest_epoch_num = -1\n",
    "if list_of_critic_files:\n",
    "     try: # Find the highest epoch number\n",
    "          epochs_found = [int(f.split('_')[-1].split('.')[0]) for f in list_of_critic_files]\n",
    "          latest_epoch_num = max(epochs_found)\n",
    "          latest_critic_weights_file = f'critic_wgan_sa_epoch_{latest_epoch_num}.weights.h5'\n",
    "          print(f\"Found latest critic weights file from epoch {latest_epoch_num}: {latest_critic_weights_file}\")\n",
    "     except (ValueError, IndexError):\n",
    "          print(\"Could not parse epoch numbers from critic weight files. Searching by time.\")\n",
    "          # Fallback: find the most recently modified file matching the pattern\n",
    "          try:\n",
    "              latest_critic_weights_file = max(list_of_critic_files, key=os.path.getmtime)\n",
    "              print(f\"Found most recent critic weights file by time: {latest_critic_weights_file}\")\n",
    "          except ValueError:\n",
    "               print(\"No critic weight files found.\")\n",
    "\n",
    "# Recreate critic structure\n",
    "print(\"Recreating base critic structure...\")\n",
    "critic_base = create_critic(mel_spectrogram_shape)\n",
    "\n",
    "# Build via dummy pass\n",
    "print(\"Building critic structure...\")\n",
    "dummy_critic_input = tf.zeros((1, N_MELS, TARGET_FRAMES, 1), dtype=tf.float32)\n",
    "try:\n",
    "    _ = critic_base(dummy_critic_input, training=False)\n",
    "    print(\"Critic structure built.\")\n",
    "except Exception as e:\n",
    "    raise RuntimeError(f\"Error building critic structure: {e}\")\n",
    "\n",
    "# Load weights if found\n",
    "if latest_critic_weights_file and os.path.exists(latest_critic_weights_file):\n",
    "    print(f\"Loading critic weights from: {latest_critic_weights_file}\")\n",
    "    try:\n",
    "        critic_base.load_weights(latest_critic_weights_file)\n",
    "        print(\"Critic weights loaded successfully.\")\n",
    "    except Exception as e:\n",
    "         print(f\"ERROR loading weights into critic_base: {e}. Classifier training will start from scratch.\")\n",
    "         # Decide if you want to raise an error or just train from scratch\n",
    "         # raise RuntimeError(\"Failed to load crucial weights!\")\n",
    "else:\n",
    "    print(\"No pre-trained critic weights found. Classifier training will start from scratch.\")\n",
    "\n",
    "# --- Create the final classifier ---\n",
    "critic_base.trainable = True # Ensure fine-tuning is possible\n",
    "\n",
    "spoof_detector = Sequential(name='spoof_detector')\n",
    "for layer in critic_base.layers[:-1]: # Copy layers except final Dense(1)\n",
    "    spoof_detector.add(layer)\n",
    "spoof_detector.add(Dense(1, activation='sigmoid', name='classifier_output'))\n",
    "\n",
    "# Build the spoof_detector model\n",
    "spoof_detector_input_shape = (None,) + critic_base.input_shape[1:]\n",
    "spoof_detector.build(input_shape=spoof_detector_input_shape)\n",
    "\n",
    "print(\"\\n--- Spoof Detector (Classifier) Summary ---\")\n",
    "spoof_detector.summary()\n",
    "\n",
    "# --- Callbacks for Classifier Training ---\n",
    "reduce_lr = ReduceLROnPlateau(monitor='val_auc', mode='max', factor=0.3, patience=4, min_lr=1e-7, verbose=1)\n",
    "early_stopping = EarlyStopping(monitor='val_auc', mode='max', patience=10, restore_best_weights=True, verbose=1)\n",
    "\n",
    "checkpoint_dir_clf = './training_checkpoints_spoof_detector_wgan_sa'\n",
    "os.makedirs(checkpoint_dir_clf, exist_ok=True)\n",
    "checkpoint_prefix_clf = os.path.join(checkpoint_dir_clf, \"clf_ep{epoch:02d}-auc{val_auc:.4f}.weights.h5\")\n",
    "\n",
    "checkpoint_callback_clf = ModelCheckpoint(\n",
    "    filepath=checkpoint_prefix_clf,\n",
    "    save_weights_only=True,\n",
    "    monitor='val_auc',\n",
    "    mode='max',\n",
    "    save_best_only=True,\n",
    "    verbose=1\n",
    ")\n",
    "\n",
    "# Plotting callback (Class definition is now at the top of this cell)\n",
    "# The check 'if PlotTrainingHistory not in locals()' should no longer be needed here\n",
    "plot_training_callback = PlotTrainingHistory(model_name='spoof_detector_wgan_sa')\n",
    "\n",
    "\n",
    "# --- Compile and Train the Classifier ---\n",
    "classifier_optimizer = Adam(learning_rate=1e-5) # Start with low LR for fine-tuning\n",
    "spoof_detector.compile(\n",
    "    optimizer=classifier_optimizer,\n",
    "    loss='binary_crossentropy',\n",
    "    metrics=['accuracy', tf.keras.metrics.AUC(name='auc')]\n",
    ")\n",
    "\n",
    "print(\"\\nStarting Standalone Classifier training...\")\n",
    "\n",
    "if clf_steps_per_epoch > 0 and clf_validation_steps > 0 and train_gen_clf is not None and dev_gen_clf is not None:\n",
    "    history = spoof_detector.fit(\n",
    "        train_gen_clf,\n",
    "        steps_per_epoch=clf_steps_per_epoch,\n",
    "        epochs=classifier_epochs, # Use classifier_epochs defined earlier\n",
    "        validation_data=dev_gen_clf,\n",
    "        validation_steps=clf_validation_steps,\n",
    "        callbacks=[reduce_lr, early_stopping, checkpoint_callback_clf, plot_training_callback],\n",
    "    )\n",
    "\n",
    "    # --- Save the final state (best weights should be restored) ---\n",
    "    print(\"\\nSaving final classifier model (best weights should be restored)...\")\n",
    "    try:\n",
    "        custom_objects = {'SelfAttention': SelfAttention}\n",
    "        spoof_detector.save('spoof_detector_best_val_auc_wgan_sa.keras', custom_objects=custom_objects)\n",
    "        print(\"Saved final classifier model as spoof_detector_best_val_auc_wgan_sa.keras\")\n",
    "    except Exception as e:\n",
    "        print(f\"\\nError saving final classifier model: {e}. Saving weights only.\")\n",
    "        spoof_detector.save_weights('spoof_detector_best_val_auc_wgan_sa.weights.h5')\n",
    "\n",
    "else:\n",
    "    print(\"Skipping classifier training: steps are zero or generators are None.\")"
   ]
  },
  {
   "cell_type": "code",
   "execution_count": null,
   "metadata": {},
   "outputs": [
    {
     "name": "stdout",
     "output_type": "stream",
     "text": [
      "\n",
      "Evaluating Spoof Detector using specific checkpoint...\n",
      "Recreating model structure for evaluation...\n",
      "Building model structure...\n",
      "Model structure built.\n"
     ]
    },
    {
     "data": {
      "text/html": [
       "<pre style=\"white-space:pre;overflow-x:auto;line-height:normal;font-family:Menlo,'DejaVu Sans Mono',consolas,'Courier New',monospace\"><span style=\"font-weight: bold\">Model: \"spoof_detector_eval\"</span>\n",
       "</pre>\n"
      ],
      "text/plain": [
       "\u001b[1mModel: \"spoof_detector_eval\"\u001b[0m\n"
      ]
     },
     "metadata": {},
     "output_type": "display_data"
    },
    {
     "data": {
      "text/html": [
       "<pre style=\"white-space:pre;overflow-x:auto;line-height:normal;font-family:Menlo,'DejaVu Sans Mono',consolas,'Courier New',monospace\">┏━━━━━━━━━━━━━━━━━━━━━━━━━━━━━━━━━┳━━━━━━━━━━━━━━━━━━━━━━━━┳━━━━━━━━━━━━━━━┓\n",
       "┃<span style=\"font-weight: bold\"> Layer (type)                    </span>┃<span style=\"font-weight: bold\"> Output Shape           </span>┃<span style=\"font-weight: bold\">       Param # </span>┃\n",
       "┡━━━━━━━━━━━━━━━━━━━━━━━━━━━━━━━━━╇━━━━━━━━━━━━━━━━━━━━━━━━╇━━━━━━━━━━━━━━━┩\n",
       "│ conv2d_10 (<span style=\"color: #0087ff; text-decoration-color: #0087ff\">Conv2D</span>)              │ (<span style=\"color: #00af00; text-decoration-color: #00af00\">1</span>, <span style=\"color: #00af00; text-decoration-color: #00af00\">40</span>, <span style=\"color: #00af00; text-decoration-color: #00af00\">63</span>, <span style=\"color: #00af00; text-decoration-color: #00af00\">64</span>)        │         <span style=\"color: #00af00; text-decoration-color: #00af00\">1,088</span> │\n",
       "├─────────────────────────────────┼────────────────────────┼───────────────┤\n",
       "│ leaky_re_lu_12 (<span style=\"color: #0087ff; text-decoration-color: #0087ff\">LeakyReLU</span>)      │ (<span style=\"color: #00af00; text-decoration-color: #00af00\">1</span>, <span style=\"color: #00af00; text-decoration-color: #00af00\">40</span>, <span style=\"color: #00af00; text-decoration-color: #00af00\">63</span>, <span style=\"color: #00af00; text-decoration-color: #00af00\">64</span>)        │             <span style=\"color: #00af00; text-decoration-color: #00af00\">0</span> │\n",
       "├─────────────────────────────────┼────────────────────────┼───────────────┤\n",
       "│ conv2d_11 (<span style=\"color: #0087ff; text-decoration-color: #0087ff\">Conv2D</span>)              │ (<span style=\"color: #00af00; text-decoration-color: #00af00\">1</span>, <span style=\"color: #00af00; text-decoration-color: #00af00\">20</span>, <span style=\"color: #00af00; text-decoration-color: #00af00\">32</span>, <span style=\"color: #00af00; text-decoration-color: #00af00\">128</span>)       │       <span style=\"color: #00af00; text-decoration-color: #00af00\">131,072</span> │\n",
       "├─────────────────────────────────┼────────────────────────┼───────────────┤\n",
       "│ layer_normalization_8           │ (<span style=\"color: #00af00; text-decoration-color: #00af00\">1</span>, <span style=\"color: #00af00; text-decoration-color: #00af00\">20</span>, <span style=\"color: #00af00; text-decoration-color: #00af00\">32</span>, <span style=\"color: #00af00; text-decoration-color: #00af00\">128</span>)       │           <span style=\"color: #00af00; text-decoration-color: #00af00\">256</span> │\n",
       "│ (<span style=\"color: #0087ff; text-decoration-color: #0087ff\">LayerNormalization</span>)            │                        │               │\n",
       "├─────────────────────────────────┼────────────────────────┼───────────────┤\n",
       "│ leaky_re_lu_13 (<span style=\"color: #0087ff; text-decoration-color: #0087ff\">LeakyReLU</span>)      │ (<span style=\"color: #00af00; text-decoration-color: #00af00\">1</span>, <span style=\"color: #00af00; text-decoration-color: #00af00\">20</span>, <span style=\"color: #00af00; text-decoration-color: #00af00\">32</span>, <span style=\"color: #00af00; text-decoration-color: #00af00\">128</span>)       │             <span style=\"color: #00af00; text-decoration-color: #00af00\">0</span> │\n",
       "├─────────────────────────────────┼────────────────────────┼───────────────┤\n",
       "│ self_attention_4                │ (<span style=\"color: #00af00; text-decoration-color: #00af00\">1</span>, <span style=\"color: #00af00; text-decoration-color: #00af00\">20</span>, <span style=\"color: #00af00; text-decoration-color: #00af00\">32</span>, <span style=\"color: #00af00; text-decoration-color: #00af00\">128</span>)       │        <span style=\"color: #00af00; text-decoration-color: #00af00\">37,153</span> │\n",
       "│ (<span style=\"color: #0087ff; text-decoration-color: #0087ff\">SelfAttention</span>)                 │                        │               │\n",
       "├─────────────────────────────────┼────────────────────────┼───────────────┤\n",
       "│ conv2d_12 (<span style=\"color: #0087ff; text-decoration-color: #0087ff\">Conv2D</span>)              │ (<span style=\"color: #00af00; text-decoration-color: #00af00\">1</span>, <span style=\"color: #00af00; text-decoration-color: #00af00\">10</span>, <span style=\"color: #00af00; text-decoration-color: #00af00\">16</span>, <span style=\"color: #00af00; text-decoration-color: #00af00\">256</span>)       │       <span style=\"color: #00af00; text-decoration-color: #00af00\">524,288</span> │\n",
       "├─────────────────────────────────┼────────────────────────┼───────────────┤\n",
       "│ layer_normalization_9           │ (<span style=\"color: #00af00; text-decoration-color: #00af00\">1</span>, <span style=\"color: #00af00; text-decoration-color: #00af00\">10</span>, <span style=\"color: #00af00; text-decoration-color: #00af00\">16</span>, <span style=\"color: #00af00; text-decoration-color: #00af00\">256</span>)       │           <span style=\"color: #00af00; text-decoration-color: #00af00\">512</span> │\n",
       "│ (<span style=\"color: #0087ff; text-decoration-color: #0087ff\">LayerNormalization</span>)            │                        │               │\n",
       "├─────────────────────────────────┼────────────────────────┼───────────────┤\n",
       "│ leaky_re_lu_14 (<span style=\"color: #0087ff; text-decoration-color: #0087ff\">LeakyReLU</span>)      │ (<span style=\"color: #00af00; text-decoration-color: #00af00\">1</span>, <span style=\"color: #00af00; text-decoration-color: #00af00\">10</span>, <span style=\"color: #00af00; text-decoration-color: #00af00\">16</span>, <span style=\"color: #00af00; text-decoration-color: #00af00\">256</span>)       │             <span style=\"color: #00af00; text-decoration-color: #00af00\">0</span> │\n",
       "├─────────────────────────────────┼────────────────────────┼───────────────┤\n",
       "│ flatten_3 (<span style=\"color: #0087ff; text-decoration-color: #0087ff\">Flatten</span>)             │ (<span style=\"color: #00af00; text-decoration-color: #00af00\">1</span>, <span style=\"color: #00af00; text-decoration-color: #00af00\">40960</span>)             │             <span style=\"color: #00af00; text-decoration-color: #00af00\">0</span> │\n",
       "├─────────────────────────────────┼────────────────────────┼───────────────┤\n",
       "│ classifier_output (<span style=\"color: #0087ff; text-decoration-color: #0087ff\">Dense</span>)       │ (<span style=\"color: #00af00; text-decoration-color: #00af00\">1</span>, <span style=\"color: #00af00; text-decoration-color: #00af00\">1</span>)                 │        <span style=\"color: #00af00; text-decoration-color: #00af00\">40,961</span> │\n",
       "└─────────────────────────────────┴────────────────────────┴───────────────┘\n",
       "</pre>\n"
      ],
      "text/plain": [
       "┏━━━━━━━━━━━━━━━━━━━━━━━━━━━━━━━━━┳━━━━━━━━━━━━━━━━━━━━━━━━┳━━━━━━━━━━━━━━━┓\n",
       "┃\u001b[1m \u001b[0m\u001b[1mLayer (type)                   \u001b[0m\u001b[1m \u001b[0m┃\u001b[1m \u001b[0m\u001b[1mOutput Shape          \u001b[0m\u001b[1m \u001b[0m┃\u001b[1m \u001b[0m\u001b[1m      Param #\u001b[0m\u001b[1m \u001b[0m┃\n",
       "┡━━━━━━━━━━━━━━━━━━━━━━━━━━━━━━━━━╇━━━━━━━━━━━━━━━━━━━━━━━━╇━━━━━━━━━━━━━━━┩\n",
       "│ conv2d_10 (\u001b[38;5;33mConv2D\u001b[0m)              │ (\u001b[38;5;34m1\u001b[0m, \u001b[38;5;34m40\u001b[0m, \u001b[38;5;34m63\u001b[0m, \u001b[38;5;34m64\u001b[0m)        │         \u001b[38;5;34m1,088\u001b[0m │\n",
       "├─────────────────────────────────┼────────────────────────┼───────────────┤\n",
       "│ leaky_re_lu_12 (\u001b[38;5;33mLeakyReLU\u001b[0m)      │ (\u001b[38;5;34m1\u001b[0m, \u001b[38;5;34m40\u001b[0m, \u001b[38;5;34m63\u001b[0m, \u001b[38;5;34m64\u001b[0m)        │             \u001b[38;5;34m0\u001b[0m │\n",
       "├─────────────────────────────────┼────────────────────────┼───────────────┤\n",
       "│ conv2d_11 (\u001b[38;5;33mConv2D\u001b[0m)              │ (\u001b[38;5;34m1\u001b[0m, \u001b[38;5;34m20\u001b[0m, \u001b[38;5;34m32\u001b[0m, \u001b[38;5;34m128\u001b[0m)       │       \u001b[38;5;34m131,072\u001b[0m │\n",
       "├─────────────────────────────────┼────────────────────────┼───────────────┤\n",
       "│ layer_normalization_8           │ (\u001b[38;5;34m1\u001b[0m, \u001b[38;5;34m20\u001b[0m, \u001b[38;5;34m32\u001b[0m, \u001b[38;5;34m128\u001b[0m)       │           \u001b[38;5;34m256\u001b[0m │\n",
       "│ (\u001b[38;5;33mLayerNormalization\u001b[0m)            │                        │               │\n",
       "├─────────────────────────────────┼────────────────────────┼───────────────┤\n",
       "│ leaky_re_lu_13 (\u001b[38;5;33mLeakyReLU\u001b[0m)      │ (\u001b[38;5;34m1\u001b[0m, \u001b[38;5;34m20\u001b[0m, \u001b[38;5;34m32\u001b[0m, \u001b[38;5;34m128\u001b[0m)       │             \u001b[38;5;34m0\u001b[0m │\n",
       "├─────────────────────────────────┼────────────────────────┼───────────────┤\n",
       "│ self_attention_4                │ (\u001b[38;5;34m1\u001b[0m, \u001b[38;5;34m20\u001b[0m, \u001b[38;5;34m32\u001b[0m, \u001b[38;5;34m128\u001b[0m)       │        \u001b[38;5;34m37,153\u001b[0m │\n",
       "│ (\u001b[38;5;33mSelfAttention\u001b[0m)                 │                        │               │\n",
       "├─────────────────────────────────┼────────────────────────┼───────────────┤\n",
       "│ conv2d_12 (\u001b[38;5;33mConv2D\u001b[0m)              │ (\u001b[38;5;34m1\u001b[0m, \u001b[38;5;34m10\u001b[0m, \u001b[38;5;34m16\u001b[0m, \u001b[38;5;34m256\u001b[0m)       │       \u001b[38;5;34m524,288\u001b[0m │\n",
       "├─────────────────────────────────┼────────────────────────┼───────────────┤\n",
       "│ layer_normalization_9           │ (\u001b[38;5;34m1\u001b[0m, \u001b[38;5;34m10\u001b[0m, \u001b[38;5;34m16\u001b[0m, \u001b[38;5;34m256\u001b[0m)       │           \u001b[38;5;34m512\u001b[0m │\n",
       "│ (\u001b[38;5;33mLayerNormalization\u001b[0m)            │                        │               │\n",
       "├─────────────────────────────────┼────────────────────────┼───────────────┤\n",
       "│ leaky_re_lu_14 (\u001b[38;5;33mLeakyReLU\u001b[0m)      │ (\u001b[38;5;34m1\u001b[0m, \u001b[38;5;34m10\u001b[0m, \u001b[38;5;34m16\u001b[0m, \u001b[38;5;34m256\u001b[0m)       │             \u001b[38;5;34m0\u001b[0m │\n",
       "├─────────────────────────────────┼────────────────────────┼───────────────┤\n",
       "│ flatten_3 (\u001b[38;5;33mFlatten\u001b[0m)             │ (\u001b[38;5;34m1\u001b[0m, \u001b[38;5;34m40960\u001b[0m)             │             \u001b[38;5;34m0\u001b[0m │\n",
       "├─────────────────────────────────┼────────────────────────┼───────────────┤\n",
       "│ classifier_output (\u001b[38;5;33mDense\u001b[0m)       │ (\u001b[38;5;34m1\u001b[0m, \u001b[38;5;34m1\u001b[0m)                 │        \u001b[38;5;34m40,961\u001b[0m │\n",
       "└─────────────────────────────────┴────────────────────────┴───────────────┘\n"
      ]
     },
     "metadata": {},
     "output_type": "display_data"
    },
    {
     "data": {
      "text/html": [
       "<pre style=\"white-space:pre;overflow-x:auto;line-height:normal;font-family:Menlo,'DejaVu Sans Mono',consolas,'Courier New',monospace\"><span style=\"font-weight: bold\"> Total params: </span><span style=\"color: #00af00; text-decoration-color: #00af00\">735,330</span> (2.81 MB)\n",
       "</pre>\n"
      ],
      "text/plain": [
       "\u001b[1m Total params: \u001b[0m\u001b[38;5;34m735,330\u001b[0m (2.81 MB)\n"
      ]
     },
     "metadata": {},
     "output_type": "display_data"
    },
    {
     "data": {
      "text/html": [
       "<pre style=\"white-space:pre;overflow-x:auto;line-height:normal;font-family:Menlo,'DejaVu Sans Mono',consolas,'Courier New',monospace\"><span style=\"font-weight: bold\"> Trainable params: </span><span style=\"color: #00af00; text-decoration-color: #00af00\">735,330</span> (2.81 MB)\n",
       "</pre>\n"
      ],
      "text/plain": [
       "\u001b[1m Trainable params: \u001b[0m\u001b[38;5;34m735,330\u001b[0m (2.81 MB)\n"
      ]
     },
     "metadata": {},
     "output_type": "display_data"
    },
    {
     "data": {
      "text/html": [
       "<pre style=\"white-space:pre;overflow-x:auto;line-height:normal;font-family:Menlo,'DejaVu Sans Mono',consolas,'Courier New',monospace\"><span style=\"font-weight: bold\"> Non-trainable params: </span><span style=\"color: #00af00; text-decoration-color: #00af00\">0</span> (0.00 B)\n",
       "</pre>\n"
      ],
      "text/plain": [
       "\u001b[1m Non-trainable params: \u001b[0m\u001b[38;5;34m0\u001b[0m (0.00 B)\n"
      ]
     },
     "metadata": {},
     "output_type": "display_data"
    },
    {
     "name": "stdout",
     "output_type": "stream",
     "text": [
      "Loading specific weights for evaluation: training_checkpoints_spoof_detector_wgan_sa/clf_ep28-auc0.9800.weights.h5\n",
      "Weights loaded successfully.\n",
      "Compiling model...\n",
      "Model compiled.\n",
      "Initializing evaluation data generator...\n",
      "Using 8905 steps for evaluation.\n",
      "Running model.evaluate...\n",
      "Using class weights: {1: 4.842760027192386, 0: 0.557567076797846} for path datasetNEW/eval\n",
      "\u001b[1m8904/8905\u001b[0m \u001b[32m━━━━━━━━━━━━━━━━━━━\u001b[0m\u001b[37m━\u001b[0m \u001b[1m0s\u001b[0m 88ms/step - accuracy: 0.8559 - auc: 0.8316 - loss: 0.8972"
     ]
    },
    {
     "name": "stderr",
     "output_type": "stream",
     "text": [
      "2025-04-06 23:22:38.352534: I external/local_xla/xla/stream_executor/cuda/subprocess_compilation.cc:346] ptxas warning : Registers are spilled to local memory in function 'gemm_fusion_dot_189', 248 bytes spill stores, 248 bytes spill loads\n",
      "\n",
      "2025-04-06 23:22:38.619887: I external/local_xla/xla/stream_executor/cuda/subprocess_compilation.cc:346] ptxas warning : Registers are spilled to local memory in function 'gemm_fusion_dot_189', 108 bytes spill stores, 108 bytes spill loads\n",
      "\n",
      "2025-04-06 23:22:38.625009: I external/local_xla/xla/stream_executor/cuda/subprocess_compilation.cc:346] ptxas warning : Registers are spilled to local memory in function 'gemm_fusion_dot_189', 64 bytes spill stores, 64 bytes spill loads\n",
      "\n",
      "2025-04-06 23:22:38.769556: I external/local_xla/xla/stream_executor/cuda/subprocess_compilation.cc:346] ptxas warning : Registers are spilled to local memory in function 'gemm_fusion_dot_189', 220 bytes spill stores, 184 bytes spill loads\n",
      "\n",
      "2025-04-06 23:22:38.842154: I external/local_xla/xla/stream_executor/cuda/subprocess_compilation.cc:346] ptxas warning : Registers are spilled to local memory in function 'gemm_fusion_dot_189_0', 1648 bytes spill stores, 2076 bytes spill loads\n",
      "\n"
     ]
    },
    {
     "name": "stdout",
     "output_type": "stream",
     "text": [
      "\u001b[1m8905/8905\u001b[0m \u001b[32m━━━━━━━━━━━━━━━━━━━━\u001b[0m\u001b[37m\u001b[0m \u001b[1m791s\u001b[0m 89ms/step - accuracy: 0.8559 - auc: 0.8316 - loss: 0.8971\n",
      "\n",
      "--- Evaluation Results (Epoch 28 Weights) ---\n",
      "Loss: 0.4832\n",
      "Accuracy: 0.8459\n",
      "AUC: 0.9274\n",
      "-------------------------------------------\n"
     ]
    }
   ],
   "source": [
    "# Cell 14: Evaluation (Load Specific Checkpoint Weights)\n",
    "\n",
    "import tensorflow as tf\n",
    "import numpy as np\n",
    "import os\n",
    "\n",
    "# --- Ensure Prerequisites are Met (Definitions from previous cells) ---\n",
    "# These need to be defined/executed before this cell runs:\n",
    "# - N_MELS, TARGET_FRAMES, classifier_batch_size, eval_data_path, mel_spectrogram_shape (from Cell 11 or 13)\n",
    "# - SelfAttention class (from Cell 7)\n",
    "# - create_critic function (from Cell 9)\n",
    "# - data_generator_classifier function (from Cell 6)\n",
    "# - count_total_files function (from Cell 6 or 13)\n",
    "\n",
    "print(\"\\nEvaluating Spoof Detector using specific checkpoint...\")\n",
    "\n",
    "# --- Define Path to the SPECIFIC Weights File ---\n",
    "model_weights_path = os.path.join('training_checkpoints_spoof_detector_wgan_sa', 'clf_ep28-auc0.9800.weights.h5')\n",
    "spoof_detector_eval = None\n",
    "eval_loss, eval_accuracy, eval_auc = None, None, None # Initialize results\n",
    "\n",
    "# --- Check Prerequisites ---\n",
    "if 'SelfAttention' not in locals(): raise NameError(\"SelfAttention class definition not found.\")\n",
    "if 'create_critic' not in locals(): raise NameError(\"create_critic function not found.\")\n",
    "if 'mel_spectrogram_shape' not in locals(): raise NameError(\"mel_spectrogram_shape not defined.\")\n",
    "if 'N_MELS' not in locals() or 'TARGET_FRAMES' not in locals(): raise NameError(\"N_MELS/TARGET_FRAMES not defined.\")\n",
    "\n",
    "# --- Recreate the Model Structure ---\n",
    "print(\"Recreating model structure for evaluation...\")\n",
    "try:\n",
    "    critic_base_eval = create_critic(mel_spectrogram_shape)\n",
    "    # Create the final classifier structure\n",
    "    spoof_detector_eval = tf.keras.models.Sequential(name='spoof_detector_eval')\n",
    "    for layer in critic_base_eval.layers[:-1]: # Copy layers except final Dense(1)\n",
    "        spoof_detector_eval.add(layer)\n",
    "    spoof_detector_eval.add(tf.keras.layers.Dense(1, activation='sigmoid', name='classifier_output'))\n",
    "\n",
    "    # Build the model structure using a dummy pass\n",
    "    print(\"Building model structure...\")\n",
    "    dummy_input_eval = tf.zeros((1, N_MELS, TARGET_FRAMES, 1), dtype=tf.float32)\n",
    "    _ = spoof_detector_eval(dummy_input_eval, training=False)\n",
    "    print(\"Model structure built.\")\n",
    "    spoof_detector_eval.summary() # Display summary to confirm structure\n",
    "except Exception as e:\n",
    "    print(f\"Error recreating model structure: {e}\")\n",
    "    spoof_detector_eval = None # Prevent proceeding\n",
    "\n",
    "# --- Load the Specific Weights ---\n",
    "if spoof_detector_eval is not None:\n",
    "    if os.path.exists(model_weights_path):\n",
    "        print(f\"Loading specific weights for evaluation: {model_weights_path}\")\n",
    "        try:\n",
    "            spoof_detector_eval.load_weights(model_weights_path)\n",
    "            print(\"Weights loaded successfully.\")\n",
    "            # Re-compile after loading weights\n",
    "            print(\"Compiling model...\")\n",
    "            spoof_detector_eval.compile(\n",
    "                 loss='binary_crossentropy',\n",
    "                 metrics=['accuracy', tf.keras.metrics.AUC(name='auc')]\n",
    "             )\n",
    "            print(\"Model compiled.\")\n",
    "        except Exception as e:\n",
    "            print(f\"Error loading specified weights: {e}\")\n",
    "            print(\"Evaluation cannot proceed.\")\n",
    "            spoof_detector_eval = None # Mark as failed\n",
    "    else:\n",
    "        print(f\"Specified weights file not found: {model_weights_path}\")\n",
    "        print(\"Evaluation cannot proceed.\")\n",
    "        spoof_detector_eval = None # Mark as failed\n",
    "\n",
    "\n",
    "# --- Perform Evaluation ---\n",
    "if spoof_detector_eval:\n",
    "    # Ensure necessary parameters/functions for generator/steps are defined\n",
    "    if 'classifier_batch_size' not in locals(): raise NameError(\"classifier_batch_size not defined.\")\n",
    "    if 'eval_data_path' not in locals(): raise NameError(\"eval_data_path not defined.\")\n",
    "    if 'data_generator_classifier' not in locals(): raise NameError(\"data_generator_classifier not defined.\")\n",
    "    if 'count_total_files' not in locals(): raise NameError(\"count_total_files not defined.\")\n",
    "\n",
    "    # Create Evaluation Generator\n",
    "    print(\"Initializing evaluation data generator...\")\n",
    "    eval_gen_clf = data_generator_classifier(eval_data_path, batch_size=classifier_batch_size, shuffle=False)\n",
    "\n",
    "    # Calculate Evaluation Steps\n",
    "    eval_samples_count = count_total_files(eval_data_path)\n",
    "    if classifier_batch_size <= 0: raise ValueError(\"Classifier batch size must be positive.\")\n",
    "    eval_steps = int(np.ceil(eval_samples_count / float(classifier_batch_size))) if eval_samples_count > 0 else 0\n",
    "    print(f\"Using {eval_steps} steps for evaluation.\")\n",
    "\n",
    "    # Evaluate\n",
    "    if eval_steps > 0 and eval_gen_clf is not None:\n",
    "        print(\"Running model.evaluate...\")\n",
    "        try:\n",
    "            results = spoof_detector_eval.evaluate(\n",
    "                eval_gen_clf,\n",
    "                steps=eval_steps,\n",
    "                verbose=1\n",
    "            )\n",
    "\n",
    "            print(\"\\n--- Evaluation Results (Epoch 28 Weights) ---\")\n",
    "            # Store results for potential use in Cell 15\n",
    "            eval_loss = results[0]\n",
    "            eval_accuracy = results[1]\n",
    "            eval_auc = results[2]\n",
    "            print(f\"Loss: {eval_loss:.4f}\")\n",
    "            print(f\"Accuracy: {eval_accuracy:.4f}\")\n",
    "            print(f\"AUC: {eval_auc:.4f}\")\n",
    "            print(\"-------------------------------------------\")\n",
    "        except Exception as e:\n",
    "             print(f\"An error occurred during model.evaluate: {e}\")\n",
    "             eval_loss, eval_accuracy, eval_auc = None, None, None # Reset results on error\n",
    "    else:\n",
    "        print(\"Skipping evaluation because eval_steps is zero or generator failed.\")\n",
    "else:\n",
    "    print(\"Skipping evaluation because the model structure could not be created or weights failed to load.\")\n",
    "\n",
    "# Clean up generator if needed (optional)\n",
    "# del eval_gen_clf"
   ]
  },
  {
   "cell_type": "code",
   "execution_count": null,
   "metadata": {},
   "outputs": [
    {
     "name": "stdout",
     "output_type": "stream",
     "text": [
      "\n",
      "Generating Final Reports & Analysis using Specific Checkpoint...\n",
      "Recreating model structure for reporting...\n",
      "Building model structure...\n",
      "Model structure built.\n",
      "Loading specific weights for reporting: training_checkpoints_spoof_detector_wgan_sa/clf_ep28-auc0.9800.weights.h5\n",
      "Weights loaded successfully.\n",
      "Generating predictions on evaluation set for detailed reports...\n"
     ]
    },
    {
     "data": {
      "application/vnd.jupyter.widget-view+json": {
       "model_id": "c0cb074878a24d78b356f3434d390c7f",
       "version_major": 2,
       "version_minor": 0
      },
      "text/plain": [
       "Predicting for Reports:   0%|          | 0/8905 [00:00<?, ?it/s]"
      ]
     },
     "metadata": {},
     "output_type": "display_data"
    },
    {
     "name": "stdout",
     "output_type": "stream",
     "text": [
      "Using class weights: {1: 4.842760027192386, 0: 0.557567076797846} for path datasetNEW/eval\n",
      "\n",
      "--- Basic Metrics ---\n",
      "F1 Score (at threshold 0.5): 0.5409\n"
     ]
    },
    {
     "data": {
      "image/png": "[encoded data removed]",
      "text/plain": [
       "<Figure size 800x600 with 2 Axes>"
      ]
     },
     "metadata": {},
     "output_type": "display_data"
    },
    {
     "data": {
      "image/png": "[encoded data removed]",
      "text/plain": [
       "<Figure size 800x600 with 2 Axes>"
      ]
     },
     "metadata": {},
     "output_type": "display_data"
    },
    {
     "name": "stdout",
     "output_type": "stream",
     "text": [
      "\n",
      "--- Threshold Analysis ---\n",
      "Best F1 Score: 0.5733 at threshold 0.8990\n"
     ]
    },
    {
     "data": {
      "image/png": "[encoded data removed]",
      "text/plain": [
       "<Figure size 1000x600 with 1 Axes>"
      ]
     },
     "metadata": {},
     "output_type": "display_data"
    },
    {
     "name": "stdout",
     "output_type": "stream",
     "text": [
      "\n",
      "--- Precision-Recall Curve ---\n",
      "Area Under PR Curve (PR AUC): 0.5894\n",
      "Average Precision (AP): 0.5894\n"
     ]
    },
    {
     "data": {
      "image/png": "[encoded data removed]",
      "text/plain": [
       "<Figure size 800x600 with 1 Axes>"
      ]
     },
     "metadata": {},
     "output_type": "display_data"
    },
    {
     "name": "stdout",
     "output_type": "stream",
     "text": [
      "\n",
      "--- Score Calibration ---\n",
      "Plotting calibration curve (based on evaluation data)...\n"
     ]
    },
    {
     "data": {
      "text/plain": [
       "<Figure size 800x800 with 0 Axes>"
      ]
     },
     "metadata": {},
     "output_type": "display_data"
    },
    {
     "data": {
      "image/png": "[encoded data removed]",
      "text/plain": [
       "<Figure size 640x480 with 1 Axes>"
      ]
     },
     "metadata": {},
     "output_type": "display_data"
    },
    {
     "name": "stdout",
     "output_type": "stream",
     "text": [
      "\n",
      "--- EER & t-DCF Analysis (Epoch 28 Weights) ---\n",
      "EER: 0.1454 at threshold 0.6110\n",
      "Min t-DCF: 0.9271 at threshold 0.9994\n",
      "\n",
      "--- Final Summary Metrics (Epoch 28 Weights) ---\n",
      "Accuracy (@EER thr=0.6110): 0.8546\n",
      "AUC (recalculated):  0.9306\n",
      "F1 Score (@0.5):     0.5409\n",
      "Best F1 Score:     0.5733 (@ thr=0.8990)\n",
      "EER:                 0.1454 (@ thr=0.6110)\n",
      "Min t-DCF:           0.9271 (@ thr=0.9994)\n",
      "-------------------------------------------------\n"
     ]
    }
   ],
   "source": [
    "# Cell 15: Reporting & Analysis (using Specific Checkpoint Weights)\n",
    "\n",
    "# --- Imports (ensure these are loaded) ---\n",
    "import tensorflow as tf\n",
    "import numpy as np\n",
    "import os\n",
    "import matplotlib.pyplot as plt\n",
    "import seaborn as sns\n",
    "from tqdm.notebook import tqdm # For progress bar\n",
    "from sklearn.metrics import (confusion_matrix, f1_score, roc_curve, auc,\n",
    "                             precision_recall_curve, average_precision_score,\n",
    "                             precision_score, recall_score) # Added P/R score explicitly\n",
    "from sklearn.calibration import CalibrationDisplay\n",
    "# from sklearn.isotonic import IsotonicRegression # Can remove if not calibrating\n",
    "\n",
    "print(\"\\nGenerating Final Reports & Analysis using Specific Checkpoint...\")\n",
    "\n",
    "# --- Parameters ---\n",
    "# Ensure these are defined: FIGURES_DIR, classifier_batch_size, eval_data_path\n",
    "if 'FIGURES_DIR' not in locals(): FIGURES_DIR = 'training_figures_wgan_sa'; os.makedirs(FIGURES_DIR, exist_ok=True)\n",
    "if 'classifier_batch_size' not in locals(): classifier_batch_size = 8\n",
    "if 'eval_data_path' not in locals(): eval_data_path = 'datasetNEW/eval'\n",
    "\n",
    "# t-DCF parameters (adjust as needed)\n",
    "p_target = 0.05\n",
    "c_miss = 1\n",
    "c_false_alarm = 1\n",
    "\n",
    "# --- Define Path to the SPECIFIC Weights File ---\n",
    "model_weights_path = os.path.join('training_checkpoints_spoof_detector_wgan_sa', 'clf_ep28-auc0.9800.weights.h5')\n",
    "spoof_detector_report = None # Use a different variable name for clarity\n",
    "\n",
    "# --- Check Prerequisites & Recreate Model Structure ---\n",
    "if 'SelfAttention' not in locals(): raise NameError(\"SelfAttention class definition not found.\")\n",
    "if 'create_critic' not in locals(): raise NameError(\"create_critic function not found.\")\n",
    "if 'mel_spectrogram_shape' not in locals(): raise NameError(\"mel_spectrogram_shape not defined.\")\n",
    "if 'N_MELS' not in locals() or 'TARGET_FRAMES' not in locals(): raise NameError(\"N_MELS/TARGET_FRAMES not defined.\")\n",
    "\n",
    "print(\"Recreating model structure for reporting...\")\n",
    "try:\n",
    "    critic_base_report = create_critic(mel_spectrogram_shape)\n",
    "    spoof_detector_report = tf.keras.models.Sequential(name='spoof_detector_report')\n",
    "    for layer in critic_base_report.layers[:-1]:\n",
    "        spoof_detector_report.add(layer)\n",
    "    spoof_detector_report.add(tf.keras.layers.Dense(1, activation='sigmoid', name='classifier_output'))\n",
    "\n",
    "    # Build the model structure\n",
    "    print(\"Building model structure...\")\n",
    "    dummy_input_report = tf.zeros((1, N_MELS, TARGET_FRAMES, 1), dtype=tf.float32)\n",
    "    _ = spoof_detector_report(dummy_input_report, training=False)\n",
    "    print(\"Model structure built.\")\n",
    "except Exception as e:\n",
    "    print(f\"Error recreating model structure: {e}\")\n",
    "    spoof_detector_report = None # Prevent proceeding\n",
    "\n",
    "\n",
    "# --- Load the Specific Weights ---\n",
    "if spoof_detector_report is not None:\n",
    "    if os.path.exists(model_weights_path):\n",
    "        print(f\"Loading specific weights for reporting: {model_weights_path}\")\n",
    "        try:\n",
    "            spoof_detector_report.load_weights(model_weights_path)\n",
    "            print(\"Weights loaded successfully.\")\n",
    "        except Exception as e:\n",
    "            print(f\"Error loading specified weights: {e}\")\n",
    "            print(\"Reporting cannot proceed.\")\n",
    "            spoof_detector_report = None # Mark as failed\n",
    "    else:\n",
    "        print(f\"Specified weights file not found: {model_weights_path}\")\n",
    "        print(\"Reporting cannot proceed.\")\n",
    "        spoof_detector_report = None # Mark as failed\n",
    "\n",
    "\n",
    "# --- Proceed only if model is loaded ---\n",
    "if spoof_detector_report:\n",
    "    # --- Get Predictions on Evaluation Set ---\n",
    "    print(\"Generating predictions on evaluation set for detailed reports...\")\n",
    "    # Ensure data_generator_classifier and count_total_files are defined\n",
    "    if 'data_generator_classifier' not in locals(): raise NameError(\"data_generator_classifier not defined.\")\n",
    "    if 'count_total_files' not in locals(): raise NameError(\"count_total_files not defined.\")\n",
    "\n",
    "    eval_gen_report = data_generator_classifier(eval_data_path, batch_size=classifier_batch_size, shuffle=False)\n",
    "    eval_samples_count_report = count_total_files(eval_data_path)\n",
    "    eval_steps_report = int(np.ceil(eval_samples_count_report / float(classifier_batch_size))) if eval_samples_count_report > 0 else 0\n",
    "\n",
    "    y_pred_scores = []\n",
    "    y_true_labels = []\n",
    "\n",
    "    if eval_steps_report > 0 and eval_gen_report is not None:\n",
    "        for _ in tqdm(range(eval_steps_report), desc=\"Predicting for Reports\"):\n",
    "            try:\n",
    "                batch_x, batch_y, _ = next(eval_gen_report)\n",
    "                if batch_x.size == 0: continue\n",
    "                # Use the model loaded in *this cell*\n",
    "                batch_pred = spoof_detector_report.predict(batch_x, verbose=0)\n",
    "                y_pred_scores.extend(batch_pred.flatten())\n",
    "                y_true_labels.extend(batch_y)\n",
    "            except StopIteration:\n",
    "                print(\"Eval generator stopped during prediction.\")\n",
    "                break\n",
    "            except Exception as e:\n",
    "                print(f\"Error during prediction generation: {e}\")\n",
    "                continue # Skip batch on error\n",
    "\n",
    "        y_pred_scores = np.array(y_pred_scores).astype(np.float32)\n",
    "        y_true_labels = np.array(y_true_labels).astype(np.int32)\n",
    "\n",
    "        min_len = min(len(y_pred_scores), len(y_true_labels))\n",
    "        if min_len == 0:\n",
    "            print(\"No predictions generated. Cannot create reports.\")\n",
    "            y_pred_scores = np.array([]) # Ensure empty\n",
    "        elif min_len < eval_samples_count_report:\n",
    "             print(f\"Warning: Only processed {min_len}/{eval_samples_count_report} samples for reporting.\")\n",
    "             y_pred_scores = y_pred_scores[:min_len]\n",
    "             y_true_labels = y_true_labels[:min_len]\n",
    "    else:\n",
    "        print(\"Cannot generate predictions (eval_steps=0 or generator failed).\")\n",
    "        y_pred_scores = np.array([]) # Ensure empty\n",
    "\n",
    "\n",
    "    # --- Perform Analysis only if predictions exist ---\n",
    "    if y_pred_scores.size > 0:\n",
    "\n",
    "        # --- 1. Basic Metrics (F1 @ 0.5 & Confusion Matrices) --- # MODIFIED SECTION\n",
    "        print(\"\\n--- Basic Metrics ---\")\n",
    "        threshold_05 = 0.5\n",
    "        y_pred_binary_05 = (y_pred_scores >= threshold_05).astype(int)\n",
    "        f1_at_05 = f1_score(y_true_labels, y_pred_binary_05, zero_division=0)\n",
    "        print(f\"F1 Score (at threshold {threshold_05}): {f1_at_05:.4f}\")\n",
    "\n",
    "        # Calculate Confusion Matrix (Counts)\n",
    "        cm = confusion_matrix(y_true_labels, y_pred_binary_05)\n",
    "        plt.figure(figsize=(8, 6))\n",
    "        sns.heatmap(cm, annot=True, fmt='d', cmap='Blues', xticklabels=['Fake (0)', 'Real (1)'], yticklabels=['Fake (0)', 'Real (1)'])\n",
    "        plt.title(f'Confusion Matrix (Counts, Threshold = {threshold_05})')\n",
    "        plt.ylabel('True Label'); plt.xlabel('Predicted Label')\n",
    "        plt.savefig(os.path.join(FIGURES_DIR, 'confusion_matrix_counts_ep28.png')) # Updated filename\n",
    "        plt.show()\n",
    "\n",
    "        # Calculate Confusion Matrix (Row Percentages)\n",
    "        cm_sum = np.sum(cm, axis=1, keepdims=True)\n",
    "        # Handle division by zero if a class has zero true samples in the eval set\n",
    "        with np.errstate(divide='ignore', invalid='ignore'):\n",
    "             cm_perc = cm / cm_sum.astype(float) * 100\n",
    "             cm_perc = np.nan_to_num(cm_perc) # Replace NaN with 0 if division by zero occurred\n",
    "\n",
    "        plt.figure(figsize=(8, 6))\n",
    "        sns.heatmap(cm_perc, annot=True, fmt='.2f', cmap='Greens', # Different colormap\n",
    "                    xticklabels=['Fake (0)', 'Real (1)'], yticklabels=['Fake (0)', 'Real (1)'],\n",
    "                    annot_kws={\"size\": 12}) # Adjust font size if needed\n",
    "        plt.title(f'Confusion Matrix (Row Percentages, Threshold = {threshold_05})')\n",
    "        plt.ylabel('True Label'); plt.xlabel('Predicted Label')\n",
    "        plt.savefig(os.path.join(FIGURES_DIR, 'confusion_matrix_perc_ep28.png')) # New filename\n",
    "        plt.show()\n",
    "        # --- END OF MODIFIED SECTION ---\n",
    "\n",
    "\n",
    "        # --- 2. Threshold Analysis (Precision, Recall, F1) ---\n",
    "        # ... (This section remains the same as before) ...\n",
    "        print(\"\\n--- Threshold Analysis ---\")\n",
    "        thresholds_metrics = np.linspace(min(y_pred_scores)+1e-6, max(y_pred_scores)-1e-6, 100)\n",
    "        precision_scores, recall_scores, f1_scores_thr = [], [], []\n",
    "        for thr in thresholds_metrics:\n",
    "            y_pred_binary = (y_pred_scores >= thr).astype(int)\n",
    "            precision = precision_score(y_true_labels, y_pred_binary, zero_division=0)\n",
    "            recall = recall_score(y_true_labels, y_pred_binary, zero_division=0)\n",
    "            f1 = f1_score(y_true_labels, y_pred_binary, zero_division=0)\n",
    "            precision_scores.append(precision); recall_scores.append(recall); f1_scores_thr.append(f1)\n",
    "        best_f1_idx = np.argmax(f1_scores_thr); best_f1 = f1_scores_thr[best_f1_idx]; best_f1_threshold = thresholds_metrics[best_f1_idx]\n",
    "        print(f\"Best F1 Score: {best_f1:.4f} at threshold {best_f1_threshold:.4f}\")\n",
    "        plt.figure(figsize=(10, 6)); plt.plot(thresholds_metrics, precision_scores, label='Precision', linestyle='--'); plt.plot(thresholds_metrics, recall_scores, label='Recall', linestyle=':')\n",
    "        plt.plot(thresholds_metrics, f1_scores_thr, label='F1 Score', linewidth=2); plt.scatter(best_f1_threshold, best_f1, color='red', zorder=5, label=f'Best F1 ({best_f1:.4f})')\n",
    "        plt.xlabel('Threshold'); plt.ylabel('Score'); plt.title('Precision, Recall, and F1 Score vs. Threshold')\n",
    "        plt.legend(); plt.grid(True); plt.ylim([0.0, 1.05])\n",
    "        plt.savefig(os.path.join(FIGURES_DIR, 'prf1_vs_threshold_ep28.png')); plt.show()\n",
    "\n",
    "        # --- 3. Precision-Recall Curve ---\n",
    "        # ... (This section remains the same as before) ...\n",
    "        print(\"\\n--- Precision-Recall Curve ---\")\n",
    "        precision_pr, recall_pr, _ = precision_recall_curve(y_true_labels, y_pred_scores)\n",
    "        pr_auc_val = auc(recall_pr, precision_pr); avg_precision = average_precision_score(y_true_labels, y_pred_scores)\n",
    "        print(f\"Area Under PR Curve (PR AUC): {pr_auc_val:.4f}\"); print(f\"Average Precision (AP): {avg_precision:.4f}\")\n",
    "        plt.figure(figsize=(8, 6)); plt.plot(recall_pr, precision_pr, label=f'PR curve (AUC = {pr_auc_val:.4f}, AP = {avg_precision:.4f})')\n",
    "        plt.xlabel('Recall (Sensitivity)'); plt.ylabel('Precision'); plt.title('Precision-Recall Curve')\n",
    "        plt.legend(); plt.grid(True); plt.ylim([0.0, 1.05]); plt.xlim([0.0, 1.0])\n",
    "        plt.savefig(os.path.join(FIGURES_DIR, 'precision_recall_curve_ep28.png')); plt.show()\n",
    "\n",
    "        # --- 4. Score Calibration Plot ---\n",
    "        # ... (This section remains the same as before) ...\n",
    "        print(\"\\n--- Score Calibration ---\")\n",
    "        print(\"Plotting calibration curve (based on evaluation data)...\")\n",
    "        plt.figure(figsize=(8, 8)); disp = CalibrationDisplay.from_predictions(y_true_labels, y_pred_scores, n_bins=15, name='Epoch 28 Model', strategy='uniform')\n",
    "        plt.title('Reliability Diagram (Calibration Curve)'); plt.grid(True)\n",
    "        plt.savefig(os.path.join(FIGURES_DIR, 'calibration_curve_ep28.png')); plt.show()\n",
    "\n",
    "        # --- 5. EER & t-DCF (Using Original Scores from Epoch 28) ---\n",
    "        # ... (This section remains the same as before) ...\n",
    "        print(\"\\n--- EER & t-DCF Analysis (Epoch 28 Weights) ---\")\n",
    "        fpr, tpr, thresholds_roc = roc_curve(y_true_labels, y_pred_scores, pos_label=1)\n",
    "        fnr = 1 - tpr\n",
    "        eer_index = np.nanargmin(np.abs(fnr - fpr))\n",
    "        eer_threshold = thresholds_roc[eer_index] if eer_index < len(thresholds_roc) else thresholds_roc[-1]\n",
    "        eer = fpr[eer_index]\n",
    "        print(f\"EER: {eer:.4f} at threshold {eer_threshold:.4f}\")\n",
    "        def calculate_tdcf_min(y_true, y_scores, p_target, c_miss, c_fa):\n",
    "            fpr, tpr, thresholds = roc_curve(y_true, y_scores, pos_label=1)\n",
    "            fnr = 1 - tpr; min_c_det = float(\"inf\"); min_c_det_threshold = thresholds[0] if len(thresholds) > 0 else 0.0\n",
    "            c_def = min(c_miss * p_target, c_fa * (1 - p_target))\n",
    "            if c_def <= 0: return np.inf, min_c_det_threshold\n",
    "            for i in range(len(thresholds)):\n",
    "                c_det = c_miss * fnr[i] * p_target + c_fa * fpr[i] * (1 - p_target)\n",
    "                if c_det < min_c_det: min_c_det = c_det; min_c_det_threshold = thresholds[i]\n",
    "            return min_c_det / c_def, min_c_det_threshold\n",
    "        min_tdcf, min_tdcf_thresh = calculate_tdcf_min(y_true_labels, y_pred_scores, p_target, c_miss, c_false_alarm)\n",
    "        print(f\"Min t-DCF: {min_tdcf:.4f} at threshold {min_tdcf_thresh:.4f}\")\n",
    "\n",
    "        # --- Final Summary ---\n",
    "        print(\"\\n--- Final Summary Metrics (Epoch 28 Weights) ---\")\n",
    "        # Retrieve eval results from Cell 14 if they exist\n",
    "        acc_disp = f\"{eval_accuracy:.4f}\" if 'eval_accuracy' in locals() and eval_accuracy is not None else 'N/A (Run Cell 14)'\n",
    "        auc_disp = f\"{eval_auc:.4f}\" if 'eval_auc' in locals() and eval_auc is not None else 'N/A (Run Cell 14)'\n",
    "        final_roc_auc = auc(fpr, tpr) # Recalculate AUC from scores here for consistency\n",
    "        acc_at_eer_thr = np.mean(y_true_labels == (y_pred_scores >= eer_threshold).astype(int))\n",
    "        print(f\"Accuracy (@EER thr={eer_threshold:.4f}): {acc_at_eer_thr:.4f}\")\n",
    "        print(f\"AUC (recalculated):  {final_roc_auc:.4f}\")\n",
    "        print(f\"F1 Score (@0.5):     {f1_at_05:.4f}\")\n",
    "        print(f\"Best F1 Score:     {best_f1:.4f} (@ thr={best_f1_threshold:.4f})\")\n",
    "        print(f\"EER:                 {eer:.4f} (@ thr={eer_threshold:.4f})\")\n",
    "        print(f\"Min t-DCF:           {min_tdcf:.4f} (@ thr={min_tdcf_thresh:.4f})\")\n",
    "        print(\"-------------------------------------------------\")\n",
    "\n",
    "    else: # If y_pred_scores is empty\n",
    "        print(\"No predictions were generated, cannot produce detailed reports.\")\n",
    "\n",
    "else: # If spoof_detector_report failed to load\n",
    "    print(\"Classifier model not loaded. Skipping report generation.\")"
   ]
  }
 ],
 "metadata": {
  "kernelspec": {
   "display_name": ".venvn",
   "language": "python",
   "name": "python3"
  },
  "language_info": {
   "codemirror_mode": {
    "name": "ipython",
    "version": 3
   },
   "file_extension": ".py",
   "mimetype": "text/x-python",
   "name": "python",
   "nbconvert_exporter": "python",
   "pygments_lexer": "ipython3",
   "version": "3.12.9"
  }
 },
 "nbformat": 4,
 "nbformat_minor": 2
}
