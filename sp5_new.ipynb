{
 "cells": [
  {
   "cell_type": "code",
   "execution_count": 1,
   "metadata": {},
   "outputs": [
    {
     "name": "stderr",
     "output_type": "stream",
     "text": [
      "2025-04-05 02:28:09.015250: I tensorflow/core/util/port.cc:153] oneDNN custom operations are on. You may see slightly different numerical results due to floating-point round-off errors from different computation orders. To turn them off, set the environment variable `TF_ENABLE_ONEDNN_OPTS=0`.\n",
      "2025-04-05 02:28:09.029288: E external/local_xla/xla/stream_executor/cuda/cuda_fft.cc:467] Unable to register cuFFT factory: Attempting to register factory for plugin cuFFT when one has already been registered\n",
      "WARNING: All log messages before absl::InitializeLog() is called are written to STDERR\n",
      "E0000 00:00:1743800289.044727  871463 cuda_dnn.cc:8579] Unable to register cuDNN factory: Attempting to register factory for plugin cuDNN when one has already been registered\n",
      "E0000 00:00:1743800289.049234  871463 cuda_blas.cc:1407] Unable to register cuBLAS factory: Attempting to register factory for plugin cuBLAS when one has already been registered\n",
      "W0000 00:00:1743800289.061700  871463 computation_placer.cc:177] computation placer already registered. Please check linkage and avoid linking the same target more than once.\n",
      "W0000 00:00:1743800289.061719  871463 computation_placer.cc:177] computation placer already registered. Please check linkage and avoid linking the same target more than once.\n",
      "W0000 00:00:1743800289.061721  871463 computation_placer.cc:177] computation placer already registered. Please check linkage and avoid linking the same target more than once.\n",
      "W0000 00:00:1743800289.061722  871463 computation_placer.cc:177] computation placer already registered. Please check linkage and avoid linking the same target more than once.\n",
      "2025-04-05 02:28:09.065785: I tensorflow/core/platform/cpu_feature_guard.cc:210] This TensorFlow binary is optimized to use available CPU instructions in performance-critical operations.\n",
      "To enable the following instructions: AVX2 AVX512F AVX512_VNNI FMA, in other operations, rebuild TensorFlow with the appropriate compiler flags.\n"
     ]
    },
    {
     "name": "stdout",
     "output_type": "stream",
     "text": [
      "XLA JIT compilation disabled.\n",
      "TensorFlow version: 2.19.0\n"
     ]
    }
   ],
   "source": [
    "# Cell 1: Imports\n",
    "import os\n",
    "import numpy as np\n",
    "import tensorflow as tf\n",
    "from tensorflow.keras.layers import Input, Conv1D, MaxPooling1D, GRU, Dense, Dropout, BatchNormalization, LayerNormalization, Reshape, Permute, Bidirectional, Add, Attention, Flatten, TimeDistributed, Conv2DTranspose, Conv2D, Layer, Concatenate, Multiply, AdditiveAttention # Added Multiply, AdditiveAttention for potential SelfAttention implementation\n",
    "from tensorflow.keras.models import Model, Sequential\n",
    "from tensorflow.keras.optimizers import Adam, RMSprop # Added RMSprop as an option for WGAN\n",
    "from tensorflow.keras.callbacks import ReduceLROnPlateau, EarlyStopping, ModelCheckpoint, Callback\n",
    "from tensorflow.keras import backend as K\n",
    "from sklearn.metrics import confusion_matrix, f1_score, roc_curve # Moved confusion_matrix here\n",
    "import librosa\n",
    "import soundfile as sf\n",
    "# import noisereduce as nr # Consider if still needed/effective\n",
    "import matplotlib.pyplot as plt\n",
    "from scipy.signal import butter, sosfilt\n",
    "import logging\n",
    "from tqdm.notebook import tqdm # Use tqdm.notebook for better Jupyter integration\n",
    "import random\n",
    "import seaborn as sns # Added for confusion matrix plotting\n",
    "tf.config.optimizer.set_jit(False)\n",
    "print(\"XLA JIT compilation disabled.\")\n",
    "\n",
    "# WGAN-GP specific\n",
    "from tensorflow import GradientTape\n",
    "\n",
    "# Create directory for saving figures\n",
    "FIGURES_DIR = 'training_figures_wgan_sa' # Changed dir name\n",
    "os.makedirs(FIGURES_DIR, exist_ok=True)\n",
    "\n",
    "# Configure logging\n",
    "logging.basicConfig(filename='audio_errors_wgan_sa.log', level=logging.ERROR,\n",
    "                    format='%(asctime)s - %(levelname)s - %(message)s')\n",
    "\n",
    "print(f\"TensorFlow version: {tf.__version__}\")"
   ]
  },
  {
   "cell_type": "code",
   "execution_count": 2,
   "metadata": {},
   "outputs": [
    {
     "name": "stdout",
     "output_type": "stream",
     "text": [
      "GPU is available and configured.\n"
     ]
    }
   ],
   "source": [
    "# Cell 2: Force GPU usage\n",
    "physical_devices = tf.config.list_physical_devices('GPU')\n",
    "if physical_devices:\n",
    "    try:\n",
    "        tf.config.set_visible_devices(physical_devices[0], 'GPU')\n",
    "        tf.config.experimental.set_memory_growth(physical_devices[0], True)\n",
    "        print(\"GPU is available and configured.\")\n",
    "    except RuntimeError as e:\n",
    "        # Memory growth must be set before GPUs have been initialized\n",
    "        print(f\"Error configuring GPU: {e}\")\n",
    "else:\n",
    "    print(\"No GPU devices found. Falling back to CPU.\")\n",
    "\n",
    "# Set mixed precision policy if desired (can speed up training on compatible GPUs)\n",
    "#from tensorflow.keras import mixed_precision\n",
    "#policy = mixed_precision.Policy('mixed_float16')\n",
    "#mixed_precision.set_global_policy(policy)\n",
    "#print('Mixed precision enabled')"
   ]
  },
  {
   "cell_type": "code",
   "execution_count": 3,
   "metadata": {},
   "outputs": [],
   "source": [
    "# Cell 3: Audio Loading and Preprocessing Function\n",
    "def load_and_preprocess_audio(file_path, sr=16000, duration=4):\n",
    "    try:\n",
    "        # Load audio, potentially reducing noise first if beneficial\n",
    "        audio, current_sr = librosa.load(file_path, sr=None, duration=duration) # Load native SR first\n",
    "\n",
    "        # Optional: Noise Reduction (experiment if needed)\n",
    "        # audio = nr.reduce_noise(y=audio, sr=current_sr)\n",
    "\n",
    "        # Resample if necessary\n",
    "        if current_sr != sr:\n",
    "            audio = librosa.resample(audio, orig_sr=current_sr, target_sr=sr)\n",
    "\n",
    "        # Pad or truncate to fixed duration *before* augmentation/normalization\n",
    "        target_len = sr * duration\n",
    "        if len(audio) < target_len:\n",
    "            audio = np.pad(audio, (0, target_len - len(audio)), mode='constant')\n",
    "        else:\n",
    "            audio = audio[:target_len]\n",
    "\n",
    "        # Data Augmentation (applied *before* normalization)\n",
    "        if np.random.random() < 0.5: # 50% chance\n",
    "            augmentation_type = np.random.choice(['noise', 'pitch', 'speed'])\n",
    "            if augmentation_type == 'noise':\n",
    "                noise_amp = 0.005 * np.random.uniform(0.1, 1.0) * np.max(np.abs(audio)) # Scale noise relative to audio\n",
    "                noise = np.random.randn(len(audio)) * noise_amp\n",
    "                audio = audio + noise\n",
    "            elif augmentation_type == 'pitch':\n",
    "                pitch_shift_steps = np.random.uniform(-2.5, 2.5)\n",
    "                audio = librosa.effects.pitch_shift(audio, sr=sr, n_steps=pitch_shift_steps)\n",
    "            else: # speed (time stretch)\n",
    "                speed_rate = np.random.uniform(0.85, 1.15)\n",
    "                audio = librosa.effects.time_stretch(audio, rate=speed_rate)\n",
    "                 # Time stretching changes length, re-pad/truncate\n",
    "                if len(audio) < target_len:\n",
    "                    audio = np.pad(audio, (0, target_len - len(audio)), mode='constant')\n",
    "                else:\n",
    "                    audio = audio[:target_len]\n",
    "\n",
    "        # Normalize audio (peak normalization) - crucial for consistency\n",
    "        max_amp = np.max(np.abs(audio))\n",
    "        if max_amp > 1e-6: # Avoid division by zero\n",
    "             audio = audio / max_amp\n",
    "        # Optional: RMS normalization instead\n",
    "        # rms = np.sqrt(np.mean(audio**2))\n",
    "        # if rms > 1e-6:\n",
    "        #    audio = audio / rms * 0.5 # Scale to a target RMS\n",
    "\n",
    "        return audio\n",
    "    except Exception as e:\n",
    "        logging.error(f\"Error loading/preprocessing {file_path}: {e}\")\n",
    "        print(f\"Error loading/preprocessing {file_path}: {e}\")\n",
    "        return None"
   ]
  },
  {
   "cell_type": "code",
   "execution_count": 4,
   "metadata": {},
   "outputs": [],
   "source": [
    "# Cell 4: Feature Extraction Function\n",
    "def extract_features(audio, sr=16000, n_mels=80, n_fft=2048, hop_length=512):\n",
    "    if audio is None:\n",
    "        return None\n",
    "    try:\n",
    "        # Extract mel spectrogram\n",
    "        mel_spec = librosa.feature.melspectrogram(\n",
    "            y=audio,\n",
    "            sr=sr,\n",
    "            n_mels=n_mels,\n",
    "            n_fft=n_fft,\n",
    "            hop_length=hop_length\n",
    "        )\n",
    "        # Convert to log scale (dB)\n",
    "        log_mel_spec = librosa.power_to_db(mel_spec, ref=np.max)\n",
    "\n",
    "        # Normalize features (per spectrogram) - Standard Scaling\n",
    "        mean = np.mean(log_mel_spec)\n",
    "        std = np.std(log_mel_spec)\n",
    "        if std > 1e-6: # Avoid division by zero\n",
    "            log_mel_spec = (log_mel_spec - mean) / std\n",
    "        else:\n",
    "            log_mel_spec = log_mel_spec - mean # Just center if std is near zero\n",
    "\n",
    "        # Ensure the shape is consistent (should be handled by fixed duration loading)\n",
    "        # Expected frames: int(np.ceil(target_len / hop_length)) -> int(ceil(16000*4/512)) = 125? Check calculation\n",
    "        # target_len = 16000 * 4 = 64000\n",
    "        # expected_frames = 64000 // hop_length + 1 if 64000 % hop_length != 0 else 64000 // hop_length\n",
    "        # expected_frames = 64000 / 512 = 125. Check librosa padding. It often adds a frame. Let's stick to TARGET_FRAMES=126 based on previous findings.\n",
    "\n",
    "        return log_mel_spec # Shape (n_mels, n_frames) e.g. (80, 126)\n",
    "\n",
    "    except Exception as e:\n",
    "        logging.error(f\"Error extracting features: {e}\")\n",
    "        print(f\"Error extracting features: {e}\")\n",
    "        return None"
   ]
  },
  {
   "cell_type": "code",
   "execution_count": 5,
   "metadata": {},
   "outputs": [],
   "source": [
    "# Cell 5: Class Distribution Analysis Function\n",
    "def analyze_class_distribution(data_path):\n",
    "    try:\n",
    "        real_dir = os.path.join(data_path, 'real')\n",
    "        fake_dir = os.path.join(data_path, 'fake')\n",
    "        real_count = len([f for f in os.listdir(real_dir) if f.endswith('.wav')]) if os.path.exists(real_dir) else 0\n",
    "        fake_count = len([f for f in os.listdir(fake_dir) if f.endswith('.wav')]) if os.path.exists(fake_dir) else 0\n",
    "        total = real_count + fake_count\n",
    "        if total == 0:\n",
    "            print(f\"\\nNo .wav files found in {data_path}\")\n",
    "            return {'real': 0, 'fake': 0}\n",
    "        print(f\"\\nClass Distribution for {data_path}:\")\n",
    "        print(f\"Real: {real_count} ({real_count/total*100:.2f}%)\")\n",
    "        print(f\"Fake: {fake_count} ({fake_count/total*100:.2f}%)\")\n",
    "        return {'real': real_count, 'fake': fake_count}\n",
    "    except FileNotFoundError:\n",
    "        print(f\"\\nError: Data path not found - {data_path}\")\n",
    "        return {'real': 0, 'fake': 0}\n",
    "    except Exception as e:\n",
    "        logging.error(f\"Error analyzing distribution for {data_path}: {e}\")\n",
    "        print(f\"Error analyzing distribution for {data_path}: {e}\")\n",
    "        return {'real': 0, 'fake': 0}"
   ]
  },
  {
   "cell_type": "code",
   "execution_count": 6,
   "metadata": {},
   "outputs": [],
   "source": [
    "# Cell 6: Data Generators\n",
    "\n",
    "# Define the fixed number of frames for GAN/Classifier consistency\n",
    "TARGET_FRAMES = 126 # Recalculate based on sr=16000, duration=4, hop_length=512 if needed\n",
    "\n",
    "# Data generator for STANDALONE CLASSIFIER training (Yields X, y, sample_weights)\n",
    "# --- (data_generator_classifier function remains the same as corrected before) ---\n",
    "def data_generator_classifier(data_path, batch_size=32, shuffle=True, target_frames=TARGET_FRAMES, sr=16000, duration=4, n_mels=80, n_fft=2048, hop_length=512):\n",
    "    real_files = []\n",
    "    fake_files = []\n",
    "    try:\n",
    "        real_dir = os.path.join(data_path, 'real')\n",
    "        fake_dir = os.path.join(data_path, 'fake')\n",
    "        if os.path.exists(real_dir):\n",
    "             real_files = [os.path.join(real_dir, f) for f in os.listdir(real_dir) if f.endswith('.wav')]\n",
    "        if os.path.exists(fake_dir):\n",
    "             fake_files = [os.path.join(fake_dir, f) for f in os.listdir(fake_dir) if f.endswith('.wav')]\n",
    "    except FileNotFoundError as e:\n",
    "        print(f\"Error finding directories in {data_path}: {e}\")\n",
    "        return\n",
    "\n",
    "    all_files = real_files + fake_files\n",
    "    labels = [1] * len(real_files) + [0] * len(fake_files) # Real=1, Fake=0\n",
    "\n",
    "    if not all_files:\n",
    "        print(f\"No WAV files found in {data_path}. Classifier generator stopping.\")\n",
    "        return\n",
    "\n",
    "    total_samples = len(all_files)\n",
    "    class_weights = {\n",
    "        1: total_samples / (2 * len(real_files)) if len(real_files) > 0 else 1.0,\n",
    "        0: total_samples / (2 * len(fake_files)) if len(fake_files) > 0 else 1.0,\n",
    "    }\n",
    "    print(f\"Using class weights: {class_weights} for path {data_path}\")\n",
    "\n",
    "\n",
    "    indices = np.arange(total_samples)\n",
    "    while True:\n",
    "        if shuffle:\n",
    "            np.random.shuffle(indices)\n",
    "\n",
    "        for i in range(0, total_samples, batch_size):\n",
    "            batch_indices = indices[i:i+batch_size]\n",
    "            batch_files = [all_files[k] for k in batch_indices]\n",
    "            batch_labels = [labels[k] for k in batch_indices]\n",
    "\n",
    "            batch_x = []\n",
    "            batch_y = []\n",
    "            batch_sample_weights = []\n",
    "\n",
    "            for file_path, label in zip(batch_files, batch_labels):\n",
    "                audio = load_and_preprocess_audio(file_path, sr=sr, duration=duration)\n",
    "                if audio is None: continue\n",
    "\n",
    "                features = extract_features(audio, sr=sr, n_mels=n_mels, n_fft=n_fft, hop_length=hop_length)\n",
    "                if features is None: continue\n",
    "\n",
    "                current_frames = features.shape[1]\n",
    "                if current_frames != target_frames:\n",
    "                     if current_frames < target_frames:\n",
    "                        pad_width = target_frames - current_frames\n",
    "                        padded_features = np.pad(features, ((0, 0), (0, pad_width)), mode='constant')\n",
    "                     else:\n",
    "                        padded_features = features[:, :target_frames]\n",
    "                else:\n",
    "                    padded_features = features\n",
    "\n",
    "                batch_x.append(padded_features)\n",
    "                batch_y.append(label)\n",
    "                batch_sample_weights.append(class_weights[label])\n",
    "\n",
    "            # --- Check for classifier generator ---\n",
    "            if not batch_x:\n",
    "                print(f\"Warning: Skipping empty batch yield in data_generator_classifier for path {data_path}\")\n",
    "                continue\n",
    "\n",
    "            batch_x_4d = np.expand_dims(np.array(batch_x), axis=-1).astype(np.float32)\n",
    "            batch_y_arr = np.array(batch_y).astype(np.float32)\n",
    "            batch_weights_arr = np.array(batch_sample_weights).astype(np.float32)\n",
    "            yield batch_x_4d, batch_y_arr, batch_weights_arr\n",
    "\n",
    "\n",
    "# Data generator for WGAN training (Yields real fake samples X only)\n",
    "# --- (MODIFIED data_generator_gan function) ---\n",
    "def data_generator_gan(data_path, batch_size=32, shuffle=True, target_frames=TARGET_FRAMES, sr=16000, duration=4, n_mels=80, n_fft=2048, hop_length=512):\n",
    "    fake_files = []\n",
    "    try:\n",
    "        fake_dir = os.path.join(data_path, 'fake')\n",
    "        if os.path.exists(fake_dir):\n",
    "             fake_files = [os.path.join(fake_dir, f) for f in os.listdir(fake_dir) if f.endswith('.wav')]\n",
    "    except FileNotFoundError as e:\n",
    "        print(f\"Error finding fake directory in {data_path}: {e}\")\n",
    "        return\n",
    "\n",
    "    if not fake_files:\n",
    "        print(f\"No fake WAV files found in {data_path}. GAN generator stopping.\")\n",
    "        return\n",
    "\n",
    "    total_samples = len(fake_files)\n",
    "    indices = np.arange(total_samples)\n",
    "\n",
    "    while True:\n",
    "        if shuffle:\n",
    "            np.random.shuffle(indices)\n",
    "\n",
    "        for i in range(0, total_samples, batch_size):\n",
    "            batch_indices = indices[i:i+batch_size]\n",
    "            batch_files = [fake_files[k] for k in batch_indices]\n",
    "\n",
    "            batch_x = []\n",
    "\n",
    "            for file_path in batch_files:\n",
    "                audio = load_and_preprocess_audio(file_path, sr=sr, duration=duration)\n",
    "                if audio is None: continue\n",
    "\n",
    "                features = extract_features(audio, sr=sr, n_mels=n_mels, n_fft=n_fft, hop_length=hop_length)\n",
    "                if features is None: continue\n",
    "\n",
    "                current_frames = features.shape[1]\n",
    "                if current_frames != target_frames:\n",
    "                    if current_frames < target_frames:\n",
    "                        pad_width = target_frames - current_frames\n",
    "                        padded_features = np.pad(features, ((0, 0), (0, pad_width)), mode='constant')\n",
    "                    else:\n",
    "                        padded_features = features[:, :target_frames]\n",
    "                else:\n",
    "                     padded_features = features\n",
    "\n",
    "                batch_x.append(padded_features)\n",
    "\n",
    "            # ---> ADD THIS CHECK for GAN generator <---\n",
    "            if not batch_x:\n",
    "                print(f\"Warning: Skipping empty batch yield in data_generator_gan for path {data_path}\")\n",
    "                continue # Skip yield if batch ended up empty\n",
    "\n",
    "            # If batch is not empty, yield the data\n",
    "            batch_x_4d = np.expand_dims(np.array(batch_x), axis=-1).astype(np.float32)\n",
    "            yield batch_x_4d # Yield only the features (4D array)"
   ]
  },
  {
   "cell_type": "code",
   "execution_count": 7,
   "metadata": {},
   "outputs": [],
   "source": [
    "# Cell 7: Self-Attention Layer (SAGAN style)\n",
    "\n",
    "class SelfAttention(Layer):\n",
    "    \"\"\"\n",
    "    Self-attention layer based on SAGAN.\n",
    "    Input shape: (batch, height, width, channels)\n",
    "    Output shape: (batch, height, width, channels_out) where channels_out is typically channels\n",
    "    \"\"\"\n",
    "    def __init__(self, channels_out=None, **kwargs):\n",
    "        super(SelfAttention, self).__init__(**kwargs)\n",
    "        self.channels_out = channels_out\n",
    "\n",
    "    def build(self, input_shape):\n",
    "        self.input_channels = input_shape[-1]\n",
    "        if self.channels_out is None:\n",
    "            self.channels_out = self.input_channels\n",
    "\n",
    "        # Convolution layers for query, key, value\n",
    "        # Use 1x1 convolutions to reduce/transform channels\n",
    "        self.f = Conv2D(self.input_channels // 8, kernel_size=1, strides=1, padding='same', name='conv_f') # Query\n",
    "        self.g = Conv2D(self.input_channels // 8, kernel_size=1, strides=1, padding='same', name='conv_g') # Key\n",
    "        self.h = Conv2D(self.channels_out, kernel_size=1, strides=1, padding='same', name='conv_h')        # Value\n",
    "\n",
    "        # Final 1x1 convolution\n",
    "        self.out_conv = Conv2D(self.channels_out, kernel_size=1, strides=1, padding='same', name='conv_out')\n",
    "\n",
    "        # Learnable scale parameter\n",
    "        self.gamma = self.add_weight(name='gamma', shape=(1,), initializer='zeros', trainable=True)\n",
    "\n",
    "        super(SelfAttention, self).build(input_shape)\n",
    "\n",
    "    def call(self, x):\n",
    "        batch_size, height, width, num_channels = tf.shape(x)[0], tf.shape(x)[1], tf.shape(x)[2], tf.shape(x)[3]\n",
    "        location_num = height * width\n",
    "        downsampled_num = location_num\n",
    "\n",
    "        # Query (f), Key (g), Value (h) projections\n",
    "        f_proj = self.f(x) # Shape: (batch, h, w, c/8)\n",
    "        g_proj = self.g(x) # Shape: (batch, h, w, c/8)\n",
    "        h_proj = self.h(x) # Shape: (batch, h, w, c_out)\n",
    "\n",
    "        # Reshape for matrix multiplication\n",
    "        f_flat = tf.reshape(f_proj, shape=(batch_size, location_num, self.input_channels // 8)) # (batch, h*w, c/8)\n",
    "        g_flat = tf.reshape(g_proj, shape=(batch_size, location_num, self.input_channels // 8)) # (batch, h*w, c/8)\n",
    "        h_flat = tf.reshape(h_proj, shape=(batch_size, location_num, self.channels_out))       # (batch, h*w, c_out)\n",
    "\n",
    "        # Attention map calculation\n",
    "        # Transpose g for matmul: (batch, c/8, h*w)\n",
    "        g_flat_t = tf.transpose(g_flat, perm=[0, 2, 1])\n",
    "        # Attention score: (batch, h*w, c/8) x (batch, c/8, h*w) -> (batch, h*w, h*w)\n",
    "        attention_score = tf.matmul(f_flat, g_flat_t)\n",
    "        attention_prob = tf.nn.softmax(attention_score, axis=-1) # Apply softmax across locations\n",
    "\n",
    "        # Apply attention map to value projection\n",
    "        # (batch, h*w, h*w) x (batch, h*w, c_out) -> (batch, h*w, c_out)\n",
    "        attention_output = tf.matmul(attention_prob, h_flat)\n",
    "\n",
    "        # Reshape back to image format\n",
    "        attention_output_reshaped = tf.reshape(attention_output, shape=(batch_size, height, width, self.channels_out))\n",
    "\n",
    "        # Apply final 1x1 convolution and scale by gamma\n",
    "        o = self.out_conv(attention_output_reshaped)\n",
    "        y = self.gamma * o + x # Additive skip connection\n",
    "\n",
    "        return y\n",
    "\n",
    "    def compute_output_shape(self, input_shape):\n",
    "        return input_shape[:-1] + (self.channels_out,)"
   ]
  },
  {
   "cell_type": "code",
   "execution_count": 8,
   "metadata": {},
   "outputs": [],
   "source": [
    "# Cell 8: Generator Model (with Self-Attention)\n",
    "\n",
    "def create_generator(latent_dim, output_shape): # output_shape (n_mels, n_frames) e.g., (80, 126)\n",
    "    \"\"\"Creates the generator model with Self-Attention.\"\"\"\n",
    "    n_mels, n_frames = output_shape\n",
    "    init_h, init_w = n_mels // 8, n_frames // 8 # Calculate initial dimensions based on 3 upsamples (2*2*2=8)\n",
    "    init_c = 128 # Initial channels\n",
    "\n",
    "    if init_h * 8 != n_mels or init_w * 8 != n_frames:\n",
    "         print(f\"Warning: Output shape {output_shape} might not be perfectly reached with 3 strides of 2. Adjusting initial size or layers.\")\n",
    "         # Adjust init_w slightly if needed, e.g. target 128 -> 16, target 126 -> 16 (trim later)\n",
    "         init_w = (n_frames + 7) // 8 # Ceiling division equivalent for width\n",
    "\n",
    "    nodes = init_h * init_w * init_c\n",
    "\n",
    "    model = Sequential(name='generator')\n",
    "    model.add(Input(shape=(latent_dim,)))\n",
    "\n",
    "    # Dense layer and reshape\n",
    "    model.add(Dense(nodes))\n",
    "    model.add(tf.keras.layers.LeakyReLU(negative_slope=0.2)) # Use negative_slope\n",
    "    model.add(Reshape((init_h, init_w, init_c))) # e.g., (10, 16, 128)\n",
    "\n",
    "    # Upsample 1: (10, 16, 128) -> (20, 32, 64)\n",
    "    model.add(Conv2DTranspose(init_c // 2, kernel_size=(4, 4), strides=(2, 2), padding='same', use_bias=False)) # Typically use_bias=False with Norm\n",
    "    model.add(LayerNormalization()) # Using LayerNorm instead of BatchNorm\n",
    "    model.add(tf.keras.layers.LeakyReLU(negative_slope=0.2))\n",
    "\n",
    "    # Upsample 2: (20, 32, 64) -> (40, 64, 32)\n",
    "    model.add(Conv2DTranspose(init_c // 4, kernel_size=(4, 4), strides=(2, 2), padding='same', use_bias=False))\n",
    "    model.add(LayerNormalization())\n",
    "    model.add(tf.keras.layers.LeakyReLU(negative_slope=0.2))\n",
    "\n",
    "    # Add Self-Attention Layer Here (applied to 40x64 feature map)\n",
    "    # Note: Attention can be computationally expensive. Apply strategically.\n",
    "    model.add(SelfAttention(channels_out=init_c // 4)) # Keep channels the same\n",
    "    # model.add(LayerNormalization()) # Optional normalization after attention\n",
    "    # model.add(tf.keras.layers.LeakyReLU(negative_slope=0.2)) # Optional activation after attention\n",
    "\n",
    "    # Upsample 3: (40, 64, 32) -> (80, 128, 1)\n",
    "    model.add(Conv2DTranspose(1, kernel_size=(4, 4), strides=(2, 2), padding='same', activation='tanh'))\n",
    "\n",
    "    # Final adjustment layer if needed (e.g., width 128 -> 126)\n",
    "    current_width = init_w * 8\n",
    "    if current_width != n_frames:\n",
    "        print(f\"Generator adding final Conv2D to adjust width from {current_width} to {n_frames}\")\n",
    "        # Calculate kernel size needed for 'valid' padding: K = W_in - W_out + 1\n",
    "        kernel_w = current_width - n_frames + 1\n",
    "        if kernel_w > 0:\n",
    "             model.add(Conv2D(1, kernel_size=(1, kernel_w), padding='valid', activation='tanh'))\n",
    "        else:\n",
    "            # This case shouldn't happen with the init_w calculation but handle just in case\n",
    "             print(f\"Warning: Could not adjust width with Conv2D. Current {current_width}, Target {n_frames}\")\n",
    "             # May need padding='same' and cropping layer if kernel_w is not positive\n",
    "\n",
    "    # Ensure final output shape is correct\n",
    "    # model.add(Reshape((n_mels, n_frames, 1))) # Add reshape just to be certain, though last Conv should handle it\n",
    "\n",
    "    return model"
   ]
  },
  {
   "cell_type": "code",
   "execution_count": 9,
   "metadata": {},
   "outputs": [],
   "source": [
    "# Cell 9: Critic (Discriminator) Model (with Self-Attention) - NO DROPOUT\n",
    "\n",
    "def create_critic(input_shape): # input_shape (n_mels, n_frames) e.g., (80, 126)\n",
    "    \"\"\"Creates the Critic model for WGAN-GP with Self-Attention. NO DROPOUT.\"\"\"\n",
    "    n_mels, n_frames = input_shape\n",
    "    model_input_shape = (n_mels, n_frames, 1) # Expects (80, 126, 1)\n",
    "\n",
    "    model = Sequential(name='critic')\n",
    "    model.add(Input(shape=model_input_shape))\n",
    "\n",
    "    # Layer 1\n",
    "    model.add(Conv2D(64, kernel_size=(4, 4), strides=(2, 2), padding='same'))\n",
    "    model.add(tf.keras.layers.LeakyReLU(negative_slope=0.2))\n",
    "    # model.add(Dropout(0.25)) # REMOVED\n",
    "\n",
    "    # Layer 2\n",
    "    model.add(Conv2D(128, kernel_size=(4, 4), strides=(2, 2), padding='same', use_bias=False))\n",
    "    model.add(LayerNormalization())\n",
    "    model.add(tf.keras.layers.LeakyReLU(negative_slope=0.2))\n",
    "    # model.add(Dropout(0.25)) # REMOVED\n",
    "\n",
    "    # Add Self-Attention Layer Here\n",
    "    model.add(SelfAttention(channels_out=128))\n",
    "\n",
    "    # Layer 3\n",
    "    model.add(Conv2D(256, kernel_size=(4, 4), strides=(2, 2), padding='same', use_bias=False))\n",
    "    model.add(LayerNormalization())\n",
    "    model.add(tf.keras.layers.LeakyReLU(negative_slope=0.2))\n",
    "    # model.add(Dropout(0.25)) # REMOVED (If you had one here)\n",
    "\n",
    "    # Flatten and Output Score\n",
    "    model.add(Flatten())\n",
    "    model.add(Dense(1))\n",
    "\n",
    "    return model"
   ]
  },
  {
   "cell_type": "code",
   "execution_count": 10,
   "metadata": {},
   "outputs": [],
   "source": [
    "# Cell 10: Define the GAN Model (Not used for WGAN-GP training loop)\n",
    "# def create_gan(generator, discriminator, latent_dim):\n",
    "#     \"\"\"Creates the combined GAN model.\"\"\"\n",
    "#     # Make discriminator non-trainable\n",
    "#     discriminator.trainable = False\n",
    "#\n",
    "#     # Stack generator and discriminator\n",
    "#     gan_input = Input(shape=(latent_dim,))\n",
    "#     gan_output = discriminator(generator(gan_input))\n",
    "#     gan = Model(gan_input, gan_output)\n",
    "#\n",
    "#     return gan"
   ]
  },
  {
   "cell_type": "code",
   "execution_count": 11,
   "metadata": {},
   "outputs": [
    {
     "name": "stderr",
     "output_type": "stream",
     "text": [
      "I0000 00:00:1743800291.578110  871463 gpu_device.cc:2019] Created device /job:localhost/replica:0/task:0/device:GPU:0 with 2143 MB memory:  -> device: 0, name: NVIDIA GeForce RTX 3050 Ti Laptop GPU, pci bus id: 0000:01:00.0, compute capability: 8.6\n"
     ]
    },
    {
     "name": "stdout",
     "output_type": "stream",
     "text": [
      "Warning: Output shape (80, 126) might not be perfectly reached with 3 strides of 2. Adjusting initial size or layers.\n",
      "Generator adding final Conv2D to adjust width from 128 to 126\n"
     ]
    },
    {
     "name": "stderr",
     "output_type": "stream",
     "text": [
      "I0000 00:00:1743800292.267179  871463 cuda_dnn.cc:529] Loaded cuDNN version 90300\n"
     ]
    },
    {
     "name": "stdout",
     "output_type": "stream",
     "text": [
      "Shape of generated image (Generator Output): (1, 80, 126, 1)\n",
      "Shape of critic output: (1, 1)\n",
      "Expected shape for Critic Input: (80, 126, 1)\n",
      "\n",
      "--- Generator Summary ---\n"
     ]
    },
    {
     "data": {
      "text/html": [
       "<pre style=\"white-space:pre;overflow-x:auto;line-height:normal;font-family:Menlo,'DejaVu Sans Mono',consolas,'Courier New',monospace\"><span style=\"font-weight: bold\">Model: \"generator\"</span>\n",
       "</pre>\n"
      ],
      "text/plain": [
       "\u001b[1mModel: \"generator\"\u001b[0m\n"
      ]
     },
     "metadata": {},
     "output_type": "display_data"
    },
    {
     "data": {
      "text/html": [
       "<pre style=\"white-space:pre;overflow-x:auto;line-height:normal;font-family:Menlo,'DejaVu Sans Mono',consolas,'Courier New',monospace\">┏━━━━━━━━━━━━━━━━━━━━━━━━━━━━━━━━━┳━━━━━━━━━━━━━━━━━━━━━━━━┳━━━━━━━━━━━━━━━┓\n",
       "┃<span style=\"font-weight: bold\"> Layer (type)                    </span>┃<span style=\"font-weight: bold\"> Output Shape           </span>┃<span style=\"font-weight: bold\">       Param # </span>┃\n",
       "┡━━━━━━━━━━━━━━━━━━━━━━━━━━━━━━━━━╇━━━━━━━━━━━━━━━━━━━━━━━━╇━━━━━━━━━━━━━━━┩\n",
       "│ dense (<span style=\"color: #0087ff; text-decoration-color: #0087ff\">Dense</span>)                   │ (<span style=\"color: #00d7ff; text-decoration-color: #00d7ff\">None</span>, <span style=\"color: #00af00; text-decoration-color: #00af00\">20480</span>)          │     <span style=\"color: #00af00; text-decoration-color: #00af00\">2,068,480</span> │\n",
       "├─────────────────────────────────┼────────────────────────┼───────────────┤\n",
       "│ leaky_re_lu (<span style=\"color: #0087ff; text-decoration-color: #0087ff\">LeakyReLU</span>)         │ (<span style=\"color: #00d7ff; text-decoration-color: #00d7ff\">None</span>, <span style=\"color: #00af00; text-decoration-color: #00af00\">20480</span>)          │             <span style=\"color: #00af00; text-decoration-color: #00af00\">0</span> │\n",
       "├─────────────────────────────────┼────────────────────────┼───────────────┤\n",
       "│ reshape (<span style=\"color: #0087ff; text-decoration-color: #0087ff\">Reshape</span>)               │ (<span style=\"color: #00d7ff; text-decoration-color: #00d7ff\">None</span>, <span style=\"color: #00af00; text-decoration-color: #00af00\">10</span>, <span style=\"color: #00af00; text-decoration-color: #00af00\">16</span>, <span style=\"color: #00af00; text-decoration-color: #00af00\">128</span>)    │             <span style=\"color: #00af00; text-decoration-color: #00af00\">0</span> │\n",
       "├─────────────────────────────────┼────────────────────────┼───────────────┤\n",
       "│ conv2d_transpose                │ (<span style=\"color: #00d7ff; text-decoration-color: #00d7ff\">None</span>, <span style=\"color: #00af00; text-decoration-color: #00af00\">20</span>, <span style=\"color: #00af00; text-decoration-color: #00af00\">32</span>, <span style=\"color: #00af00; text-decoration-color: #00af00\">64</span>)     │       <span style=\"color: #00af00; text-decoration-color: #00af00\">131,072</span> │\n",
       "│ (<span style=\"color: #0087ff; text-decoration-color: #0087ff\">Conv2DTranspose</span>)               │                        │               │\n",
       "├─────────────────────────────────┼────────────────────────┼───────────────┤\n",
       "│ layer_normalization             │ (<span style=\"color: #00d7ff; text-decoration-color: #00d7ff\">None</span>, <span style=\"color: #00af00; text-decoration-color: #00af00\">20</span>, <span style=\"color: #00af00; text-decoration-color: #00af00\">32</span>, <span style=\"color: #00af00; text-decoration-color: #00af00\">64</span>)     │           <span style=\"color: #00af00; text-decoration-color: #00af00\">128</span> │\n",
       "│ (<span style=\"color: #0087ff; text-decoration-color: #0087ff\">LayerNormalization</span>)            │                        │               │\n",
       "├─────────────────────────────────┼────────────────────────┼───────────────┤\n",
       "│ leaky_re_lu_1 (<span style=\"color: #0087ff; text-decoration-color: #0087ff\">LeakyReLU</span>)       │ (<span style=\"color: #00d7ff; text-decoration-color: #00d7ff\">None</span>, <span style=\"color: #00af00; text-decoration-color: #00af00\">20</span>, <span style=\"color: #00af00; text-decoration-color: #00af00\">32</span>, <span style=\"color: #00af00; text-decoration-color: #00af00\">64</span>)     │             <span style=\"color: #00af00; text-decoration-color: #00af00\">0</span> │\n",
       "├─────────────────────────────────┼────────────────────────┼───────────────┤\n",
       "│ conv2d_transpose_1              │ (<span style=\"color: #00d7ff; text-decoration-color: #00d7ff\">None</span>, <span style=\"color: #00af00; text-decoration-color: #00af00\">40</span>, <span style=\"color: #00af00; text-decoration-color: #00af00\">64</span>, <span style=\"color: #00af00; text-decoration-color: #00af00\">32</span>)     │        <span style=\"color: #00af00; text-decoration-color: #00af00\">32,768</span> │\n",
       "│ (<span style=\"color: #0087ff; text-decoration-color: #0087ff\">Conv2DTranspose</span>)               │                        │               │\n",
       "├─────────────────────────────────┼────────────────────────┼───────────────┤\n",
       "│ layer_normalization_1           │ (<span style=\"color: #00d7ff; text-decoration-color: #00d7ff\">None</span>, <span style=\"color: #00af00; text-decoration-color: #00af00\">40</span>, <span style=\"color: #00af00; text-decoration-color: #00af00\">64</span>, <span style=\"color: #00af00; text-decoration-color: #00af00\">32</span>)     │            <span style=\"color: #00af00; text-decoration-color: #00af00\">64</span> │\n",
       "│ (<span style=\"color: #0087ff; text-decoration-color: #0087ff\">LayerNormalization</span>)            │                        │               │\n",
       "├─────────────────────────────────┼────────────────────────┼───────────────┤\n",
       "│ leaky_re_lu_2 (<span style=\"color: #0087ff; text-decoration-color: #0087ff\">LeakyReLU</span>)       │ (<span style=\"color: #00d7ff; text-decoration-color: #00d7ff\">None</span>, <span style=\"color: #00af00; text-decoration-color: #00af00\">40</span>, <span style=\"color: #00af00; text-decoration-color: #00af00\">64</span>, <span style=\"color: #00af00; text-decoration-color: #00af00\">32</span>)     │             <span style=\"color: #00af00; text-decoration-color: #00af00\">0</span> │\n",
       "├─────────────────────────────────┼────────────────────────┼───────────────┤\n",
       "│ self_attention (<span style=\"color: #0087ff; text-decoration-color: #0087ff\">SelfAttention</span>)  │ (<span style=\"color: #00d7ff; text-decoration-color: #00d7ff\">None</span>, <span style=\"color: #00af00; text-decoration-color: #00af00\">40</span>, <span style=\"color: #00af00; text-decoration-color: #00af00\">64</span>, <span style=\"color: #00af00; text-decoration-color: #00af00\">32</span>)     │         <span style=\"color: #00af00; text-decoration-color: #00af00\">2,377</span> │\n",
       "├─────────────────────────────────┼────────────────────────┼───────────────┤\n",
       "│ conv2d_transpose_2              │ (<span style=\"color: #00d7ff; text-decoration-color: #00d7ff\">None</span>, <span style=\"color: #00af00; text-decoration-color: #00af00\">80</span>, <span style=\"color: #00af00; text-decoration-color: #00af00\">128</span>, <span style=\"color: #00af00; text-decoration-color: #00af00\">1</span>)     │           <span style=\"color: #00af00; text-decoration-color: #00af00\">513</span> │\n",
       "│ (<span style=\"color: #0087ff; text-decoration-color: #0087ff\">Conv2DTranspose</span>)               │                        │               │\n",
       "├─────────────────────────────────┼────────────────────────┼───────────────┤\n",
       "│ conv2d (<span style=\"color: #0087ff; text-decoration-color: #0087ff\">Conv2D</span>)                 │ (<span style=\"color: #00d7ff; text-decoration-color: #00d7ff\">None</span>, <span style=\"color: #00af00; text-decoration-color: #00af00\">80</span>, <span style=\"color: #00af00; text-decoration-color: #00af00\">126</span>, <span style=\"color: #00af00; text-decoration-color: #00af00\">1</span>)     │             <span style=\"color: #00af00; text-decoration-color: #00af00\">4</span> │\n",
       "└─────────────────────────────────┴────────────────────────┴───────────────┘\n",
       "</pre>\n"
      ],
      "text/plain": [
       "┏━━━━━━━━━━━━━━━━━━━━━━━━━━━━━━━━━┳━━━━━━━━━━━━━━━━━━━━━━━━┳━━━━━━━━━━━━━━━┓\n",
       "┃\u001b[1m \u001b[0m\u001b[1mLayer (type)                   \u001b[0m\u001b[1m \u001b[0m┃\u001b[1m \u001b[0m\u001b[1mOutput Shape          \u001b[0m\u001b[1m \u001b[0m┃\u001b[1m \u001b[0m\u001b[1m      Param #\u001b[0m\u001b[1m \u001b[0m┃\n",
       "┡━━━━━━━━━━━━━━━━━━━━━━━━━━━━━━━━━╇━━━━━━━━━━━━━━━━━━━━━━━━╇━━━━━━━━━━━━━━━┩\n",
       "│ dense (\u001b[38;5;33mDense\u001b[0m)                   │ (\u001b[38;5;45mNone\u001b[0m, \u001b[38;5;34m20480\u001b[0m)          │     \u001b[38;5;34m2,068,480\u001b[0m │\n",
       "├─────────────────────────────────┼────────────────────────┼───────────────┤\n",
       "│ leaky_re_lu (\u001b[38;5;33mLeakyReLU\u001b[0m)         │ (\u001b[38;5;45mNone\u001b[0m, \u001b[38;5;34m20480\u001b[0m)          │             \u001b[38;5;34m0\u001b[0m │\n",
       "├─────────────────────────────────┼────────────────────────┼───────────────┤\n",
       "│ reshape (\u001b[38;5;33mReshape\u001b[0m)               │ (\u001b[38;5;45mNone\u001b[0m, \u001b[38;5;34m10\u001b[0m, \u001b[38;5;34m16\u001b[0m, \u001b[38;5;34m128\u001b[0m)    │             \u001b[38;5;34m0\u001b[0m │\n",
       "├─────────────────────────────────┼────────────────────────┼───────────────┤\n",
       "│ conv2d_transpose                │ (\u001b[38;5;45mNone\u001b[0m, \u001b[38;5;34m20\u001b[0m, \u001b[38;5;34m32\u001b[0m, \u001b[38;5;34m64\u001b[0m)     │       \u001b[38;5;34m131,072\u001b[0m │\n",
       "│ (\u001b[38;5;33mConv2DTranspose\u001b[0m)               │                        │               │\n",
       "├─────────────────────────────────┼────────────────────────┼───────────────┤\n",
       "│ layer_normalization             │ (\u001b[38;5;45mNone\u001b[0m, \u001b[38;5;34m20\u001b[0m, \u001b[38;5;34m32\u001b[0m, \u001b[38;5;34m64\u001b[0m)     │           \u001b[38;5;34m128\u001b[0m │\n",
       "│ (\u001b[38;5;33mLayerNormalization\u001b[0m)            │                        │               │\n",
       "├─────────────────────────────────┼────────────────────────┼───────────────┤\n",
       "│ leaky_re_lu_1 (\u001b[38;5;33mLeakyReLU\u001b[0m)       │ (\u001b[38;5;45mNone\u001b[0m, \u001b[38;5;34m20\u001b[0m, \u001b[38;5;34m32\u001b[0m, \u001b[38;5;34m64\u001b[0m)     │             \u001b[38;5;34m0\u001b[0m │\n",
       "├─────────────────────────────────┼────────────────────────┼───────────────┤\n",
       "│ conv2d_transpose_1              │ (\u001b[38;5;45mNone\u001b[0m, \u001b[38;5;34m40\u001b[0m, \u001b[38;5;34m64\u001b[0m, \u001b[38;5;34m32\u001b[0m)     │        \u001b[38;5;34m32,768\u001b[0m │\n",
       "│ (\u001b[38;5;33mConv2DTranspose\u001b[0m)               │                        │               │\n",
       "├─────────────────────────────────┼────────────────────────┼───────────────┤\n",
       "│ layer_normalization_1           │ (\u001b[38;5;45mNone\u001b[0m, \u001b[38;5;34m40\u001b[0m, \u001b[38;5;34m64\u001b[0m, \u001b[38;5;34m32\u001b[0m)     │            \u001b[38;5;34m64\u001b[0m │\n",
       "│ (\u001b[38;5;33mLayerNormalization\u001b[0m)            │                        │               │\n",
       "├─────────────────────────────────┼────────────────────────┼───────────────┤\n",
       "│ leaky_re_lu_2 (\u001b[38;5;33mLeakyReLU\u001b[0m)       │ (\u001b[38;5;45mNone\u001b[0m, \u001b[38;5;34m40\u001b[0m, \u001b[38;5;34m64\u001b[0m, \u001b[38;5;34m32\u001b[0m)     │             \u001b[38;5;34m0\u001b[0m │\n",
       "├─────────────────────────────────┼────────────────────────┼───────────────┤\n",
       "│ self_attention (\u001b[38;5;33mSelfAttention\u001b[0m)  │ (\u001b[38;5;45mNone\u001b[0m, \u001b[38;5;34m40\u001b[0m, \u001b[38;5;34m64\u001b[0m, \u001b[38;5;34m32\u001b[0m)     │         \u001b[38;5;34m2,377\u001b[0m │\n",
       "├─────────────────────────────────┼────────────────────────┼───────────────┤\n",
       "│ conv2d_transpose_2              │ (\u001b[38;5;45mNone\u001b[0m, \u001b[38;5;34m80\u001b[0m, \u001b[38;5;34m128\u001b[0m, \u001b[38;5;34m1\u001b[0m)     │           \u001b[38;5;34m513\u001b[0m │\n",
       "│ (\u001b[38;5;33mConv2DTranspose\u001b[0m)               │                        │               │\n",
       "├─────────────────────────────────┼────────────────────────┼───────────────┤\n",
       "│ conv2d (\u001b[38;5;33mConv2D\u001b[0m)                 │ (\u001b[38;5;45mNone\u001b[0m, \u001b[38;5;34m80\u001b[0m, \u001b[38;5;34m126\u001b[0m, \u001b[38;5;34m1\u001b[0m)     │             \u001b[38;5;34m4\u001b[0m │\n",
       "└─────────────────────────────────┴────────────────────────┴───────────────┘\n"
      ]
     },
     "metadata": {},
     "output_type": "display_data"
    },
    {
     "data": {
      "text/html": [
       "<pre style=\"white-space:pre;overflow-x:auto;line-height:normal;font-family:Menlo,'DejaVu Sans Mono',consolas,'Courier New',monospace\"><span style=\"font-weight: bold\"> Total params: </span><span style=\"color: #00af00; text-decoration-color: #00af00\">2,235,406</span> (8.53 MB)\n",
       "</pre>\n"
      ],
      "text/plain": [
       "\u001b[1m Total params: \u001b[0m\u001b[38;5;34m2,235,406\u001b[0m (8.53 MB)\n"
      ]
     },
     "metadata": {},
     "output_type": "display_data"
    },
    {
     "data": {
      "text/html": [
       "<pre style=\"white-space:pre;overflow-x:auto;line-height:normal;font-family:Menlo,'DejaVu Sans Mono',consolas,'Courier New',monospace\"><span style=\"font-weight: bold\"> Trainable params: </span><span style=\"color: #00af00; text-decoration-color: #00af00\">2,235,406</span> (8.53 MB)\n",
       "</pre>\n"
      ],
      "text/plain": [
       "\u001b[1m Trainable params: \u001b[0m\u001b[38;5;34m2,235,406\u001b[0m (8.53 MB)\n"
      ]
     },
     "metadata": {},
     "output_type": "display_data"
    },
    {
     "data": {
      "text/html": [
       "<pre style=\"white-space:pre;overflow-x:auto;line-height:normal;font-family:Menlo,'DejaVu Sans Mono',consolas,'Courier New',monospace\"><span style=\"font-weight: bold\"> Non-trainable params: </span><span style=\"color: #00af00; text-decoration-color: #00af00\">0</span> (0.00 B)\n",
       "</pre>\n"
      ],
      "text/plain": [
       "\u001b[1m Non-trainable params: \u001b[0m\u001b[38;5;34m0\u001b[0m (0.00 B)\n"
      ]
     },
     "metadata": {},
     "output_type": "display_data"
    },
    {
     "name": "stdout",
     "output_type": "stream",
     "text": [
      "\n",
      "--- Critic Summary ---\n"
     ]
    },
    {
     "data": {
      "text/html": [
       "<pre style=\"white-space:pre;overflow-x:auto;line-height:normal;font-family:Menlo,'DejaVu Sans Mono',consolas,'Courier New',monospace\"><span style=\"font-weight: bold\">Model: \"critic\"</span>\n",
       "</pre>\n"
      ],
      "text/plain": [
       "\u001b[1mModel: \"critic\"\u001b[0m\n"
      ]
     },
     "metadata": {},
     "output_type": "display_data"
    },
    {
     "data": {
      "text/html": [
       "<pre style=\"white-space:pre;overflow-x:auto;line-height:normal;font-family:Menlo,'DejaVu Sans Mono',consolas,'Courier New',monospace\">┏━━━━━━━━━━━━━━━━━━━━━━━━━━━━━━━━━┳━━━━━━━━━━━━━━━━━━━━━━━━┳━━━━━━━━━━━━━━━┓\n",
       "┃<span style=\"font-weight: bold\"> Layer (type)                    </span>┃<span style=\"font-weight: bold\"> Output Shape           </span>┃<span style=\"font-weight: bold\">       Param # </span>┃\n",
       "┡━━━━━━━━━━━━━━━━━━━━━━━━━━━━━━━━━╇━━━━━━━━━━━━━━━━━━━━━━━━╇━━━━━━━━━━━━━━━┩\n",
       "│ conv2d_1 (<span style=\"color: #0087ff; text-decoration-color: #0087ff\">Conv2D</span>)               │ (<span style=\"color: #00d7ff; text-decoration-color: #00d7ff\">None</span>, <span style=\"color: #00af00; text-decoration-color: #00af00\">40</span>, <span style=\"color: #00af00; text-decoration-color: #00af00\">63</span>, <span style=\"color: #00af00; text-decoration-color: #00af00\">64</span>)     │         <span style=\"color: #00af00; text-decoration-color: #00af00\">1,088</span> │\n",
       "├─────────────────────────────────┼────────────────────────┼───────────────┤\n",
       "│ leaky_re_lu_3 (<span style=\"color: #0087ff; text-decoration-color: #0087ff\">LeakyReLU</span>)       │ (<span style=\"color: #00d7ff; text-decoration-color: #00d7ff\">None</span>, <span style=\"color: #00af00; text-decoration-color: #00af00\">40</span>, <span style=\"color: #00af00; text-decoration-color: #00af00\">63</span>, <span style=\"color: #00af00; text-decoration-color: #00af00\">64</span>)     │             <span style=\"color: #00af00; text-decoration-color: #00af00\">0</span> │\n",
       "├─────────────────────────────────┼────────────────────────┼───────────────┤\n",
       "│ conv2d_2 (<span style=\"color: #0087ff; text-decoration-color: #0087ff\">Conv2D</span>)               │ (<span style=\"color: #00d7ff; text-decoration-color: #00d7ff\">None</span>, <span style=\"color: #00af00; text-decoration-color: #00af00\">20</span>, <span style=\"color: #00af00; text-decoration-color: #00af00\">32</span>, <span style=\"color: #00af00; text-decoration-color: #00af00\">128</span>)    │       <span style=\"color: #00af00; text-decoration-color: #00af00\">131,072</span> │\n",
       "├─────────────────────────────────┼────────────────────────┼───────────────┤\n",
       "│ layer_normalization_2           │ (<span style=\"color: #00d7ff; text-decoration-color: #00d7ff\">None</span>, <span style=\"color: #00af00; text-decoration-color: #00af00\">20</span>, <span style=\"color: #00af00; text-decoration-color: #00af00\">32</span>, <span style=\"color: #00af00; text-decoration-color: #00af00\">128</span>)    │           <span style=\"color: #00af00; text-decoration-color: #00af00\">256</span> │\n",
       "│ (<span style=\"color: #0087ff; text-decoration-color: #0087ff\">LayerNormalization</span>)            │                        │               │\n",
       "├─────────────────────────────────┼────────────────────────┼───────────────┤\n",
       "│ leaky_re_lu_4 (<span style=\"color: #0087ff; text-decoration-color: #0087ff\">LeakyReLU</span>)       │ (<span style=\"color: #00d7ff; text-decoration-color: #00d7ff\">None</span>, <span style=\"color: #00af00; text-decoration-color: #00af00\">20</span>, <span style=\"color: #00af00; text-decoration-color: #00af00\">32</span>, <span style=\"color: #00af00; text-decoration-color: #00af00\">128</span>)    │             <span style=\"color: #00af00; text-decoration-color: #00af00\">0</span> │\n",
       "├─────────────────────────────────┼────────────────────────┼───────────────┤\n",
       "│ self_attention_1                │ (<span style=\"color: #00d7ff; text-decoration-color: #00d7ff\">None</span>, <span style=\"color: #00af00; text-decoration-color: #00af00\">20</span>, <span style=\"color: #00af00; text-decoration-color: #00af00\">32</span>, <span style=\"color: #00af00; text-decoration-color: #00af00\">128</span>)    │        <span style=\"color: #00af00; text-decoration-color: #00af00\">37,153</span> │\n",
       "│ (<span style=\"color: #0087ff; text-decoration-color: #0087ff\">SelfAttention</span>)                 │                        │               │\n",
       "├─────────────────────────────────┼────────────────────────┼───────────────┤\n",
       "│ conv2d_3 (<span style=\"color: #0087ff; text-decoration-color: #0087ff\">Conv2D</span>)               │ (<span style=\"color: #00d7ff; text-decoration-color: #00d7ff\">None</span>, <span style=\"color: #00af00; text-decoration-color: #00af00\">10</span>, <span style=\"color: #00af00; text-decoration-color: #00af00\">16</span>, <span style=\"color: #00af00; text-decoration-color: #00af00\">256</span>)    │       <span style=\"color: #00af00; text-decoration-color: #00af00\">524,288</span> │\n",
       "├─────────────────────────────────┼────────────────────────┼───────────────┤\n",
       "│ layer_normalization_3           │ (<span style=\"color: #00d7ff; text-decoration-color: #00d7ff\">None</span>, <span style=\"color: #00af00; text-decoration-color: #00af00\">10</span>, <span style=\"color: #00af00; text-decoration-color: #00af00\">16</span>, <span style=\"color: #00af00; text-decoration-color: #00af00\">256</span>)    │           <span style=\"color: #00af00; text-decoration-color: #00af00\">512</span> │\n",
       "│ (<span style=\"color: #0087ff; text-decoration-color: #0087ff\">LayerNormalization</span>)            │                        │               │\n",
       "├─────────────────────────────────┼────────────────────────┼───────────────┤\n",
       "│ leaky_re_lu_5 (<span style=\"color: #0087ff; text-decoration-color: #0087ff\">LeakyReLU</span>)       │ (<span style=\"color: #00d7ff; text-decoration-color: #00d7ff\">None</span>, <span style=\"color: #00af00; text-decoration-color: #00af00\">10</span>, <span style=\"color: #00af00; text-decoration-color: #00af00\">16</span>, <span style=\"color: #00af00; text-decoration-color: #00af00\">256</span>)    │             <span style=\"color: #00af00; text-decoration-color: #00af00\">0</span> │\n",
       "├─────────────────────────────────┼────────────────────────┼───────────────┤\n",
       "│ flatten (<span style=\"color: #0087ff; text-decoration-color: #0087ff\">Flatten</span>)               │ (<span style=\"color: #00d7ff; text-decoration-color: #00d7ff\">None</span>, <span style=\"color: #00af00; text-decoration-color: #00af00\">40960</span>)          │             <span style=\"color: #00af00; text-decoration-color: #00af00\">0</span> │\n",
       "├─────────────────────────────────┼────────────────────────┼───────────────┤\n",
       "│ dense_1 (<span style=\"color: #0087ff; text-decoration-color: #0087ff\">Dense</span>)                 │ (<span style=\"color: #00d7ff; text-decoration-color: #00d7ff\">None</span>, <span style=\"color: #00af00; text-decoration-color: #00af00\">1</span>)              │        <span style=\"color: #00af00; text-decoration-color: #00af00\">40,961</span> │\n",
       "└─────────────────────────────────┴────────────────────────┴───────────────┘\n",
       "</pre>\n"
      ],
      "text/plain": [
       "┏━━━━━━━━━━━━━━━━━━━━━━━━━━━━━━━━━┳━━━━━━━━━━━━━━━━━━━━━━━━┳━━━━━━━━━━━━━━━┓\n",
       "┃\u001b[1m \u001b[0m\u001b[1mLayer (type)                   \u001b[0m\u001b[1m \u001b[0m┃\u001b[1m \u001b[0m\u001b[1mOutput Shape          \u001b[0m\u001b[1m \u001b[0m┃\u001b[1m \u001b[0m\u001b[1m      Param #\u001b[0m\u001b[1m \u001b[0m┃\n",
       "┡━━━━━━━━━━━━━━━━━━━━━━━━━━━━━━━━━╇━━━━━━━━━━━━━━━━━━━━━━━━╇━━━━━━━━━━━━━━━┩\n",
       "│ conv2d_1 (\u001b[38;5;33mConv2D\u001b[0m)               │ (\u001b[38;5;45mNone\u001b[0m, \u001b[38;5;34m40\u001b[0m, \u001b[38;5;34m63\u001b[0m, \u001b[38;5;34m64\u001b[0m)     │         \u001b[38;5;34m1,088\u001b[0m │\n",
       "├─────────────────────────────────┼────────────────────────┼───────────────┤\n",
       "│ leaky_re_lu_3 (\u001b[38;5;33mLeakyReLU\u001b[0m)       │ (\u001b[38;5;45mNone\u001b[0m, \u001b[38;5;34m40\u001b[0m, \u001b[38;5;34m63\u001b[0m, \u001b[38;5;34m64\u001b[0m)     │             \u001b[38;5;34m0\u001b[0m │\n",
       "├─────────────────────────────────┼────────────────────────┼───────────────┤\n",
       "│ conv2d_2 (\u001b[38;5;33mConv2D\u001b[0m)               │ (\u001b[38;5;45mNone\u001b[0m, \u001b[38;5;34m20\u001b[0m, \u001b[38;5;34m32\u001b[0m, \u001b[38;5;34m128\u001b[0m)    │       \u001b[38;5;34m131,072\u001b[0m │\n",
       "├─────────────────────────────────┼────────────────────────┼───────────────┤\n",
       "│ layer_normalization_2           │ (\u001b[38;5;45mNone\u001b[0m, \u001b[38;5;34m20\u001b[0m, \u001b[38;5;34m32\u001b[0m, \u001b[38;5;34m128\u001b[0m)    │           \u001b[38;5;34m256\u001b[0m │\n",
       "│ (\u001b[38;5;33mLayerNormalization\u001b[0m)            │                        │               │\n",
       "├─────────────────────────────────┼────────────────────────┼───────────────┤\n",
       "│ leaky_re_lu_4 (\u001b[38;5;33mLeakyReLU\u001b[0m)       │ (\u001b[38;5;45mNone\u001b[0m, \u001b[38;5;34m20\u001b[0m, \u001b[38;5;34m32\u001b[0m, \u001b[38;5;34m128\u001b[0m)    │             \u001b[38;5;34m0\u001b[0m │\n",
       "├─────────────────────────────────┼────────────────────────┼───────────────┤\n",
       "│ self_attention_1                │ (\u001b[38;5;45mNone\u001b[0m, \u001b[38;5;34m20\u001b[0m, \u001b[38;5;34m32\u001b[0m, \u001b[38;5;34m128\u001b[0m)    │        \u001b[38;5;34m37,153\u001b[0m │\n",
       "│ (\u001b[38;5;33mSelfAttention\u001b[0m)                 │                        │               │\n",
       "├─────────────────────────────────┼────────────────────────┼───────────────┤\n",
       "│ conv2d_3 (\u001b[38;5;33mConv2D\u001b[0m)               │ (\u001b[38;5;45mNone\u001b[0m, \u001b[38;5;34m10\u001b[0m, \u001b[38;5;34m16\u001b[0m, \u001b[38;5;34m256\u001b[0m)    │       \u001b[38;5;34m524,288\u001b[0m │\n",
       "├─────────────────────────────────┼────────────────────────┼───────────────┤\n",
       "│ layer_normalization_3           │ (\u001b[38;5;45mNone\u001b[0m, \u001b[38;5;34m10\u001b[0m, \u001b[38;5;34m16\u001b[0m, \u001b[38;5;34m256\u001b[0m)    │           \u001b[38;5;34m512\u001b[0m │\n",
       "│ (\u001b[38;5;33mLayerNormalization\u001b[0m)            │                        │               │\n",
       "├─────────────────────────────────┼────────────────────────┼───────────────┤\n",
       "│ leaky_re_lu_5 (\u001b[38;5;33mLeakyReLU\u001b[0m)       │ (\u001b[38;5;45mNone\u001b[0m, \u001b[38;5;34m10\u001b[0m, \u001b[38;5;34m16\u001b[0m, \u001b[38;5;34m256\u001b[0m)    │             \u001b[38;5;34m0\u001b[0m │\n",
       "├─────────────────────────────────┼────────────────────────┼───────────────┤\n",
       "│ flatten (\u001b[38;5;33mFlatten\u001b[0m)               │ (\u001b[38;5;45mNone\u001b[0m, \u001b[38;5;34m40960\u001b[0m)          │             \u001b[38;5;34m0\u001b[0m │\n",
       "├─────────────────────────────────┼────────────────────────┼───────────────┤\n",
       "│ dense_1 (\u001b[38;5;33mDense\u001b[0m)                 │ (\u001b[38;5;45mNone\u001b[0m, \u001b[38;5;34m1\u001b[0m)              │        \u001b[38;5;34m40,961\u001b[0m │\n",
       "└─────────────────────────────────┴────────────────────────┴───────────────┘\n"
      ]
     },
     "metadata": {},
     "output_type": "display_data"
    },
    {
     "data": {
      "text/html": [
       "<pre style=\"white-space:pre;overflow-x:auto;line-height:normal;font-family:Menlo,'DejaVu Sans Mono',consolas,'Courier New',monospace\"><span style=\"font-weight: bold\"> Total params: </span><span style=\"color: #00af00; text-decoration-color: #00af00\">735,330</span> (2.81 MB)\n",
       "</pre>\n"
      ],
      "text/plain": [
       "\u001b[1m Total params: \u001b[0m\u001b[38;5;34m735,330\u001b[0m (2.81 MB)\n"
      ]
     },
     "metadata": {},
     "output_type": "display_data"
    },
    {
     "data": {
      "text/html": [
       "<pre style=\"white-space:pre;overflow-x:auto;line-height:normal;font-family:Menlo,'DejaVu Sans Mono',consolas,'Courier New',monospace\"><span style=\"font-weight: bold\"> Trainable params: </span><span style=\"color: #00af00; text-decoration-color: #00af00\">735,330</span> (2.81 MB)\n",
       "</pre>\n"
      ],
      "text/plain": [
       "\u001b[1m Trainable params: \u001b[0m\u001b[38;5;34m735,330\u001b[0m (2.81 MB)\n"
      ]
     },
     "metadata": {},
     "output_type": "display_data"
    },
    {
     "data": {
      "text/html": [
       "<pre style=\"white-space:pre;overflow-x:auto;line-height:normal;font-family:Menlo,'DejaVu Sans Mono',consolas,'Courier New',monospace\"><span style=\"font-weight: bold\"> Non-trainable params: </span><span style=\"color: #00af00; text-decoration-color: #00af00\">0</span> (0.00 B)\n",
       "</pre>\n"
      ],
      "text/plain": [
       "\u001b[1m Non-trainable params: \u001b[0m\u001b[38;5;34m0\u001b[0m (0.00 B)\n"
      ]
     },
     "metadata": {},
     "output_type": "display_data"
    }
   ],
   "source": [
    "# Cell 11: Data Path and Parameters\n",
    "\n",
    "# Data Paths\n",
    "train_data_path = 'datasetNEW/train'\n",
    "dev_data_path = 'datasetNEW/dev'\n",
    "eval_data_path = 'datasetNEW/eval'\n",
    "\n",
    "# Define the fixed number of frames\n",
    "TARGET_FRAMES = 126\n",
    "N_MELS = 80\n",
    "mel_spectrogram_shape = (N_MELS, TARGET_FRAMES)\n",
    "\n",
    "# WGAN-GP specific parameters\n",
    "latent_dim = 100\n",
    "n_critic = 5         # Train critic 5 times per generator update\n",
    "gp_weight = 1.0     # Gradient penalty weight\n",
    "gan_epochs = 75      # WGAN often needs more epochs, adjust as needed\n",
    "gan_batch_size = 8  # Adjust based on GPU memory (WGAN-GP can be memory intensive)\n",
    "\n",
    "# Optimizers (Typical WGAN settings: lower LR, betas=(0.5, 0.9))\n",
    "critic_optimizer = Adam(learning_rate=1e-5, beta_1=0.5, beta_2=0.9) # TRY LOWER LR\n",
    "generator_optimizer = Adam(learning_rate=1e-5, beta_1=0.5, beta_2=0.9)\n",
    "# critic_optimizer = RMSprop(learning_rate=0.00005) # Alternative optimizer\n",
    "# generator_optimizer = RMSprop(learning_rate=0.00005)\n",
    "\n",
    "# Create instances\n",
    "generator = create_generator(latent_dim, mel_spectrogram_shape)\n",
    "critic = create_critic(mel_spectrogram_shape)\n",
    "\n",
    "# Diagnostic Code: Verify Output Shape\n",
    "test_noise = tf.random.normal((1, latent_dim))\n",
    "generated_image = generator(test_noise, training=False) # Use tf.random and call model directly\n",
    "critic_output = critic(generated_image, training=False)\n",
    "print(\"Shape of generated image (Generator Output):\", generated_image.shape)\n",
    "print(\"Shape of critic output:\", critic_output.shape)\n",
    "\n",
    "critic_input_shape_expected = (mel_spectrogram_shape[0], mel_spectrogram_shape[1], 1)\n",
    "print(\"Expected shape for Critic Input:\", critic_input_shape_expected)\n",
    "assert generated_image.shape[1:] == critic_input_shape_expected, \"Generator output shape mismatch!\"\n",
    "assert len(critic_output.shape) == 2 and critic_output.shape[1] == 1, \"Critic output shape mismatch!\"\n",
    "\n",
    "\n",
    "# Report the models\n",
    "print(\"\\n--- Generator Summary ---\")\n",
    "generator.summary()\n",
    "print(\"\\n--- Critic Summary ---\")\n",
    "critic.summary()\n",
    "\n",
    "# Parameters for standalone classifier training (can be different)\n",
    "classifier_batch_size = 8 # Keep smaller for classifier fine-tuning?\n",
    "classifier_epochs = 60"
   ]
  },
  {
   "cell_type": "code",
   "execution_count": 12,
   "metadata": {},
   "outputs": [
    {
     "name": "stdout",
     "output_type": "stream",
     "text": [
      "Calculated 2850 GAN steps per epoch.\n",
      "\n",
      "Begin WGAN-GP training!\n",
      "\n",
      "Epoch 1/75\n"
     ]
    },
    {
     "data": {
      "application/vnd.jupyter.widget-view+json": {
       "model_id": "5367cdb42f1e457fa2e3f709988745ee",
       "version_major": 2,
       "version_minor": 0
      },
      "text/plain": [
       "Epoch 1:   0%|          | 0/2850 [00:00<?, ?it/s]"
      ]
     },
     "metadata": {},
     "output_type": "display_data"
    },
    {
     "name": "stdout",
     "output_type": "stream",
     "text": [
      "Epoch 1 finished. Avg C Loss: -219.9451, Avg G Loss: 307.1595\n",
      "\n",
      "Epoch 2/75\n"
     ]
    },
    {
     "data": {
      "application/vnd.jupyter.widget-view+json": {
       "model_id": "dc8335674f404f3eb6159323cdc70973",
       "version_major": 2,
       "version_minor": 0
      },
      "text/plain": [
       "Epoch 2:   0%|          | 0/2850 [00:00<?, ?it/s]"
      ]
     },
     "metadata": {},
     "output_type": "display_data"
    },
    {
     "name": "stdout",
     "output_type": "stream",
     "text": [
      "Epoch 2 finished. Avg C Loss: -4.8017, Avg G Loss: -246.2648\n",
      "\n",
      "Epoch 3/75\n"
     ]
    },
    {
     "data": {
      "application/vnd.jupyter.widget-view+json": {
       "model_id": "e18daab18516441787db41b6a4929183",
       "version_major": 2,
       "version_minor": 0
      },
      "text/plain": [
       "Epoch 3:   0%|          | 0/2850 [00:00<?, ?it/s]"
      ]
     },
     "metadata": {},
     "output_type": "display_data"
    },
    {
     "name": "stdout",
     "output_type": "stream",
     "text": [
      "Epoch 3 finished. Avg C Loss: -6.4588, Avg G Loss: -388.3219\n",
      "\n",
      "Epoch 4/75\n"
     ]
    },
    {
     "data": {
      "application/vnd.jupyter.widget-view+json": {
       "model_id": "87541885fc804079a3369b68dbb3c467",
       "version_major": 2,
       "version_minor": 0
      },
      "text/plain": [
       "Epoch 4:   0%|          | 0/2850 [00:00<?, ?it/s]"
      ]
     },
     "metadata": {},
     "output_type": "display_data"
    },
    {
     "name": "stdout",
     "output_type": "stream",
     "text": [
      "Epoch 4 finished. Avg C Loss: -3.7696, Avg G Loss: -374.9901\n",
      "\n",
      "Epoch 5/75\n"
     ]
    },
    {
     "data": {
      "application/vnd.jupyter.widget-view+json": {
       "model_id": "1e74190b821842b5b32eee0e2af7b66a",
       "version_major": 2,
       "version_minor": 0
      },
      "text/plain": [
       "Epoch 5:   0%|          | 0/2850 [00:00<?, ?it/s]"
      ]
     },
     "metadata": {},
     "output_type": "display_data"
    },
    {
     "name": "stdout",
     "output_type": "stream",
     "text": [
      "Epoch 5 finished. Avg C Loss: 1.4987, Avg G Loss: -297.9514\n",
      "Saved generator model and critic weights (critic_wgan_sa_epoch_5.weights.h5) for epoch 5\n",
      "\n",
      "Epoch 6/75\n"
     ]
    },
    {
     "data": {
      "application/vnd.jupyter.widget-view+json": {
       "model_id": "6289cd48d9394d7f931e93a5b2ad0ff4",
       "version_major": 2,
       "version_minor": 0
      },
      "text/plain": [
       "Epoch 6:   0%|          | 0/2850 [00:00<?, ?it/s]"
      ]
     },
     "metadata": {},
     "output_type": "display_data"
    },
    {
     "name": "stdout",
     "output_type": "stream",
     "text": [
      "Epoch 6 finished. Avg C Loss: 4.2552, Avg G Loss: -233.3212\n",
      "\n",
      "Epoch 7/75\n"
     ]
    },
    {
     "data": {
      "application/vnd.jupyter.widget-view+json": {
       "model_id": "d52bff634db24bd1a675ba8b3fe165de",
       "version_major": 2,
       "version_minor": 0
      },
      "text/plain": [
       "Epoch 7:   0%|          | 0/2850 [00:00<?, ?it/s]"
      ]
     },
     "metadata": {},
     "output_type": "display_data"
    },
    {
     "name": "stdout",
     "output_type": "stream",
     "text": [
      "Epoch 7 finished. Avg C Loss: 3.0324, Avg G Loss: -221.6980\n",
      "\n",
      "Epoch 8/75\n"
     ]
    },
    {
     "data": {
      "application/vnd.jupyter.widget-view+json": {
       "model_id": "5327c12b8eab4c55a5ea54e13fe8a898",
       "version_major": 2,
       "version_minor": 0
      },
      "text/plain": [
       "Epoch 8:   0%|          | 0/2850 [00:00<?, ?it/s]"
      ]
     },
     "metadata": {},
     "output_type": "display_data"
    },
    {
     "name": "stdout",
     "output_type": "stream",
     "text": [
      "Epoch 8 finished. Avg C Loss: 2.8520, Avg G Loss: -205.6245\n",
      "\n",
      "Epoch 9/75\n"
     ]
    },
    {
     "data": {
      "application/vnd.jupyter.widget-view+json": {
       "model_id": "0b1f05a5cb23434b98d25d41a154dfd9",
       "version_major": 2,
       "version_minor": 0
      },
      "text/plain": [
       "Epoch 9:   0%|          | 0/2850 [00:00<?, ?it/s]"
      ]
     },
     "metadata": {},
     "output_type": "display_data"
    },
    {
     "name": "stdout",
     "output_type": "stream",
     "text": [
      "Epoch 9 finished. Avg C Loss: 4.9703, Avg G Loss: -200.1144\n",
      "\n",
      "Epoch 10/75\n"
     ]
    },
    {
     "data": {
      "application/vnd.jupyter.widget-view+json": {
       "model_id": "ba2b109d6b4e4e6fbd738e47b29129cb",
       "version_major": 2,
       "version_minor": 0
      },
      "text/plain": [
       "Epoch 10:   0%|          | 0/2850 [00:00<?, ?it/s]"
      ]
     },
     "metadata": {},
     "output_type": "display_data"
    },
    {
     "name": "stdout",
     "output_type": "stream",
     "text": [
      "Epoch 10 finished. Avg C Loss: 7.7979, Avg G Loss: -197.7207\n",
      "Saved generator model and critic weights (critic_wgan_sa_epoch_10.weights.h5) for epoch 10\n",
      "\n",
      "Epoch 11/75\n"
     ]
    },
    {
     "data": {
      "application/vnd.jupyter.widget-view+json": {
       "model_id": "0ab5252a6703405e95bb462e5864c62a",
       "version_major": 2,
       "version_minor": 0
      },
      "text/plain": [
       "Epoch 11:   0%|          | 0/2850 [00:00<?, ?it/s]"
      ]
     },
     "metadata": {},
     "output_type": "display_data"
    },
    {
     "name": "stdout",
     "output_type": "stream",
     "text": [
      "Epoch 11 finished. Avg C Loss: 4.6788, Avg G Loss: -198.6160\n",
      "\n",
      "Epoch 12/75\n"
     ]
    },
    {
     "data": {
      "application/vnd.jupyter.widget-view+json": {
       "model_id": "a588a370d4b64f09b2f44cee7f7d929a",
       "version_major": 2,
       "version_minor": 0
      },
      "text/plain": [
       "Epoch 12:   0%|          | 0/2850 [00:00<?, ?it/s]"
      ]
     },
     "metadata": {},
     "output_type": "display_data"
    },
    {
     "name": "stdout",
     "output_type": "stream",
     "text": [
      "Epoch 12 finished. Avg C Loss: 3.3062, Avg G Loss: -193.5755\n",
      "\n",
      "Epoch 13/75\n"
     ]
    },
    {
     "data": {
      "application/vnd.jupyter.widget-view+json": {
       "model_id": "e8523d7c5f5e49b2a3ccf8ad49af8244",
       "version_major": 2,
       "version_minor": 0
      },
      "text/plain": [
       "Epoch 13:   0%|          | 0/2850 [00:00<?, ?it/s]"
      ]
     },
     "metadata": {},
     "output_type": "display_data"
    },
    {
     "name": "stdout",
     "output_type": "stream",
     "text": [
      "Epoch 13 finished. Avg C Loss: 2.4707, Avg G Loss: -188.9395\n",
      "\n",
      "Epoch 14/75\n"
     ]
    },
    {
     "data": {
      "application/vnd.jupyter.widget-view+json": {
       "model_id": "9992ee6b351146f99f1be9058b52c9bf",
       "version_major": 2,
       "version_minor": 0
      },
      "text/plain": [
       "Epoch 14:   0%|          | 0/2850 [00:00<?, ?it/s]"
      ]
     },
     "metadata": {},
     "output_type": "display_data"
    },
    {
     "name": "stdout",
     "output_type": "stream",
     "text": [
      "Epoch 14 finished. Avg C Loss: 2.7881, Avg G Loss: -185.0687\n",
      "\n",
      "Epoch 15/75\n"
     ]
    },
    {
     "data": {
      "application/vnd.jupyter.widget-view+json": {
       "model_id": "c6c3064b1e8a4b3ca2d96884262d2d47",
       "version_major": 2,
       "version_minor": 0
      },
      "text/plain": [
       "Epoch 15:   0%|          | 0/2850 [00:00<?, ?it/s]"
      ]
     },
     "metadata": {},
     "output_type": "display_data"
    },
    {
     "name": "stdout",
     "output_type": "stream",
     "text": [
      "Epoch 15 finished. Avg C Loss: 6.3516, Avg G Loss: -188.9685\n",
      "Saved generator model and critic weights (critic_wgan_sa_epoch_15.weights.h5) for epoch 15\n",
      "\n",
      "Epoch 16/75\n"
     ]
    },
    {
     "data": {
      "application/vnd.jupyter.widget-view+json": {
       "model_id": "2d0dd3655a354918a43fce65633dcdd6",
       "version_major": 2,
       "version_minor": 0
      },
      "text/plain": [
       "Epoch 16:   0%|          | 0/2850 [00:00<?, ?it/s]"
      ]
     },
     "metadata": {},
     "output_type": "display_data"
    },
    {
     "name": "stdout",
     "output_type": "stream",
     "text": [
      "Epoch 16 finished. Avg C Loss: 1.1827, Avg G Loss: -188.3423\n",
      "\n",
      "Epoch 17/75\n"
     ]
    },
    {
     "data": {
      "application/vnd.jupyter.widget-view+json": {
       "model_id": "141d7611b5a94c1b9960fd71c43320ab",
       "version_major": 2,
       "version_minor": 0
      },
      "text/plain": [
       "Epoch 17:   0%|          | 0/2850 [00:00<?, ?it/s]"
      ]
     },
     "metadata": {},
     "output_type": "display_data"
    },
    {
     "name": "stdout",
     "output_type": "stream",
     "text": [
      "Epoch 17 finished. Avg C Loss: 2.8095, Avg G Loss: -188.7672\n",
      "\n",
      "Epoch 18/75\n"
     ]
    },
    {
     "data": {
      "application/vnd.jupyter.widget-view+json": {
       "model_id": "b07a872c09bc4524bbf49ff19be84257",
       "version_major": 2,
       "version_minor": 0
      },
      "text/plain": [
       "Epoch 18:   0%|          | 0/2850 [00:00<?, ?it/s]"
      ]
     },
     "metadata": {},
     "output_type": "display_data"
    },
    {
     "name": "stdout",
     "output_type": "stream",
     "text": [
      "Epoch 18 finished. Avg C Loss: 3.4722, Avg G Loss: -187.3877\n",
      "\n",
      "Epoch 19/75\n"
     ]
    },
    {
     "data": {
      "application/vnd.jupyter.widget-view+json": {
       "model_id": "8d622c17de1e45b69c87e90576a4c424",
       "version_major": 2,
       "version_minor": 0
      },
      "text/plain": [
       "Epoch 19:   0%|          | 0/2850 [00:00<?, ?it/s]"
      ]
     },
     "metadata": {},
     "output_type": "display_data"
    },
    {
     "name": "stdout",
     "output_type": "stream",
     "text": [
      "Epoch 19 finished. Avg C Loss: 3.6611, Avg G Loss: -182.0416\n",
      "\n",
      "Epoch 20/75\n"
     ]
    },
    {
     "data": {
      "application/vnd.jupyter.widget-view+json": {
       "model_id": "53a7c919c49d48719eaa4f2a7ce1ae69",
       "version_major": 2,
       "version_minor": 0
      },
      "text/plain": [
       "Epoch 20:   0%|          | 0/2850 [00:00<?, ?it/s]"
      ]
     },
     "metadata": {},
     "output_type": "display_data"
    },
    {
     "name": "stdout",
     "output_type": "stream",
     "text": [
      "Epoch 20 finished. Avg C Loss: 3.5706, Avg G Loss: -176.1426\n",
      "Saved generator model and critic weights (critic_wgan_sa_epoch_20.weights.h5) for epoch 20\n",
      "\n",
      "Epoch 21/75\n"
     ]
    },
    {
     "data": {
      "application/vnd.jupyter.widget-view+json": {
       "model_id": "5c1ace23837f4aebbbe90d3b5936d6ac",
       "version_major": 2,
       "version_minor": 0
      },
      "text/plain": [
       "Epoch 21:   0%|          | 0/2850 [00:00<?, ?it/s]"
      ]
     },
     "metadata": {},
     "output_type": "display_data"
    },
    {
     "name": "stdout",
     "output_type": "stream",
     "text": [
      "Epoch 21 finished. Avg C Loss: 1.9796, Avg G Loss: -171.2024\n",
      "\n",
      "Epoch 22/75\n"
     ]
    },
    {
     "data": {
      "application/vnd.jupyter.widget-view+json": {
       "model_id": "a445076459ac47b2a6669ed1ce98bdc5",
       "version_major": 2,
       "version_minor": 0
      },
      "text/plain": [
       "Epoch 22:   0%|          | 0/2850 [00:00<?, ?it/s]"
      ]
     },
     "metadata": {},
     "output_type": "display_data"
    },
    {
     "name": "stdout",
     "output_type": "stream",
     "text": [
      "Epoch 22 finished. Avg C Loss: 2.9762, Avg G Loss: -167.8556\n",
      "\n",
      "Epoch 23/75\n"
     ]
    },
    {
     "data": {
      "application/vnd.jupyter.widget-view+json": {
       "model_id": "f59e98a01a0e4af3a359bf0895bae7cd",
       "version_major": 2,
       "version_minor": 0
      },
      "text/plain": [
       "Epoch 23:   0%|          | 0/2850 [00:00<?, ?it/s]"
      ]
     },
     "metadata": {},
     "output_type": "display_data"
    },
    {
     "name": "stdout",
     "output_type": "stream",
     "text": [
      "Epoch 23 finished. Avg C Loss: 17.9623, Avg G Loss: -163.7487\n",
      "\n",
      "Epoch 24/75\n"
     ]
    },
    {
     "data": {
      "application/vnd.jupyter.widget-view+json": {
       "model_id": "4486bbe939bc48c793944d8ec6988bb7",
       "version_major": 2,
       "version_minor": 0
      },
      "text/plain": [
       "Epoch 24:   0%|          | 0/2850 [00:00<?, ?it/s]"
      ]
     },
     "metadata": {},
     "output_type": "display_data"
    },
    {
     "name": "stdout",
     "output_type": "stream",
     "text": [
      "Epoch 24 finished. Avg C Loss: 4.2482, Avg G Loss: -160.2148\n",
      "\n",
      "Epoch 25/75\n"
     ]
    },
    {
     "data": {
      "application/vnd.jupyter.widget-view+json": {
       "model_id": "2a6a3aa1329346f09ad371892286ca74",
       "version_major": 2,
       "version_minor": 0
      },
      "text/plain": [
       "Epoch 25:   0%|          | 0/2850 [00:00<?, ?it/s]"
      ]
     },
     "metadata": {},
     "output_type": "display_data"
    },
    {
     "name": "stdout",
     "output_type": "stream",
     "text": [
      "Epoch 25 finished. Avg C Loss: 4.2353, Avg G Loss: -157.2287\n",
      "Saved generator model and critic weights (critic_wgan_sa_epoch_25.weights.h5) for epoch 25\n",
      "\n",
      "Epoch 26/75\n"
     ]
    },
    {
     "data": {
      "application/vnd.jupyter.widget-view+json": {
       "model_id": "4e89e241c1fa4405b8242095ec63b14b",
       "version_major": 2,
       "version_minor": 0
      },
      "text/plain": [
       "Epoch 26:   0%|          | 0/2850 [00:00<?, ?it/s]"
      ]
     },
     "metadata": {},
     "output_type": "display_data"
    },
    {
     "name": "stdout",
     "output_type": "stream",
     "text": [
      "Epoch 26 finished. Avg C Loss: 2.0457, Avg G Loss: -154.1896\n",
      "\n",
      "Epoch 27/75\n"
     ]
    },
    {
     "data": {
      "application/vnd.jupyter.widget-view+json": {
       "model_id": "a99126b2ecf8416f9364c039659b1f0f",
       "version_major": 2,
       "version_minor": 0
      },
      "text/plain": [
       "Epoch 27:   0%|          | 0/2850 [00:00<?, ?it/s]"
      ]
     },
     "metadata": {},
     "output_type": "display_data"
    },
    {
     "name": "stdout",
     "output_type": "stream",
     "text": [
      "Epoch 27 finished. Avg C Loss: 3.1249, Avg G Loss: -150.9061\n",
      "\n",
      "Epoch 28/75\n"
     ]
    },
    {
     "data": {
      "application/vnd.jupyter.widget-view+json": {
       "model_id": "fbbbc6aefd734488bca9bd52d9741c6d",
       "version_major": 2,
       "version_minor": 0
      },
      "text/plain": [
       "Epoch 28:   0%|          | 0/2850 [00:00<?, ?it/s]"
      ]
     },
     "metadata": {},
     "output_type": "display_data"
    },
    {
     "name": "stdout",
     "output_type": "stream",
     "text": [
      "Epoch 28 finished. Avg C Loss: 4.5505, Avg G Loss: -147.1714\n",
      "\n",
      "Epoch 29/75\n"
     ]
    },
    {
     "data": {
      "application/vnd.jupyter.widget-view+json": {
       "model_id": "045731ca324843ceb896404f568aba14",
       "version_major": 2,
       "version_minor": 0
      },
      "text/plain": [
       "Epoch 29:   0%|          | 0/2850 [00:00<?, ?it/s]"
      ]
     },
     "metadata": {},
     "output_type": "display_data"
    },
    {
     "name": "stdout",
     "output_type": "stream",
     "text": [
      "Epoch 29 finished. Avg C Loss: 5.0973, Avg G Loss: -142.3600\n",
      "\n",
      "Epoch 30/75\n"
     ]
    },
    {
     "data": {
      "application/vnd.jupyter.widget-view+json": {
       "model_id": "4e76ca8b17964eda8bf53129dc26e1c0",
       "version_major": 2,
       "version_minor": 0
      },
      "text/plain": [
       "Epoch 30:   0%|          | 0/2850 [00:00<?, ?it/s]"
      ]
     },
     "metadata": {},
     "output_type": "display_data"
    },
    {
     "name": "stdout",
     "output_type": "stream",
     "text": [
      "Epoch 30 finished. Avg C Loss: -0.5302, Avg G Loss: -151.0572\n",
      "Saved generator model and critic weights (critic_wgan_sa_epoch_30.weights.h5) for epoch 30\n",
      "\n",
      "Epoch 31/75\n"
     ]
    },
    {
     "data": {
      "application/vnd.jupyter.widget-view+json": {
       "model_id": "bb570921adb7497697dab8b8c32b78a2",
       "version_major": 2,
       "version_minor": 0
      },
      "text/plain": [
       "Epoch 31:   0%|          | 0/2850 [00:00<?, ?it/s]"
      ]
     },
     "metadata": {},
     "output_type": "display_data"
    },
    {
     "name": "stdout",
     "output_type": "stream",
     "text": [
      "Epoch 31 finished. Avg C Loss: 1.0758, Avg G Loss: -158.3715\n",
      "\n",
      "Epoch 32/75\n"
     ]
    },
    {
     "data": {
      "application/vnd.jupyter.widget-view+json": {
       "model_id": "0a6e88cf5b2d4935b9afd0dbb5833fab",
       "version_major": 2,
       "version_minor": 0
      },
      "text/plain": [
       "Epoch 32:   0%|          | 0/2850 [00:00<?, ?it/s]"
      ]
     },
     "metadata": {},
     "output_type": "display_data"
    },
    {
     "name": "stdout",
     "output_type": "stream",
     "text": [
      "Epoch 32 finished. Avg C Loss: 11.0476, Avg G Loss: -152.2341\n",
      "\n",
      "Epoch 33/75\n"
     ]
    },
    {
     "data": {
      "application/vnd.jupyter.widget-view+json": {
       "model_id": "10c106e2501e41a7a38beafa2fa69f39",
       "version_major": 2,
       "version_minor": 0
      },
      "text/plain": [
       "Epoch 33:   0%|          | 0/2850 [00:00<?, ?it/s]"
      ]
     },
     "metadata": {},
     "output_type": "display_data"
    },
    {
     "name": "stdout",
     "output_type": "stream",
     "text": [
      "Epoch 33 finished. Avg C Loss: 53.1116, Avg G Loss: -142.4327\n",
      "\n",
      "Epoch 34/75\n"
     ]
    },
    {
     "data": {
      "application/vnd.jupyter.widget-view+json": {
       "model_id": "e5d4b96993c94cc7afa2aaf4381ed47a",
       "version_major": 2,
       "version_minor": 0
      },
      "text/plain": [
       "Epoch 34:   0%|          | 0/2850 [00:00<?, ?it/s]"
      ]
     },
     "metadata": {},
     "output_type": "display_data"
    },
    {
     "name": "stdout",
     "output_type": "stream",
     "text": [
      "Epoch 34 finished. Avg C Loss: 47.5746, Avg G Loss: -134.8087\n",
      "\n",
      "Epoch 35/75\n"
     ]
    },
    {
     "data": {
      "application/vnd.jupyter.widget-view+json": {
       "model_id": "3008c00ca9bb4d37a13cb7e26d2cd2f3",
       "version_major": 2,
       "version_minor": 0
      },
      "text/plain": [
       "Epoch 35:   0%|          | 0/2850 [00:00<?, ?it/s]"
      ]
     },
     "metadata": {},
     "output_type": "display_data"
    },
    {
     "name": "stdout",
     "output_type": "stream",
     "text": [
      "Epoch 35 finished. Avg C Loss: 47.0654, Avg G Loss: -128.1012\n",
      "Saved generator model and critic weights (critic_wgan_sa_epoch_35.weights.h5) for epoch 35\n",
      "\n",
      "Epoch 36/75\n"
     ]
    },
    {
     "data": {
      "application/vnd.jupyter.widget-view+json": {
       "model_id": "3cdf2bf9dd5540c480b5c79c80f1114c",
       "version_major": 2,
       "version_minor": 0
      },
      "text/plain": [
       "Epoch 36:   0%|          | 0/2850 [00:00<?, ?it/s]"
      ]
     },
     "metadata": {},
     "output_type": "display_data"
    },
    {
     "name": "stdout",
     "output_type": "stream",
     "text": [
      "Epoch 36 finished. Avg C Loss: 48.2415, Avg G Loss: -121.6188\n",
      "\n",
      "Epoch 37/75\n"
     ]
    },
    {
     "data": {
      "application/vnd.jupyter.widget-view+json": {
       "model_id": "2bad9033cf534825a108f9af31d52808",
       "version_major": 2,
       "version_minor": 0
      },
      "text/plain": [
       "Epoch 37:   0%|          | 0/2850 [00:00<?, ?it/s]"
      ]
     },
     "metadata": {},
     "output_type": "display_data"
    },
    {
     "name": "stdout",
     "output_type": "stream",
     "text": [
      "Epoch 37 finished. Avg C Loss: 16.7345, Avg G Loss: -115.4570\n",
      "\n",
      "Epoch 38/75\n"
     ]
    },
    {
     "data": {
      "application/vnd.jupyter.widget-view+json": {
       "model_id": "af992b4b0df94dcdb65ba83bb0dfdaa4",
       "version_major": 2,
       "version_minor": 0
      },
      "text/plain": [
       "Epoch 38:   0%|          | 0/2850 [00:00<?, ?it/s]"
      ]
     },
     "metadata": {},
     "output_type": "display_data"
    },
    {
     "name": "stdout",
     "output_type": "stream",
     "text": [
      "Epoch 38 finished. Avg C Loss: 30.2662, Avg G Loss: -109.3933\n",
      "\n",
      "Epoch 39/75\n"
     ]
    },
    {
     "data": {
      "application/vnd.jupyter.widget-view+json": {
       "model_id": "cfb7cb2ef88b4a5dbcf6dbfe804eb84d",
       "version_major": 2,
       "version_minor": 0
      },
      "text/plain": [
       "Epoch 39:   0%|          | 0/2850 [00:00<?, ?it/s]"
      ]
     },
     "metadata": {},
     "output_type": "display_data"
    },
    {
     "name": "stdout",
     "output_type": "stream",
     "text": [
      "Epoch 39 finished. Avg C Loss: 50.7412, Avg G Loss: -103.2633\n",
      "\n",
      "Epoch 40/75\n"
     ]
    },
    {
     "data": {
      "application/vnd.jupyter.widget-view+json": {
       "model_id": "21cbdbcf37464bbe8373b36ee605163e",
       "version_major": 2,
       "version_minor": 0
      },
      "text/plain": [
       "Epoch 40:   0%|          | 0/2850 [00:00<?, ?it/s]"
      ]
     },
     "metadata": {},
     "output_type": "display_data"
    },
    {
     "name": "stdout",
     "output_type": "stream",
     "text": [
      "Epoch 40 finished. Avg C Loss: 38.3171, Avg G Loss: -97.6958\n",
      "Saved generator model and critic weights (critic_wgan_sa_epoch_40.weights.h5) for epoch 40\n",
      "\n",
      "Epoch 41/75\n"
     ]
    },
    {
     "data": {
      "application/vnd.jupyter.widget-view+json": {
       "model_id": "669db788ca3443e09d3781f0a55a626d",
       "version_major": 2,
       "version_minor": 0
      },
      "text/plain": [
       "Epoch 41:   0%|          | 0/2850 [00:00<?, ?it/s]"
      ]
     },
     "metadata": {},
     "output_type": "display_data"
    },
    {
     "name": "stdout",
     "output_type": "stream",
     "text": [
      "Epoch 41 finished. Avg C Loss: 23.1500, Avg G Loss: -92.8300\n",
      "\n",
      "Epoch 42/75\n"
     ]
    },
    {
     "data": {
      "application/vnd.jupyter.widget-view+json": {
       "model_id": "b6c49208af4646e18ec5b3146854680d",
       "version_major": 2,
       "version_minor": 0
      },
      "text/plain": [
       "Epoch 42:   0%|          | 0/2850 [00:00<?, ?it/s]"
      ]
     },
     "metadata": {},
     "output_type": "display_data"
    },
    {
     "name": "stdout",
     "output_type": "stream",
     "text": [
      "Epoch 42 finished. Avg C Loss: 6.5470, Avg G Loss: -87.4587\n",
      "\n",
      "Epoch 43/75\n"
     ]
    },
    {
     "data": {
      "application/vnd.jupyter.widget-view+json": {
       "model_id": "8f63f45ec01840928850e50859c560a2",
       "version_major": 2,
       "version_minor": 0
      },
      "text/plain": [
       "Epoch 43:   0%|          | 0/2850 [00:00<?, ?it/s]"
      ]
     },
     "metadata": {},
     "output_type": "display_data"
    },
    {
     "name": "stdout",
     "output_type": "stream",
     "text": [
      "Epoch 43 finished. Avg C Loss: 12.7604, Avg G Loss: -80.3917\n",
      "\n",
      "Epoch 44/75\n"
     ]
    },
    {
     "data": {
      "application/vnd.jupyter.widget-view+json": {
       "model_id": "3fef7c556a304108baff1053b489462c",
       "version_major": 2,
       "version_minor": 0
      },
      "text/plain": [
       "Epoch 44:   0%|          | 0/2850 [00:00<?, ?it/s]"
      ]
     },
     "metadata": {},
     "output_type": "display_data"
    },
    {
     "name": "stdout",
     "output_type": "stream",
     "text": [
      "Epoch 44 finished. Avg C Loss: 46.5147, Avg G Loss: -76.7747\n",
      "\n",
      "Epoch 45/75\n"
     ]
    },
    {
     "data": {
      "application/vnd.jupyter.widget-view+json": {
       "model_id": "81245f12b2364fc18d7271cce68ea098",
       "version_major": 2,
       "version_minor": 0
      },
      "text/plain": [
       "Epoch 45:   0%|          | 0/2850 [00:00<?, ?it/s]"
      ]
     },
     "metadata": {},
     "output_type": "display_data"
    },
    {
     "name": "stdout",
     "output_type": "stream",
     "text": [
      "Epoch 45 finished. Avg C Loss: 20.3737, Avg G Loss: -72.4012\n",
      "Saved generator model and critic weights (critic_wgan_sa_epoch_45.weights.h5) for epoch 45\n",
      "\n",
      "Epoch 46/75\n"
     ]
    },
    {
     "data": {
      "application/vnd.jupyter.widget-view+json": {
       "model_id": "cf80d07a41a74897826d39bad70cb424",
       "version_major": 2,
       "version_minor": 0
      },
      "text/plain": [
       "Epoch 46:   0%|          | 0/2850 [00:00<?, ?it/s]"
      ]
     },
     "metadata": {},
     "output_type": "display_data"
    },
    {
     "name": "stdout",
     "output_type": "stream",
     "text": [
      "Epoch 46 finished. Avg C Loss: 15.1040, Avg G Loss: -69.0518\n",
      "\n",
      "Epoch 47/75\n"
     ]
    },
    {
     "data": {
      "application/vnd.jupyter.widget-view+json": {
       "model_id": "ad6cdb2192eb441e9871fa4da69d914e",
       "version_major": 2,
       "version_minor": 0
      },
      "text/plain": [
       "Epoch 47:   0%|          | 0/2850 [00:00<?, ?it/s]"
      ]
     },
     "metadata": {},
     "output_type": "display_data"
    },
    {
     "name": "stdout",
     "output_type": "stream",
     "text": [
      "Epoch 47 finished. Avg C Loss: 3.3587, Avg G Loss: -69.2556\n",
      "\n",
      "Epoch 48/75\n"
     ]
    },
    {
     "data": {
      "application/vnd.jupyter.widget-view+json": {
       "model_id": "6e60b6da331f45afb228cbb656b2cbea",
       "version_major": 2,
       "version_minor": 0
      },
      "text/plain": [
       "Epoch 48:   0%|          | 0/2850 [00:00<?, ?it/s]"
      ]
     },
     "metadata": {},
     "output_type": "display_data"
    },
    {
     "name": "stdout",
     "output_type": "stream",
     "text": [
      "Epoch 48 finished. Avg C Loss: 18.1307, Avg G Loss: -67.7309\n",
      "\n",
      "Epoch 49/75\n"
     ]
    },
    {
     "data": {
      "application/vnd.jupyter.widget-view+json": {
       "model_id": "ae0672f11f2a404a8feeaa6824b89018",
       "version_major": 2,
       "version_minor": 0
      },
      "text/plain": [
       "Epoch 49:   0%|          | 0/2850 [00:00<?, ?it/s]"
      ]
     },
     "metadata": {},
     "output_type": "display_data"
    },
    {
     "name": "stdout",
     "output_type": "stream",
     "text": [
      "Epoch 49 finished. Avg C Loss: 23.2737, Avg G Loss: -64.4306\n",
      "\n",
      "Epoch 50/75\n"
     ]
    },
    {
     "data": {
      "application/vnd.jupyter.widget-view+json": {
       "model_id": "001bafa306a945ffac0ad13306b05f3a",
       "version_major": 2,
       "version_minor": 0
      },
      "text/plain": [
       "Epoch 50:   0%|          | 0/2850 [00:00<?, ?it/s]"
      ]
     },
     "metadata": {},
     "output_type": "display_data"
    },
    {
     "name": "stdout",
     "output_type": "stream",
     "text": [
      "Epoch 50 finished. Avg C Loss: 17.6982, Avg G Loss: -61.6123\n",
      "Saved generator model and critic weights (critic_wgan_sa_epoch_50.weights.h5) for epoch 50\n",
      "\n",
      "Epoch 51/75\n"
     ]
    },
    {
     "data": {
      "application/vnd.jupyter.widget-view+json": {
       "model_id": "c60d9016a58a44d98f340e4f3f7cca5a",
       "version_major": 2,
       "version_minor": 0
      },
      "text/plain": [
       "Epoch 51:   0%|          | 0/2850 [00:00<?, ?it/s]"
      ]
     },
     "metadata": {},
     "output_type": "display_data"
    },
    {
     "name": "stdout",
     "output_type": "stream",
     "text": [
      "Epoch 51 finished. Avg C Loss: 9.3908, Avg G Loss: -60.9715\n",
      "\n",
      "Epoch 52/75\n"
     ]
    },
    {
     "data": {
      "application/vnd.jupyter.widget-view+json": {
       "model_id": "db99bcff7381478ba5bd33e6a488cdb6",
       "version_major": 2,
       "version_minor": 0
      },
      "text/plain": [
       "Epoch 52:   0%|          | 0/2850 [00:00<?, ?it/s]"
      ]
     },
     "metadata": {},
     "output_type": "display_data"
    },
    {
     "name": "stdout",
     "output_type": "stream",
     "text": [
      "Epoch 52 finished. Avg C Loss: 15.2763, Avg G Loss: -60.3728\n",
      "\n",
      "Epoch 53/75\n"
     ]
    },
    {
     "data": {
      "application/vnd.jupyter.widget-view+json": {
       "model_id": "833c5065fec14348bb8800d3b3deb4fd",
       "version_major": 2,
       "version_minor": 0
      },
      "text/plain": [
       "Epoch 53:   0%|          | 0/2850 [00:00<?, ?it/s]"
      ]
     },
     "metadata": {},
     "output_type": "display_data"
    },
    {
     "name": "stdout",
     "output_type": "stream",
     "text": [
      "Epoch 53 finished. Avg C Loss: 18.9336, Avg G Loss: -58.9007\n",
      "\n",
      "Epoch 54/75\n"
     ]
    },
    {
     "data": {
      "application/vnd.jupyter.widget-view+json": {
       "model_id": "b931226bff274f6b9d70ec4131aca581",
       "version_major": 2,
       "version_minor": 0
      },
      "text/plain": [
       "Epoch 54:   0%|          | 0/2850 [00:00<?, ?it/s]"
      ]
     },
     "metadata": {},
     "output_type": "display_data"
    },
    {
     "name": "stdout",
     "output_type": "stream",
     "text": [
      "Epoch 54 finished. Avg C Loss: 13.2776, Avg G Loss: -56.8108\n",
      "\n",
      "Epoch 55/75\n"
     ]
    },
    {
     "data": {
      "application/vnd.jupyter.widget-view+json": {
       "model_id": "ec09adf142e541d5963471d40dace677",
       "version_major": 2,
       "version_minor": 0
      },
      "text/plain": [
       "Epoch 55:   0%|          | 0/2850 [00:00<?, ?it/s]"
      ]
     },
     "metadata": {},
     "output_type": "display_data"
    },
    {
     "name": "stdout",
     "output_type": "stream",
     "text": [
      "Epoch 55 finished. Avg C Loss: 13.8662, Avg G Loss: -53.9895\n",
      "Saved generator model and critic weights (critic_wgan_sa_epoch_55.weights.h5) for epoch 55\n",
      "\n",
      "Epoch 56/75\n"
     ]
    },
    {
     "data": {
      "application/vnd.jupyter.widget-view+json": {
       "model_id": "6d483d05f844410983713dddc096a903",
       "version_major": 2,
       "version_minor": 0
      },
      "text/plain": [
       "Epoch 56:   0%|          | 0/2850 [00:00<?, ?it/s]"
      ]
     },
     "metadata": {},
     "output_type": "display_data"
    },
    {
     "name": "stdout",
     "output_type": "stream",
     "text": [
      "Epoch 56 finished. Avg C Loss: 1.2863, Avg G Loss: -54.5321\n",
      "\n",
      "Epoch 57/75\n"
     ]
    },
    {
     "data": {
      "application/vnd.jupyter.widget-view+json": {
       "model_id": "fc542b37197f4f18aa28b739c9cd447f",
       "version_major": 2,
       "version_minor": 0
      },
      "text/plain": [
       "Epoch 57:   0%|          | 0/2850 [00:00<?, ?it/s]"
      ]
     },
     "metadata": {},
     "output_type": "display_data"
    },
    {
     "name": "stdout",
     "output_type": "stream",
     "text": [
      "Epoch 57 finished. Avg C Loss: 6.3141, Avg G Loss: -57.9395\n",
      "\n",
      "Epoch 58/75\n"
     ]
    },
    {
     "data": {
      "application/vnd.jupyter.widget-view+json": {
       "model_id": "bc83ac18524644568a4ce463a7ed64a0",
       "version_major": 2,
       "version_minor": 0
      },
      "text/plain": [
       "Epoch 58:   0%|          | 0/2850 [00:00<?, ?it/s]"
      ]
     },
     "metadata": {},
     "output_type": "display_data"
    },
    {
     "name": "stdout",
     "output_type": "stream",
     "text": [
      "Epoch 58 finished. Avg C Loss: 5.4026, Avg G Loss: -55.7070\n",
      "\n",
      "Epoch 59/75\n"
     ]
    },
    {
     "data": {
      "application/vnd.jupyter.widget-view+json": {
       "model_id": "49c9c66278b843e296d63309657cbd73",
       "version_major": 2,
       "version_minor": 0
      },
      "text/plain": [
       "Epoch 59:   0%|          | 0/2850 [00:00<?, ?it/s]"
      ]
     },
     "metadata": {},
     "output_type": "display_data"
    },
    {
     "name": "stdout",
     "output_type": "stream",
     "text": [
      "Epoch 59 finished. Avg C Loss: 3.6939, Avg G Loss: -54.2208\n",
      "\n",
      "Epoch 60/75\n"
     ]
    },
    {
     "data": {
      "application/vnd.jupyter.widget-view+json": {
       "model_id": "aa7e603503564b22bb59c185bce8aa6e",
       "version_major": 2,
       "version_minor": 0
      },
      "text/plain": [
       "Epoch 60:   0%|          | 0/2850 [00:00<?, ?it/s]"
      ]
     },
     "metadata": {},
     "output_type": "display_data"
    },
    {
     "name": "stdout",
     "output_type": "stream",
     "text": [
      "Epoch 60 finished. Avg C Loss: 4.6592, Avg G Loss: -52.6847\n",
      "Saved generator model and critic weights (critic_wgan_sa_epoch_60.weights.h5) for epoch 60\n",
      "\n",
      "Epoch 61/75\n"
     ]
    },
    {
     "data": {
      "application/vnd.jupyter.widget-view+json": {
       "model_id": "20583599e7ab4fcfb60c669f9ba95438",
       "version_major": 2,
       "version_minor": 0
      },
      "text/plain": [
       "Epoch 61:   0%|          | 0/2850 [00:00<?, ?it/s]"
      ]
     },
     "metadata": {},
     "output_type": "display_data"
    },
    {
     "name": "stdout",
     "output_type": "stream",
     "text": [
      "Epoch 61 finished. Avg C Loss: 0.7434, Avg G Loss: -54.4650\n",
      "\n",
      "Epoch 62/75\n"
     ]
    },
    {
     "data": {
      "application/vnd.jupyter.widget-view+json": {
       "model_id": "9a651b3744ba4925b98a8d899e4aea32",
       "version_major": 2,
       "version_minor": 0
      },
      "text/plain": [
       "Epoch 62:   0%|          | 0/2850 [00:00<?, ?it/s]"
      ]
     },
     "metadata": {},
     "output_type": "display_data"
    },
    {
     "name": "stdout",
     "output_type": "stream",
     "text": [
      "Epoch 62 finished. Avg C Loss: 1.6704, Avg G Loss: -56.1331\n",
      "\n",
      "Epoch 63/75\n"
     ]
    },
    {
     "data": {
      "application/vnd.jupyter.widget-view+json": {
       "model_id": "1f7da888b4ba441a8b0c5b0a89261b15",
       "version_major": 2,
       "version_minor": 0
      },
      "text/plain": [
       "Epoch 63:   0%|          | 0/2850 [00:00<?, ?it/s]"
      ]
     },
     "metadata": {},
     "output_type": "display_data"
    },
    {
     "name": "stdout",
     "output_type": "stream",
     "text": [
      "Epoch 63 finished. Avg C Loss: 2.9547, Avg G Loss: -55.3159\n",
      "\n",
      "Epoch 64/75\n"
     ]
    },
    {
     "data": {
      "application/vnd.jupyter.widget-view+json": {
       "model_id": "fdd3531f5f434125b4387080b0dc4826",
       "version_major": 2,
       "version_minor": 0
      },
      "text/plain": [
       "Epoch 64:   0%|          | 0/2850 [00:00<?, ?it/s]"
      ]
     },
     "metadata": {},
     "output_type": "display_data"
    },
    {
     "name": "stdout",
     "output_type": "stream",
     "text": [
      "Epoch 64 finished. Avg C Loss: 3.7162, Avg G Loss: -53.7606\n",
      "\n",
      "Epoch 65/75\n"
     ]
    },
    {
     "data": {
      "application/vnd.jupyter.widget-view+json": {
       "model_id": "d634acb1a1ff4e288d42d84afdb4525f",
       "version_major": 2,
       "version_minor": 0
      },
      "text/plain": [
       "Epoch 65:   0%|          | 0/2850 [00:00<?, ?it/s]"
      ]
     },
     "metadata": {},
     "output_type": "display_data"
    },
    {
     "name": "stdout",
     "output_type": "stream",
     "text": [
      "Epoch 65 finished. Avg C Loss: 16.3429, Avg G Loss: -50.5032\n",
      "Saved generator model and critic weights (critic_wgan_sa_epoch_65.weights.h5) for epoch 65\n",
      "\n",
      "Epoch 66/75\n"
     ]
    },
    {
     "data": {
      "application/vnd.jupyter.widget-view+json": {
       "model_id": "21e406fa7d4442a2acc9adf8383e8194",
       "version_major": 2,
       "version_minor": 0
      },
      "text/plain": [
       "Epoch 66:   0%|          | 0/2850 [00:00<?, ?it/s]"
      ]
     },
     "metadata": {},
     "output_type": "display_data"
    },
    {
     "name": "stdout",
     "output_type": "stream",
     "text": [
      "Epoch 66 finished. Avg C Loss: 15.1024, Avg G Loss: -48.5113\n",
      "\n",
      "Epoch 67/75\n"
     ]
    },
    {
     "data": {
      "application/vnd.jupyter.widget-view+json": {
       "model_id": "21c22ee084e74a5c9793d14fa1989ea4",
       "version_major": 2,
       "version_minor": 0
      },
      "text/plain": [
       "Epoch 67:   0%|          | 0/2850 [00:00<?, ?it/s]"
      ]
     },
     "metadata": {},
     "output_type": "display_data"
    },
    {
     "name": "stdout",
     "output_type": "stream",
     "text": [
      "Epoch 67 finished. Avg C Loss: 14.6092, Avg G Loss: -44.1371\n",
      "\n",
      "Epoch 68/75\n"
     ]
    },
    {
     "data": {
      "application/vnd.jupyter.widget-view+json": {
       "model_id": "be8d69db9c4048e9b4fcb3557eb36fe0",
       "version_major": 2,
       "version_minor": 0
      },
      "text/plain": [
       "Epoch 68:   0%|          | 0/2850 [00:00<?, ?it/s]"
      ]
     },
     "metadata": {},
     "output_type": "display_data"
    },
    {
     "name": "stdout",
     "output_type": "stream",
     "text": [
      "Epoch 68 finished. Avg C Loss: 7.3986, Avg G Loss: -39.9746\n",
      "\n",
      "Epoch 69/75\n"
     ]
    },
    {
     "data": {
      "application/vnd.jupyter.widget-view+json": {
       "model_id": "71541121d57644dc93641949eea5e5f3",
       "version_major": 2,
       "version_minor": 0
      },
      "text/plain": [
       "Epoch 69:   0%|          | 0/2850 [00:00<?, ?it/s]"
      ]
     },
     "metadata": {},
     "output_type": "display_data"
    },
    {
     "name": "stdout",
     "output_type": "stream",
     "text": [
      "Epoch 69 finished. Avg C Loss: 2.1998, Avg G Loss: -41.0889\n",
      "\n",
      "Epoch 70/75\n"
     ]
    },
    {
     "data": {
      "application/vnd.jupyter.widget-view+json": {
       "model_id": "1ef8ed5b51684604893912b8576e6ff9",
       "version_major": 2,
       "version_minor": 0
      },
      "text/plain": [
       "Epoch 70:   0%|          | 0/2850 [00:00<?, ?it/s]"
      ]
     },
     "metadata": {},
     "output_type": "display_data"
    },
    {
     "name": "stdout",
     "output_type": "stream",
     "text": [
      "Epoch 70 finished. Avg C Loss: 7.3998, Avg G Loss: -38.7274\n",
      "Saved generator model and critic weights (critic_wgan_sa_epoch_70.weights.h5) for epoch 70\n",
      "\n",
      "Epoch 71/75\n"
     ]
    },
    {
     "data": {
      "application/vnd.jupyter.widget-view+json": {
       "model_id": "2c544812c22a4d83b2d010d91b52aeb3",
       "version_major": 2,
       "version_minor": 0
      },
      "text/plain": [
       "Epoch 71:   0%|          | 0/2850 [00:00<?, ?it/s]"
      ]
     },
     "metadata": {},
     "output_type": "display_data"
    },
    {
     "ename": "KeyboardInterrupt",
     "evalue": "",
     "output_type": "error",
     "traceback": [
      "\u001b[31m---------------------------------------------------------------------------\u001b[39m",
      "\u001b[31mKeyboardInterrupt\u001b[39m                         Traceback (most recent call last)",
      "\u001b[36mCell\u001b[39m\u001b[36m \u001b[39m\u001b[32mIn[12]\u001b[39m\u001b[32m, line 152\u001b[39m\n\u001b[32m    148\u001b[39m \u001b[38;5;28;01mif\u001b[39;00m tf.shape(real_spoof_samples)[\u001b[32m0\u001b[39m] == \u001b[32m0\u001b[39m:\n\u001b[32m    149\u001b[39m     \u001b[38;5;66;03m# print(f\"Warning: Skipped empty batch at step {batch_idx}\") # Optional print\u001b[39;00m\n\u001b[32m    150\u001b[39m     \u001b[38;5;28;01mcontinue\u001b[39;00m\n\u001b[32m--> \u001b[39m\u001b[32m152\u001b[39m c_loss, g_loss = \u001b[43mtrain_step\u001b[49m\u001b[43m(\u001b[49m\u001b[43mreal_spoof_samples\u001b[49m\u001b[43m)\u001b[49m\n\u001b[32m    154\u001b[39m \u001b[38;5;66;03m# Check for NaN or Inf losses (important for stability)\u001b[39;00m\n\u001b[32m    155\u001b[39m \u001b[38;5;28;01mif\u001b[39;00m np.isnan(c_loss.numpy()) \u001b[38;5;129;01mor\u001b[39;00m np.isinf(c_loss.numpy()) \u001b[38;5;129;01mor\u001b[39;00m \\\n\u001b[32m    156\u001b[39m    np.isnan(g_loss.numpy()) \u001b[38;5;129;01mor\u001b[39;00m np.isinf(g_loss.numpy()):\n",
      "\u001b[36mFile \u001b[39m\u001b[32m~/VIT/Capstone/Proj/.venvn/lib64/python3.12/site-packages/tensorflow/python/util/traceback_utils.py:150\u001b[39m, in \u001b[36mfilter_traceback.<locals>.error_handler\u001b[39m\u001b[34m(*args, **kwargs)\u001b[39m\n\u001b[32m    148\u001b[39m filtered_tb = \u001b[38;5;28;01mNone\u001b[39;00m\n\u001b[32m    149\u001b[39m \u001b[38;5;28;01mtry\u001b[39;00m:\n\u001b[32m--> \u001b[39m\u001b[32m150\u001b[39m   \u001b[38;5;28;01mreturn\u001b[39;00m \u001b[43mfn\u001b[49m\u001b[43m(\u001b[49m\u001b[43m*\u001b[49m\u001b[43margs\u001b[49m\u001b[43m,\u001b[49m\u001b[43m \u001b[49m\u001b[43m*\u001b[49m\u001b[43m*\u001b[49m\u001b[43mkwargs\u001b[49m\u001b[43m)\u001b[49m\n\u001b[32m    151\u001b[39m \u001b[38;5;28;01mexcept\u001b[39;00m \u001b[38;5;167;01mException\u001b[39;00m \u001b[38;5;28;01mas\u001b[39;00m e:\n\u001b[32m    152\u001b[39m   filtered_tb = _process_traceback_frames(e.__traceback__)\n",
      "\u001b[36mFile \u001b[39m\u001b[32m~/VIT/Capstone/Proj/.venvn/lib64/python3.12/site-packages/tensorflow/python/eager/polymorphic_function/polymorphic_function.py:833\u001b[39m, in \u001b[36mFunction.__call__\u001b[39m\u001b[34m(self, *args, **kwds)\u001b[39m\n\u001b[32m    830\u001b[39m compiler = \u001b[33m\"\u001b[39m\u001b[33mxla\u001b[39m\u001b[33m\"\u001b[39m \u001b[38;5;28;01mif\u001b[39;00m \u001b[38;5;28mself\u001b[39m._jit_compile \u001b[38;5;28;01melse\u001b[39;00m \u001b[33m\"\u001b[39m\u001b[33mnonXla\u001b[39m\u001b[33m\"\u001b[39m\n\u001b[32m    832\u001b[39m \u001b[38;5;28;01mwith\u001b[39;00m OptionalXlaContext(\u001b[38;5;28mself\u001b[39m._jit_compile):\n\u001b[32m--> \u001b[39m\u001b[32m833\u001b[39m   result = \u001b[38;5;28;43mself\u001b[39;49m\u001b[43m.\u001b[49m\u001b[43m_call\u001b[49m\u001b[43m(\u001b[49m\u001b[43m*\u001b[49m\u001b[43margs\u001b[49m\u001b[43m,\u001b[49m\u001b[43m \u001b[49m\u001b[43m*\u001b[49m\u001b[43m*\u001b[49m\u001b[43mkwds\u001b[49m\u001b[43m)\u001b[49m\n\u001b[32m    835\u001b[39m new_tracing_count = \u001b[38;5;28mself\u001b[39m.experimental_get_tracing_count()\n\u001b[32m    836\u001b[39m without_tracing = (tracing_count == new_tracing_count)\n",
      "\u001b[36mFile \u001b[39m\u001b[32m~/VIT/Capstone/Proj/.venvn/lib64/python3.12/site-packages/tensorflow/python/eager/polymorphic_function/polymorphic_function.py:869\u001b[39m, in \u001b[36mFunction._call\u001b[39m\u001b[34m(self, *args, **kwds)\u001b[39m\n\u001b[32m    866\u001b[39m   \u001b[38;5;28mself\u001b[39m._lock.release()\n\u001b[32m    867\u001b[39m   \u001b[38;5;66;03m# In this case we have created variables on the first call, so we run the\u001b[39;00m\n\u001b[32m    868\u001b[39m   \u001b[38;5;66;03m# defunned version which is guaranteed to never create variables.\u001b[39;00m\n\u001b[32m--> \u001b[39m\u001b[32m869\u001b[39m   \u001b[38;5;28;01mreturn\u001b[39;00m \u001b[43mtracing_compilation\u001b[49m\u001b[43m.\u001b[49m\u001b[43mcall_function\u001b[49m\u001b[43m(\u001b[49m\n\u001b[32m    870\u001b[39m \u001b[43m      \u001b[49m\u001b[43margs\u001b[49m\u001b[43m,\u001b[49m\u001b[43m \u001b[49m\u001b[43mkwds\u001b[49m\u001b[43m,\u001b[49m\u001b[43m \u001b[49m\u001b[38;5;28;43mself\u001b[39;49m\u001b[43m.\u001b[49m\u001b[43m_no_variable_creation_config\u001b[49m\n\u001b[32m    871\u001b[39m \u001b[43m  \u001b[49m\u001b[43m)\u001b[49m\n\u001b[32m    872\u001b[39m \u001b[38;5;28;01melif\u001b[39;00m \u001b[38;5;28mself\u001b[39m._variable_creation_config \u001b[38;5;129;01mis\u001b[39;00m \u001b[38;5;129;01mnot\u001b[39;00m \u001b[38;5;28;01mNone\u001b[39;00m:\n\u001b[32m    873\u001b[39m   \u001b[38;5;66;03m# Release the lock early so that multiple threads can perform the call\u001b[39;00m\n\u001b[32m    874\u001b[39m   \u001b[38;5;66;03m# in parallel.\u001b[39;00m\n\u001b[32m    875\u001b[39m   \u001b[38;5;28mself\u001b[39m._lock.release()\n",
      "\u001b[36mFile \u001b[39m\u001b[32m~/VIT/Capstone/Proj/.venvn/lib64/python3.12/site-packages/tensorflow/python/eager/polymorphic_function/tracing_compilation.py:139\u001b[39m, in \u001b[36mcall_function\u001b[39m\u001b[34m(args, kwargs, tracing_options)\u001b[39m\n\u001b[32m    137\u001b[39m bound_args = function.function_type.bind(*args, **kwargs)\n\u001b[32m    138\u001b[39m flat_inputs = function.function_type.unpack_inputs(bound_args)\n\u001b[32m--> \u001b[39m\u001b[32m139\u001b[39m \u001b[38;5;28;01mreturn\u001b[39;00m \u001b[43mfunction\u001b[49m\u001b[43m.\u001b[49m\u001b[43m_call_flat\u001b[49m\u001b[43m(\u001b[49m\u001b[43m  \u001b[49m\u001b[38;5;66;43;03m# pylint: disable=protected-access\u001b[39;49;00m\n\u001b[32m    140\u001b[39m \u001b[43m    \u001b[49m\u001b[43mflat_inputs\u001b[49m\u001b[43m,\u001b[49m\u001b[43m \u001b[49m\u001b[43mcaptured_inputs\u001b[49m\u001b[43m=\u001b[49m\u001b[43mfunction\u001b[49m\u001b[43m.\u001b[49m\u001b[43mcaptured_inputs\u001b[49m\n\u001b[32m    141\u001b[39m \u001b[43m\u001b[49m\u001b[43m)\u001b[49m\n",
      "\u001b[36mFile \u001b[39m\u001b[32m~/VIT/Capstone/Proj/.venvn/lib64/python3.12/site-packages/tensorflow/python/eager/polymorphic_function/concrete_function.py:1322\u001b[39m, in \u001b[36mConcreteFunction._call_flat\u001b[39m\u001b[34m(self, tensor_inputs, captured_inputs)\u001b[39m\n\u001b[32m   1318\u001b[39m possible_gradient_type = gradients_util.PossibleTapeGradientTypes(args)\n\u001b[32m   1319\u001b[39m \u001b[38;5;28;01mif\u001b[39;00m (possible_gradient_type == gradients_util.POSSIBLE_GRADIENT_TYPES_NONE\n\u001b[32m   1320\u001b[39m     \u001b[38;5;129;01mand\u001b[39;00m executing_eagerly):\n\u001b[32m   1321\u001b[39m   \u001b[38;5;66;03m# No tape is watching; skip to running the function.\u001b[39;00m\n\u001b[32m-> \u001b[39m\u001b[32m1322\u001b[39m   \u001b[38;5;28;01mreturn\u001b[39;00m \u001b[38;5;28;43mself\u001b[39;49m\u001b[43m.\u001b[49m\u001b[43m_inference_function\u001b[49m\u001b[43m.\u001b[49m\u001b[43mcall_preflattened\u001b[49m\u001b[43m(\u001b[49m\u001b[43margs\u001b[49m\u001b[43m)\u001b[49m\n\u001b[32m   1323\u001b[39m forward_backward = \u001b[38;5;28mself\u001b[39m._select_forward_and_backward_functions(\n\u001b[32m   1324\u001b[39m     args,\n\u001b[32m   1325\u001b[39m     possible_gradient_type,\n\u001b[32m   1326\u001b[39m     executing_eagerly)\n\u001b[32m   1327\u001b[39m forward_function, args_with_tangents = forward_backward.forward()\n",
      "\u001b[36mFile \u001b[39m\u001b[32m~/VIT/Capstone/Proj/.venvn/lib64/python3.12/site-packages/tensorflow/python/eager/polymorphic_function/atomic_function.py:216\u001b[39m, in \u001b[36mAtomicFunction.call_preflattened\u001b[39m\u001b[34m(self, args)\u001b[39m\n\u001b[32m    214\u001b[39m \u001b[38;5;28;01mdef\u001b[39;00m\u001b[38;5;250m \u001b[39m\u001b[34mcall_preflattened\u001b[39m(\u001b[38;5;28mself\u001b[39m, args: Sequence[core.Tensor]) -> Any:\n\u001b[32m    215\u001b[39m \u001b[38;5;250m  \u001b[39m\u001b[33;03m\"\"\"Calls with flattened tensor inputs and returns the structured output.\"\"\"\u001b[39;00m\n\u001b[32m--> \u001b[39m\u001b[32m216\u001b[39m   flat_outputs = \u001b[38;5;28;43mself\u001b[39;49m\u001b[43m.\u001b[49m\u001b[43mcall_flat\u001b[49m\u001b[43m(\u001b[49m\u001b[43m*\u001b[49m\u001b[43margs\u001b[49m\u001b[43m)\u001b[49m\n\u001b[32m    217\u001b[39m   \u001b[38;5;28;01mreturn\u001b[39;00m \u001b[38;5;28mself\u001b[39m.function_type.pack_output(flat_outputs)\n",
      "\u001b[36mFile \u001b[39m\u001b[32m~/VIT/Capstone/Proj/.venvn/lib64/python3.12/site-packages/tensorflow/python/eager/polymorphic_function/atomic_function.py:251\u001b[39m, in \u001b[36mAtomicFunction.call_flat\u001b[39m\u001b[34m(self, *args)\u001b[39m\n\u001b[32m    249\u001b[39m \u001b[38;5;28;01mwith\u001b[39;00m record.stop_recording():\n\u001b[32m    250\u001b[39m   \u001b[38;5;28;01mif\u001b[39;00m \u001b[38;5;28mself\u001b[39m._bound_context.executing_eagerly():\n\u001b[32m--> \u001b[39m\u001b[32m251\u001b[39m     outputs = \u001b[38;5;28;43mself\u001b[39;49m\u001b[43m.\u001b[49m\u001b[43m_bound_context\u001b[49m\u001b[43m.\u001b[49m\u001b[43mcall_function\u001b[49m\u001b[43m(\u001b[49m\n\u001b[32m    252\u001b[39m \u001b[43m        \u001b[49m\u001b[38;5;28;43mself\u001b[39;49m\u001b[43m.\u001b[49m\u001b[43mname\u001b[49m\u001b[43m,\u001b[49m\n\u001b[32m    253\u001b[39m \u001b[43m        \u001b[49m\u001b[38;5;28;43mlist\u001b[39;49m\u001b[43m(\u001b[49m\u001b[43margs\u001b[49m\u001b[43m)\u001b[49m\u001b[43m,\u001b[49m\n\u001b[32m    254\u001b[39m \u001b[43m        \u001b[49m\u001b[38;5;28;43mlen\u001b[39;49m\u001b[43m(\u001b[49m\u001b[38;5;28;43mself\u001b[39;49m\u001b[43m.\u001b[49m\u001b[43mfunction_type\u001b[49m\u001b[43m.\u001b[49m\u001b[43mflat_outputs\u001b[49m\u001b[43m)\u001b[49m\u001b[43m,\u001b[49m\n\u001b[32m    255\u001b[39m \u001b[43m    \u001b[49m\u001b[43m)\u001b[49m\n\u001b[32m    256\u001b[39m   \u001b[38;5;28;01melse\u001b[39;00m:\n\u001b[32m    257\u001b[39m     outputs = make_call_op_in_graph(\n\u001b[32m    258\u001b[39m         \u001b[38;5;28mself\u001b[39m,\n\u001b[32m    259\u001b[39m         \u001b[38;5;28mlist\u001b[39m(args),\n\u001b[32m    260\u001b[39m         \u001b[38;5;28mself\u001b[39m._bound_context.function_call_options.as_attrs(),\n\u001b[32m    261\u001b[39m     )\n",
      "\u001b[36mFile \u001b[39m\u001b[32m~/VIT/Capstone/Proj/.venvn/lib64/python3.12/site-packages/tensorflow/python/eager/context.py:1688\u001b[39m, in \u001b[36mContext.call_function\u001b[39m\u001b[34m(self, name, tensor_inputs, num_outputs)\u001b[39m\n\u001b[32m   1686\u001b[39m cancellation_context = cancellation.context()\n\u001b[32m   1687\u001b[39m \u001b[38;5;28;01mif\u001b[39;00m cancellation_context \u001b[38;5;129;01mis\u001b[39;00m \u001b[38;5;28;01mNone\u001b[39;00m:\n\u001b[32m-> \u001b[39m\u001b[32m1688\u001b[39m   outputs = \u001b[43mexecute\u001b[49m\u001b[43m.\u001b[49m\u001b[43mexecute\u001b[49m\u001b[43m(\u001b[49m\n\u001b[32m   1689\u001b[39m \u001b[43m      \u001b[49m\u001b[43mname\u001b[49m\u001b[43m.\u001b[49m\u001b[43mdecode\u001b[49m\u001b[43m(\u001b[49m\u001b[33;43m\"\u001b[39;49m\u001b[33;43mutf-8\u001b[39;49m\u001b[33;43m\"\u001b[39;49m\u001b[43m)\u001b[49m\u001b[43m,\u001b[49m\n\u001b[32m   1690\u001b[39m \u001b[43m      \u001b[49m\u001b[43mnum_outputs\u001b[49m\u001b[43m=\u001b[49m\u001b[43mnum_outputs\u001b[49m\u001b[43m,\u001b[49m\n\u001b[32m   1691\u001b[39m \u001b[43m      \u001b[49m\u001b[43minputs\u001b[49m\u001b[43m=\u001b[49m\u001b[43mtensor_inputs\u001b[49m\u001b[43m,\u001b[49m\n\u001b[32m   1692\u001b[39m \u001b[43m      \u001b[49m\u001b[43mattrs\u001b[49m\u001b[43m=\u001b[49m\u001b[43mattrs\u001b[49m\u001b[43m,\u001b[49m\n\u001b[32m   1693\u001b[39m \u001b[43m      \u001b[49m\u001b[43mctx\u001b[49m\u001b[43m=\u001b[49m\u001b[38;5;28;43mself\u001b[39;49m\u001b[43m,\u001b[49m\n\u001b[32m   1694\u001b[39m \u001b[43m  \u001b[49m\u001b[43m)\u001b[49m\n\u001b[32m   1695\u001b[39m \u001b[38;5;28;01melse\u001b[39;00m:\n\u001b[32m   1696\u001b[39m   outputs = execute.execute_with_cancellation(\n\u001b[32m   1697\u001b[39m       name.decode(\u001b[33m\"\u001b[39m\u001b[33mutf-8\u001b[39m\u001b[33m\"\u001b[39m),\n\u001b[32m   1698\u001b[39m       num_outputs=num_outputs,\n\u001b[32m   (...)\u001b[39m\u001b[32m   1702\u001b[39m       cancellation_manager=cancellation_context,\n\u001b[32m   1703\u001b[39m   )\n",
      "\u001b[36mFile \u001b[39m\u001b[32m~/VIT/Capstone/Proj/.venvn/lib64/python3.12/site-packages/tensorflow/python/eager/execute.py:53\u001b[39m, in \u001b[36mquick_execute\u001b[39m\u001b[34m(op_name, num_outputs, inputs, attrs, ctx, name)\u001b[39m\n\u001b[32m     51\u001b[39m \u001b[38;5;28;01mtry\u001b[39;00m:\n\u001b[32m     52\u001b[39m   ctx.ensure_initialized()\n\u001b[32m---> \u001b[39m\u001b[32m53\u001b[39m   tensors = \u001b[43mpywrap_tfe\u001b[49m\u001b[43m.\u001b[49m\u001b[43mTFE_Py_Execute\u001b[49m\u001b[43m(\u001b[49m\u001b[43mctx\u001b[49m\u001b[43m.\u001b[49m\u001b[43m_handle\u001b[49m\u001b[43m,\u001b[49m\u001b[43m \u001b[49m\u001b[43mdevice_name\u001b[49m\u001b[43m,\u001b[49m\u001b[43m \u001b[49m\u001b[43mop_name\u001b[49m\u001b[43m,\u001b[49m\n\u001b[32m     54\u001b[39m \u001b[43m                                      \u001b[49m\u001b[43minputs\u001b[49m\u001b[43m,\u001b[49m\u001b[43m \u001b[49m\u001b[43mattrs\u001b[49m\u001b[43m,\u001b[49m\u001b[43m \u001b[49m\u001b[43mnum_outputs\u001b[49m\u001b[43m)\u001b[49m\n\u001b[32m     55\u001b[39m \u001b[38;5;28;01mexcept\u001b[39;00m core._NotOkStatusException \u001b[38;5;28;01mas\u001b[39;00m e:\n\u001b[32m     56\u001b[39m   \u001b[38;5;28;01mif\u001b[39;00m name \u001b[38;5;129;01mis\u001b[39;00m \u001b[38;5;129;01mnot\u001b[39;00m \u001b[38;5;28;01mNone\u001b[39;00m:\n",
      "\u001b[31mKeyboardInterrupt\u001b[39m: "
     ]
    }
   ],
   "source": [
    "# Cell 12: WGAN-GP Training Loop (Saving Critic Weights Only)\n",
    "\n",
    "# --- Imports ---\n",
    "import os\n",
    "import numpy as np\n",
    "import tensorflow as tf\n",
    "from tqdm.notebook import tqdm # Use tqdm.notebook for better Jupyter integration\n",
    "import matplotlib.pyplot as plt\n",
    "import logging\n",
    "\n",
    "# Assuming necessary variables (train_data_path, gan_batch_size, latent_dim, n_critic,\n",
    "# gp_weight, gan_epochs, critic_optimizer, generator_optimizer, generator, critic,\n",
    "# FIGURES_DIR) and functions (data_generator_gan) are defined and accessible\n",
    "# from previous cells.\n",
    "\n",
    "# --- Loss Functions ---\n",
    "def critic_loss(real_output, fake_output):\n",
    "    \"\"\"Wasserstein loss for the critic.\"\"\"\n",
    "    # Ensure outputs are float32 for stable loss calculation\n",
    "    real_output = tf.cast(real_output, tf.float32)\n",
    "    fake_output = tf.cast(fake_output, tf.float32)\n",
    "    return tf.reduce_mean(fake_output) - tf.reduce_mean(real_output)\n",
    "\n",
    "def generator_loss(fake_output):\n",
    "    \"\"\"Wasserstein loss for the generator.\"\"\"\n",
    "    # Ensure output is float32\n",
    "    fake_output = tf.cast(fake_output, tf.float32)\n",
    "    return -tf.reduce_mean(fake_output)\n",
    "\n",
    "# --- Gradient Penalty Function (Corrected) ---\n",
    "def gradient_penalty(batch_size, real_images, fake_images):\n",
    "    \"\"\" Calculates the gradient penalty loss for WGAN GP, handling mixed precision. \"\"\"\n",
    "    # Ensure both images have the same dtype before interpolation\n",
    "    if real_images.dtype != fake_images.dtype:\n",
    "        real_images = tf.cast(real_images, fake_images.dtype)\n",
    "\n",
    "    # Generate interpolation alpha with the correct dtype\n",
    "    alpha_shape = [tf.shape(real_images)[0]] + [1] * (len(real_images.shape) - 1)\n",
    "    alpha = tf.random.uniform(shape=alpha_shape, minval=0., maxval=1., dtype=real_images.dtype)\n",
    "\n",
    "    # Interpolate images\n",
    "    interpolated = real_images + alpha * (fake_images - real_images)\n",
    "\n",
    "    with tf.GradientTape() as gp_tape:\n",
    "        gp_tape.watch(interpolated)\n",
    "        pred = critic(interpolated, training=True)\n",
    "        pred = tf.cast(pred, tf.float32) # Cast prediction to float32 for stable GP calculation\n",
    "\n",
    "    grads = gp_tape.gradient(pred, [interpolated])\n",
    "    if grads is None or grads[0] is None:\n",
    "        logging.warning(\"Gradients are None in gradient_penalty. Returning 0 penalty.\")\n",
    "        # print(\"Warning: Gradients are None in gradient_penalty. Returning 0 penalty.\") # Optional print\n",
    "        return tf.constant(0.0, dtype=tf.float32)\n",
    "    grads = grads[0]\n",
    "    grads = tf.cast(grads, tf.float32) # Cast gradients to float32 before norm\n",
    "\n",
    "    norm = tf.sqrt(tf.reduce_sum(tf.square(grads), axis=tf.range(1, tf.rank(grads))))\n",
    "    gp = tf.reduce_mean((norm - 1.0) ** 2)\n",
    "\n",
    "    return gp * gp_weight # gp_weight should be float\n",
    "\n",
    "\n",
    "# --- Data Generator and Steps Calculation ---\n",
    "train_gen_gan = data_generator_gan(train_data_path, batch_size=gan_batch_size)\n",
    "\n",
    "fake_files_count = 0\n",
    "try:\n",
    "    fake_dir = os.path.join(train_data_path, 'fake')\n",
    "    if os.path.exists(fake_dir):\n",
    "        fake_files_count = len([f for f in os.listdir(fake_dir) if f.endswith('.wav')])\n",
    "except FileNotFoundError:\n",
    "    fake_files_count = 0\n",
    "\n",
    "if gan_batch_size <= 0:\n",
    "    raise ValueError(\"GAN Batch size must be positive.\")\n",
    "if fake_files_count == 0:\n",
    "    print(\"Warning: No fake training files found for GAN. Setting GAN steps to 0.\")\n",
    "    gan_steps_per_epoch = 0\n",
    "else:\n",
    "    gan_steps_per_epoch = int(np.ceil(fake_files_count / float(gan_batch_size)))\n",
    "    print(f\"Calculated {gan_steps_per_epoch} GAN steps per epoch.\")\n",
    "\n",
    "\n",
    "# --- Training Step Function (Decorated with tf.function) ---\n",
    "@tf.function\n",
    "def train_step(real_images):\n",
    "    current_batch_size = tf.shape(real_images)[0]\n",
    "    # Use float32 for noise if mixed precision is enabled, otherwise default might be okay\n",
    "    noise = tf.random.normal([current_batch_size, latent_dim], dtype=tf.float32)\n",
    "\n",
    "    # Train Critic (n_critic times)\n",
    "    total_crit_loss = tf.constant(0.0, dtype=tf.float32)\n",
    "    for _ in tf.range(n_critic):\n",
    "        with tf.GradientTape() as crit_tape:\n",
    "            fake_images = generator(noise, training=True)\n",
    "            real_output = critic(real_images, training=True)\n",
    "            fake_output = critic(fake_images, training=True)\n",
    "            crit_loss = critic_loss(real_output, fake_output)\n",
    "            gp = gradient_penalty(current_batch_size, real_images, fake_images)\n",
    "            total_crit_loss = crit_loss + gp\n",
    "\n",
    "        crit_gradients = crit_tape.gradient(total_crit_loss, critic.trainable_variables)\n",
    "        valid_grads_and_vars = [(g, v) for g, v in zip(crit_gradients, critic.trainable_variables) if g is not None]\n",
    "        if len(valid_grads_and_vars) < len(critic.trainable_variables):\n",
    "             tf.print(\"Warning: Some critic gradients are None.\")\n",
    "        if len(valid_grads_and_vars) > 0:\n",
    "            critic_optimizer.apply_gradients(valid_grads_and_vars)\n",
    "\n",
    "    # Train Generator\n",
    "    with tf.GradientTape() as gen_tape:\n",
    "        fake_images_gen = generator(noise, training=True)\n",
    "        fake_output_gen = critic(fake_images_gen, training=True)\n",
    "        gen_loss = generator_loss(fake_output_gen)\n",
    "\n",
    "    gen_gradients = gen_tape.gradient(gen_loss, generator.trainable_variables)\n",
    "    valid_grads_and_vars_gen = [(g, v) for g, v in zip(gen_gradients, generator.trainable_variables) if g is not None]\n",
    "    if len(valid_grads_and_vars_gen) < len(generator.trainable_variables):\n",
    "         tf.print(\"Warning: Some generator gradients are None.\")\n",
    "    if len(valid_grads_and_vars_gen) > 0:\n",
    "        generator_optimizer.apply_gradients(valid_grads_and_vars_gen)\n",
    "\n",
    "    return total_crit_loss, gen_loss\n",
    "\n",
    "\n",
    "# --- WGAN-GP Training Loop ---\n",
    "print(\"\\nBegin WGAN-GP training!\")\n",
    "\n",
    "if train_gen_gan is None or gan_steps_per_epoch == 0:\n",
    "    print(\"Skipping WGAN-GP training: Generator not initialized or no steps per epoch.\")\n",
    "else:\n",
    "    c_loss_history = []\n",
    "    g_loss_history = []\n",
    "\n",
    "    for epoch in range(gan_epochs): # Use gan_epochs defined in Cell 11\n",
    "        print(f\"\\nEpoch {epoch+1}/{gan_epochs}\")\n",
    "        epoch_pbar = tqdm(range(gan_steps_per_epoch), desc=f\"Epoch {epoch+1}\")\n",
    "\n",
    "        epoch_c_loss = 0.0\n",
    "        epoch_g_loss = 0.0\n",
    "        batches_processed = 0\n",
    "\n",
    "        for batch_idx in epoch_pbar:\n",
    "            try:\n",
    "                real_spoof_samples_np = next(train_gen_gan)\n",
    "                # Ensure input to train_step is float32\n",
    "                real_spoof_samples = tf.convert_to_tensor(real_spoof_samples_np, dtype=tf.float32)\n",
    "\n",
    "                if tf.shape(real_spoof_samples)[0] == 0:\n",
    "                    # print(f\"Warning: Skipped empty batch at step {batch_idx}\") # Optional print\n",
    "                    continue\n",
    "\n",
    "                c_loss, g_loss = train_step(real_spoof_samples)\n",
    "\n",
    "                # Check for NaN or Inf losses (important for stability)\n",
    "                if np.isnan(c_loss.numpy()) or np.isinf(c_loss.numpy()) or \\\n",
    "                   np.isnan(g_loss.numpy()) or np.isinf(g_loss.numpy()):\n",
    "                    print(f\"\\nError: NaN or Inf loss detected at epoch {epoch+1}, batch {batch_idx}. Stopping training.\")\n",
    "                    logging.error(f\"NaN/Inf loss detected: C Loss={c_loss.numpy()}, G Loss={g_loss.numpy()}. Epoch {epoch+1}, Batch {batch_idx}\")\n",
    "                    # Optional: Save current state before breaking if needed\n",
    "                    # generator.save_weights('generator_nan_inf.weights.h5')\n",
    "                    # critic.save_weights('critic_nan_inf.weights.h5')\n",
    "                    raise ValueError(\"NaN or Inf loss detected, stopping training.\") # Stop execution\n",
    "\n",
    "                epoch_c_loss += c_loss.numpy()\n",
    "                epoch_g_loss += g_loss.numpy()\n",
    "                batches_processed += 1\n",
    "\n",
    "                epoch_pbar.set_postfix({\"C Loss\": f\"{c_loss.numpy():.4f}\", \"G Loss\": f\"{g_loss.numpy():.4f}\"})\n",
    "\n",
    "            except StopIteration:\n",
    "                print(f\"\\nGAN Generator exhausted prematurely at batch {batch_idx}. Moving to next epoch.\")\n",
    "                train_gen_gan = data_generator_gan(train_data_path, batch_size=gan_batch_size)\n",
    "                break\n",
    "\n",
    "            except Exception as e:\n",
    "                # Catch NaN/Inf error from the check above or other errors\n",
    "                logging.error(f\"Error during WGAN training epoch {epoch+1}, batch {batch_idx}: {e}\", exc_info=True)\n",
    "                print(f\"\\nError during WGAN training epoch {epoch+1}, batch {batch_idx}: {e}\")\n",
    "                # Decide whether to continue or break based on the error type\n",
    "                if isinstance(e, ValueError) and \"NaN or Inf loss\" in str(e):\n",
    "                     break # Stop the outer loop for NaN/Inf\n",
    "                continue # Skip other problematic batches\n",
    "\n",
    "\n",
    "        # Check if loop was broken due to NaN/Inf\n",
    "        if np.isnan(epoch_c_loss) or np.isinf(epoch_c_loss) or np.isnan(epoch_g_loss) or np.isinf(epoch_g_loss):\n",
    "             print(\"Training stopped due to NaN/Inf loss.\")\n",
    "             break # Exit the epoch loop\n",
    "\n",
    "        # --- End-of-epoch actions ---\n",
    "        if batches_processed > 0:\n",
    "             avg_c_loss = epoch_c_loss / batches_processed\n",
    "             avg_g_loss = epoch_g_loss / batches_processed\n",
    "             c_loss_history.append(avg_c_loss)\n",
    "             g_loss_history.append(avg_g_loss)\n",
    "             print(f\"Epoch {epoch+1} finished. Avg C Loss: {avg_c_loss:.4f}, Avg G Loss: {avg_g_loss:.4f}\")\n",
    "        else:\n",
    "             print(f\"Epoch {epoch+1} finished. No batches processed.\")\n",
    "             c_loss_history.append(np.nan)\n",
    "             g_loss_history.append(np.nan)\n",
    "\n",
    "\n",
    "        # --- Save Models/Weights Periodically ---\n",
    "        # Save every 5 epochs and at the very last epoch\n",
    "        if (epoch + 1) % 5 == 0 or (epoch + 1) == gan_epochs:\n",
    "             try:\n",
    "                 # Save generator as full model (assuming it doesn't have loading issues)\n",
    "                 generator.save(f'generator_wgan_sa_epoch_{epoch+1}.keras')\n",
    "\n",
    "                 # Save critic weights ONLY\n",
    "                 critic_weights_filename = f'critic_wgan_sa_epoch_{epoch+1}.weights.h5' # Define filename\n",
    "                 critic.save_weights(critic_weights_filename) # Use save_weights\n",
    "\n",
    "                 print(f\"Saved generator model and critic weights ({critic_weights_filename}) for epoch {epoch+1}\")\n",
    "             except Exception as e:\n",
    "                 logging.error(f\"Error saving models/weights at epoch {epoch+1}: {e}\", exc_info=True)\n",
    "                 print(f\"Error saving models/weights at epoch {epoch+1}: {e}\")\n",
    "\n",
    "\n",
    "    print(\"\\nWGAN-GP training finished (or stopped early).\")\n",
    "\n",
    "    # Final loss plot\n",
    "    if c_loss_history and g_loss_history: # Plot only if history exists\n",
    "         plt.figure(figsize=(10, 5))\n",
    "         # Filter out NaN values for plotting if training stopped early\n",
    "         epochs_ran = range(1, len([loss for loss in c_loss_history if not np.isnan(loss)]) + 1)\n",
    "         plt.plot(epochs_ran, [loss for loss in c_loss_history if not np.isnan(loss)], label='Avg Critic Loss per Epoch')\n",
    "         plt.plot(epochs_ran, [loss for loss in g_loss_history if not np.isnan(loss)], label='Avg Generator Loss per Epoch')\n",
    "         plt.title('WGAN-GP Training Losses')\n",
    "         plt.xlabel('Epoch')\n",
    "         plt.ylabel('Average Loss')\n",
    "         plt.legend()\n",
    "         plt.grid(True)\n",
    "         plot_filename = os.path.join(FIGURES_DIR, 'gan_loss_final.png')\n",
    "         try:\n",
    "              plt.savefig(plot_filename)\n",
    "              print(f\"Saved final loss plot to {plot_filename}\")\n",
    "         except Exception as e:\n",
    "              logging.error(f\"Failed to save final loss plot: {e}\", exc_info=True)\n",
    "              print(f\"Failed to save final loss plot: {e}\")\n",
    "         plt.show()\n",
    "    else:\n",
    "         print(\"No loss history recorded, skipping final plot.\")"
   ]
  },
  {
   "cell_type": "code",
   "execution_count": 19,
   "metadata": {},
   "outputs": [
    {
     "name": "stdout",
     "output_type": "stream",
     "text": [
      "\n",
      "--- Continuing WGAN-GP Training (Loading Weights) ---\n",
      "Recreating model structures...\n",
      "Warning: Output shape (80, 126) might not be perfectly reached with 3 strides of 2. Adjusting initial size or layers.\n",
      "Generator adding final Conv2D to adjust width from 128 to 126\n",
      "Model structures recreated.\n",
      "Building models via dummy forward pass...\n",
      "Models built successfully via dummy pass.\n",
      "Generator weights file not found: generator_wgan_sa_epoch_70.weights.h5. Generator starts with initial weights.\n",
      "Loading critic weights from: critic_wgan_sa_epoch_70.weights.h5\n",
      "Critic weights loaded successfully.\n",
      "Optimizers redefined.\n",
      "Initializing data generator for continued training...\n",
      "Using 2850 GAN steps per epoch for continued training.\n",
      "\n",
      "Continuing WGAN-GP training from epoch 71 to 85...\n",
      "\n",
      "Epoch 71/85\n"
     ]
    },
    {
     "data": {
      "application/vnd.jupyter.widget-view+json": {
       "model_id": "73bbf067bce04044966903fc9f6d833c",
       "version_major": 2,
       "version_minor": 0
      },
      "text/plain": [
       "Epoch 71:   0%|          | 0/2850 [00:00<?, ?it/s]"
      ]
     },
     "metadata": {},
     "output_type": "display_data"
    },
    {
     "name": "stdout",
     "output_type": "stream",
     "text": [
      "Epoch 71 finished. Avg C Loss: 6.9410, Avg G Loss: -40.9034\n",
      "\n",
      "Epoch 72/85\n"
     ]
    },
    {
     "data": {
      "application/vnd.jupyter.widget-view+json": {
       "model_id": "a7be39aab4524057839487e6a980754f",
       "version_major": 2,
       "version_minor": 0
      },
      "text/plain": [
       "Epoch 72:   0%|          | 0/2850 [00:00<?, ?it/s]"
      ]
     },
     "metadata": {},
     "output_type": "display_data"
    },
    {
     "name": "stdout",
     "output_type": "stream",
     "text": [
      "Epoch 72 finished. Avg C Loss: 1.3257, Avg G Loss: -47.1925\n",
      "\n",
      "Epoch 73/85\n"
     ]
    },
    {
     "data": {
      "application/vnd.jupyter.widget-view+json": {
       "model_id": "ea0f72cff7484bfda3d3bd81e7516871",
       "version_major": 2,
       "version_minor": 0
      },
      "text/plain": [
       "Epoch 73:   0%|          | 0/2850 [00:00<?, ?it/s]"
      ]
     },
     "metadata": {},
     "output_type": "display_data"
    },
    {
     "name": "stdout",
     "output_type": "stream",
     "text": [
      "Epoch 73 finished. Avg C Loss: 1.3749, Avg G Loss: -51.4576\n",
      "\n",
      "Epoch 74/85\n"
     ]
    },
    {
     "data": {
      "application/vnd.jupyter.widget-view+json": {
       "model_id": "aa6f719302294c18a0f68da1142091ad",
       "version_major": 2,
       "version_minor": 0
      },
      "text/plain": [
       "Epoch 74:   0%|          | 0/2850 [00:00<?, ?it/s]"
      ]
     },
     "metadata": {},
     "output_type": "display_data"
    },
    {
     "name": "stdout",
     "output_type": "stream",
     "text": [
      "Epoch 74 finished. Avg C Loss: 1.3352, Avg G Loss: -52.0947\n",
      "\n",
      "Epoch 75/85\n"
     ]
    },
    {
     "data": {
      "application/vnd.jupyter.widget-view+json": {
       "model_id": "5a7a5c59d6144990a50bf2fd4a1e7ab7",
       "version_major": 2,
       "version_minor": 0
      },
      "text/plain": [
       "Epoch 75:   0%|          | 0/2850 [00:00<?, ?it/s]"
      ]
     },
     "metadata": {},
     "output_type": "display_data"
    },
    {
     "name": "stdout",
     "output_type": "stream",
     "text": [
      "Epoch 75 finished. Avg C Loss: 6.1893, Avg G Loss: -57.7707\n",
      "Saved generator and critic weights for epoch 75\n",
      "\n",
      "Epoch 76/85\n"
     ]
    },
    {
     "data": {
      "application/vnd.jupyter.widget-view+json": {
       "model_id": "f18ebb71f5a24990a26ef6c00642a95e",
       "version_major": 2,
       "version_minor": 0
      },
      "text/plain": [
       "Epoch 76:   0%|          | 0/2850 [00:00<?, ?it/s]"
      ]
     },
     "metadata": {},
     "output_type": "display_data"
    },
    {
     "name": "stdout",
     "output_type": "stream",
     "text": [
      "Epoch 76 finished. Avg C Loss: 5.5709, Avg G Loss: -57.5233\n",
      "\n",
      "Epoch 77/85\n"
     ]
    },
    {
     "data": {
      "application/vnd.jupyter.widget-view+json": {
       "model_id": "34c08bf6350f4c9f975290a0614c8012",
       "version_major": 2,
       "version_minor": 0
      },
      "text/plain": [
       "Epoch 77:   0%|          | 0/2850 [00:00<?, ?it/s]"
      ]
     },
     "metadata": {},
     "output_type": "display_data"
    },
    {
     "name": "stdout",
     "output_type": "stream",
     "text": [
      "Epoch 77 finished. Avg C Loss: 4.7176, Avg G Loss: -55.2928\n",
      "\n",
      "Epoch 78/85\n"
     ]
    },
    {
     "data": {
      "application/vnd.jupyter.widget-view+json": {
       "model_id": "e5e6c829d74a4864a9a4185f8eb628b6",
       "version_major": 2,
       "version_minor": 0
      },
      "text/plain": [
       "Epoch 78:   0%|          | 0/2850 [00:00<?, ?it/s]"
      ]
     },
     "metadata": {},
     "output_type": "display_data"
    },
    {
     "name": "stdout",
     "output_type": "stream",
     "text": [
      "Epoch 78 finished. Avg C Loss: 6.6755, Avg G Loss: -52.7413\n",
      "\n",
      "Epoch 79/85\n"
     ]
    },
    {
     "data": {
      "application/vnd.jupyter.widget-view+json": {
       "model_id": "b19aeb3b7ad64c00b2622ec221008dd8",
       "version_major": 2,
       "version_minor": 0
      },
      "text/plain": [
       "Epoch 79:   0%|          | 0/2850 [00:00<?, ?it/s]"
      ]
     },
     "metadata": {},
     "output_type": "display_data"
    },
    {
     "name": "stdout",
     "output_type": "stream",
     "text": [
      "Epoch 79 finished. Avg C Loss: 3.7830, Avg G Loss: -48.2797\n",
      "\n",
      "Epoch 80/85\n"
     ]
    },
    {
     "data": {
      "application/vnd.jupyter.widget-view+json": {
       "model_id": "239779474d7b453a9aa82955b8899e15",
       "version_major": 2,
       "version_minor": 0
      },
      "text/plain": [
       "Epoch 80:   0%|          | 0/2850 [00:00<?, ?it/s]"
      ]
     },
     "metadata": {},
     "output_type": "display_data"
    },
    {
     "name": "stdout",
     "output_type": "stream",
     "text": [
      "Epoch 80 finished. Avg C Loss: 8.4146, Avg G Loss: -41.3430\n",
      "Saved generator and critic weights for epoch 80\n",
      "\n",
      "Epoch 81/85\n"
     ]
    },
    {
     "data": {
      "application/vnd.jupyter.widget-view+json": {
       "model_id": "079d218743384ec5ac17ea58f160c6a6",
       "version_major": 2,
       "version_minor": 0
      },
      "text/plain": [
       "Epoch 81:   0%|          | 0/2850 [00:00<?, ?it/s]"
      ]
     },
     "metadata": {},
     "output_type": "display_data"
    },
    {
     "name": "stdout",
     "output_type": "stream",
     "text": [
      "Epoch 81 finished. Avg C Loss: 9.2551, Avg G Loss: -37.3130\n",
      "\n",
      "Epoch 82/85\n"
     ]
    },
    {
     "data": {
      "application/vnd.jupyter.widget-view+json": {
       "model_id": "2594c388972040d3a995a32a734f1449",
       "version_major": 2,
       "version_minor": 0
      },
      "text/plain": [
       "Epoch 82:   0%|          | 0/2850 [00:00<?, ?it/s]"
      ]
     },
     "metadata": {},
     "output_type": "display_data"
    },
    {
     "name": "stdout",
     "output_type": "stream",
     "text": [
      "Epoch 82 finished. Avg C Loss: 2.0804, Avg G Loss: -36.4059\n",
      "\n",
      "Epoch 83/85\n"
     ]
    },
    {
     "data": {
      "application/vnd.jupyter.widget-view+json": {
       "model_id": "6d3d73c7e44c44b19c7758e51c27fc18",
       "version_major": 2,
       "version_minor": 0
      },
      "text/plain": [
       "Epoch 83:   0%|          | 0/2850 [00:00<?, ?it/s]"
      ]
     },
     "metadata": {},
     "output_type": "display_data"
    },
    {
     "name": "stdout",
     "output_type": "stream",
     "text": [
      "Epoch 83 finished. Avg C Loss: 0.0035, Avg G Loss: -36.7628\n",
      "\n",
      "Epoch 84/85\n"
     ]
    },
    {
     "data": {
      "application/vnd.jupyter.widget-view+json": {
       "model_id": "b7407b0c4c2b4132bebce38235d2ff0b",
       "version_major": 2,
       "version_minor": 0
      },
      "text/plain": [
       "Epoch 84:   0%|          | 0/2850 [00:00<?, ?it/s]"
      ]
     },
     "metadata": {},
     "output_type": "display_data"
    },
    {
     "name": "stdout",
     "output_type": "stream",
     "text": [
      "Epoch 84 finished. Avg C Loss: -0.1253, Avg G Loss: -40.0170\n",
      "\n",
      "Epoch 85/85\n"
     ]
    },
    {
     "data": {
      "application/vnd.jupyter.widget-view+json": {
       "model_id": "7b1a3239d9554c4c9387b811cb245a86",
       "version_major": 2,
       "version_minor": 0
      },
      "text/plain": [
       "Epoch 85:   0%|          | 0/2850 [00:00<?, ?it/s]"
      ]
     },
     "metadata": {},
     "output_type": "display_data"
    },
    {
     "name": "stdout",
     "output_type": "stream",
     "text": [
      "Epoch 85 finished. Avg C Loss: -0.2154, Avg G Loss: -46.3863\n",
      "Saved generator and critic weights for epoch 85\n",
      "\n",
      "Continued WGAN-GP training finished at epoch 85.\n"
     ]
    },
    {
     "data": {
      "image/png": "[encoded data removed]",
      "text/plain": [
       "<Figure size 1000x500 with 1 Axes>"
      ]
     },
     "metadata": {},
     "output_type": "display_data"
    },
    {
     "name": "stdout",
     "output_type": "stream",
     "text": [
      "Updated 'critic' and 'generator' variables with weights from continued training.\n"
     ]
    }
   ],
   "source": [
    "# Cell 12.5: Continue WGAN-GP Training from Epoch 70 to 85 (loading weights - Build Fix Attempt 2)\n",
    "\n",
    "import tensorflow as tf\n",
    "import numpy as np\n",
    "import os\n",
    "from tqdm.notebook import tqdm\n",
    "import matplotlib.pyplot as plt\n",
    "import logging # Use logging setup from Cell 1\n",
    "# import fnmatch # Ensure fnmatch is imported if used later\n",
    "\n",
    "print(\"\\n--- Continuing WGAN-GP Training (Loading Weights) ---\")\n",
    "\n",
    "# --- Configuration ---\n",
    "load_epoch = 70\n",
    "start_epoch = load_epoch + 1\n",
    "end_epoch = 85\n",
    "continue_epochs = end_epoch - load_epoch\n",
    "\n",
    "# Parameters (should match Cell 11/12 setup)\n",
    "# Ensure these are correctly defined from previous cells:\n",
    "# latent_dim, train_data_path, gan_batch_size, gp_weight, n_critic\n",
    "# mel_spectrogram_shape (needed to recreate models)\n",
    "# Learning rates from Cell 11 (use the ones you found most stable)\n",
    "cont_critic_lr = 1e-5  # Example: Use the potentially lowered LR\n",
    "cont_gen_lr = 1e-5     # Example: Use the potentially lowered LR\n",
    "\n",
    "# --- Corrected File Paths for .weights.h5 ---\n",
    "generator_weights_load_path = f'generator_wgan_sa_epoch_{load_epoch}.weights.h5'\n",
    "critic_weights_load_path = f'critic_wgan_sa_epoch_{load_epoch}.weights.h5'\n",
    "\n",
    "# --- Ensure Model Creation Functions and SelfAttention Class are Defined ---\n",
    "# Make sure Cell 7 (SelfAttention), Cell 8 (create_generator), Cell 9 (create_critic)\n",
    "# definitions were executed earlier in the notebook.\n",
    "if 'SelfAttention' not in locals(): raise NameError(\"SelfAttention class definition not found. Ensure Cell 7 was executed.\")\n",
    "if 'create_generator' not in locals(): raise NameError(\"create_generator function definition not found. Ensure Cell 8 was executed.\")\n",
    "if 'create_critic' not in locals(): raise NameError(\"create_critic function definition not found. Ensure Cell 9 was executed.\")\n",
    "if 'mel_spectrogram_shape' not in locals(): raise NameError(\"mel_spectrogram_shape variable not found. Ensure Cell 11 was executed.\")\n",
    "if 'N_MELS' not in locals() or 'TARGET_FRAMES' not in locals(): raise NameError(\"N_MELS or TARGET_FRAMES not defined. Ensure Cell 11 was executed.\")\n",
    "if 'latent_dim' not in locals(): raise NameError(\"latent_dim not defined. Ensure Cell 11 was executed.\")\n",
    "\n",
    "\n",
    "# --- Recreate Model Structures ---\n",
    "print(\"Recreating model structures...\")\n",
    "generator_cont = create_generator(latent_dim, mel_spectrogram_shape)\n",
    "critic_cont = create_critic(mel_spectrogram_shape)\n",
    "print(\"Model structures recreated.\")\n",
    "\n",
    "# ---> BUILD MODELS VIA DUMMY FORWARD PASS <---\n",
    "print(\"Building models via dummy forward pass...\")\n",
    "# Create dummy input tensors with batch size 1\n",
    "dummy_critic_input = tf.zeros((1, N_MELS, TARGET_FRAMES, 1), dtype=tf.float32)\n",
    "dummy_generator_input = tf.zeros((1, latent_dim), dtype=tf.float32)\n",
    "\n",
    "try:\n",
    "    # Call the models with the dummy inputs\n",
    "    _ = critic_cont(dummy_critic_input, training=False) # training=False might be safer here\n",
    "    _ = generator_cont(dummy_generator_input, training=False)\n",
    "    print(\"Models built successfully via dummy pass.\")\n",
    "    # You can optionally print summary again to confirm layers are built\n",
    "    # print(\"Critic Summary after build:\")\n",
    "    # critic_cont.summary()\n",
    "except Exception as e:\n",
    "    raise RuntimeError(f\"Error building models via dummy pass: {e}\")\n",
    "\n",
    "\n",
    "# --- Load Weights ---\n",
    "# Load generator weights (optional, if file exists)\n",
    "# ... (loading logic remains the same as before) ...\n",
    "if os.path.exists(generator_weights_load_path):\n",
    "    print(f\"Loading generator weights from: {generator_weights_load_path}\")\n",
    "    try:\n",
    "        generator_cont.load_weights(generator_weights_load_path)\n",
    "        print(\"Generator weights loaded successfully.\")\n",
    "    except Exception as e:\n",
    "        print(f\"Warning: Error loading generator weights: {e}. Generator starts with initial weights.\")\n",
    "else:\n",
    "    print(f\"Generator weights file not found: {generator_weights_load_path}. Generator starts with initial weights.\")\n",
    "\n",
    "# Load critic weights (Mandatory)\n",
    "if not os.path.exists(critic_weights_load_path):\n",
    "    raise FileNotFoundError(f\"Critic weights file not found: {critic_weights_load_path}\")\n",
    "\n",
    "print(f\"Loading critic weights from: {critic_weights_load_path}\")\n",
    "try:\n",
    "    critic_cont.load_weights(critic_weights_load_path) # Now this *really* should work\n",
    "    print(\"Critic weights loaded successfully.\")\n",
    "except Exception as e:\n",
    "    raise RuntimeError(f\"Error loading critic weights after build: {e}\")\n",
    "\n",
    "\n",
    "# --- Define Optimizers (Redefine for clarity/safety) ---\n",
    "# ... (optimizer definitions remain the same) ...\n",
    "critic_optimizer_cont = tf.keras.optimizers.Adam(learning_rate=cont_critic_lr, beta_1=0.5, beta_2=0.9)\n",
    "generator_optimizer_cont = tf.keras.optimizers.Adam(learning_rate=cont_gen_lr, beta_1=0.5, beta_2=0.9)\n",
    "print(\"Optimizers redefined.\")\n",
    "\n",
    "# --- Redefine Training Functions (to use loaded models/optimizers) ---\n",
    "# ... (training function definitions remain the same) ...\n",
    "def critic_loss_cont(real_output, fake_output):\n",
    "    real_output = tf.cast(real_output, tf.float32); fake_output = tf.cast(fake_output, tf.float32)\n",
    "    return tf.reduce_mean(fake_output) - tf.reduce_mean(real_output)\n",
    "def generator_loss_cont(fake_output):\n",
    "    fake_output = tf.cast(fake_output, tf.float32)\n",
    "    return -tf.reduce_mean(fake_output)\n",
    "def gradient_penalty_cont(batch_size, real_images, fake_images):\n",
    "    if real_images.dtype != fake_images.dtype: real_images = tf.cast(real_images, fake_images.dtype)\n",
    "    alpha_shape = [tf.shape(real_images)[0]] + [1] * (len(real_images.shape) - 1)\n",
    "    alpha = tf.random.uniform(shape=alpha_shape, minval=0., maxval=1., dtype=real_images.dtype)\n",
    "    interpolated = real_images + alpha * (fake_images - real_images)\n",
    "    with tf.GradientTape() as gp_tape:\n",
    "        gp_tape.watch(interpolated); pred = critic_cont(interpolated, training=True); pred = tf.cast(pred, tf.float32)\n",
    "    grads = gp_tape.gradient(pred, [interpolated])\n",
    "    if grads is None or grads[0] is None: logging.warning(\"Gradients are None in gradient_penalty_cont.\"); return tf.constant(0.0, dtype=tf.float32)\n",
    "    grads = grads[0]; grads = tf.cast(grads, tf.float32)\n",
    "    norm = tf.sqrt(tf.reduce_sum(tf.square(grads), axis=tf.range(1, tf.rank(grads)))); gp = tf.reduce_mean((norm - 1.0) ** 2)\n",
    "    return gp * gp_weight\n",
    "@tf.function\n",
    "def train_step_cont(real_images):\n",
    "    current_batch_size = tf.shape(real_images)[0]; noise = tf.random.normal([current_batch_size, latent_dim]); total_crit_loss = tf.constant(0.0, dtype=tf.float32)\n",
    "    for _ in tf.range(n_critic):\n",
    "        with tf.GradientTape() as crit_tape:\n",
    "            fake_images = generator_cont(noise, training=True); real_output = critic_cont(real_images, training=True); fake_output = critic_cont(fake_images, training=True)\n",
    "            crit_loss = critic_loss_cont(real_output, fake_output); gp = gradient_penalty_cont(current_batch_size, real_images, fake_images); total_crit_loss = crit_loss + gp\n",
    "        crit_gradients = crit_tape.gradient(total_crit_loss, critic_cont.trainable_variables); valid_grads_and_vars = [(g, v) for g, v in zip(crit_gradients, critic_cont.trainable_variables) if g is not None]\n",
    "        if len(valid_grads_and_vars) < len(critic_cont.trainable_variables): tf.print(\"Warning: Some critic gradients are None in cont step.\")\n",
    "        if len(valid_grads_and_vars) > 0: critic_optimizer_cont.apply_gradients(valid_grads_and_vars)\n",
    "    with tf.GradientTape() as gen_tape:\n",
    "        fake_images_gen = generator_cont(noise, training=True); fake_output_gen = critic_cont(fake_images_gen, training=True); gen_loss = generator_loss_cont(fake_output_gen)\n",
    "    gen_gradients = gen_tape.gradient(gen_loss, generator_cont.trainable_variables); valid_grads_and_vars_gen = [(g, v) for g, v in zip(gen_gradients, generator_cont.trainable_variables) if g is not None]\n",
    "    if len(valid_grads_and_vars_gen) < len(generator_cont.trainable_variables): tf.print(\"Warning: Some generator gradients are None in cont step.\")\n",
    "    if len(valid_grads_and_vars_gen) > 0: generator_optimizer_cont.apply_gradients(valid_grads_and_vars_gen)\n",
    "    return total_crit_loss, gen_loss\n",
    "\n",
    "\n",
    "# --- Data Generator ---\n",
    "# ... (generator initialization and step calculation remain the same) ...\n",
    "print(\"Initializing data generator for continued training...\")\n",
    "train_gen_gan_cont = data_generator_gan(train_data_path, batch_size=gan_batch_size)\n",
    "if train_gen_gan_cont is None: raise RuntimeError(\"Failed to initialize GAN data generator.\")\n",
    "# Use function from Cell 13 or define count_total_files here if needed\n",
    "# This counts both real and fake, data_generator_gan only uses fake\n",
    "# We need the count of fake files only for the GAN generator steps\n",
    "fake_files_count_cont = 0\n",
    "try:\n",
    "    fake_dir_cont = os.path.join(train_data_path, 'fake')\n",
    "    if os.path.exists(fake_dir_cont):\n",
    "        fake_files_count_cont = len([f for f in os.listdir(fake_dir_cont) if f.endswith('.wav')])\n",
    "except Exception as e:\n",
    "     print(f\"Error counting fake files for continued training: {e}\")\n",
    "\n",
    "if gan_batch_size <= 0: raise ValueError(\"GAN Batch size must be positive.\")\n",
    "if fake_files_count_cont == 0: raise ValueError(\"No fake training files found for GAN.\")\n",
    "gan_steps_per_epoch_cont = int(np.ceil(fake_files_count_cont / float(gan_batch_size))) # Corrected count source\n",
    "print(f\"Using {gan_steps_per_epoch_cont} GAN steps per epoch for continued training.\") # Corrected count source\n",
    "\n",
    "\n",
    "# --- Continue Training Loop ---\n",
    "# ... (training loop remains the same) ...\n",
    "print(f\"\\nContinuing WGAN-GP training from epoch {start_epoch} to {end_epoch}...\")\n",
    "cont_c_loss_history = []; cont_g_loss_history = []\n",
    "if train_gen_gan_cont is None or gan_steps_per_epoch_cont == 0:\n",
    "    print(\"Skipping continued WGAN-GP training: Generator not initialized or no steps per epoch.\")\n",
    "else:\n",
    "    for epoch in range(start_epoch, end_epoch + 1): # Loop from 71 to 85\n",
    "        print(f\"\\nEpoch {epoch}/{end_epoch}\")\n",
    "        epoch_pbar_cont = tqdm(range(gan_steps_per_epoch_cont), desc=f\"Epoch {epoch}\")\n",
    "        epoch_c_loss = 0.0; epoch_g_loss = 0.0; batches_processed = 0\n",
    "        for batch_idx in epoch_pbar_cont:\n",
    "            try:\n",
    "                real_spoof_samples_np = next(train_gen_gan_cont); real_spoof_samples = tf.convert_to_tensor(real_spoof_samples_np, dtype=tf.float32)\n",
    "                if tf.shape(real_spoof_samples)[0] == 0: print(f\"Warning: Skipped empty batch at step {batch_idx} (cont)\"); continue\n",
    "                c_loss, g_loss = train_step_cont(real_spoof_samples)\n",
    "                epoch_c_loss += c_loss.numpy(); epoch_g_loss += g_loss.numpy(); batches_processed += 1\n",
    "                epoch_pbar_cont.set_postfix({\"C Loss\": f\"{c_loss.numpy():.4f}\", \"G Loss\": f\"{g_loss.numpy():.4f}\"})\n",
    "            except StopIteration: print(f\"\\nGAN Generator exhausted prematurely at batch {batch_idx} (cont). Re-initializing.\"); train_gen_gan_cont = data_generator_gan(train_data_path, batch_size=gan_batch_size); break\n",
    "            except Exception as e: logging.error(f\"Error during continued WGAN training epoch {epoch}, batch {batch_idx}: {e}\", exc_info=True); print(f\"\\nError during continued WGAN training epoch {epoch}, batch {batch_idx}: {e}\"); continue\n",
    "        if batches_processed > 0: avg_c_loss = epoch_c_loss / batches_processed; avg_g_loss = epoch_g_loss / batches_processed; cont_c_loss_history.append(avg_c_loss); cont_g_loss_history.append(avg_g_loss); print(f\"Epoch {epoch} finished. Avg C Loss: {avg_c_loss:.4f}, Avg G Loss: {avg_g_loss:.4f}\")\n",
    "        else: print(f\"Epoch {epoch} finished. No batches processed.\"); cont_c_loss_history.append(np.nan); cont_g_loss_history.append(np.nan)\n",
    "        if (epoch % 5 == 0) or (epoch == end_epoch):\n",
    "             try: generator_cont.save_weights(f'generator_wgan_sa_epoch_{epoch}.weights.h5'); critic_cont.save_weights(f'critic_wgan_sa_epoch_{epoch}.weights.h5'); print(f\"Saved generator and critic weights for epoch {epoch}\")\n",
    "             except Exception as e: print(f\"Error saving weights at epoch {epoch} (cont): {e}\")\n",
    "    print(f\"\\nContinued WGAN-GP training finished at epoch {end_epoch}.\")\n",
    "    plt.figure(figsize=(10, 5)); epoch_range = range(start_epoch, start_epoch + len(cont_c_loss_history)); plt.plot(epoch_range, cont_c_loss_history, label='Avg Critic Loss (Continuation)'); plt.plot(epoch_range, cont_g_loss_history, label='Avg Generator Loss (Continuation)'); plt.title(f'WGAN-GP Continued Training Losses (Epochs {start_epoch}-{end_epoch})'); plt.xlabel('Epoch'); plt.ylabel('Average Loss'); plt.xticks(list(epoch_range)); plt.legend(); plt.grid(True); plt.savefig(os.path.join(FIGURES_DIR, f'gan_loss_cont_{start_epoch}_to_{end_epoch}.png')); plt.show()\n",
    "    critic = critic_cont; generator = generator_cont\n",
    "    print(\"Updated 'critic' and 'generator' variables with weights from continued training.\")"
   ]
  },
  {
   "cell_type": "code",
   "execution_count": null,
   "metadata": {},
   "outputs": [
    {
     "name": "stdout",
     "output_type": "stream",
     "text": [
      "\n",
      "Setting up Standalone Classifier training...\n",
      "Checking for pre-trained 'critic' model variable...\n",
      "Using pre-trained and built 'critic' model variable.\n",
      "Initializing classifier data generators...\n",
      "Calculating classifier steps...\n",
      "Classifier Train Steps/Epoch: 3173, Validation Steps: 3106\n",
      "Building classifier model using layers from the existing trained critic...\n",
      "Using input shape for classifier model: (80, 126, 1)\n",
      "Copied 10 layers from the pre-trained critic.\n",
      "\n",
      "--- Spoof Detector (Classifier) Summary ---\n"
     ]
    },
    {
     "data": {
      "text/html": [
       "<pre style=\"white-space:pre;overflow-x:auto;line-height:normal;font-family:Menlo,'DejaVu Sans Mono',consolas,'Courier New',monospace\"><span style=\"font-weight: bold\">Model: \"spoof_detector\"</span>\n",
       "</pre>\n"
      ],
      "text/plain": [
       "\u001b[1mModel: \"spoof_detector\"\u001b[0m\n"
      ]
     },
     "metadata": {},
     "output_type": "display_data"
    },
    {
     "data": {
      "text/html": [
       "<pre style=\"white-space:pre;overflow-x:auto;line-height:normal;font-family:Menlo,'DejaVu Sans Mono',consolas,'Courier New',monospace\">┏━━━━━━━━━━━━━━━━━━━━━━━━━━━━━━━━━┳━━━━━━━━━━━━━━━━━━━━━━━━┳━━━━━━━━━━━━━━━┓\n",
       "┃<span style=\"font-weight: bold\"> Layer (type)                    </span>┃<span style=\"font-weight: bold\"> Output Shape           </span>┃<span style=\"font-weight: bold\">       Param # </span>┃\n",
       "┡━━━━━━━━━━━━━━━━━━━━━━━━━━━━━━━━━╇━━━━━━━━━━━━━━━━━━━━━━━━╇━━━━━━━━━━━━━━━┩\n",
       "│ conv2d_21 (<span style=\"color: #0087ff; text-decoration-color: #0087ff\">Conv2D</span>)              │ (<span style=\"color: #00d7ff; text-decoration-color: #00d7ff\">None</span>, <span style=\"color: #00af00; text-decoration-color: #00af00\">40</span>, <span style=\"color: #00af00; text-decoration-color: #00af00\">63</span>, <span style=\"color: #00af00; text-decoration-color: #00af00\">64</span>)     │         <span style=\"color: #00af00; text-decoration-color: #00af00\">1,088</span> │\n",
       "├─────────────────────────────────┼────────────────────────┼───────────────┤\n",
       "│ leaky_re_lu_33 (<span style=\"color: #0087ff; text-decoration-color: #0087ff\">LeakyReLU</span>)      │ (<span style=\"color: #00d7ff; text-decoration-color: #00d7ff\">None</span>, <span style=\"color: #00af00; text-decoration-color: #00af00\">40</span>, <span style=\"color: #00af00; text-decoration-color: #00af00\">63</span>, <span style=\"color: #00af00; text-decoration-color: #00af00\">64</span>)     │             <span style=\"color: #00af00; text-decoration-color: #00af00\">0</span> │\n",
       "├─────────────────────────────────┼────────────────────────┼───────────────┤\n",
       "│ conv2d_22 (<span style=\"color: #0087ff; text-decoration-color: #0087ff\">Conv2D</span>)              │ (<span style=\"color: #00d7ff; text-decoration-color: #00d7ff\">None</span>, <span style=\"color: #00af00; text-decoration-color: #00af00\">20</span>, <span style=\"color: #00af00; text-decoration-color: #00af00\">32</span>, <span style=\"color: #00af00; text-decoration-color: #00af00\">128</span>)    │       <span style=\"color: #00af00; text-decoration-color: #00af00\">131,072</span> │\n",
       "├─────────────────────────────────┼────────────────────────┼───────────────┤\n",
       "│ layer_normalization_22          │ (<span style=\"color: #00d7ff; text-decoration-color: #00d7ff\">None</span>, <span style=\"color: #00af00; text-decoration-color: #00af00\">20</span>, <span style=\"color: #00af00; text-decoration-color: #00af00\">32</span>, <span style=\"color: #00af00; text-decoration-color: #00af00\">128</span>)    │           <span style=\"color: #00af00; text-decoration-color: #00af00\">256</span> │\n",
       "│ (<span style=\"color: #0087ff; text-decoration-color: #0087ff\">LayerNormalization</span>)            │                        │               │\n",
       "├─────────────────────────────────┼────────────────────────┼───────────────┤\n",
       "│ leaky_re_lu_34 (<span style=\"color: #0087ff; text-decoration-color: #0087ff\">LeakyReLU</span>)      │ (<span style=\"color: #00d7ff; text-decoration-color: #00d7ff\">None</span>, <span style=\"color: #00af00; text-decoration-color: #00af00\">20</span>, <span style=\"color: #00af00; text-decoration-color: #00af00\">32</span>, <span style=\"color: #00af00; text-decoration-color: #00af00\">128</span>)    │             <span style=\"color: #00af00; text-decoration-color: #00af00\">0</span> │\n",
       "├─────────────────────────────────┼────────────────────────┼───────────────┤\n",
       "│ self_attention_11               │ (<span style=\"color: #00d7ff; text-decoration-color: #00d7ff\">None</span>, <span style=\"color: #00af00; text-decoration-color: #00af00\">20</span>, <span style=\"color: #00af00; text-decoration-color: #00af00\">32</span>, <span style=\"color: #00af00; text-decoration-color: #00af00\">128</span>)    │        <span style=\"color: #00af00; text-decoration-color: #00af00\">37,153</span> │\n",
       "│ (<span style=\"color: #0087ff; text-decoration-color: #0087ff\">SelfAttention</span>)                 │                        │               │\n",
       "├─────────────────────────────────┼────────────────────────┼───────────────┤\n",
       "│ conv2d_23 (<span style=\"color: #0087ff; text-decoration-color: #0087ff\">Conv2D</span>)              │ (<span style=\"color: #00d7ff; text-decoration-color: #00d7ff\">None</span>, <span style=\"color: #00af00; text-decoration-color: #00af00\">10</span>, <span style=\"color: #00af00; text-decoration-color: #00af00\">16</span>, <span style=\"color: #00af00; text-decoration-color: #00af00\">256</span>)    │       <span style=\"color: #00af00; text-decoration-color: #00af00\">524,288</span> │\n",
       "├─────────────────────────────────┼────────────────────────┼───────────────┤\n",
       "│ layer_normalization_23          │ (<span style=\"color: #00d7ff; text-decoration-color: #00d7ff\">None</span>, <span style=\"color: #00af00; text-decoration-color: #00af00\">10</span>, <span style=\"color: #00af00; text-decoration-color: #00af00\">16</span>, <span style=\"color: #00af00; text-decoration-color: #00af00\">256</span>)    │           <span style=\"color: #00af00; text-decoration-color: #00af00\">512</span> │\n",
       "│ (<span style=\"color: #0087ff; text-decoration-color: #0087ff\">LayerNormalization</span>)            │                        │               │\n",
       "├─────────────────────────────────┼────────────────────────┼───────────────┤\n",
       "│ leaky_re_lu_35 (<span style=\"color: #0087ff; text-decoration-color: #0087ff\">LeakyReLU</span>)      │ (<span style=\"color: #00d7ff; text-decoration-color: #00d7ff\">None</span>, <span style=\"color: #00af00; text-decoration-color: #00af00\">10</span>, <span style=\"color: #00af00; text-decoration-color: #00af00\">16</span>, <span style=\"color: #00af00; text-decoration-color: #00af00\">256</span>)    │             <span style=\"color: #00af00; text-decoration-color: #00af00\">0</span> │\n",
       "├─────────────────────────────────┼────────────────────────┼───────────────┤\n",
       "│ flatten_5 (<span style=\"color: #0087ff; text-decoration-color: #0087ff\">Flatten</span>)             │ (<span style=\"color: #00d7ff; text-decoration-color: #00d7ff\">None</span>, <span style=\"color: #00af00; text-decoration-color: #00af00\">40960</span>)          │             <span style=\"color: #00af00; text-decoration-color: #00af00\">0</span> │\n",
       "├─────────────────────────────────┼────────────────────────┼───────────────┤\n",
       "│ classifier_output (<span style=\"color: #0087ff; text-decoration-color: #0087ff\">Dense</span>)       │ (<span style=\"color: #00d7ff; text-decoration-color: #00d7ff\">None</span>, <span style=\"color: #00af00; text-decoration-color: #00af00\">1</span>)              │        <span style=\"color: #00af00; text-decoration-color: #00af00\">40,961</span> │\n",
       "└─────────────────────────────────┴────────────────────────┴───────────────┘\n",
       "</pre>\n"
      ],
      "text/plain": [
       "┏━━━━━━━━━━━━━━━━━━━━━━━━━━━━━━━━━┳━━━━━━━━━━━━━━━━━━━━━━━━┳━━━━━━━━━━━━━━━┓\n",
       "┃\u001b[1m \u001b[0m\u001b[1mLayer (type)                   \u001b[0m\u001b[1m \u001b[0m┃\u001b[1m \u001b[0m\u001b[1mOutput Shape          \u001b[0m\u001b[1m \u001b[0m┃\u001b[1m \u001b[0m\u001b[1m      Param #\u001b[0m\u001b[1m \u001b[0m┃\n",
       "┡━━━━━━━━━━━━━━━━━━━━━━━━━━━━━━━━━╇━━━━━━━━━━━━━━━━━━━━━━━━╇━━━━━━━━━━━━━━━┩\n",
       "│ conv2d_21 (\u001b[38;5;33mConv2D\u001b[0m)              │ (\u001b[38;5;45mNone\u001b[0m, \u001b[38;5;34m40\u001b[0m, \u001b[38;5;34m63\u001b[0m, \u001b[38;5;34m64\u001b[0m)     │         \u001b[38;5;34m1,088\u001b[0m │\n",
       "├─────────────────────────────────┼────────────────────────┼───────────────┤\n",
       "│ leaky_re_lu_33 (\u001b[38;5;33mLeakyReLU\u001b[0m)      │ (\u001b[38;5;45mNone\u001b[0m, \u001b[38;5;34m40\u001b[0m, \u001b[38;5;34m63\u001b[0m, \u001b[38;5;34m64\u001b[0m)     │             \u001b[38;5;34m0\u001b[0m │\n",
       "├─────────────────────────────────┼────────────────────────┼───────────────┤\n",
       "│ conv2d_22 (\u001b[38;5;33mConv2D\u001b[0m)              │ (\u001b[38;5;45mNone\u001b[0m, \u001b[38;5;34m20\u001b[0m, \u001b[38;5;34m32\u001b[0m, \u001b[38;5;34m128\u001b[0m)    │       \u001b[38;5;34m131,072\u001b[0m │\n",
       "├─────────────────────────────────┼────────────────────────┼───────────────┤\n",
       "│ layer_normalization_22          │ (\u001b[38;5;45mNone\u001b[0m, \u001b[38;5;34m20\u001b[0m, \u001b[38;5;34m32\u001b[0m, \u001b[38;5;34m128\u001b[0m)    │           \u001b[38;5;34m256\u001b[0m │\n",
       "│ (\u001b[38;5;33mLayerNormalization\u001b[0m)            │                        │               │\n",
       "├─────────────────────────────────┼────────────────────────┼───────────────┤\n",
       "│ leaky_re_lu_34 (\u001b[38;5;33mLeakyReLU\u001b[0m)      │ (\u001b[38;5;45mNone\u001b[0m, \u001b[38;5;34m20\u001b[0m, \u001b[38;5;34m32\u001b[0m, \u001b[38;5;34m128\u001b[0m)    │             \u001b[38;5;34m0\u001b[0m │\n",
       "├─────────────────────────────────┼────────────────────────┼───────────────┤\n",
       "│ self_attention_11               │ (\u001b[38;5;45mNone\u001b[0m, \u001b[38;5;34m20\u001b[0m, \u001b[38;5;34m32\u001b[0m, \u001b[38;5;34m128\u001b[0m)    │        \u001b[38;5;34m37,153\u001b[0m │\n",
       "│ (\u001b[38;5;33mSelfAttention\u001b[0m)                 │                        │               │\n",
       "├─────────────────────────────────┼────────────────────────┼───────────────┤\n",
       "│ conv2d_23 (\u001b[38;5;33mConv2D\u001b[0m)              │ (\u001b[38;5;45mNone\u001b[0m, \u001b[38;5;34m10\u001b[0m, \u001b[38;5;34m16\u001b[0m, \u001b[38;5;34m256\u001b[0m)    │       \u001b[38;5;34m524,288\u001b[0m │\n",
       "├─────────────────────────────────┼────────────────────────┼───────────────┤\n",
       "│ layer_normalization_23          │ (\u001b[38;5;45mNone\u001b[0m, \u001b[38;5;34m10\u001b[0m, \u001b[38;5;34m16\u001b[0m, \u001b[38;5;34m256\u001b[0m)    │           \u001b[38;5;34m512\u001b[0m │\n",
       "│ (\u001b[38;5;33mLayerNormalization\u001b[0m)            │                        │               │\n",
       "├─────────────────────────────────┼────────────────────────┼───────────────┤\n",
       "│ leaky_re_lu_35 (\u001b[38;5;33mLeakyReLU\u001b[0m)      │ (\u001b[38;5;45mNone\u001b[0m, \u001b[38;5;34m10\u001b[0m, \u001b[38;5;34m16\u001b[0m, \u001b[38;5;34m256\u001b[0m)    │             \u001b[38;5;34m0\u001b[0m │\n",
       "├─────────────────────────────────┼────────────────────────┼───────────────┤\n",
       "│ flatten_5 (\u001b[38;5;33mFlatten\u001b[0m)             │ (\u001b[38;5;45mNone\u001b[0m, \u001b[38;5;34m40960\u001b[0m)          │             \u001b[38;5;34m0\u001b[0m │\n",
       "├─────────────────────────────────┼────────────────────────┼───────────────┤\n",
       "│ classifier_output (\u001b[38;5;33mDense\u001b[0m)       │ (\u001b[38;5;45mNone\u001b[0m, \u001b[38;5;34m1\u001b[0m)              │        \u001b[38;5;34m40,961\u001b[0m │\n",
       "└─────────────────────────────────┴────────────────────────┴───────────────┘\n"
      ]
     },
     "metadata": {},
     "output_type": "display_data"
    },
    {
     "data": {
      "text/html": [
       "<pre style=\"white-space:pre;overflow-x:auto;line-height:normal;font-family:Menlo,'DejaVu Sans Mono',consolas,'Courier New',monospace\"><span style=\"font-weight: bold\"> Total params: </span><span style=\"color: #00af00; text-decoration-color: #00af00\">735,330</span> (2.81 MB)\n",
       "</pre>\n"
      ],
      "text/plain": [
       "\u001b[1m Total params: \u001b[0m\u001b[38;5;34m735,330\u001b[0m (2.81 MB)\n"
      ]
     },
     "metadata": {},
     "output_type": "display_data"
    },
    {
     "data": {
      "text/html": [
       "<pre style=\"white-space:pre;overflow-x:auto;line-height:normal;font-family:Menlo,'DejaVu Sans Mono',consolas,'Courier New',monospace\"><span style=\"font-weight: bold\"> Trainable params: </span><span style=\"color: #00af00; text-decoration-color: #00af00\">735,330</span> (2.81 MB)\n",
       "</pre>\n"
      ],
      "text/plain": [
       "\u001b[1m Trainable params: \u001b[0m\u001b[38;5;34m735,330\u001b[0m (2.81 MB)\n"
      ]
     },
     "metadata": {},
     "output_type": "display_data"
    },
    {
     "data": {
      "text/html": [
       "<pre style=\"white-space:pre;overflow-x:auto;line-height:normal;font-family:Menlo,'DejaVu Sans Mono',consolas,'Courier New',monospace\"><span style=\"font-weight: bold\"> Non-trainable params: </span><span style=\"color: #00af00; text-decoration-color: #00af00\">0</span> (0.00 B)\n",
       "</pre>\n"
      ],
      "text/plain": [
       "\u001b[1m Non-trainable params: \u001b[0m\u001b[38;5;34m0\u001b[0m (0.00 B)\n"
      ]
     },
     "metadata": {},
     "output_type": "display_data"
    },
    {
     "name": "stdout",
     "output_type": "stream",
     "text": [
      "Setting up callbacks...\n",
      "Compiling classifier model...\n",
      "\n",
      "Starting Standalone Classifier training...\n",
      "Using class weights: {1: 4.9186046511627906, 0: 0.5565789473684211} for path datasetNEW/train\n",
      "Epoch 1/60\n",
      "\u001b[1m3173/3173\u001b[0m \u001b[32m━━━━━━━━━━━━━━━━━━━━\u001b[0m\u001b[37m\u001b[0m \u001b[1m0s\u001b[0m 80ms/step - accuracy: 0.6976 - auc: 0.8153 - loss: 0.5100Using class weights: {1: 4.875196232339089, 0: 0.557140294223179} for path datasetNEW/dev\n"
     ]
    },
    {
     "name": "stderr",
     "output_type": "stream",
     "text": [
      "2025-04-06 00:28:43.362813: I external/local_xla/xla/stream_executor/cuda/subprocess_compilation.cc:346] ptxas warning : Registers are spilled to local memory in function 'gemm_fusion_dot_189', 248 bytes spill stores, 248 bytes spill loads\n",
      "\n",
      "2025-04-06 00:28:43.569908: I external/local_xla/xla/stream_executor/cuda/subprocess_compilation.cc:346] ptxas warning : Registers are spilled to local memory in function 'gemm_fusion_dot_189', 108 bytes spill stores, 108 bytes spill loads\n",
      "\n",
      "2025-04-06 00:28:43.648210: I external/local_xla/xla/stream_executor/cuda/subprocess_compilation.cc:346] ptxas warning : Registers are spilled to local memory in function 'gemm_fusion_dot_189', 64 bytes spill stores, 64 bytes spill loads\n",
      "\n",
      "2025-04-06 00:28:43.694467: I external/local_xla/xla/stream_executor/cuda/subprocess_compilation.cc:346] ptxas warning : Registers are spilled to local memory in function 'gemm_fusion_dot_189', 220 bytes spill stores, 184 bytes spill loads\n",
      "\n",
      "2025-04-06 00:28:43.793412: I external/local_xla/xla/stream_executor/cuda/subprocess_compilation.cc:346] ptxas warning : Registers are spilled to local memory in function 'gemm_fusion_dot_189_0', 1648 bytes spill stores, 2076 bytes spill loads\n",
      "\n"
     ]
    },
    {
     "name": "stdout",
     "output_type": "stream",
     "text": [
      "\n",
      "Epoch 1: val_auc improved from -inf to 0.92909, saving model to ./training_checkpoints_spoof_detector_wgan_sa/ckpt_clf_01.weights.h5\n",
      "\n",
      "Training history plot saved to training_figures_wgan_sa/spoof_detector_wgan_sa_epoch_1.png\n",
      "\u001b[1m3173/3173\u001b[0m \u001b[32m━━━━━━━━━━━━━━━━━━━━\u001b[0m\u001b[37m\u001b[0m \u001b[1m488s\u001b[0m 153ms/step - accuracy: 0.6976 - auc: 0.8154 - loss: 0.5100 - val_accuracy: 0.8431 - val_auc: 0.9291 - val_loss: 0.3085 - learning_rate: 1.0000e-05\n",
      "Epoch 2/60\n",
      "\u001b[1m3172/3173\u001b[0m \u001b[32m━━━━━━━━━━━━━━━━━━━\u001b[0m\u001b[37m━\u001b[0m \u001b[1m0s\u001b[0m 83ms/step - accuracy: 0.8644 - auc: 0.9543 - loss: 0.2559\n",
      "Epoch 2: val_auc improved from 0.92909 to 0.94675, saving model to ./training_checkpoints_spoof_detector_wgan_sa/ckpt_clf_02.weights.h5\n",
      "\n",
      "Training history plot saved to training_figures_wgan_sa/spoof_detector_wgan_sa_epoch_2.png\n",
      "\u001b[1m3173/3173\u001b[0m \u001b[32m━━━━━━━━━━━━━━━━━━━━\u001b[0m\u001b[37m\u001b[0m \u001b[1m496s\u001b[0m 156ms/step - accuracy: 0.8644 - auc: 0.9543 - loss: 0.2559 - val_accuracy: 0.8723 - val_auc: 0.9468 - val_loss: 0.2784 - learning_rate: 1.0000e-05\n",
      "Epoch 3/60\n",
      "\u001b[1m3172/3173\u001b[0m \u001b[32m━━━━━━━━━━━━━━━━━━━\u001b[0m\u001b[37m━\u001b[0m \u001b[1m0s\u001b[0m 83ms/step - accuracy: 0.8982 - auc: 0.9734 - loss: 0.1975\n",
      "Epoch 3: val_auc improved from 0.94675 to 0.95292, saving model to ./training_checkpoints_spoof_detector_wgan_sa/ckpt_clf_03.weights.h5\n",
      "\n",
      "Training history plot saved to training_figures_wgan_sa/spoof_detector_wgan_sa_epoch_3.png\n",
      "\u001b[1m3173/3173\u001b[0m \u001b[32m━━━━━━━━━━━━━━━━━━━━\u001b[0m\u001b[37m\u001b[0m \u001b[1m497s\u001b[0m 157ms/step - accuracy: 0.8982 - auc: 0.9734 - loss: 0.1975 - val_accuracy: 0.9238 - val_auc: 0.9529 - val_loss: 0.4106 - learning_rate: 1.0000e-05\n",
      "Epoch 4/60\n",
      "\u001b[1m3172/3173\u001b[0m \u001b[32m━━━━━━━━━━━━━━━━━━━\u001b[0m\u001b[37m━\u001b[0m \u001b[1m0s\u001b[0m 83ms/step - accuracy: 0.9179 - auc: 0.9810 - loss: 0.1688\n",
      "Epoch 4: val_auc improved from 0.95292 to 0.95573, saving model to ./training_checkpoints_spoof_detector_wgan_sa/ckpt_clf_04.weights.h5\n",
      "\n",
      "Training history plot saved to training_figures_wgan_sa/spoof_detector_wgan_sa_epoch_4.png\n",
      "\u001b[1m3173/3173\u001b[0m \u001b[32m━━━━━━━━━━━━━━━━━━━━\u001b[0m\u001b[37m\u001b[0m \u001b[1m497s\u001b[0m 157ms/step - accuracy: 0.9179 - auc: 0.9810 - loss: 0.1688 - val_accuracy: 0.9244 - val_auc: 0.9557 - val_loss: 0.3701 - learning_rate: 1.0000e-05\n",
      "Epoch 5/60\n",
      "\u001b[1m3172/3173\u001b[0m \u001b[32m━━━━━━━━━━━━━━━━━━━\u001b[0m\u001b[37m━\u001b[0m \u001b[1m0s\u001b[0m 82ms/step - accuracy: 0.9281 - auc: 0.9833 - loss: 0.1531\n",
      "Epoch 5: val_auc improved from 0.95573 to 0.96052, saving model to ./training_checkpoints_spoof_detector_wgan_sa/ckpt_clf_05.weights.h5\n",
      "\n",
      "Training history plot saved to training_figures_wgan_sa/spoof_detector_wgan_sa_epoch_5.png\n",
      "\u001b[1m3173/3173\u001b[0m \u001b[32m━━━━━━━━━━━━━━━━━━━━\u001b[0m\u001b[37m\u001b[0m \u001b[1m491s\u001b[0m 155ms/step - accuracy: 0.9281 - auc: 0.9833 - loss: 0.1531 - val_accuracy: 0.9267 - val_auc: 0.9605 - val_loss: 0.3389 - learning_rate: 1.0000e-05\n",
      "Epoch 6/60\n",
      "\u001b[1m3173/3173\u001b[0m \u001b[32m━━━━━━━━━━━━━━━━━━━━\u001b[0m\u001b[37m\u001b[0m \u001b[1m0s\u001b[0m 83ms/step - accuracy: 0.9411 - auc: 0.9885 - loss: 0.1304\n",
      "Epoch 6: val_auc improved from 0.96052 to 0.96474, saving model to ./training_checkpoints_spoof_detector_wgan_sa/ckpt_clf_06.weights.h5\n",
      "\n",
      "Training history plot saved to training_figures_wgan_sa/spoof_detector_wgan_sa_epoch_6.png\n",
      "\u001b[1m3173/3173\u001b[0m \u001b[32m━━━━━━━━━━━━━━━━━━━━\u001b[0m\u001b[37m\u001b[0m \u001b[1m496s\u001b[0m 156ms/step - accuracy: 0.9411 - auc: 0.9885 - loss: 0.1304 - val_accuracy: 0.9156 - val_auc: 0.9647 - val_loss: 0.2653 - learning_rate: 1.0000e-05\n",
      "Epoch 7/60\n",
      "\u001b[1m3173/3173\u001b[0m \u001b[32m━━━━━━━━━━━━━━━━━━━━\u001b[0m\u001b[37m\u001b[0m \u001b[1m0s\u001b[0m 82ms/step - accuracy: 0.9409 - auc: 0.9899 - loss: 0.1256\n",
      "Epoch 7: val_auc improved from 0.96474 to 0.97185, saving model to ./training_checkpoints_spoof_detector_wgan_sa/ckpt_clf_07.weights.h5\n",
      "\n",
      "Training history plot saved to training_figures_wgan_sa/spoof_detector_wgan_sa_epoch_7.png\n",
      "\u001b[1m3173/3173\u001b[0m \u001b[32m━━━━━━━━━━━━━━━━━━━━\u001b[0m\u001b[37m\u001b[0m \u001b[1m495s\u001b[0m 156ms/step - accuracy: 0.9409 - auc: 0.9899 - loss: 0.1256 - val_accuracy: 0.9398 - val_auc: 0.9718 - val_loss: 0.2795 - learning_rate: 1.0000e-05\n",
      "Epoch 8/60\n",
      "\u001b[1m3172/3173\u001b[0m \u001b[32m━━━━━━━━━━━━━━━━━━━\u001b[0m\u001b[37m━\u001b[0m \u001b[1m0s\u001b[0m 81ms/step - accuracy: 0.9506 - auc: 0.9904 - loss: 0.1103\n",
      "Epoch 8: val_auc did not improve from 0.97185\n",
      "\n",
      "Training history plot saved to training_figures_wgan_sa/spoof_detector_wgan_sa_epoch_8.png\n",
      "\u001b[1m3173/3173\u001b[0m \u001b[32m━━━━━━━━━━━━━━━━━━━━\u001b[0m\u001b[37m\u001b[0m \u001b[1m497s\u001b[0m 157ms/step - accuracy: 0.9506 - auc: 0.9904 - loss: 0.1103 - val_accuracy: 0.9417 - val_auc: 0.9712 - val_loss: 0.3006 - learning_rate: 1.0000e-05\n",
      "Epoch 9/60\n",
      "\u001b[1m3172/3173\u001b[0m \u001b[32m━━━━━━━━━━━━━━━━━━━\u001b[0m\u001b[37m━\u001b[0m \u001b[1m0s\u001b[0m 76ms/step - accuracy: 0.9492 - auc: 0.9931 - loss: 0.1040\n",
      "Epoch 9: val_auc improved from 0.97185 to 0.97335, saving model to ./training_checkpoints_spoof_detector_wgan_sa/ckpt_clf_09.weights.h5\n",
      "\n",
      "Training history plot saved to training_figures_wgan_sa/spoof_detector_wgan_sa_epoch_9.png\n",
      "\u001b[1m3173/3173\u001b[0m \u001b[32m━━━━━━━━━━━━━━━━━━━━\u001b[0m\u001b[37m\u001b[0m \u001b[1m496s\u001b[0m 156ms/step - accuracy: 0.9492 - auc: 0.9931 - loss: 0.1040 - val_accuracy: 0.9464 - val_auc: 0.9733 - val_loss: 0.3141 - learning_rate: 1.0000e-05\n",
      "Epoch 10/60\n",
      "\u001b[1m3172/3173\u001b[0m \u001b[32m━━━━━━━━━━━━━━━━━━━\u001b[0m\u001b[37m━\u001b[0m \u001b[1m0s\u001b[0m 69ms/step - accuracy: 0.9593 - auc: 0.9931 - loss: 0.0966\n",
      "Epoch 10: val_auc did not improve from 0.97335\n",
      "\n",
      "Training history plot saved to training_figures_wgan_sa/spoof_detector_wgan_sa_epoch_10.png\n",
      "\u001b[1m3173/3173\u001b[0m \u001b[32m━━━━━━━━━━━━━━━━━━━━\u001b[0m\u001b[37m\u001b[0m \u001b[1m500s\u001b[0m 158ms/step - accuracy: 0.9593 - auc: 0.9931 - loss: 0.0966 - val_accuracy: 0.9456 - val_auc: 0.9723 - val_loss: 0.3130 - learning_rate: 1.0000e-05\n",
      "Epoch 11/60\n",
      "\u001b[1m3172/3173\u001b[0m \u001b[32m━━━━━━━━━━━━━━━━━━━\u001b[0m\u001b[37m━\u001b[0m \u001b[1m0s\u001b[0m 58ms/step - accuracy: 0.9612 - auc: 0.9947 - loss: 0.0891\n",
      "Epoch 11: val_auc improved from 0.97335 to 0.97519, saving model to ./training_checkpoints_spoof_detector_wgan_sa/ckpt_clf_11.weights.h5\n",
      "\n",
      "Training history plot saved to training_figures_wgan_sa/spoof_detector_wgan_sa_epoch_11.png\n",
      "\u001b[1m3173/3173\u001b[0m \u001b[32m━━━━━━━━━━━━━━━━━━━━\u001b[0m\u001b[37m\u001b[0m \u001b[1m495s\u001b[0m 156ms/step - accuracy: 0.9612 - auc: 0.9947 - loss: 0.0891 - val_accuracy: 0.9391 - val_auc: 0.9752 - val_loss: 0.2398 - learning_rate: 1.0000e-05\n",
      "Epoch 12/60\n",
      "\u001b[1m3172/3173\u001b[0m \u001b[32m━━━━━━━━━━━━━━━━━━━\u001b[0m\u001b[37m━\u001b[0m \u001b[1m0s\u001b[0m 61ms/step - accuracy: 0.9619 - auc: 0.9954 - loss: 0.0850\n",
      "Epoch 12: val_auc did not improve from 0.97519\n",
      "\n",
      "Training history plot saved to training_figures_wgan_sa/spoof_detector_wgan_sa_epoch_12.png\n",
      "\u001b[1m3173/3173\u001b[0m \u001b[32m━━━━━━━━━━━━━━━━━━━━\u001b[0m\u001b[37m\u001b[0m \u001b[1m496s\u001b[0m 156ms/step - accuracy: 0.9619 - auc: 0.9954 - loss: 0.0850 - val_accuracy: 0.9517 - val_auc: 0.9729 - val_loss: 0.4075 - learning_rate: 1.0000e-05\n",
      "Epoch 13/60\n",
      "\u001b[1m3173/3173\u001b[0m \u001b[32m━━━━━━━━━━━━━━━━━━━━\u001b[0m\u001b[37m\u001b[0m \u001b[1m0s\u001b[0m 60ms/step - accuracy: 0.9665 - auc: 0.9960 - loss: 0.0745\n",
      "Epoch 13: val_auc improved from 0.97519 to 0.97660, saving model to ./training_checkpoints_spoof_detector_wgan_sa/ckpt_clf_13.weights.h5\n",
      "\n",
      "Training history plot saved to training_figures_wgan_sa/spoof_detector_wgan_sa_epoch_13.png\n",
      "\u001b[1m3173/3173\u001b[0m \u001b[32m━━━━━━━━━━━━━━━━━━━━\u001b[0m\u001b[37m\u001b[0m \u001b[1m495s\u001b[0m 156ms/step - accuracy: 0.9665 - auc: 0.9960 - loss: 0.0745 - val_accuracy: 0.9446 - val_auc: 0.9766 - val_loss: 0.2459 - learning_rate: 1.0000e-05\n",
      "Epoch 14/60\n",
      "\u001b[1m3173/3173\u001b[0m \u001b[32m━━━━━━━━━━━━━━━━━━━━\u001b[0m\u001b[37m\u001b[0m \u001b[1m0s\u001b[0m 59ms/step - accuracy: 0.9649 - auc: 0.9956 - loss: 0.0806\n",
      "Epoch 14: val_auc improved from 0.97660 to 0.97770, saving model to ./training_checkpoints_spoof_detector_wgan_sa/ckpt_clf_14.weights.h5\n",
      "\n",
      "Training history plot saved to training_figures_wgan_sa/spoof_detector_wgan_sa_epoch_14.png\n",
      "\u001b[1m3173/3173\u001b[0m \u001b[32m━━━━━━━━━━━━━━━━━━━━\u001b[0m\u001b[37m\u001b[0m \u001b[1m493s\u001b[0m 155ms/step - accuracy: 0.9649 - auc: 0.9956 - loss: 0.0806 - val_accuracy: 0.9480 - val_auc: 0.9777 - val_loss: 0.2419 - learning_rate: 1.0000e-05\n",
      "Epoch 15/60\n",
      "\u001b[1m3173/3173\u001b[0m \u001b[32m━━━━━━━━━━━━━━━━━━━━\u001b[0m\u001b[37m\u001b[0m \u001b[1m0s\u001b[0m 57ms/step - accuracy: 0.9697 - auc: 0.9959 - loss: 0.0698\n",
      "Epoch 15: val_auc improved from 0.97770 to 0.97829, saving model to ./training_checkpoints_spoof_detector_wgan_sa/ckpt_clf_15.weights.h5\n",
      "\n",
      "Training history plot saved to training_figures_wgan_sa/spoof_detector_wgan_sa_epoch_15.png\n",
      "\u001b[1m3173/3173\u001b[0m \u001b[32m━━━━━━━━━━━━━━━━━━━━\u001b[0m\u001b[37m\u001b[0m \u001b[1m460s\u001b[0m 145ms/step - accuracy: 0.9697 - auc: 0.9959 - loss: 0.0698 - val_accuracy: 0.9534 - val_auc: 0.9783 - val_loss: 0.2894 - learning_rate: 1.0000e-05\n",
      "Epoch 16/60\n",
      "\u001b[1m3172/3173\u001b[0m \u001b[32m━━━━━━━━━━━━━━━━━━━\u001b[0m\u001b[37m━\u001b[0m \u001b[1m0s\u001b[0m 56ms/step - accuracy: 0.9737 - auc: 0.9962 - loss: 0.0632\n",
      "Epoch 16: val_auc improved from 0.97829 to 0.97966, saving model to ./training_checkpoints_spoof_detector_wgan_sa/ckpt_clf_16.weights.h5\n",
      "\n",
      "Training history plot saved to training_figures_wgan_sa/spoof_detector_wgan_sa_epoch_16.png\n",
      "\u001b[1m3173/3173\u001b[0m \u001b[32m━━━━━━━━━━━━━━━━━━━━\u001b[0m\u001b[37m\u001b[0m \u001b[1m459s\u001b[0m 145ms/step - accuracy: 0.9737 - auc: 0.9962 - loss: 0.0632 - val_accuracy: 0.9493 - val_auc: 0.9797 - val_loss: 0.2379 - learning_rate: 1.0000e-05\n",
      "Epoch 17/60\n",
      "\u001b[1m3172/3173\u001b[0m \u001b[32m━━━━━━━━━━━━━━━━━━━\u001b[0m\u001b[37m━\u001b[0m \u001b[1m0s\u001b[0m 56ms/step - accuracy: 0.9738 - auc: 0.9976 - loss: 0.0613\n",
      "Epoch 17: val_auc did not improve from 0.97966\n",
      "\n",
      "Training history plot saved to training_figures_wgan_sa/spoof_detector_wgan_sa_epoch_17.png\n",
      "\u001b[1m3173/3173\u001b[0m \u001b[32m━━━━━━━━━━━━━━━━━━━━\u001b[0m\u001b[37m\u001b[0m \u001b[1m456s\u001b[0m 144ms/step - accuracy: 0.9738 - auc: 0.9976 - loss: 0.0613 - val_accuracy: 0.9491 - val_auc: 0.9776 - val_loss: 0.2599 - learning_rate: 1.0000e-05\n",
      "Epoch 18/60\n",
      "\u001b[1m3172/3173\u001b[0m \u001b[32m━━━━━━━━━━━━━━━━━━━\u001b[0m\u001b[37m━\u001b[0m \u001b[1m0s\u001b[0m 56ms/step - accuracy: 0.9750 - auc: 0.9972 - loss: 0.0614\n",
      "Epoch 18: val_auc did not improve from 0.97966\n",
      "\n",
      "Training history plot saved to training_figures_wgan_sa/spoof_detector_wgan_sa_epoch_18.png\n",
      "\u001b[1m3173/3173\u001b[0m \u001b[32m━━━━━━━━━━━━━━━━━━━━\u001b[0m\u001b[37m\u001b[0m \u001b[1m456s\u001b[0m 144ms/step - accuracy: 0.9750 - auc: 0.9972 - loss: 0.0614 - val_accuracy: 0.9586 - val_auc: 0.9761 - val_loss: 0.3511 - learning_rate: 1.0000e-05\n",
      "Epoch 19/60\n",
      "\u001b[1m3173/3173\u001b[0m \u001b[32m━━━━━━━━━━━━━━━━━━━━\u001b[0m\u001b[37m\u001b[0m \u001b[1m0s\u001b[0m 56ms/step - accuracy: 0.9764 - auc: 0.9970 - loss: 0.0603\n",
      "Epoch 19: val_auc did not improve from 0.97966\n",
      "\n",
      "Training history plot saved to training_figures_wgan_sa/spoof_detector_wgan_sa_epoch_19.png\n",
      "\u001b[1m3173/3173\u001b[0m \u001b[32m━━━━━━━━━━━━━━━━━━━━\u001b[0m\u001b[37m\u001b[0m \u001b[1m452s\u001b[0m 143ms/step - accuracy: 0.9764 - auc: 0.9970 - loss: 0.0603 - val_accuracy: 0.9583 - val_auc: 0.9769 - val_loss: 0.3784 - learning_rate: 1.0000e-05\n",
      "Epoch 20/60\n",
      "\u001b[1m3172/3173\u001b[0m \u001b[32m━━━━━━━━━━━━━━━━━━━\u001b[0m\u001b[37m━\u001b[0m \u001b[1m0s\u001b[0m 56ms/step - accuracy: 0.9799 - auc: 0.9972 - loss: 0.0501\n",
      "Epoch 20: val_auc improved from 0.97966 to 0.98097, saving model to ./training_checkpoints_spoof_detector_wgan_sa/ckpt_clf_20.weights.h5\n",
      "\n",
      "Training history plot saved to training_figures_wgan_sa/spoof_detector_wgan_sa_epoch_20.png\n",
      "\u001b[1m3173/3173\u001b[0m \u001b[32m━━━━━━━━━━━━━━━━━━━━\u001b[0m\u001b[37m\u001b[0m \u001b[1m455s\u001b[0m 143ms/step - accuracy: 0.9799 - auc: 0.9972 - loss: 0.0501 - val_accuracy: 0.9561 - val_auc: 0.9810 - val_loss: 0.2617 - learning_rate: 1.0000e-05\n",
      "Epoch 21/60\n",
      "\u001b[1m3172/3173\u001b[0m \u001b[32m━━━━━━━━━━━━━━━━━━━\u001b[0m\u001b[37m━\u001b[0m \u001b[1m0s\u001b[0m 56ms/step - accuracy: 0.9801 - auc: 0.9983 - loss: 0.0472\n",
      "Epoch 21: val_auc did not improve from 0.98097\n",
      "\n",
      "Training history plot saved to training_figures_wgan_sa/spoof_detector_wgan_sa_epoch_21.png\n",
      "\u001b[1m3173/3173\u001b[0m \u001b[32m━━━━━━━━━━━━━━━━━━━━\u001b[0m\u001b[37m\u001b[0m \u001b[1m455s\u001b[0m 143ms/step - accuracy: 0.9801 - auc: 0.9983 - loss: 0.0472 - val_accuracy: 0.9513 - val_auc: 0.9804 - val_loss: 0.2308 - learning_rate: 1.0000e-05\n",
      "Epoch 22/60\n",
      "\u001b[1m3173/3173\u001b[0m \u001b[32m━━━━━━━━━━━━━━━━━━━━\u001b[0m\u001b[37m\u001b[0m \u001b[1m0s\u001b[0m 55ms/step - accuracy: 0.9796 - auc: 0.9983 - loss: 0.0487\n",
      "Epoch 22: val_auc did not improve from 0.98097\n",
      "\n",
      "Training history plot saved to training_figures_wgan_sa/spoof_detector_wgan_sa_epoch_22.png\n",
      "\u001b[1m3173/3173\u001b[0m \u001b[32m━━━━━━━━━━━━━━━━━━━━\u001b[0m\u001b[37m\u001b[0m \u001b[1m453s\u001b[0m 143ms/step - accuracy: 0.9796 - auc: 0.9983 - loss: 0.0487 - val_accuracy: 0.9550 - val_auc: 0.9780 - val_loss: 0.2806 - learning_rate: 1.0000e-05\n",
      "Epoch 23/60\n",
      "\u001b[1m3172/3173\u001b[0m \u001b[32m━━━━━━━━━━━━━━━━━━━\u001b[0m\u001b[37m━\u001b[0m \u001b[1m0s\u001b[0m 56ms/step - accuracy: 0.9799 - auc: 0.9978 - loss: 0.0525\n",
      "Epoch 23: val_auc did not improve from 0.98097\n",
      "\n",
      "Training history plot saved to training_figures_wgan_sa/spoof_detector_wgan_sa_epoch_23.png\n",
      "\u001b[1m3173/3173\u001b[0m \u001b[32m━━━━━━━━━━━━━━━━━━━━\u001b[0m\u001b[37m\u001b[0m \u001b[1m451s\u001b[0m 142ms/step - accuracy: 0.9799 - auc: 0.9978 - loss: 0.0525 - val_accuracy: 0.9598 - val_auc: 0.9764 - val_loss: 0.3958 - learning_rate: 1.0000e-05\n",
      "Epoch 24/60\n",
      "\u001b[1m3172/3173\u001b[0m \u001b[32m━━━━━━━━━━━━━━━━━━━\u001b[0m\u001b[37m━\u001b[0m \u001b[1m0s\u001b[0m 56ms/step - accuracy: 0.9807 - auc: 0.9985 - loss: 0.0454\n",
      "Epoch 24: val_auc did not improve from 0.98097\n",
      "\n",
      "Training history plot saved to training_figures_wgan_sa/spoof_detector_wgan_sa_epoch_24.png\n",
      "\u001b[1m3173/3173\u001b[0m \u001b[32m━━━━━━━━━━━━━━━━━━━━\u001b[0m\u001b[37m\u001b[0m \u001b[1m453s\u001b[0m 143ms/step - accuracy: 0.9807 - auc: 0.9985 - loss: 0.0454 - val_accuracy: 0.9596 - val_auc: 0.9797 - val_loss: 0.2998 - learning_rate: 1.0000e-05\n",
      "Epoch 25/60\n",
      "\u001b[1m3172/3173\u001b[0m \u001b[32m━━━━━━━━━━━━━━━━━━━\u001b[0m\u001b[37m━\u001b[0m \u001b[1m0s\u001b[0m 55ms/step - accuracy: 0.9828 - auc: 0.9984 - loss: 0.0429\n",
      "Epoch 25: val_auc did not improve from 0.98097\n",
      "\n",
      "Training history plot saved to training_figures_wgan_sa/spoof_detector_wgan_sa_epoch_25.png\n",
      "\u001b[1m3173/3173\u001b[0m \u001b[32m━━━━━━━━━━━━━━━━━━━━\u001b[0m\u001b[37m\u001b[0m \u001b[1m450s\u001b[0m 142ms/step - accuracy: 0.9828 - auc: 0.9984 - loss: 0.0429 - val_accuracy: 0.9623 - val_auc: 0.9795 - val_loss: 0.3482 - learning_rate: 1.0000e-05\n",
      "Epoch 26/60\n",
      "\u001b[1m3172/3173\u001b[0m \u001b[32m━━━━━━━━━━━━━━━━━━━\u001b[0m\u001b[37m━\u001b[0m \u001b[1m0s\u001b[0m 56ms/step - accuracy: 0.9821 - auc: 0.9984 - loss: 0.0443\n",
      "Epoch 26: ReduceLROnPlateau reducing learning rate to 1.9999999494757505e-06.\n",
      "\n",
      "Epoch 26: val_auc did not improve from 0.98097\n",
      "\n",
      "Training history plot saved to training_figures_wgan_sa/spoof_detector_wgan_sa_epoch_26.png\n",
      "\u001b[1m3173/3173\u001b[0m \u001b[32m━━━━━━━━━━━━━━━━━━━━\u001b[0m\u001b[37m\u001b[0m \u001b[1m451s\u001b[0m 142ms/step - accuracy: 0.9821 - auc: 0.9984 - loss: 0.0443 - val_accuracy: 0.9622 - val_auc: 0.9752 - val_loss: 0.3980 - learning_rate: 1.0000e-05\n",
      "Epoch 27/60\n",
      "\u001b[1m3172/3173\u001b[0m \u001b[32m━━━━━━━━━━━━━━━━━━━\u001b[0m\u001b[37m━\u001b[0m \u001b[1m0s\u001b[0m 55ms/step - accuracy: 0.9861 - auc: 0.9982 - loss: 0.0371\n",
      "Epoch 27: val_auc improved from 0.98097 to 0.98150, saving model to ./training_checkpoints_spoof_detector_wgan_sa/ckpt_clf_27.weights.h5\n",
      "\n",
      "Training history plot saved to training_figures_wgan_sa/spoof_detector_wgan_sa_epoch_27.png\n",
      "\u001b[1m3173/3173\u001b[0m \u001b[32m━━━━━━━━━━━━━━━━━━━━\u001b[0m\u001b[37m\u001b[0m \u001b[1m450s\u001b[0m 142ms/step - accuracy: 0.9861 - auc: 0.9982 - loss: 0.0371 - val_accuracy: 0.9607 - val_auc: 0.9815 - val_loss: 0.2629 - learning_rate: 2.0000e-06\n",
      "Epoch 28/60\n",
      "\u001b[1m3173/3173\u001b[0m \u001b[32m━━━━━━━━━━━━━━━━━━━━\u001b[0m\u001b[37m\u001b[0m \u001b[1m0s\u001b[0m 55ms/step - accuracy: 0.9858 - auc: 0.9991 - loss: 0.0356\n",
      "Epoch 28: val_auc did not improve from 0.98150\n",
      "\n",
      "Training history plot saved to training_figures_wgan_sa/spoof_detector_wgan_sa_epoch_28.png\n",
      "\u001b[1m3173/3173\u001b[0m \u001b[32m━━━━━━━━━━━━━━━━━━━━\u001b[0m\u001b[37m\u001b[0m \u001b[1m449s\u001b[0m 142ms/step - accuracy: 0.9858 - auc: 0.9991 - loss: 0.0356 - val_accuracy: 0.9642 - val_auc: 0.9808 - val_loss: 0.3024 - learning_rate: 2.0000e-06\n",
      "Epoch 29/60\n",
      "\u001b[1m3172/3173\u001b[0m \u001b[32m━━━━━━━━━━━━━━━━━━━\u001b[0m\u001b[37m━\u001b[0m \u001b[1m0s\u001b[0m 56ms/step - accuracy: 0.9887 - auc: 0.9991 - loss: 0.0338\n",
      "Epoch 29: val_auc did not improve from 0.98150\n",
      "\n",
      "Training history plot saved to training_figures_wgan_sa/spoof_detector_wgan_sa_epoch_29.png\n",
      "\u001b[1m3173/3173\u001b[0m \u001b[32m━━━━━━━━━━━━━━━━━━━━\u001b[0m\u001b[37m\u001b[0m \u001b[1m451s\u001b[0m 142ms/step - accuracy: 0.9887 - auc: 0.9991 - loss: 0.0338 - val_accuracy: 0.9645 - val_auc: 0.9809 - val_loss: 0.3142 - learning_rate: 2.0000e-06\n",
      "Epoch 30/60\n",
      "\u001b[1m3172/3173\u001b[0m \u001b[32m━━━━━━━━━━━━━━━━━━━\u001b[0m\u001b[37m━\u001b[0m \u001b[1m0s\u001b[0m 55ms/step - accuracy: 0.9874 - auc: 0.9991 - loss: 0.0309\n",
      "Epoch 30: val_auc did not improve from 0.98150\n",
      "\n",
      "Training history plot saved to training_figures_wgan_sa/spoof_detector_wgan_sa_epoch_30.png\n",
      "\u001b[1m3173/3173\u001b[0m \u001b[32m━━━━━━━━━━━━━━━━━━━━\u001b[0m\u001b[37m\u001b[0m \u001b[1m450s\u001b[0m 142ms/step - accuracy: 0.9874 - auc: 0.9991 - loss: 0.0309 - val_accuracy: 0.9648 - val_auc: 0.9811 - val_loss: 0.3569 - learning_rate: 2.0000e-06\n",
      "Epoch 31/60\n",
      "\u001b[1m3172/3173\u001b[0m \u001b[32m━━━━━━━━━━━━━━━━━━━\u001b[0m\u001b[37m━\u001b[0m \u001b[1m0s\u001b[0m 56ms/step - accuracy: 0.9879 - auc: 0.9990 - loss: 0.0340\n",
      "Epoch 31: ReduceLROnPlateau reducing learning rate to 3.999999989900971e-07.\n",
      "\n",
      "Epoch 31: val_auc improved from 0.98150 to 0.98335, saving model to ./training_checkpoints_spoof_detector_wgan_sa/ckpt_clf_31.weights.h5\n",
      "\n",
      "Training history plot saved to training_figures_wgan_sa/spoof_detector_wgan_sa_epoch_31.png\n",
      "\u001b[1m3173/3173\u001b[0m \u001b[32m━━━━━━━━━━━━━━━━━━━━\u001b[0m\u001b[37m\u001b[0m \u001b[1m449s\u001b[0m 142ms/step - accuracy: 0.9879 - auc: 0.9990 - loss: 0.0340 - val_accuracy: 0.9625 - val_auc: 0.9833 - val_loss: 0.2555 - learning_rate: 2.0000e-06\n",
      "Epoch 31: early stopping\n",
      "Restoring model weights from the end of the best epoch: 21.\n",
      "Saving final classifier model...\n",
      "\n",
      "Error saving final classifier model as .keras: The following argument(s) are not supported: ['custom_objects']. Saving weights only as fallback.\n",
      "Loading best weights and saving best model...\n",
      "Could not find best checkpoint weights to load. Final model/weights already saved.\n"
     ]
    }
   ],
   "source": [
    "# Cell 13: Train Standalone Classifier (using the *already trained* Critic from Cell 12.5)\n",
    "\n",
    "import tensorflow as tf\n",
    "import numpy as np\n",
    "import os\n",
    "from tqdm.notebook import tqdm\n",
    "import matplotlib.pyplot as plt # Ensure plt is imported\n",
    "import logging\n",
    "import fnmatch # Ensure fnmatch is imported if used later\n",
    "\n",
    "# --- ADD PlotTrainingHistory CLASS DEFINITION AT THE BEGINNING ---\n",
    "# (Make sure the class definition is present)\n",
    "class PlotTrainingHistory(Callback):\n",
    "    def __init__(self, model_name='model'):\n",
    "        super().__init__()\n",
    "        self.model_name = model_name\n",
    "        self.acc = []\n",
    "        self.val_acc = []\n",
    "        self.loss = []\n",
    "        self.val_loss = []\n",
    "        self.auc = [] # Added to track AUC\n",
    "        self.val_auc = [] # Added to track validation AUC\n",
    "\n",
    "    def on_epoch_end(self, epoch, logs=None):\n",
    "        logs = logs or {}\n",
    "        self.loss.append(logs.get('loss'))\n",
    "        self.val_loss.append(logs.get('val_loss'))\n",
    "        self.acc.append(logs.get('accuracy'))\n",
    "        self.val_acc.append(logs.get('val_accuracy'))\n",
    "        self.auc.append(logs.get('auc')) # Get AUC\n",
    "        self.val_auc.append(logs.get('val_auc')) # Get val_AUC\n",
    "\n",
    "        plt.figure(figsize=(18, 5))\n",
    "        # Accuracy Plot\n",
    "        plt.subplot(1, 3, 1)\n",
    "        if any(v is not None for v in self.acc): plt.plot(self.acc, label='Training Accuracy')\n",
    "        if any(v is not None for v in self.val_acc): plt.plot(self.val_acc, label='Validation Accuracy')\n",
    "        plt.title('Model Accuracy'); plt.xlabel('Epoch'); plt.ylabel('Accuracy')\n",
    "        if any(v is not None for v in self.acc) or any(v is not None for v in self.val_acc): plt.legend()\n",
    "        # Loss Plot\n",
    "        plt.subplot(1, 3, 2)\n",
    "        if any(v is not None for v in self.loss): plt.plot(self.loss, label='Training Loss')\n",
    "        if any(v is not None for v in self.val_loss): plt.plot(self.val_loss, label='Validation Loss')\n",
    "        plt.title('Model Loss'); plt.xlabel('Epoch'); plt.ylabel('Loss')\n",
    "        if any(v is not None for v in self.loss) or any(v is not None for v in self.val_loss): plt.legend()\n",
    "        # AUC Plot\n",
    "        plt.subplot(1, 3, 3)\n",
    "        if any(v is not None for v in self.auc): plt.plot(self.auc, label='Training AUC')\n",
    "        if any(v is not None for v in self.val_auc): plt.plot(self.val_auc, label='Validation AUC')\n",
    "        plt.title('Model AUC'); plt.xlabel('Epoch'); plt.ylabel('AUC')\n",
    "        if any(v is not None for v in self.auc) or any(v is not None for v in self.val_auc): plt.legend()\n",
    "\n",
    "        plt.tight_layout()\n",
    "        filepath = os.path.join(FIGURES_DIR, f'{self.model_name}_epoch_{epoch+1}.png')\n",
    "        try:\n",
    "             plt.savefig(filepath)\n",
    "             plt.close()\n",
    "             print(f'\\nTraining history plot saved to {filepath}')\n",
    "        except Exception as e:\n",
    "             print(f\"\\nError saving plot to {filepath}: {e}\")\n",
    "             plt.close()\n",
    "# --- END OF CLASS DEFINITION ---\n",
    "\n",
    "\n",
    "print(\"\\nSetting up Standalone Classifier training...\")\n",
    "\n",
    "# --- Ensure Necessary Variables are Defined ---\n",
    "# These should be defined in Cell 11 and accessible\n",
    "if 'classifier_batch_size' not in locals(): raise NameError(\"classifier_batch_size not defined.\")\n",
    "if 'classifier_epochs' not in locals(): classifier_epochs = 50 # Default if needed\n",
    "if 'train_data_path' not in locals(): raise NameError(\"train_data_path not defined.\")\n",
    "if 'dev_data_path' not in locals(): raise NameError(\"dev_data_path not defined.\")\n",
    "if 'count_total_files' not in locals(): raise NameError(\"count_total_files function not defined.\") # Define in Cell 13 or earlier\n",
    "if 'SelfAttention' not in locals(): raise NameError(\"SelfAttention class definition not found.\")\n",
    "if 'FIGURES_DIR' not in locals(): FIGURES_DIR = 'training_figures_wgan_sa' # Default if needed\n",
    "\n",
    "# --- Ensure the 'critic' variable from Cell 12.5 exists and is valid ---\n",
    "print(\"Checking for pre-trained 'critic' model variable...\")\n",
    "if 'critic' not in locals() or not isinstance(critic, tf.keras.Model):\n",
    "     # If 'critic = critic_cont' wasn't run or failed in 12.5, try loading the last saved weights as fallback\n",
    "     print(\"Warning: 'critic' variable not found or invalid. Attempting to load last saved weights...\")\n",
    "     last_critic_weights_path = f'critic_wgan_sa_epoch_{end_epoch}.weights.h5' # Assuming end_epoch from 12.5 is available\n",
    "     if os.path.exists(last_critic_weights_path):\n",
    "          print(f\"Found weights file: {last_critic_weights_path}. Recreating structure...\")\n",
    "          if 'create_critic' not in locals(): raise NameError(\"create_critic function needed.\")\n",
    "          if 'mel_spectrogram_shape' not in locals(): raise NameError(\"mel_spectrogram_shape needed.\")\n",
    "          critic = create_critic(mel_spectrogram_shape) # Recreate structure\n",
    "          try:\n",
    "               print(\"Building fallback critic via dummy pass...\")\n",
    "               dummy_critic_input = tf.zeros((1, N_MELS, TARGET_FRAMES, 1), dtype=tf.float32)\n",
    "               _ = critic(dummy_critic_input, training=False)\n",
    "               print(\"Loading weights...\")\n",
    "               critic.load_weights(last_critic_weights_path)\n",
    "               print(\"Fallback weight loading successful.\")\n",
    "          except Exception as e:\n",
    "               raise RuntimeError(f\"Fallback failed: Error building/loading weights for critic: {e}\")\n",
    "     else:\n",
    "          raise RuntimeError(\"The 'critic' model variable from WGAN training is not available, and fallback weights file not found.\")\n",
    "\n",
    "# Check if the critic model is built (it should be after Cell 12.5 or fallback)\n",
    "if not critic.built:\n",
    "     print(\"Warning: Critic model is not built. Attempting build via dummy pass...\")\n",
    "     try:\n",
    "          # Ensure N_MELS, TARGET_FRAMES are defined\n",
    "          if 'N_MELS' not in locals() or 'TARGET_FRAMES' not in locals(): raise NameError(\"N_MELS/TARGET_FRAMES needed for build.\")\n",
    "          dummy_critic_input = tf.zeros((1, N_MELS, TARGET_FRAMES, 1), dtype=tf.float32)\n",
    "          _ = critic(dummy_critic_input, training=False)\n",
    "          print(\"Critic built successfully via dummy pass.\")\n",
    "          if not critic.built: raise RuntimeError(\"Fallback build failed.\")\n",
    "     except Exception as e:\n",
    "          raise RuntimeError(f\"Error building critic model in Cell 13 fallback: {e}\")\n",
    "else:\n",
    "    print(\"Using pre-trained and built 'critic' model variable.\")\n",
    "\n",
    "\n",
    "# --- Create Data Generators for Classifier ---\n",
    "print(\"Initializing classifier data generators...\")\n",
    "train_gen_clf = data_generator_classifier(train_data_path, batch_size=classifier_batch_size)\n",
    "dev_gen_clf = data_generator_classifier(dev_data_path, batch_size=classifier_batch_size, shuffle=False) # No shuffle for dev\n",
    "if train_gen_clf is None or dev_gen_clf is None:\n",
    "     raise RuntimeError(\"Failed to initialize classifier data generators.\")\n",
    "\n",
    "\n",
    "# --- Calculate steps for Classifier Training ---\n",
    "print(\"Calculating classifier steps...\")\n",
    "train_samples_count = count_total_files(train_data_path)\n",
    "dev_samples_count = count_total_files(dev_data_path)\n",
    "if classifier_batch_size <= 0: raise ValueError(\"Classifier batch size must be positive.\")\n",
    "clf_steps_per_epoch = int(np.ceil(train_samples_count / float(classifier_batch_size))) if train_samples_count > 0 else 0\n",
    "clf_validation_steps = int(np.ceil(dev_samples_count / float(classifier_batch_size))) if dev_samples_count > 0 else 0\n",
    "print(f\"Classifier Train Steps/Epoch: {clf_steps_per_epoch}, Validation Steps: {clf_validation_steps}\")\n",
    "\n",
    "\n",
    "# --- Build the Spoof Detector Model using the *EXISTING* Critic ---\n",
    "print(\"Building classifier model using layers from the existing trained critic...\")\n",
    "\n",
    "# Ensure critic is trainable for fine-tuning\n",
    "critic.trainable = True\n",
    "\n",
    "# Create the new classifier model\n",
    "spoof_detector = tf.keras.Sequential(name='spoof_detector')\n",
    "\n",
    "# Add an Input layer matching the critic's expected input\n",
    "critic_input_tensor_shape = critic.input_shape[1:] # Shape without batch dim\n",
    "spoof_detector.add(tf.keras.layers.Input(shape=critic_input_tensor_shape, name='classifier_input'))\n",
    "print(f\"Using input shape for classifier model: {critic_input_tensor_shape}\")\n",
    "\n",
    "# Copy layers from the PRE-TRAINED critic (excluding its final output layer)\n",
    "layers_copied_count = 0\n",
    "for layer in critic.layers[:-1]:\n",
    "    # Cloning is generally safer IF the layers are standard Keras layers or handle cloning well\n",
    "    # For custom layers or complex nesting, adding directly might be okay if built correctly\n",
    "    spoof_detector.add(layer)\n",
    "    # Alternative (might be needed if layers don't transfer state properly):\n",
    "    # new_layer = layer.__class__.from_config(layer.get_config())\n",
    "    # spoof_detector.add(new_layer)\n",
    "    layers_copied_count += 1\n",
    "print(f\"Copied {layers_copied_count} layers from the pre-trained critic.\")\n",
    "\n",
    "# Add the NEW final classification layer\n",
    "spoof_detector.add(tf.keras.layers.Dense(1, activation='sigmoid', name='classifier_output'))\n",
    "\n",
    "# The model should be built now as layers were added sequentially with input shape defined\n",
    "print(\"\\n--- Spoof Detector (Classifier) Summary ---\")\n",
    "spoof_detector.summary() # Should display correctly now\n",
    "\n",
    "\n",
    "# --- Callbacks for Classifier Training ---\n",
    "print(\"Setting up callbacks...\")\n",
    "reduce_lr = ReduceLROnPlateau(monitor='val_loss', factor=0.2, patience=5, min_lr=1e-7, verbose=1)\n",
    "early_stopping = EarlyStopping(monitor='val_loss', patience=10, restore_best_weights=True, verbose=1)\n",
    "checkpoint_dir_clf = './training_checkpoints_spoof_detector_wgan_sa'\n",
    "os.makedirs(checkpoint_dir_clf, exist_ok=True)\n",
    "checkpoint_prefix_clf = os.path.join(checkpoint_dir_clf, \"ckpt_clf_{epoch:02d}.weights.h5\")\n",
    "checkpoint_callback_clf = ModelCheckpoint(filepath=checkpoint_prefix_clf, save_weights_only=True, monitor='val_auc', mode='max', save_best_only=True, verbose=1)\n",
    "plot_training_callback = PlotTrainingHistory(model_name='spoof_detector_wgan_sa')\n",
    "\n",
    "\n",
    "# --- Compile and Train the Classifier ---\n",
    "print(\"Compiling classifier model...\")\n",
    "classifier_optimizer = tf.keras.optimizers.Adam(learning_rate=1e-5) # Use a smaller LR for fine-tuning\n",
    "spoof_detector.compile(optimizer=classifier_optimizer, loss='binary_crossentropy', metrics=['accuracy', tf.keras.metrics.AUC(name='auc')])\n",
    "\n",
    "print(\"\\nStarting Standalone Classifier training...\")\n",
    "\n",
    "if clf_steps_per_epoch > 0 and clf_validation_steps > 0:\n",
    "    history = spoof_detector.fit(\n",
    "        train_gen_clf,\n",
    "        steps_per_epoch=clf_steps_per_epoch,\n",
    "        epochs=classifier_epochs, # Use classifier_epochs defined in Cell 11\n",
    "        validation_data=dev_gen_clf,\n",
    "        validation_steps=clf_validation_steps,\n",
    "        callbacks=[reduce_lr, early_stopping, checkpoint_callback_clf, plot_training_callback],\n",
    "        # Generator yields weights as 3rd element, model.fit should use them\n",
    "    )\n",
    "\n",
    "    # Save the final trained classifier model (whole model)\n",
    "    print(\"Saving final classifier model...\")\n",
    "    try:\n",
    "        # Provide custom_objects for saving models with custom layers\n",
    "        custom_objects_to_save = {'SelfAttention': SelfAttention}\n",
    "        spoof_detector.save('spoof_detector_final_wgan_sa.keras', custom_objects=custom_objects_to_save)\n",
    "        print(\"\\nClassifier training complete. Final model saved as spoof_detector_final_wgan_sa.keras\")\n",
    "    except Exception as e:\n",
    "         print(f\"\\nError saving final classifier model as .keras: {e}. Saving weights only as fallback.\")\n",
    "         spoof_detector.save_weights('spoof_detector_final_wgan_sa.weights.h5')\n",
    "\n",
    "    # --- Load best weights based on checkpoint and save best model ---\n",
    "    print(\"Loading best weights and saving best model...\")\n",
    "    try:\n",
    "        best_checkpoint_path = tf.train.latest_checkpoint(checkpoint_dir_clf)\n",
    "        if best_checkpoint_path:\n",
    "            print(f\"Loading best classifier weights from: {best_checkpoint_path}\")\n",
    "            # Load weights into the existing model structure\n",
    "            spoof_detector.load_weights(best_checkpoint_path)\n",
    "            # Save the model with best weights loaded\n",
    "            spoof_detector.save('spoof_detector_best_val_auc_wgan_sa.keras', custom_objects=custom_objects_to_save)\n",
    "            print(\"Saved classifier with best validation AUC weights as spoof_detector_best_val_auc_wgan_sa.keras\")\n",
    "        else:\n",
    "            print(\"Could not find best checkpoint weights to load. Final model/weights already saved.\")\n",
    "    except Exception as e:\n",
    "        print(f\"Error loading/saving best weights: {e}\")\n",
    "\n",
    "else:\n",
    "    print(\"Skipping classifier training because steps_per_epoch or validation_steps is zero.\")"
   ]
  },
  {
   "cell_type": "code",
   "execution_count": null,
   "metadata": {},
   "outputs": [
    {
     "name": "stdout",
     "output_type": "stream",
     "text": [
      "\n",
      "Evaluating the final Spoof Detector...\n",
      "Best weights checkpoint not found. Using final weights file: spoof_detector_final_wgan_sa.weights.h5\n",
      "Recreating spoof_detector architecture for evaluation...\n",
      "Recreated 11 layers for spoof_detector_eval.\n",
      "Building recreated model via dummy pass...\n",
      "Recreated model built.\n",
      "Loading weights from: spoof_detector_final_wgan_sa.weights.h5\n",
      "Weights loaded successfully into recreated structure.\n",
      "Compiling evaluation model...\n",
      "Model compiled successfully.\n",
      "\n",
      "Proceeding with evaluation...\n",
      "Initializing evaluation data generator...\n",
      "Using 8905 steps for evaluation.\n",
      "Using class weights: {1: 4.842760027192386, 0: 0.557567076797846} for path datasetNEW/eval\n",
      "\u001b[1m8904/8905\u001b[0m \u001b[32m━━━━━━━━━━━━━━━━━━━\u001b[0m\u001b[37m━\u001b[0m \u001b[1m0s\u001b[0m 79ms/step - accuracy: 0.8539 - auc: 0.8342 - loss: 0.6362"
     ]
    },
    {
     "name": "stderr",
     "output_type": "stream",
     "text": [
      "2025-04-06 04:36:10.544306: I external/local_xla/xla/stream_executor/cuda/subprocess_compilation.cc:346] ptxas warning : Registers are spilled to local memory in function 'gemm_fusion_dot_189', 248 bytes spill stores, 248 bytes spill loads\n",
      "\n",
      "2025-04-06 04:36:10.962143: I external/local_xla/xla/stream_executor/cuda/subprocess_compilation.cc:346] ptxas warning : Registers are spilled to local memory in function 'gemm_fusion_dot_189', 108 bytes spill stores, 108 bytes spill loads\n",
      "\n",
      "2025-04-06 04:36:10.981578: I external/local_xla/xla/stream_executor/cuda/subprocess_compilation.cc:346] ptxas warning : Registers are spilled to local memory in function 'gemm_fusion_dot_189', 64 bytes spill stores, 64 bytes spill loads\n",
      "\n",
      "2025-04-06 04:36:11.153210: I external/local_xla/xla/stream_executor/cuda/subprocess_compilation.cc:346] ptxas warning : Registers are spilled to local memory in function 'gemm_fusion_dot_189', 220 bytes spill stores, 184 bytes spill loads\n",
      "\n",
      "2025-04-06 04:36:11.265028: I external/local_xla/xla/stream_executor/cuda/subprocess_compilation.cc:346] ptxas warning : Registers are spilled to local memory in function 'gemm_fusion_dot_189_0', 1648 bytes spill stores, 2076 bytes spill loads\n",
      "\n"
     ]
    },
    {
     "name": "stdout",
     "output_type": "stream",
     "text": [
      "\u001b[1m8905/8905\u001b[0m \u001b[32m━━━━━━━━━━━━━━━━━━━━\u001b[0m\u001b[37m\u001b[0m \u001b[1m704s\u001b[0m 79ms/step - accuracy: 0.8539 - auc: 0.8342 - loss: 0.6361\n",
      "\n",
      "--- Evaluation Results ---\n",
      "Loss: 0.4775\n",
      "Accuracy: 0.8267\n",
      "AUC: 0.9299\n",
      "--------------------------\n"
     ]
    }
   ],
   "source": [
    "# Cell 14: Evaluation (Revised Loading - Structure + Weights.h5)\n",
    "\n",
    "import tensorflow as tf\n",
    "import numpy as np\n",
    "import os\n",
    "from tqdm.notebook import tqdm\n",
    "import matplotlib.pyplot as plt # Ensure plt is imported if needed later\n",
    "import logging\n",
    "import fnmatch # Ensure fnmatch is imported\n",
    "\n",
    "print(\"\\nEvaluating the final Spoof Detector...\")\n",
    "\n",
    "# --- Parameters needed to recreate the model ---\n",
    "# Ensure these variables are accessible from previous cells (e.g., Cell 11)\n",
    "if 'N_MELS' not in locals() or 'TARGET_FRAMES' not in locals(): raise NameError(\"N_MELS or TARGET_FRAMES not defined. Ensure Cell 11 was executed.\")\n",
    "if 'mel_spectrogram_shape' not in locals(): raise NameError(\"mel_spectrogram_shape not defined. Ensure Cell 11 was executed.\")\n",
    "if 'create_critic' not in locals(): raise NameError(\"create_critic function definition not found. Ensure Cell 9 was executed.\")\n",
    "if 'SelfAttention' not in locals(): raise NameError(\"SelfAttention class definition not found. Ensure Cell 7 was executed.\")\n",
    "if 'classifier_batch_size' not in locals(): raise NameError(\"classifier_batch_size not defined.\")\n",
    "if 'eval_data_path' not in locals(): eval_data_path = 'datasetNEW/eval' # Default if needed\n",
    "if 'count_total_files' not in locals(): raise NameError(\"count_total_files function not defined.\") # Needs definition from Cell 13 or earlier\n",
    "if 'FIGURES_DIR' not in locals(): FIGURES_DIR = 'training_figures_wgan_sa' # Default if needed\n",
    "\n",
    "# --- Define Model Paths ---\n",
    "checkpoint_dir_clf = './training_checkpoints_spoof_detector_wgan_sa' # Checkpoint dir from Cell 13\n",
    "final_weights_path_clf = 'spoof_detector_final_wgan_sa.weights.h5' # Final weights save from Cell 13\n",
    "\n",
    "weights_path_to_load = None\n",
    "best_checkpoint = tf.train.latest_checkpoint(checkpoint_dir_clf)\n",
    "\n",
    "if best_checkpoint:\n",
    "    print(f\"Found best weights checkpoint: {best_checkpoint}\")\n",
    "    weights_path_to_load = best_checkpoint\n",
    "elif os.path.exists(final_weights_path_clf):\n",
    "    print(f\"Best weights checkpoint not found. Using final weights file: {final_weights_path_clf}\")\n",
    "    weights_path_to_load = final_weights_path_clf\n",
    "else:\n",
    "    print(f\"ERROR: No weights file found at '{checkpoint_dir_clf}' (best) or '{final_weights_path_clf}' (final).\")\n",
    "    weights_path_to_load = None\n",
    "\n",
    "# --- Recreate, Build, and Load Model ---\n",
    "spoof_detector_eval = None\n",
    "evaluation_model_loaded = False\n",
    "\n",
    "if weights_path_to_load:\n",
    "    print(\"Recreating spoof_detector architecture for evaluation...\")\n",
    "    try:\n",
    "        # 1. Recreate the exact structure as defined in Cell 13\n",
    "        eval_input_shape = (N_MELS, TARGET_FRAMES, 1)\n",
    "        temp_critic_structure = create_critic(mel_spectrogram_shape) # Create base structure\n",
    "\n",
    "        spoof_detector_eval = tf.keras.Sequential(name='spoof_detector_eval')\n",
    "        spoof_detector_eval.add(tf.keras.layers.Input(shape=eval_input_shape, name='classifier_input'))\n",
    "        layers_copied_count = 0\n",
    "        for layer in temp_critic_structure.layers[:-1]: # Copy all but the last Dense(1) layer\n",
    "            new_layer = layer.__class__.from_config(layer.get_config())\n",
    "            spoof_detector_eval.add(new_layer)\n",
    "            layers_copied_count +=1\n",
    "        del temp_critic_structure # Clean up\n",
    "        spoof_detector_eval.add(tf.keras.layers.Dense(1, activation='sigmoid', name='classifier_output'))\n",
    "        print(f\"Recreated {layers_copied_count + 1} layers for spoof_detector_eval.\")\n",
    "\n",
    "        # 2. Build the recreated model using a dummy pass\n",
    "        print(\"Building recreated model via dummy pass...\")\n",
    "        dummy_eval_input = tf.zeros((1,) + eval_input_shape, dtype=tf.float32)\n",
    "        _ = spoof_detector_eval(dummy_eval_input, training=False)\n",
    "        print(\"Recreated model built.\")\n",
    "        # Optional: print summary to verify build status\n",
    "        # print(\"Summary of recreated model:\")\n",
    "        # spoof_detector_eval.summary()\n",
    "\n",
    "        # 3. Load the weights\n",
    "        print(f\"Loading weights from: {weights_path_to_load}\")\n",
    "        spoof_detector_eval.load_weights(weights_path_to_load)\n",
    "        print(\"Weights loaded successfully into recreated structure.\")\n",
    "        evaluation_model_loaded = True\n",
    "\n",
    "    except Exception as e:\n",
    "        print(f\"\\n--- ERROR DURING MODEL RECREATION OR WEIGHT LOADING ---\")\n",
    "        print(f\"Error details: {e}\")\n",
    "        print(\"---------------------------------------------\")\n",
    "        spoof_detector_eval = None # Ensure model is None if process failed\n",
    "\n",
    "# --- Compile the Model (Essential after loading weights) ---\n",
    "if evaluation_model_loaded:\n",
    "    try:\n",
    "        print(\"Compiling evaluation model...\")\n",
    "        eval_optimizer = tf.keras.optimizers.Adam(learning_rate=1e-5) # LR doesn't matter for eval\n",
    "        spoof_detector_eval.compile(\n",
    "            optimizer=eval_optimizer,\n",
    "            loss='binary_crossentropy',\n",
    "            metrics=['accuracy', tf.keras.metrics.AUC(name='auc')]\n",
    "        )\n",
    "        print(\"Model compiled successfully.\")\n",
    "    except Exception as e:\n",
    "        print(f\"\\n--- ERROR compiling model: {e} ---\")\n",
    "        evaluation_model_loaded = False\n",
    "else:\n",
    "     print(\"Skipping compilation because model weights were not loaded/structure failed.\")\n",
    "\n",
    "\n",
    "# --- Proceed with Evaluation if Model is Ready ---\n",
    "if evaluation_model_loaded:\n",
    "    print(\"\\nProceeding with evaluation...\")\n",
    "    # Create Evaluation Generator\n",
    "    print(\"Initializing evaluation data generator...\")\n",
    "    eval_gen_clf = data_generator_classifier(eval_data_path, batch_size=classifier_batch_size, shuffle=False)\n",
    "    if eval_gen_clf is None:\n",
    "         print(\"ERROR: Evaluation generator failed to initialize.\")\n",
    "         # Handle error appropriately, maybe skip evaluation\n",
    "    else:\n",
    "        # Calculate Evaluation Steps\n",
    "        eval_samples_count = count_total_files(eval_data_path)\n",
    "        if classifier_batch_size <= 0: raise ValueError(\"Classifier batch size must be positive.\")\n",
    "        eval_steps = int(np.ceil(eval_samples_count / float(classifier_batch_size))) if eval_samples_count > 0 else 0\n",
    "        print(f\"Using {eval_steps} steps for evaluation.\")\n",
    "\n",
    "        # Evaluate\n",
    "        if eval_steps > 0:\n",
    "            try:\n",
    "                results = spoof_detector_eval.evaluate(\n",
    "                    eval_gen_clf,\n",
    "                    steps=eval_steps,\n",
    "                    verbose=1\n",
    "                )\n",
    "                print(\"\\n--- Evaluation Results ---\")\n",
    "                if len(results) >= 3:\n",
    "                     print(f\"Loss: {results[0]:.4f}\")\n",
    "                     print(f\"Accuracy: {results[1]:.4f}\")\n",
    "                     print(f\"AUC: {results[2]:.4f}\")\n",
    "                else:\n",
    "                    print(f\"Results (raw): {results}\")\n",
    "                print(\"--------------------------\")\n",
    "            except Exception as e:\n",
    "                print(f\"\\n--- ERROR DURING EVALUATION RUN ---\")\n",
    "                print(f\"Error details: {e}\")\n",
    "                print(\"-----------------------------\")\n",
    "        else:\n",
    "            print(\"Skipping evaluation because eval_steps is zero.\")\n",
    "else:\n",
    "    print(\"\\nSkipping evaluation because the spoof detector model could not be loaded/compiled correctly.\")"
   ]
  },
  {
   "cell_type": "code",
   "execution_count": 24,
   "metadata": {},
   "outputs": [
    {
     "name": "stdout",
     "output_type": "stream",
     "text": [
      "\n",
      "Generating Final Reports (F1, CM, EER, t-DCF)...\n",
      "Generating predictions using 8905 steps...\n"
     ]
    },
    {
     "data": {
      "application/vnd.jupyter.widget-view+json": {
       "model_id": "4ae8c5d0d5824083af1f9bd783981c9e",
       "version_major": 2,
       "version_minor": 0
      },
      "text/plain": [
       "Predicting:   0%|          | 0/8905 [00:00<?, ?it/s]"
      ]
     },
     "metadata": {},
     "output_type": "display_data"
    },
    {
     "name": "stdout",
     "output_type": "stream",
     "text": [
      "Using class weights: {1: 4.842760027192386, 0: 0.557567076797846} for path datasetNEW/eval\n",
      "\n",
      "F1 Score (threshold 0.5): 0.5257\n"
     ]
    },
    {
     "data": {
      "image/png": "[encoded data removed]",
      "text/plain": [
       "<Figure size 800x600 with 2 Axes>"
      ]
     },
     "metadata": {},
     "output_type": "display_data"
    },
    {
     "data": {
      "image/png": "[encoded data removed]",
      "text/plain": [
       "<Figure size 800x600 with 2 Axes>"
      ]
     },
     "metadata": {},
     "output_type": "display_data"
    },
    {
     "name": "stdout",
     "output_type": "stream",
     "text": [
      "EER: 0.1416 at threshold 0.8393\n"
     ]
    },
    {
     "data": {
      "image/png": "[encoded data removed]",
      "text/plain": [
       "<Figure size 800x600 with 1 Axes>"
      ]
     },
     "metadata": {},
     "output_type": "display_data"
    },
    {
     "name": "stdout",
     "output_type": "stream",
     "text": [
      "Minimum t-DCF: 0.9446 at threshold 0.9999\n"
     ]
    }
   ],
   "source": [
    "# Cell 15: Reporting (Confusion Matrix, EER, t-DCF)\n",
    "\n",
    "print(\"\\nGenerating Final Reports (F1, CM, EER, t-DCF)...\")\n",
    "\n",
    "# Ensure the evaluation model is loaded from Cell 14\n",
    "if 'spoof_detector_eval' not in locals() or spoof_detector_eval is None:\n",
    "    print(\"Spoof detector model not loaded. Cannot generate reports.\")\n",
    "else:\n",
    "    # --- Parameters for t-DCF ---\n",
    "    p_target = 0.05  # Prior probability of target (real=1) - Adjust based on ASVspoof challenge or use case\n",
    "    c_miss = 1       # Cost of miss (classifying real as fake - FN)\n",
    "    c_false_alarm = 1 # Cost of false alarm (classifying fake as real - FP)\n",
    "\n",
    "    # --- Regenerate Predictions ---\n",
    "    # Reset the eval generator\n",
    "    eval_gen_report = data_generator_classifier(eval_data_path, batch_size=classifier_batch_size, shuffle=False)\n",
    "\n",
    "    # Recalculate eval_steps if needed (should match Cell 14)\n",
    "    eval_samples_count_report = count_total_files(eval_data_path)\n",
    "    eval_steps_report = int(np.ceil(eval_samples_count_report / float(classifier_batch_size))) if eval_samples_count_report > 0 else 0\n",
    "\n",
    "    y_pred_scores = []\n",
    "    y_true_labels = []\n",
    "\n",
    "    if eval_steps_report > 0:\n",
    "        print(f\"Generating predictions using {eval_steps_report} steps...\")\n",
    "        for _ in tqdm(range(eval_steps_report), desc=\"Predicting\"):\n",
    "            try:\n",
    "                # Generator yields (batch_x, batch_y, batch_weights)\n",
    "                batch_x, batch_y, _ = next(eval_gen_report)\n",
    "                if batch_x.size == 0: continue # Skip empty batches if they occur\n",
    "\n",
    "                # Use predict, not predict_on_batch for potentially better performance over many batches\n",
    "                batch_pred = spoof_detector_eval.predict(batch_x, verbose=0)\n",
    "                y_pred_scores.extend(batch_pred.flatten())\n",
    "                y_true_labels.extend(batch_y)\n",
    "            except StopIteration:\n",
    "                print(\"Evaluation generator stopped.\")\n",
    "                break\n",
    "            except Exception as e:\n",
    "                print(f\"Error during prediction generation: {e}\")\n",
    "                continue\n",
    "\n",
    "        y_pred_scores = np.array(y_pred_scores).astype(np.float32)\n",
    "        y_true_labels = np.array(y_true_labels).astype(np.int32)\n",
    "\n",
    "        # Ensure lengths match (might be off if last batch was incomplete and generator didn't handle it perfectly)\n",
    "        min_len = min(len(y_pred_scores), len(y_true_labels))\n",
    "        if min_len == 0:\n",
    "            print(\"No predictions or labels collected. Cannot generate reports.\")\n",
    "        else:\n",
    "            y_pred_scores = y_pred_scores[:min_len]\n",
    "            y_true_labels = y_true_labels[:min_len]\n",
    "\n",
    "            # --- Calculations ---\n",
    "            # Binary predictions for F1 and CM\n",
    "            y_pred_binary = (y_pred_scores > 0.5).astype(int)\n",
    "\n",
    "            # F1 Score\n",
    "            f1 = f1_score(y_true_labels, y_pred_binary)\n",
    "            print(f\"\\nF1 Score (threshold 0.5): {f1:.4f}\")\n",
    "\n",
    "            # Confusion Matrix\n",
    "            cm = confusion_matrix(y_true_labels, y_pred_binary)\n",
    "            plt.figure(figsize=(8, 6))\n",
    "            sns.heatmap(cm, annot=True, fmt='d', cmap='Blues', xticklabels=['Fake (0)', 'Real (1)'], yticklabels=['Fake (0)', 'Real (1)'])\n",
    "            plt.title('Confusion Matrix (Counts)')\n",
    "            plt.ylabel('True Label')\n",
    "            plt.xlabel('Predicted Label')\n",
    "            plt.savefig(os.path.join(FIGURES_DIR, 'confusion_matrix_counts_wgan_sa.png'))\n",
    "            plt.show()\n",
    "\n",
    "            # Confusion Matrix (Percentages)\n",
    "            cm_sum = np.sum(cm, axis=1, keepdims=True)\n",
    "            cm_perc = cm / cm_sum.astype(float) * 100\n",
    "            plt.figure(figsize=(8, 6))\n",
    "            sns.heatmap(cm_perc, annot=True, fmt='.2f', cmap='Greens', xticklabels=['Fake (0)', 'Real (1)'], yticklabels=['Fake (0)', 'Real (1)'])\n",
    "            plt.title('Confusion Matrix (Row Percentages)')\n",
    "            plt.ylabel('True Label')\n",
    "            plt.xlabel('Predicted Label')\n",
    "            plt.savefig(os.path.join(FIGURES_DIR, 'confusion_matrix_perc_wgan_sa.png'))\n",
    "            plt.show()\n",
    "\n",
    "\n",
    "            # EER Calculation\n",
    "            fpr, tpr, thresholds_roc = roc_curve(y_true_labels, y_pred_scores, pos_label=1)\n",
    "            fnr = 1 - tpr\n",
    "            eer_index = np.nanargmin(np.abs(fnr - fpr))\n",
    "            eer_threshold = thresholds_roc[eer_index]\n",
    "            eer = fpr[eer_index] # Or use (fpr[eer_index] + fnr[eer_index]) / 2\n",
    "            print(f\"EER: {eer:.4f} at threshold {eer_threshold:.4f}\")\n",
    "\n",
    "            # Plot ROC Curve\n",
    "            plt.figure(figsize=(8, 6))\n",
    "            plt.plot(fpr, tpr, label=f'ROC curve (AUC = {results[2]:.4f})') # Use AUC from evaluate\n",
    "            plt.plot(fpr, fnr, label='FN Rate')\n",
    "            plt.plot([0, 1], [0, 1], 'k--') # Random guess line\n",
    "            plt.scatter(fpr[eer_index], tpr[eer_index], color='red', zorder=5, label=f'EER = {eer:.4f}')\n",
    "            plt.xlim([0.0, 1.0])\n",
    "            plt.ylim([0.0, 1.05])\n",
    "            plt.xlabel('False Positive Rate (FPR)')\n",
    "            plt.ylabel('True Positive Rate (TPR)')\n",
    "            plt.title('Receiver Operating Characteristic (ROC)')\n",
    "            plt.legend(loc=\"lower right\")\n",
    "            plt.grid(True)\n",
    "            plt.savefig(os.path.join(FIGURES_DIR, 'roc_curve_wgan_sa.png'))\n",
    "            plt.show()\n",
    "\n",
    "\n",
    "            # t-DCF Calculation\n",
    "            # Define function (can be moved to utils if used often)\n",
    "            def calculate_t_dcf(y_true, y_scores, p_target, c_miss, c_fa, thresholds):\n",
    "                \"\"\"Calculates normalized t-DCF for a range of thresholds.\"\"\"\n",
    "                num_thresholds = len(thresholds)\n",
    "                dcf_values = np.zeros(num_thresholds)\n",
    "\n",
    "                num_real = np.sum(y_true == 1)\n",
    "                num_fake = np.sum(y_true == 0)\n",
    "\n",
    "                if num_real == 0 or num_fake == 0:\n",
    "                     print(\"Warning: Cannot calculate t-DCF with zero samples in a class.\")\n",
    "                     return np.inf # Return infinity or handle as error\n",
    "\n",
    "                for i, thr in enumerate(thresholds):\n",
    "                    y_pred_binary = (y_scores >= thr).astype(int)\n",
    "                    tn, fp, fn, tp = confusion_matrix(y_true, y_pred_binary, labels=[0, 1]).ravel()\n",
    "\n",
    "                    p_miss = fn / num_real if num_real > 0 else 0 # Miss Rate (FN / Total Real)\n",
    "                    p_fa = fp / num_fake if num_fake > 0 else 0   # False Alarm Rate (FP / Total Fake)\n",
    "\n",
    "                    cost = (c_miss * p_miss * p_target) + (c_fa * p_fa * (1 - p_target))\n",
    "\n",
    "                    # Normalize the cost\n",
    "                    dcf_norm = min(c_miss * p_target, c_fa * (1 - p_target))\n",
    "                    dcf_values[i] = cost / dcf_norm if dcf_norm > 0 else cost # Avoid division by zero\n",
    "\n",
    "                # Find the minimum t-DCF\n",
    "                min_dcf_index = np.argmin(dcf_values)\n",
    "                min_dcf = dcf_values[min_dcf_index]\n",
    "                min_dcf_threshold = thresholds[min_dcf_index]\n",
    "\n",
    "                return min_dcf, min_dcf_threshold\n",
    "\n",
    "            # Calculate min t-DCF over a range of thresholds (more robust than just EER threshold)\n",
    "            # Use ROC thresholds, but filter out +/- inf if present\n",
    "            valid_thresholds = thresholds_roc[np.isfinite(thresholds_roc)]\n",
    "            min_tdcf, min_tdcf_thresh = calculate_t_dcf(y_true_labels, y_pred_scores, p_target, c_miss, c_false_alarm, valid_thresholds)\n",
    "\n",
    "            print(f\"Minimum t-DCF: {min_tdcf:.4f} at threshold {min_tdcf_thresh:.4f}\")\n",
    "\n",
    "    else:\n",
    "         print(\"Skipping report generation because eval_steps_report is zero.\")"
   ]
  }
 ],
 "metadata": {
  "kernelspec": {
   "display_name": ".venvn",
   "language": "python",
   "name": "python3"
  },
  "language_info": {
   "codemirror_mode": {
    "name": "ipython",
    "version": 3
   },
   "file_extension": ".py",
   "mimetype": "text/x-python",
   "name": "python",
   "nbconvert_exporter": "python",
   "pygments_lexer": "ipython3",
   "version": "3.12.9"
  }
 },
 "nbformat": 4,
 "nbformat_minor": 2
}
